{
 "cells": [
  {
   "cell_type": "code",
   "execution_count": 154,
   "metadata": {},
   "outputs": [],
   "source": [
    "import pandas as pd \n",
    "import plotly.io as pio\n",
    "import plotly.graph_objects as go\n",
    "import plotly.express as px\n",
    "\n",
    "df=pd.read_csv(\"data.csv\")\n"
   ]
  },
  {
   "cell_type": "code",
   "execution_count": 226,
   "metadata": {},
   "outputs": [
    {
     "data": {
      "text/plain": [
       "'4.14.3'"
      ]
     },
     "execution_count": 226,
     "metadata": {},
     "output_type": "execute_result"
    }
   ],
   "source": [
    "import plotly\n",
    "plotly.__version__"
   ]
  },
  {
   "cell_type": "code",
   "execution_count": 155,
   "metadata": {},
   "outputs": [
    {
     "data": {
      "text/html": [
       "<div>\n",
       "<style scoped>\n",
       "    .dataframe tbody tr th:only-of-type {\n",
       "        vertical-align: middle;\n",
       "    }\n",
       "\n",
       "    .dataframe tbody tr th {\n",
       "        vertical-align: top;\n",
       "    }\n",
       "\n",
       "    .dataframe thead th {\n",
       "        text-align: right;\n",
       "    }\n",
       "</style>\n",
       "<table border=\"1\" class=\"dataframe\">\n",
       "  <thead>\n",
       "    <tr style=\"text-align: right;\">\n",
       "      <th></th>\n",
       "      <th>sample</th>\n",
       "      <th>CNV-Q</th>\n",
       "      <th>CNV-R</th>\n",
       "      <th>DEL</th>\n",
       "      <th>INS</th>\n",
       "      <th>INV</th>\n",
       "      <th>nCNV-Q</th>\n",
       "      <th>nCNV-R</th>\n",
       "      <th>SRC</th>\n",
       "    </tr>\n",
       "  </thead>\n",
       "  <tbody>\n",
       "    <tr>\n",
       "      <th>49</th>\n",
       "      <td>TOM-007</td>\n",
       "      <td>787</td>\n",
       "      <td>738</td>\n",
       "      <td>2054</td>\n",
       "      <td>1954</td>\n",
       "      <td>163</td>\n",
       "      <td>1546</td>\n",
       "      <td>1241</td>\n",
       "      <td>Rech</td>\n",
       "    </tr>\n",
       "    <tr>\n",
       "      <th>50</th>\n",
       "      <td>TOM-008</td>\n",
       "      <td>877</td>\n",
       "      <td>745</td>\n",
       "      <td>1921</td>\n",
       "      <td>1937</td>\n",
       "      <td>164</td>\n",
       "      <td>1708</td>\n",
       "      <td>1136</td>\n",
       "      <td>Rech</td>\n",
       "    </tr>\n",
       "  </tbody>\n",
       "</table>\n",
       "</div>"
      ],
      "text/plain": [
       "     sample  CNV-Q  CNV-R   DEL   INS  INV  nCNV-Q  nCNV-R   SRC\n",
       "49  TOM-007    787    738  2054  1954  163    1546    1241  Rech\n",
       "50  TOM-008    877    745  1921  1937  164    1708    1136  Rech"
      ]
     },
     "execution_count": 155,
     "metadata": {},
     "output_type": "execute_result"
    }
   ],
   "source": [
    "df[49:]"
   ]
  },
  {
   "cell_type": "code",
   "execution_count": 156,
   "metadata": {},
   "outputs": [],
   "source": [
    "samples=df['sample']\n",
    "CNV_Q=df['CNV-Q']\n",
    "SRC=df['SRC']\n",
    "CNV_R=df['CNV-R']\n",
    "DEL=df['DEL']\n",
    "INS=df['INS']\n",
    "INV=df['INV']\n",
    "nCNV_Q=df['nCNV-Q']\n",
    "nCNV_R=df['nCNV-R']\n",
    "total_copy_number=nCNV_Q+nCNV_R"
   ]
  },
  {
   "cell_type": "code",
   "execution_count": 219,
   "metadata": {},
   "outputs": [
    {
     "data": {
      "application/vnd.plotly.v1+json": {
       "config": {
        "plotlyServerURL": "https://plot.ly"
       },
       "data": {
        "data": [
         {
          "mode": "markers",
          "transforms": [
           {
            "groups": [
             "Long",
             "Long",
             "Long",
             "Long",
             "Long",
             "Chakraborty",
             "Chakraborty",
             "Chakraborty",
             "Chakraborty",
             "Chakraborty",
             "Chakraborty",
             "Chakraborty",
             "Chakraborty",
             "Chakraborty",
             "Chakraborty",
             "Chakraborty",
             "Chakraborty",
             "Chakraborty",
             "Chakraborty",
             "Rech",
             "Rech",
             "Rech",
             "Rech",
             "Rech",
             "Rech",
             "Rech",
             "Rech",
             "Rech",
             "Rech",
             "Rech",
             "Rech",
             "Rech",
             "Rech",
             "Rech",
             "Rech",
             "Rech",
             "Rech",
             "Rech",
             "Rech",
             "Rech",
             "Rech",
             "Rech",
             "Rech",
             "Rech",
             "Rech",
             "Rech",
             "Rech",
             "Rech",
             "Rech",
             "Rech",
             "Rech"
            ],
            "styles": [
             {
              "target": "Rech",
              "value": {
               "marker": {
                "color": "blue"
               }
              }
             },
             {
              "target": "Long",
              "value": {
               "marker": {
                "color": "red"
               }
              }
             },
             {
              "target": "Chakraborty",
              "value": {
               "marker": {
                "color": "black"
               }
              }
             }
            ],
            "type": "groupby"
           }
          ],
          "type": "scatter",
          "x": [
           "B59",
           "I23",
           "N25",
           "T29A",
           "ZH26",
           "A1",
           "A2",
           "A3",
           "A4",
           "A5",
           "A6",
           "A7",
           "AB8",
           "B1",
           "B2",
           "B3",
           "B4",
           "B6",
           "OreR",
           "AKA-017",
           "AKA-018",
           "COR-014",
           "COR-018",
           "COR-023",
           "COR-025",
           "GIM-012",
           "GIM-024",
           "JUT-008",
           "JUT-011",
           "KIE-094",
           "LUN-004",
           "LUN-007",
           "MUN-008",
           "MUN-009",
           "MUN-013",
           "MUN-015",
           "MUN-016",
           "MUN-020",
           "RAL-059",
           "RAL-091",
           "RAL-176",
           "RAL-177",
           "RAL-375",
           "RAL-426",
           "RAL-737",
           "RAL-855",
           "SLA-001",
           "STO-022",
           "TEN-015",
           "TOM-007",
           "TOM-008"
          ],
          "y": [
           725,
           713,
           716,
           697,
           755,
           640,
           731,
           694,
           669,
           704,
           744,
           736,
           602,
           733,
           717,
           693,
           686,
           699,
           758,
           701,
           717,
           691,
           382,
           717,
           714,
           712,
           561,
           682,
           702,
           726,
           699,
           715,
           405,
           696,
           744,
           724,
           674,
           754,
           689,
           700,
           744,
           579,
           678,
           763,
           714,
           740,
           691,
           705,
           742,
           738,
           745
          ]
         }
        ],
        "layout": {
         "title": {
          "text": "Quantity of refference CNV per each sample"
         }
        }
       }
      },
      "text/html": [
       "<div>                            <div id=\"e4471422-bdce-4521-a70a-ddc7cb981b2a\" class=\"plotly-graph-div\" style=\"height:525px; width:100%;\"></div>            <script type=\"text/javascript\">                require([\"plotly\"], function(Plotly) {                    window.PLOTLYENV=window.PLOTLYENV || {};                                    if (document.getElementById(\"e4471422-bdce-4521-a70a-ddc7cb981b2a\")) {                    Plotly.newPlot(                        \"e4471422-bdce-4521-a70a-ddc7cb981b2a\",                        {\"data\": [{\"mode\": \"markers\", \"transforms\": [{\"groups\": [\"Long\", \"Long\", \"Long\", \"Long\", \"Long\", \"Chakraborty\", \"Chakraborty\", \"Chakraborty\", \"Chakraborty\", \"Chakraborty\", \"Chakraborty\", \"Chakraborty\", \"Chakraborty\", \"Chakraborty\", \"Chakraborty\", \"Chakraborty\", \"Chakraborty\", \"Chakraborty\", \"Chakraborty\", \"Rech\", \"Rech\", \"Rech\", \"Rech\", \"Rech\", \"Rech\", \"Rech\", \"Rech\", \"Rech\", \"Rech\", \"Rech\", \"Rech\", \"Rech\", \"Rech\", \"Rech\", \"Rech\", \"Rech\", \"Rech\", \"Rech\", \"Rech\", \"Rech\", \"Rech\", \"Rech\", \"Rech\", \"Rech\", \"Rech\", \"Rech\", \"Rech\", \"Rech\", \"Rech\", \"Rech\", \"Rech\"], \"styles\": [{\"target\": \"Rech\", \"value\": {\"marker\": {\"color\": \"blue\"}}}, {\"target\": \"Long\", \"value\": {\"marker\": {\"color\": \"red\"}}}, {\"target\": \"Chakraborty\", \"value\": {\"marker\": {\"color\": \"black\"}}}], \"type\": \"groupby\"}], \"type\": \"scatter\", \"x\": [\"B59\", \"I23\", \"N25\", \"T29A\", \"ZH26\", \"A1\", \"A2\", \"A3\", \"A4\", \"A5\", \"A6\", \"A7\", \"AB8\", \"B1\", \"B2\", \"B3\", \"B4\", \"B6\", \"OreR\", \"AKA-017\", \"AKA-018\", \"COR-014\", \"COR-018\", \"COR-023\", \"COR-025\", \"GIM-012\", \"GIM-024\", \"JUT-008\", \"JUT-011\", \"KIE-094\", \"LUN-004\", \"LUN-007\", \"MUN-008\", \"MUN-009\", \"MUN-013\", \"MUN-015\", \"MUN-016\", \"MUN-020\", \"RAL-059\", \"RAL-091\", \"RAL-176\", \"RAL-177\", \"RAL-375\", \"RAL-426\", \"RAL-737\", \"RAL-855\", \"SLA-001\", \"STO-022\", \"TEN-015\", \"TOM-007\", \"TOM-008\"], \"y\": [725, 713, 716, 697, 755, 640, 731, 694, 669, 704, 744, 736, 602, 733, 717, 693, 686, 699, 758, 701, 717, 691, 382, 717, 714, 712, 561, 682, 702, 726, 699, 715, 405, 696, 744, 724, 674, 754, 689, 700, 744, 579, 678, 763, 714, 740, 691, 705, 742, 738, 745]}], \"layout\": {\"title\": {\"text\": \"Quantity of refference CNV per each sample\"}}},                        {},                        {\"responsive\": true}                    ).then(function(){\n",
       "                            \n",
       "var gd = document.getElementById('e4471422-bdce-4521-a70a-ddc7cb981b2a');\n",
       "var x = new MutationObserver(function (mutations, observer) {{\n",
       "        var display = window.getComputedStyle(gd).display;\n",
       "        if (!display || display === 'none') {{\n",
       "            console.log([gd, 'removed!']);\n",
       "            Plotly.purge(gd);\n",
       "            observer.disconnect();\n",
       "        }}\n",
       "}});\n",
       "\n",
       "// Listen for the removal of the full notebook cells\n",
       "var notebookContainer = gd.closest('#notebook-container');\n",
       "if (notebookContainer) {{\n",
       "    x.observe(notebookContainer, {childList: true});\n",
       "}}\n",
       "\n",
       "// Listen for the clearing of the current output cell\n",
       "var outputEl = gd.closest('.output');\n",
       "if (outputEl) {{\n",
       "    x.observe(outputEl, {childList: true});\n",
       "}}\n",
       "\n",
       "                        })                };                });            </script>        </div>"
      ]
     },
     "metadata": {},
     "output_type": "display_data"
    }
   ],
   "source": [
    "both = dict(data = [dict(\n",
    "  type = 'scatter',\n",
    "  x = samples,\n",
    "  y = CNV_R,\n",
    "  mode = 'markers',\n",
    "  transforms = [dict(\n",
    "    type = 'groupby',\n",
    "    groups = SRC,\n",
    "    styles = [\n",
    "        dict(target = 'Rech', value = dict(marker = dict(color = 'blue'))),\n",
    "        dict(target = 'Long', value = dict(marker = dict(color = 'red'))),\n",
    "        dict(target = 'Chakraborty', value = dict(marker = dict(color = 'black')))\n",
    "        ]\n",
    "      )]\n",
    "    )], layout = dict(title = dict( text = 'Quantity of refference CNV per each sample')))\n",
    "\n",
    "fig_dict = dict(data=both)\n",
    "\n",
    "pio.show(fig_dict, validate=False)"
   ]
  },
  {
   "cell_type": "code",
   "execution_count": 220,
   "metadata": {},
   "outputs": [
    {
     "data": {
      "application/vnd.plotly.v1+json": {
       "config": {
        "plotlyServerURL": "https://plot.ly"
       },
       "data": {
        "data": [
         {
          "mode": "markers",
          "transforms": [
           {
            "groups": [
             "Long",
             "Long",
             "Long",
             "Long",
             "Long",
             "Chakraborty",
             "Chakraborty",
             "Chakraborty",
             "Chakraborty",
             "Chakraborty",
             "Chakraborty",
             "Chakraborty",
             "Chakraborty",
             "Chakraborty",
             "Chakraborty",
             "Chakraborty",
             "Chakraborty",
             "Chakraborty",
             "Chakraborty",
             "Rech",
             "Rech",
             "Rech",
             "Rech",
             "Rech",
             "Rech",
             "Rech",
             "Rech",
             "Rech",
             "Rech",
             "Rech",
             "Rech",
             "Rech",
             "Rech",
             "Rech",
             "Rech",
             "Rech",
             "Rech",
             "Rech",
             "Rech",
             "Rech",
             "Rech",
             "Rech",
             "Rech",
             "Rech",
             "Rech",
             "Rech",
             "Rech",
             "Rech",
             "Rech",
             "Rech",
             "Rech"
            ],
            "styles": [
             {
              "target": "Rech",
              "value": {
               "marker": {
                "color": "blue"
               }
              }
             },
             {
              "target": "Long",
              "value": {
               "marker": {
                "color": "red"
               }
              }
             },
             {
              "target": "Chakraborty",
              "value": {
               "marker": {
                "color": "black"
               }
              }
             }
            ],
            "type": "groupby"
           }
          ],
          "type": "scatter",
          "x": [
           "B59",
           "I23",
           "N25",
           "T29A",
           "ZH26",
           "A1",
           "A2",
           "A3",
           "A4",
           "A5",
           "A6",
           "A7",
           "AB8",
           "B1",
           "B2",
           "B3",
           "B4",
           "B6",
           "OreR",
           "AKA-017",
           "AKA-018",
           "COR-014",
           "COR-018",
           "COR-023",
           "COR-025",
           "GIM-012",
           "GIM-024",
           "JUT-008",
           "JUT-011",
           "KIE-094",
           "LUN-004",
           "LUN-007",
           "MUN-008",
           "MUN-009",
           "MUN-013",
           "MUN-015",
           "MUN-016",
           "MUN-020",
           "RAL-059",
           "RAL-091",
           "RAL-176",
           "RAL-177",
           "RAL-375",
           "RAL-426",
           "RAL-737",
           "RAL-855",
           "SLA-001",
           "STO-022",
           "TEN-015",
           "TOM-007",
           "TOM-008"
          ],
          "y": [
           766,
           657,
           699,
           695,
           846,
           659,
           795,
           610,
           624,
           588,
           729,
           764,
           570,
           659,
           770,
           647,
           694,
           634,
           767,
           659,
           714,
           817,
           594,
           923,
           976,
           937,
           573,
           745,
           806,
           852,
           822,
           969,
           580,
           936,
           906,
           931,
           683,
           927,
           803,
           936,
           1035,
           605,
           688,
           997,
           885,
           874,
           865,
           824,
           879,
           787,
           877
          ]
         }
        ],
        "layout": {
         "title": {
          "text": "Quantity of query CNV per each sample"
         }
        }
       }
      },
      "text/html": [
       "<div>                            <div id=\"58822ccc-5f52-45f0-a634-f526df759bd2\" class=\"plotly-graph-div\" style=\"height:525px; width:100%;\"></div>            <script type=\"text/javascript\">                require([\"plotly\"], function(Plotly) {                    window.PLOTLYENV=window.PLOTLYENV || {};                                    if (document.getElementById(\"58822ccc-5f52-45f0-a634-f526df759bd2\")) {                    Plotly.newPlot(                        \"58822ccc-5f52-45f0-a634-f526df759bd2\",                        {\"data\": [{\"mode\": \"markers\", \"transforms\": [{\"groups\": [\"Long\", \"Long\", \"Long\", \"Long\", \"Long\", \"Chakraborty\", \"Chakraborty\", \"Chakraborty\", \"Chakraborty\", \"Chakraborty\", \"Chakraborty\", \"Chakraborty\", \"Chakraborty\", \"Chakraborty\", \"Chakraborty\", \"Chakraborty\", \"Chakraborty\", \"Chakraborty\", \"Chakraborty\", \"Rech\", \"Rech\", \"Rech\", \"Rech\", \"Rech\", \"Rech\", \"Rech\", \"Rech\", \"Rech\", \"Rech\", \"Rech\", \"Rech\", \"Rech\", \"Rech\", \"Rech\", \"Rech\", \"Rech\", \"Rech\", \"Rech\", \"Rech\", \"Rech\", \"Rech\", \"Rech\", \"Rech\", \"Rech\", \"Rech\", \"Rech\", \"Rech\", \"Rech\", \"Rech\", \"Rech\", \"Rech\"], \"styles\": [{\"target\": \"Rech\", \"value\": {\"marker\": {\"color\": \"blue\"}}}, {\"target\": \"Long\", \"value\": {\"marker\": {\"color\": \"red\"}}}, {\"target\": \"Chakraborty\", \"value\": {\"marker\": {\"color\": \"black\"}}}], \"type\": \"groupby\"}], \"type\": \"scatter\", \"x\": [\"B59\", \"I23\", \"N25\", \"T29A\", \"ZH26\", \"A1\", \"A2\", \"A3\", \"A4\", \"A5\", \"A6\", \"A7\", \"AB8\", \"B1\", \"B2\", \"B3\", \"B4\", \"B6\", \"OreR\", \"AKA-017\", \"AKA-018\", \"COR-014\", \"COR-018\", \"COR-023\", \"COR-025\", \"GIM-012\", \"GIM-024\", \"JUT-008\", \"JUT-011\", \"KIE-094\", \"LUN-004\", \"LUN-007\", \"MUN-008\", \"MUN-009\", \"MUN-013\", \"MUN-015\", \"MUN-016\", \"MUN-020\", \"RAL-059\", \"RAL-091\", \"RAL-176\", \"RAL-177\", \"RAL-375\", \"RAL-426\", \"RAL-737\", \"RAL-855\", \"SLA-001\", \"STO-022\", \"TEN-015\", \"TOM-007\", \"TOM-008\"], \"y\": [766, 657, 699, 695, 846, 659, 795, 610, 624, 588, 729, 764, 570, 659, 770, 647, 694, 634, 767, 659, 714, 817, 594, 923, 976, 937, 573, 745, 806, 852, 822, 969, 580, 936, 906, 931, 683, 927, 803, 936, 1035, 605, 688, 997, 885, 874, 865, 824, 879, 787, 877]}], \"layout\": {\"title\": {\"text\": \"Quantity of query CNV per each sample\"}}},                        {},                        {\"responsive\": true}                    ).then(function(){\n",
       "                            \n",
       "var gd = document.getElementById('58822ccc-5f52-45f0-a634-f526df759bd2');\n",
       "var x = new MutationObserver(function (mutations, observer) {{\n",
       "        var display = window.getComputedStyle(gd).display;\n",
       "        if (!display || display === 'none') {{\n",
       "            console.log([gd, 'removed!']);\n",
       "            Plotly.purge(gd);\n",
       "            observer.disconnect();\n",
       "        }}\n",
       "}});\n",
       "\n",
       "// Listen for the removal of the full notebook cells\n",
       "var notebookContainer = gd.closest('#notebook-container');\n",
       "if (notebookContainer) {{\n",
       "    x.observe(notebookContainer, {childList: true});\n",
       "}}\n",
       "\n",
       "// Listen for the clearing of the current output cell\n",
       "var outputEl = gd.closest('.output');\n",
       "if (outputEl) {{\n",
       "    x.observe(outputEl, {childList: true});\n",
       "}}\n",
       "\n",
       "                        })                };                });            </script>        </div>"
      ]
     },
     "metadata": {},
     "output_type": "display_data"
    }
   ],
   "source": [
    "\n",
    "both = dict(data = [dict(\n",
    "  type = 'scatter',\n",
    "  x = samples,\n",
    "  y = CNV_Q,\n",
    "  mode = 'markers',\n",
    "  transforms = [dict(\n",
    "    type = 'groupby',\n",
    "    groups = SRC,\n",
    "    styles = [\n",
    "        dict(target = 'Rech', value = dict(marker = dict(color = 'blue'))),\n",
    "        dict(target = 'Long', value = dict(marker = dict(color = 'red'))),\n",
    "        dict(target = 'Chakraborty', value = dict(marker = dict(color = 'black')))\n",
    "        ]\n",
    "      )]\n",
    "    )], layout = dict(title = dict( text = 'Quantity of query CNV per each sample')))\n",
    "\n",
    "fig_dict = dict(data=both)\n",
    "\n",
    "pio.show(fig_dict, validate=False)"
   ]
  },
  {
   "cell_type": "code",
   "execution_count": 238,
   "metadata": {},
   "outputs": [
    {
     "data": {
      "application/vnd.plotly.v1+json": {
       "config": {
        "plotlyServerURL": "https://plot.ly"
       },
       "data": [
        {
         "hovertemplate": "SRC=%{x}<br>CNV-R=%{y}<extra></extra>",
         "legendgroup": "Long",
         "marker": {
          "color": "#636efa",
          "symbol": "circle"
         },
         "mode": "markers",
         "name": "Long",
         "orientation": "v",
         "showlegend": true,
         "type": "scatter",
         "x": [
          "Long",
          "Long",
          "Long",
          "Long",
          "Long"
         ],
         "xaxis": "x",
         "y": [
          725,
          713,
          716,
          697,
          755
         ],
         "yaxis": "y"
        },
        {
         "hovertemplate": "SRC=%{x}<br>CNV-R=%{y}<extra></extra>",
         "legendgroup": "Chakraborty",
         "marker": {
          "color": "#EF553B",
          "symbol": "circle"
         },
         "mode": "markers",
         "name": "Chakraborty",
         "orientation": "v",
         "showlegend": true,
         "type": "scatter",
         "x": [
          "Chakraborty",
          "Chakraborty",
          "Chakraborty",
          "Chakraborty",
          "Chakraborty",
          "Chakraborty",
          "Chakraborty",
          "Chakraborty",
          "Chakraborty",
          "Chakraborty",
          "Chakraborty",
          "Chakraborty",
          "Chakraborty",
          "Chakraborty"
         ],
         "xaxis": "x",
         "y": [
          640,
          731,
          694,
          669,
          704,
          744,
          736,
          602,
          733,
          717,
          693,
          686,
          699,
          758
         ],
         "yaxis": "y"
        },
        {
         "hovertemplate": "SRC=%{x}<br>CNV-R=%{y}<extra></extra>",
         "legendgroup": "Rech",
         "marker": {
          "color": "#00cc96",
          "symbol": "circle"
         },
         "mode": "markers",
         "name": "Rech",
         "orientation": "v",
         "showlegend": true,
         "type": "scatter",
         "x": [
          "Rech",
          "Rech",
          "Rech",
          "Rech",
          "Rech",
          "Rech",
          "Rech",
          "Rech",
          "Rech",
          "Rech",
          "Rech",
          "Rech",
          "Rech",
          "Rech",
          "Rech",
          "Rech",
          "Rech",
          "Rech",
          "Rech",
          "Rech",
          "Rech",
          "Rech",
          "Rech",
          "Rech",
          "Rech",
          "Rech",
          "Rech",
          "Rech",
          "Rech",
          "Rech",
          "Rech",
          "Rech"
         ],
         "xaxis": "x",
         "y": [
          701,
          717,
          691,
          382,
          717,
          714,
          712,
          561,
          682,
          702,
          726,
          699,
          715,
          405,
          696,
          744,
          724,
          674,
          754,
          689,
          700,
          744,
          579,
          678,
          763,
          714,
          740,
          691,
          705,
          742,
          738,
          745
         ],
         "yaxis": "y"
        }
       ],
       "layout": {
        "legend": {
         "title": {
          "text": "SRC"
         },
         "tracegroupgap": 0
        },
        "paper_bgcolor": "rgba(0,0,0,0)",
        "plot_bgcolor": "rgba(0,0,0,0)",
        "template": {
         "data": {
          "bar": [
           {
            "error_x": {
             "color": "#2a3f5f"
            },
            "error_y": {
             "color": "#2a3f5f"
            },
            "marker": {
             "line": {
              "color": "#E5ECF6",
              "width": 0.5
             }
            },
            "type": "bar"
           }
          ],
          "barpolar": [
           {
            "marker": {
             "line": {
              "color": "#E5ECF6",
              "width": 0.5
             }
            },
            "type": "barpolar"
           }
          ],
          "carpet": [
           {
            "aaxis": {
             "endlinecolor": "#2a3f5f",
             "gridcolor": "white",
             "linecolor": "white",
             "minorgridcolor": "white",
             "startlinecolor": "#2a3f5f"
            },
            "baxis": {
             "endlinecolor": "#2a3f5f",
             "gridcolor": "white",
             "linecolor": "white",
             "minorgridcolor": "white",
             "startlinecolor": "#2a3f5f"
            },
            "type": "carpet"
           }
          ],
          "choropleth": [
           {
            "colorbar": {
             "outlinewidth": 0,
             "ticks": ""
            },
            "type": "choropleth"
           }
          ],
          "contour": [
           {
            "colorbar": {
             "outlinewidth": 0,
             "ticks": ""
            },
            "colorscale": [
             [
              0,
              "#0d0887"
             ],
             [
              0.1111111111111111,
              "#46039f"
             ],
             [
              0.2222222222222222,
              "#7201a8"
             ],
             [
              0.3333333333333333,
              "#9c179e"
             ],
             [
              0.4444444444444444,
              "#bd3786"
             ],
             [
              0.5555555555555556,
              "#d8576b"
             ],
             [
              0.6666666666666666,
              "#ed7953"
             ],
             [
              0.7777777777777778,
              "#fb9f3a"
             ],
             [
              0.8888888888888888,
              "#fdca26"
             ],
             [
              1,
              "#f0f921"
             ]
            ],
            "type": "contour"
           }
          ],
          "contourcarpet": [
           {
            "colorbar": {
             "outlinewidth": 0,
             "ticks": ""
            },
            "type": "contourcarpet"
           }
          ],
          "heatmap": [
           {
            "colorbar": {
             "outlinewidth": 0,
             "ticks": ""
            },
            "colorscale": [
             [
              0,
              "#0d0887"
             ],
             [
              0.1111111111111111,
              "#46039f"
             ],
             [
              0.2222222222222222,
              "#7201a8"
             ],
             [
              0.3333333333333333,
              "#9c179e"
             ],
             [
              0.4444444444444444,
              "#bd3786"
             ],
             [
              0.5555555555555556,
              "#d8576b"
             ],
             [
              0.6666666666666666,
              "#ed7953"
             ],
             [
              0.7777777777777778,
              "#fb9f3a"
             ],
             [
              0.8888888888888888,
              "#fdca26"
             ],
             [
              1,
              "#f0f921"
             ]
            ],
            "type": "heatmap"
           }
          ],
          "heatmapgl": [
           {
            "colorbar": {
             "outlinewidth": 0,
             "ticks": ""
            },
            "colorscale": [
             [
              0,
              "#0d0887"
             ],
             [
              0.1111111111111111,
              "#46039f"
             ],
             [
              0.2222222222222222,
              "#7201a8"
             ],
             [
              0.3333333333333333,
              "#9c179e"
             ],
             [
              0.4444444444444444,
              "#bd3786"
             ],
             [
              0.5555555555555556,
              "#d8576b"
             ],
             [
              0.6666666666666666,
              "#ed7953"
             ],
             [
              0.7777777777777778,
              "#fb9f3a"
             ],
             [
              0.8888888888888888,
              "#fdca26"
             ],
             [
              1,
              "#f0f921"
             ]
            ],
            "type": "heatmapgl"
           }
          ],
          "histogram": [
           {
            "marker": {
             "colorbar": {
              "outlinewidth": 0,
              "ticks": ""
             }
            },
            "type": "histogram"
           }
          ],
          "histogram2d": [
           {
            "colorbar": {
             "outlinewidth": 0,
             "ticks": ""
            },
            "colorscale": [
             [
              0,
              "#0d0887"
             ],
             [
              0.1111111111111111,
              "#46039f"
             ],
             [
              0.2222222222222222,
              "#7201a8"
             ],
             [
              0.3333333333333333,
              "#9c179e"
             ],
             [
              0.4444444444444444,
              "#bd3786"
             ],
             [
              0.5555555555555556,
              "#d8576b"
             ],
             [
              0.6666666666666666,
              "#ed7953"
             ],
             [
              0.7777777777777778,
              "#fb9f3a"
             ],
             [
              0.8888888888888888,
              "#fdca26"
             ],
             [
              1,
              "#f0f921"
             ]
            ],
            "type": "histogram2d"
           }
          ],
          "histogram2dcontour": [
           {
            "colorbar": {
             "outlinewidth": 0,
             "ticks": ""
            },
            "colorscale": [
             [
              0,
              "#0d0887"
             ],
             [
              0.1111111111111111,
              "#46039f"
             ],
             [
              0.2222222222222222,
              "#7201a8"
             ],
             [
              0.3333333333333333,
              "#9c179e"
             ],
             [
              0.4444444444444444,
              "#bd3786"
             ],
             [
              0.5555555555555556,
              "#d8576b"
             ],
             [
              0.6666666666666666,
              "#ed7953"
             ],
             [
              0.7777777777777778,
              "#fb9f3a"
             ],
             [
              0.8888888888888888,
              "#fdca26"
             ],
             [
              1,
              "#f0f921"
             ]
            ],
            "type": "histogram2dcontour"
           }
          ],
          "mesh3d": [
           {
            "colorbar": {
             "outlinewidth": 0,
             "ticks": ""
            },
            "type": "mesh3d"
           }
          ],
          "parcoords": [
           {
            "line": {
             "colorbar": {
              "outlinewidth": 0,
              "ticks": ""
             }
            },
            "type": "parcoords"
           }
          ],
          "pie": [
           {
            "automargin": true,
            "type": "pie"
           }
          ],
          "scatter": [
           {
            "marker": {
             "colorbar": {
              "outlinewidth": 0,
              "ticks": ""
             }
            },
            "type": "scatter"
           }
          ],
          "scatter3d": [
           {
            "line": {
             "colorbar": {
              "outlinewidth": 0,
              "ticks": ""
             }
            },
            "marker": {
             "colorbar": {
              "outlinewidth": 0,
              "ticks": ""
             }
            },
            "type": "scatter3d"
           }
          ],
          "scattercarpet": [
           {
            "marker": {
             "colorbar": {
              "outlinewidth": 0,
              "ticks": ""
             }
            },
            "type": "scattercarpet"
           }
          ],
          "scattergeo": [
           {
            "marker": {
             "colorbar": {
              "outlinewidth": 0,
              "ticks": ""
             }
            },
            "type": "scattergeo"
           }
          ],
          "scattergl": [
           {
            "marker": {
             "colorbar": {
              "outlinewidth": 0,
              "ticks": ""
             }
            },
            "type": "scattergl"
           }
          ],
          "scattermapbox": [
           {
            "marker": {
             "colorbar": {
              "outlinewidth": 0,
              "ticks": ""
             }
            },
            "type": "scattermapbox"
           }
          ],
          "scatterpolar": [
           {
            "marker": {
             "colorbar": {
              "outlinewidth": 0,
              "ticks": ""
             }
            },
            "type": "scatterpolar"
           }
          ],
          "scatterpolargl": [
           {
            "marker": {
             "colorbar": {
              "outlinewidth": 0,
              "ticks": ""
             }
            },
            "type": "scatterpolargl"
           }
          ],
          "scatterternary": [
           {
            "marker": {
             "colorbar": {
              "outlinewidth": 0,
              "ticks": ""
             }
            },
            "type": "scatterternary"
           }
          ],
          "surface": [
           {
            "colorbar": {
             "outlinewidth": 0,
             "ticks": ""
            },
            "colorscale": [
             [
              0,
              "#0d0887"
             ],
             [
              0.1111111111111111,
              "#46039f"
             ],
             [
              0.2222222222222222,
              "#7201a8"
             ],
             [
              0.3333333333333333,
              "#9c179e"
             ],
             [
              0.4444444444444444,
              "#bd3786"
             ],
             [
              0.5555555555555556,
              "#d8576b"
             ],
             [
              0.6666666666666666,
              "#ed7953"
             ],
             [
              0.7777777777777778,
              "#fb9f3a"
             ],
             [
              0.8888888888888888,
              "#fdca26"
             ],
             [
              1,
              "#f0f921"
             ]
            ],
            "type": "surface"
           }
          ],
          "table": [
           {
            "cells": {
             "fill": {
              "color": "#EBF0F8"
             },
             "line": {
              "color": "white"
             }
            },
            "header": {
             "fill": {
              "color": "#C8D4E3"
             },
             "line": {
              "color": "white"
             }
            },
            "type": "table"
           }
          ]
         },
         "layout": {
          "annotationdefaults": {
           "arrowcolor": "#2a3f5f",
           "arrowhead": 0,
           "arrowwidth": 1
          },
          "autotypenumbers": "strict",
          "coloraxis": {
           "colorbar": {
            "outlinewidth": 0,
            "ticks": ""
           }
          },
          "colorscale": {
           "diverging": [
            [
             0,
             "#8e0152"
            ],
            [
             0.1,
             "#c51b7d"
            ],
            [
             0.2,
             "#de77ae"
            ],
            [
             0.3,
             "#f1b6da"
            ],
            [
             0.4,
             "#fde0ef"
            ],
            [
             0.5,
             "#f7f7f7"
            ],
            [
             0.6,
             "#e6f5d0"
            ],
            [
             0.7,
             "#b8e186"
            ],
            [
             0.8,
             "#7fbc41"
            ],
            [
             0.9,
             "#4d9221"
            ],
            [
             1,
             "#276419"
            ]
           ],
           "sequential": [
            [
             0,
             "#0d0887"
            ],
            [
             0.1111111111111111,
             "#46039f"
            ],
            [
             0.2222222222222222,
             "#7201a8"
            ],
            [
             0.3333333333333333,
             "#9c179e"
            ],
            [
             0.4444444444444444,
             "#bd3786"
            ],
            [
             0.5555555555555556,
             "#d8576b"
            ],
            [
             0.6666666666666666,
             "#ed7953"
            ],
            [
             0.7777777777777778,
             "#fb9f3a"
            ],
            [
             0.8888888888888888,
             "#fdca26"
            ],
            [
             1,
             "#f0f921"
            ]
           ],
           "sequentialminus": [
            [
             0,
             "#0d0887"
            ],
            [
             0.1111111111111111,
             "#46039f"
            ],
            [
             0.2222222222222222,
             "#7201a8"
            ],
            [
             0.3333333333333333,
             "#9c179e"
            ],
            [
             0.4444444444444444,
             "#bd3786"
            ],
            [
             0.5555555555555556,
             "#d8576b"
            ],
            [
             0.6666666666666666,
             "#ed7953"
            ],
            [
             0.7777777777777778,
             "#fb9f3a"
            ],
            [
             0.8888888888888888,
             "#fdca26"
            ],
            [
             1,
             "#f0f921"
            ]
           ]
          },
          "colorway": [
           "#636efa",
           "#EF553B",
           "#00cc96",
           "#ab63fa",
           "#FFA15A",
           "#19d3f3",
           "#FF6692",
           "#B6E880",
           "#FF97FF",
           "#FECB52"
          ],
          "font": {
           "color": "#2a3f5f"
          },
          "geo": {
           "bgcolor": "white",
           "lakecolor": "white",
           "landcolor": "#E5ECF6",
           "showlakes": true,
           "showland": true,
           "subunitcolor": "white"
          },
          "hoverlabel": {
           "align": "left"
          },
          "hovermode": "closest",
          "mapbox": {
           "style": "light"
          },
          "paper_bgcolor": "white",
          "plot_bgcolor": "#E5ECF6",
          "polar": {
           "angularaxis": {
            "gridcolor": "white",
            "linecolor": "white",
            "ticks": ""
           },
           "bgcolor": "#E5ECF6",
           "radialaxis": {
            "gridcolor": "white",
            "linecolor": "white",
            "ticks": ""
           }
          },
          "scene": {
           "xaxis": {
            "backgroundcolor": "#E5ECF6",
            "gridcolor": "white",
            "gridwidth": 2,
            "linecolor": "white",
            "showbackground": true,
            "ticks": "",
            "zerolinecolor": "white"
           },
           "yaxis": {
            "backgroundcolor": "#E5ECF6",
            "gridcolor": "white",
            "gridwidth": 2,
            "linecolor": "white",
            "showbackground": true,
            "ticks": "",
            "zerolinecolor": "white"
           },
           "zaxis": {
            "backgroundcolor": "#E5ECF6",
            "gridcolor": "white",
            "gridwidth": 2,
            "linecolor": "white",
            "showbackground": true,
            "ticks": "",
            "zerolinecolor": "white"
           }
          },
          "shapedefaults": {
           "line": {
            "color": "#2a3f5f"
           }
          },
          "ternary": {
           "aaxis": {
            "gridcolor": "white",
            "linecolor": "white",
            "ticks": ""
           },
           "baxis": {
            "gridcolor": "white",
            "linecolor": "white",
            "ticks": ""
           },
           "bgcolor": "#E5ECF6",
           "caxis": {
            "gridcolor": "white",
            "linecolor": "white",
            "ticks": ""
           }
          },
          "title": {
           "x": 0.05
          },
          "xaxis": {
           "automargin": true,
           "gridcolor": "white",
           "linecolor": "white",
           "ticks": "",
           "title": {
            "standoff": 15
           },
           "zerolinecolor": "white",
           "zerolinewidth": 2
          },
          "yaxis": {
           "automargin": true,
           "gridcolor": "white",
           "linecolor": "white",
           "ticks": "",
           "title": {
            "standoff": 15
           },
           "zerolinecolor": "white",
           "zerolinewidth": 2
          }
         }
        },
        "title": {
         "text": "Distribution of CNV in refference, per sample source"
        },
        "xaxis": {
         "anchor": "y",
         "categoryarray": [
          "Long",
          "Chakraborty",
          "Rech"
         ],
         "categoryorder": "array",
         "domain": [
          0,
          1
         ],
         "title": {
          "text": "SRC"
         }
        },
        "yaxis": {
         "anchor": "x",
         "domain": [
          0,
          1
         ],
         "title": {
          "text": "CNV-R"
         }
        }
       }
      },
      "text/html": [
       "<div>                            <div id=\"e36d005d-69ed-4276-904e-797262111ed5\" class=\"plotly-graph-div\" style=\"height:525px; width:100%;\"></div>            <script type=\"text/javascript\">                require([\"plotly\"], function(Plotly) {                    window.PLOTLYENV=window.PLOTLYENV || {};                                    if (document.getElementById(\"e36d005d-69ed-4276-904e-797262111ed5\")) {                    Plotly.newPlot(                        \"e36d005d-69ed-4276-904e-797262111ed5\",                        [{\"hovertemplate\": \"SRC=%{x}<br>CNV-R=%{y}<extra></extra>\", \"legendgroup\": \"Long\", \"marker\": {\"color\": \"#636efa\", \"symbol\": \"circle\"}, \"mode\": \"markers\", \"name\": \"Long\", \"orientation\": \"v\", \"showlegend\": true, \"type\": \"scatter\", \"x\": [\"Long\", \"Long\", \"Long\", \"Long\", \"Long\"], \"xaxis\": \"x\", \"y\": [725, 713, 716, 697, 755], \"yaxis\": \"y\"}, {\"hovertemplate\": \"SRC=%{x}<br>CNV-R=%{y}<extra></extra>\", \"legendgroup\": \"Chakraborty\", \"marker\": {\"color\": \"#EF553B\", \"symbol\": \"circle\"}, \"mode\": \"markers\", \"name\": \"Chakraborty\", \"orientation\": \"v\", \"showlegend\": true, \"type\": \"scatter\", \"x\": [\"Chakraborty\", \"Chakraborty\", \"Chakraborty\", \"Chakraborty\", \"Chakraborty\", \"Chakraborty\", \"Chakraborty\", \"Chakraborty\", \"Chakraborty\", \"Chakraborty\", \"Chakraborty\", \"Chakraborty\", \"Chakraborty\", \"Chakraborty\"], \"xaxis\": \"x\", \"y\": [640, 731, 694, 669, 704, 744, 736, 602, 733, 717, 693, 686, 699, 758], \"yaxis\": \"y\"}, {\"hovertemplate\": \"SRC=%{x}<br>CNV-R=%{y}<extra></extra>\", \"legendgroup\": \"Rech\", \"marker\": {\"color\": \"#00cc96\", \"symbol\": \"circle\"}, \"mode\": \"markers\", \"name\": \"Rech\", \"orientation\": \"v\", \"showlegend\": true, \"type\": \"scatter\", \"x\": [\"Rech\", \"Rech\", \"Rech\", \"Rech\", \"Rech\", \"Rech\", \"Rech\", \"Rech\", \"Rech\", \"Rech\", \"Rech\", \"Rech\", \"Rech\", \"Rech\", \"Rech\", \"Rech\", \"Rech\", \"Rech\", \"Rech\", \"Rech\", \"Rech\", \"Rech\", \"Rech\", \"Rech\", \"Rech\", \"Rech\", \"Rech\", \"Rech\", \"Rech\", \"Rech\", \"Rech\", \"Rech\"], \"xaxis\": \"x\", \"y\": [701, 717, 691, 382, 717, 714, 712, 561, 682, 702, 726, 699, 715, 405, 696, 744, 724, 674, 754, 689, 700, 744, 579, 678, 763, 714, 740, 691, 705, 742, 738, 745], \"yaxis\": \"y\"}],                        {\"legend\": {\"title\": {\"text\": \"SRC\"}, \"tracegroupgap\": 0}, \"paper_bgcolor\": \"rgba(0,0,0,0)\", \"plot_bgcolor\": \"rgba(0,0,0,0)\", \"template\": {\"data\": {\"bar\": [{\"error_x\": {\"color\": \"#2a3f5f\"}, \"error_y\": {\"color\": \"#2a3f5f\"}, \"marker\": {\"line\": {\"color\": \"#E5ECF6\", \"width\": 0.5}}, \"type\": \"bar\"}], \"barpolar\": [{\"marker\": {\"line\": {\"color\": \"#E5ECF6\", \"width\": 0.5}}, \"type\": \"barpolar\"}], \"carpet\": [{\"aaxis\": {\"endlinecolor\": \"#2a3f5f\", \"gridcolor\": \"white\", \"linecolor\": \"white\", \"minorgridcolor\": \"white\", \"startlinecolor\": \"#2a3f5f\"}, \"baxis\": {\"endlinecolor\": \"#2a3f5f\", \"gridcolor\": \"white\", \"linecolor\": \"white\", \"minorgridcolor\": \"white\", \"startlinecolor\": \"#2a3f5f\"}, \"type\": \"carpet\"}], \"choropleth\": [{\"colorbar\": {\"outlinewidth\": 0, \"ticks\": \"\"}, \"type\": \"choropleth\"}], \"contour\": [{\"colorbar\": {\"outlinewidth\": 0, \"ticks\": \"\"}, \"colorscale\": [[0.0, \"#0d0887\"], [0.1111111111111111, \"#46039f\"], [0.2222222222222222, \"#7201a8\"], [0.3333333333333333, \"#9c179e\"], [0.4444444444444444, \"#bd3786\"], [0.5555555555555556, \"#d8576b\"], [0.6666666666666666, \"#ed7953\"], [0.7777777777777778, \"#fb9f3a\"], [0.8888888888888888, \"#fdca26\"], [1.0, \"#f0f921\"]], \"type\": \"contour\"}], \"contourcarpet\": [{\"colorbar\": {\"outlinewidth\": 0, \"ticks\": \"\"}, \"type\": \"contourcarpet\"}], \"heatmap\": [{\"colorbar\": {\"outlinewidth\": 0, \"ticks\": \"\"}, \"colorscale\": [[0.0, \"#0d0887\"], [0.1111111111111111, \"#46039f\"], [0.2222222222222222, \"#7201a8\"], [0.3333333333333333, \"#9c179e\"], [0.4444444444444444, \"#bd3786\"], [0.5555555555555556, \"#d8576b\"], [0.6666666666666666, \"#ed7953\"], [0.7777777777777778, \"#fb9f3a\"], [0.8888888888888888, \"#fdca26\"], [1.0, \"#f0f921\"]], \"type\": \"heatmap\"}], \"heatmapgl\": [{\"colorbar\": {\"outlinewidth\": 0, \"ticks\": \"\"}, \"colorscale\": [[0.0, \"#0d0887\"], [0.1111111111111111, \"#46039f\"], [0.2222222222222222, \"#7201a8\"], [0.3333333333333333, \"#9c179e\"], [0.4444444444444444, \"#bd3786\"], [0.5555555555555556, \"#d8576b\"], [0.6666666666666666, \"#ed7953\"], [0.7777777777777778, \"#fb9f3a\"], [0.8888888888888888, \"#fdca26\"], [1.0, \"#f0f921\"]], \"type\": \"heatmapgl\"}], \"histogram\": [{\"marker\": {\"colorbar\": {\"outlinewidth\": 0, \"ticks\": \"\"}}, \"type\": \"histogram\"}], \"histogram2d\": [{\"colorbar\": {\"outlinewidth\": 0, \"ticks\": \"\"}, \"colorscale\": [[0.0, \"#0d0887\"], [0.1111111111111111, \"#46039f\"], [0.2222222222222222, \"#7201a8\"], [0.3333333333333333, \"#9c179e\"], [0.4444444444444444, \"#bd3786\"], [0.5555555555555556, \"#d8576b\"], [0.6666666666666666, \"#ed7953\"], [0.7777777777777778, \"#fb9f3a\"], [0.8888888888888888, \"#fdca26\"], [1.0, \"#f0f921\"]], \"type\": \"histogram2d\"}], \"histogram2dcontour\": [{\"colorbar\": {\"outlinewidth\": 0, \"ticks\": \"\"}, \"colorscale\": [[0.0, \"#0d0887\"], [0.1111111111111111, \"#46039f\"], [0.2222222222222222, \"#7201a8\"], [0.3333333333333333, \"#9c179e\"], [0.4444444444444444, \"#bd3786\"], [0.5555555555555556, \"#d8576b\"], [0.6666666666666666, \"#ed7953\"], [0.7777777777777778, \"#fb9f3a\"], [0.8888888888888888, \"#fdca26\"], [1.0, \"#f0f921\"]], \"type\": \"histogram2dcontour\"}], \"mesh3d\": [{\"colorbar\": {\"outlinewidth\": 0, \"ticks\": \"\"}, \"type\": \"mesh3d\"}], \"parcoords\": [{\"line\": {\"colorbar\": {\"outlinewidth\": 0, \"ticks\": \"\"}}, \"type\": \"parcoords\"}], \"pie\": [{\"automargin\": true, \"type\": \"pie\"}], \"scatter\": [{\"marker\": {\"colorbar\": {\"outlinewidth\": 0, \"ticks\": \"\"}}, \"type\": \"scatter\"}], \"scatter3d\": [{\"line\": {\"colorbar\": {\"outlinewidth\": 0, \"ticks\": \"\"}}, \"marker\": {\"colorbar\": {\"outlinewidth\": 0, \"ticks\": \"\"}}, \"type\": \"scatter3d\"}], \"scattercarpet\": [{\"marker\": {\"colorbar\": {\"outlinewidth\": 0, \"ticks\": \"\"}}, \"type\": \"scattercarpet\"}], \"scattergeo\": [{\"marker\": {\"colorbar\": {\"outlinewidth\": 0, \"ticks\": \"\"}}, \"type\": \"scattergeo\"}], \"scattergl\": [{\"marker\": {\"colorbar\": {\"outlinewidth\": 0, \"ticks\": \"\"}}, \"type\": \"scattergl\"}], \"scattermapbox\": [{\"marker\": {\"colorbar\": {\"outlinewidth\": 0, \"ticks\": \"\"}}, \"type\": \"scattermapbox\"}], \"scatterpolar\": [{\"marker\": {\"colorbar\": {\"outlinewidth\": 0, \"ticks\": \"\"}}, \"type\": \"scatterpolar\"}], \"scatterpolargl\": [{\"marker\": {\"colorbar\": {\"outlinewidth\": 0, \"ticks\": \"\"}}, \"type\": \"scatterpolargl\"}], \"scatterternary\": [{\"marker\": {\"colorbar\": {\"outlinewidth\": 0, \"ticks\": \"\"}}, \"type\": \"scatterternary\"}], \"surface\": [{\"colorbar\": {\"outlinewidth\": 0, \"ticks\": \"\"}, \"colorscale\": [[0.0, \"#0d0887\"], [0.1111111111111111, \"#46039f\"], [0.2222222222222222, \"#7201a8\"], [0.3333333333333333, \"#9c179e\"], [0.4444444444444444, \"#bd3786\"], [0.5555555555555556, \"#d8576b\"], [0.6666666666666666, \"#ed7953\"], [0.7777777777777778, \"#fb9f3a\"], [0.8888888888888888, \"#fdca26\"], [1.0, \"#f0f921\"]], \"type\": \"surface\"}], \"table\": [{\"cells\": {\"fill\": {\"color\": \"#EBF0F8\"}, \"line\": {\"color\": \"white\"}}, \"header\": {\"fill\": {\"color\": \"#C8D4E3\"}, \"line\": {\"color\": \"white\"}}, \"type\": \"table\"}]}, \"layout\": {\"annotationdefaults\": {\"arrowcolor\": \"#2a3f5f\", \"arrowhead\": 0, \"arrowwidth\": 1}, \"autotypenumbers\": \"strict\", \"coloraxis\": {\"colorbar\": {\"outlinewidth\": 0, \"ticks\": \"\"}}, \"colorscale\": {\"diverging\": [[0, \"#8e0152\"], [0.1, \"#c51b7d\"], [0.2, \"#de77ae\"], [0.3, \"#f1b6da\"], [0.4, \"#fde0ef\"], [0.5, \"#f7f7f7\"], [0.6, \"#e6f5d0\"], [0.7, \"#b8e186\"], [0.8, \"#7fbc41\"], [0.9, \"#4d9221\"], [1, \"#276419\"]], \"sequential\": [[0.0, \"#0d0887\"], [0.1111111111111111, \"#46039f\"], [0.2222222222222222, \"#7201a8\"], [0.3333333333333333, \"#9c179e\"], [0.4444444444444444, \"#bd3786\"], [0.5555555555555556, \"#d8576b\"], [0.6666666666666666, \"#ed7953\"], [0.7777777777777778, \"#fb9f3a\"], [0.8888888888888888, \"#fdca26\"], [1.0, \"#f0f921\"]], \"sequentialminus\": [[0.0, \"#0d0887\"], [0.1111111111111111, \"#46039f\"], [0.2222222222222222, \"#7201a8\"], [0.3333333333333333, \"#9c179e\"], [0.4444444444444444, \"#bd3786\"], [0.5555555555555556, \"#d8576b\"], [0.6666666666666666, \"#ed7953\"], [0.7777777777777778, \"#fb9f3a\"], [0.8888888888888888, \"#fdca26\"], [1.0, \"#f0f921\"]]}, \"colorway\": [\"#636efa\", \"#EF553B\", \"#00cc96\", \"#ab63fa\", \"#FFA15A\", \"#19d3f3\", \"#FF6692\", \"#B6E880\", \"#FF97FF\", \"#FECB52\"], \"font\": {\"color\": \"#2a3f5f\"}, \"geo\": {\"bgcolor\": \"white\", \"lakecolor\": \"white\", \"landcolor\": \"#E5ECF6\", \"showlakes\": true, \"showland\": true, \"subunitcolor\": \"white\"}, \"hoverlabel\": {\"align\": \"left\"}, \"hovermode\": \"closest\", \"mapbox\": {\"style\": \"light\"}, \"paper_bgcolor\": \"white\", \"plot_bgcolor\": \"#E5ECF6\", \"polar\": {\"angularaxis\": {\"gridcolor\": \"white\", \"linecolor\": \"white\", \"ticks\": \"\"}, \"bgcolor\": \"#E5ECF6\", \"radialaxis\": {\"gridcolor\": \"white\", \"linecolor\": \"white\", \"ticks\": \"\"}}, \"scene\": {\"xaxis\": {\"backgroundcolor\": \"#E5ECF6\", \"gridcolor\": \"white\", \"gridwidth\": 2, \"linecolor\": \"white\", \"showbackground\": true, \"ticks\": \"\", \"zerolinecolor\": \"white\"}, \"yaxis\": {\"backgroundcolor\": \"#E5ECF6\", \"gridcolor\": \"white\", \"gridwidth\": 2, \"linecolor\": \"white\", \"showbackground\": true, \"ticks\": \"\", \"zerolinecolor\": \"white\"}, \"zaxis\": {\"backgroundcolor\": \"#E5ECF6\", \"gridcolor\": \"white\", \"gridwidth\": 2, \"linecolor\": \"white\", \"showbackground\": true, \"ticks\": \"\", \"zerolinecolor\": \"white\"}}, \"shapedefaults\": {\"line\": {\"color\": \"#2a3f5f\"}}, \"ternary\": {\"aaxis\": {\"gridcolor\": \"white\", \"linecolor\": \"white\", \"ticks\": \"\"}, \"baxis\": {\"gridcolor\": \"white\", \"linecolor\": \"white\", \"ticks\": \"\"}, \"bgcolor\": \"#E5ECF6\", \"caxis\": {\"gridcolor\": \"white\", \"linecolor\": \"white\", \"ticks\": \"\"}}, \"title\": {\"x\": 0.05}, \"xaxis\": {\"automargin\": true, \"gridcolor\": \"white\", \"linecolor\": \"white\", \"ticks\": \"\", \"title\": {\"standoff\": 15}, \"zerolinecolor\": \"white\", \"zerolinewidth\": 2}, \"yaxis\": {\"automargin\": true, \"gridcolor\": \"white\", \"linecolor\": \"white\", \"ticks\": \"\", \"title\": {\"standoff\": 15}, \"zerolinecolor\": \"white\", \"zerolinewidth\": 2}}}, \"title\": {\"text\": \"Distribution of CNV in refference, per sample source\"}, \"xaxis\": {\"anchor\": \"y\", \"categoryarray\": [\"Long\", \"Chakraborty\", \"Rech\"], \"categoryorder\": \"array\", \"domain\": [0.0, 1.0], \"title\": {\"text\": \"SRC\"}}, \"yaxis\": {\"anchor\": \"x\", \"domain\": [0.0, 1.0], \"title\": {\"text\": \"CNV-R\"}}},                        {\"responsive\": true}                    ).then(function(){\n",
       "                            \n",
       "var gd = document.getElementById('e36d005d-69ed-4276-904e-797262111ed5');\n",
       "var x = new MutationObserver(function (mutations, observer) {{\n",
       "        var display = window.getComputedStyle(gd).display;\n",
       "        if (!display || display === 'none') {{\n",
       "            console.log([gd, 'removed!']);\n",
       "            Plotly.purge(gd);\n",
       "            observer.disconnect();\n",
       "        }}\n",
       "}});\n",
       "\n",
       "// Listen for the removal of the full notebook cells\n",
       "var notebookContainer = gd.closest('#notebook-container');\n",
       "if (notebookContainer) {{\n",
       "    x.observe(notebookContainer, {childList: true});\n",
       "}}\n",
       "\n",
       "// Listen for the clearing of the current output cell\n",
       "var outputEl = gd.closest('.output');\n",
       "if (outputEl) {{\n",
       "    x.observe(outputEl, {childList: true});\n",
       "}}\n",
       "\n",
       "                        })                };                });            </script>        </div>"
      ]
     },
     "metadata": {},
     "output_type": "display_data"
    }
   ],
   "source": [
    "fig = px.scatter(df, x=\"SRC\", y=\"CNV-R\", color=\"SRC\", title=\"Distribution of CNV in refference, per sample source\")\n",
    "\n",
    "fig.update_layout(\n",
    "    paper_bgcolor='rgba(0,0,0,0)',\n",
    "    plot_bgcolor='rgba(0,0,0,0)'\n",
    ")\n",
    "\n",
    "fig.show()"
   ]
  },
  {
   "cell_type": "code",
   "execution_count": 237,
   "metadata": {},
   "outputs": [
    {
     "data": {
      "application/vnd.plotly.v1+json": {
       "config": {
        "plotlyServerURL": "https://plot.ly"
       },
       "data": [
        {
         "hovertemplate": "SRC=%{x}<br>CNV-Q=%{y}<extra></extra>",
         "legendgroup": "Long",
         "marker": {
          "color": "#636efa",
          "symbol": "circle"
         },
         "mode": "markers",
         "name": "Long",
         "orientation": "v",
         "showlegend": true,
         "type": "scatter",
         "x": [
          "Long",
          "Long",
          "Long",
          "Long",
          "Long"
         ],
         "xaxis": "x",
         "y": [
          766,
          657,
          699,
          695,
          846
         ],
         "yaxis": "y"
        },
        {
         "hovertemplate": "SRC=%{x}<br>CNV-Q=%{y}<extra></extra>",
         "legendgroup": "Chakraborty",
         "marker": {
          "color": "#EF553B",
          "symbol": "circle"
         },
         "mode": "markers",
         "name": "Chakraborty",
         "orientation": "v",
         "showlegend": true,
         "type": "scatter",
         "x": [
          "Chakraborty",
          "Chakraborty",
          "Chakraborty",
          "Chakraborty",
          "Chakraborty",
          "Chakraborty",
          "Chakraborty",
          "Chakraborty",
          "Chakraborty",
          "Chakraborty",
          "Chakraborty",
          "Chakraborty",
          "Chakraborty",
          "Chakraborty"
         ],
         "xaxis": "x",
         "y": [
          659,
          795,
          610,
          624,
          588,
          729,
          764,
          570,
          659,
          770,
          647,
          694,
          634,
          767
         ],
         "yaxis": "y"
        },
        {
         "hovertemplate": "SRC=%{x}<br>CNV-Q=%{y}<extra></extra>",
         "legendgroup": "Rech",
         "marker": {
          "color": "#00cc96",
          "symbol": "circle"
         },
         "mode": "markers",
         "name": "Rech",
         "orientation": "v",
         "showlegend": true,
         "type": "scatter",
         "x": [
          "Rech",
          "Rech",
          "Rech",
          "Rech",
          "Rech",
          "Rech",
          "Rech",
          "Rech",
          "Rech",
          "Rech",
          "Rech",
          "Rech",
          "Rech",
          "Rech",
          "Rech",
          "Rech",
          "Rech",
          "Rech",
          "Rech",
          "Rech",
          "Rech",
          "Rech",
          "Rech",
          "Rech",
          "Rech",
          "Rech",
          "Rech",
          "Rech",
          "Rech",
          "Rech",
          "Rech",
          "Rech"
         ],
         "xaxis": "x",
         "y": [
          659,
          714,
          817,
          594,
          923,
          976,
          937,
          573,
          745,
          806,
          852,
          822,
          969,
          580,
          936,
          906,
          931,
          683,
          927,
          803,
          936,
          1035,
          605,
          688,
          997,
          885,
          874,
          865,
          824,
          879,
          787,
          877
         ],
         "yaxis": "y"
        }
       ],
       "layout": {
        "legend": {
         "title": {
          "text": "SRC"
         },
         "tracegroupgap": 0
        },
        "paper_bgcolor": "rgba(0,0,0,0)",
        "plot_bgcolor": "rgba(0,0,0,0)",
        "template": {
         "data": {
          "bar": [
           {
            "error_x": {
             "color": "#2a3f5f"
            },
            "error_y": {
             "color": "#2a3f5f"
            },
            "marker": {
             "line": {
              "color": "#E5ECF6",
              "width": 0.5
             }
            },
            "type": "bar"
           }
          ],
          "barpolar": [
           {
            "marker": {
             "line": {
              "color": "#E5ECF6",
              "width": 0.5
             }
            },
            "type": "barpolar"
           }
          ],
          "carpet": [
           {
            "aaxis": {
             "endlinecolor": "#2a3f5f",
             "gridcolor": "white",
             "linecolor": "white",
             "minorgridcolor": "white",
             "startlinecolor": "#2a3f5f"
            },
            "baxis": {
             "endlinecolor": "#2a3f5f",
             "gridcolor": "white",
             "linecolor": "white",
             "minorgridcolor": "white",
             "startlinecolor": "#2a3f5f"
            },
            "type": "carpet"
           }
          ],
          "choropleth": [
           {
            "colorbar": {
             "outlinewidth": 0,
             "ticks": ""
            },
            "type": "choropleth"
           }
          ],
          "contour": [
           {
            "colorbar": {
             "outlinewidth": 0,
             "ticks": ""
            },
            "colorscale": [
             [
              0,
              "#0d0887"
             ],
             [
              0.1111111111111111,
              "#46039f"
             ],
             [
              0.2222222222222222,
              "#7201a8"
             ],
             [
              0.3333333333333333,
              "#9c179e"
             ],
             [
              0.4444444444444444,
              "#bd3786"
             ],
             [
              0.5555555555555556,
              "#d8576b"
             ],
             [
              0.6666666666666666,
              "#ed7953"
             ],
             [
              0.7777777777777778,
              "#fb9f3a"
             ],
             [
              0.8888888888888888,
              "#fdca26"
             ],
             [
              1,
              "#f0f921"
             ]
            ],
            "type": "contour"
           }
          ],
          "contourcarpet": [
           {
            "colorbar": {
             "outlinewidth": 0,
             "ticks": ""
            },
            "type": "contourcarpet"
           }
          ],
          "heatmap": [
           {
            "colorbar": {
             "outlinewidth": 0,
             "ticks": ""
            },
            "colorscale": [
             [
              0,
              "#0d0887"
             ],
             [
              0.1111111111111111,
              "#46039f"
             ],
             [
              0.2222222222222222,
              "#7201a8"
             ],
             [
              0.3333333333333333,
              "#9c179e"
             ],
             [
              0.4444444444444444,
              "#bd3786"
             ],
             [
              0.5555555555555556,
              "#d8576b"
             ],
             [
              0.6666666666666666,
              "#ed7953"
             ],
             [
              0.7777777777777778,
              "#fb9f3a"
             ],
             [
              0.8888888888888888,
              "#fdca26"
             ],
             [
              1,
              "#f0f921"
             ]
            ],
            "type": "heatmap"
           }
          ],
          "heatmapgl": [
           {
            "colorbar": {
             "outlinewidth": 0,
             "ticks": ""
            },
            "colorscale": [
             [
              0,
              "#0d0887"
             ],
             [
              0.1111111111111111,
              "#46039f"
             ],
             [
              0.2222222222222222,
              "#7201a8"
             ],
             [
              0.3333333333333333,
              "#9c179e"
             ],
             [
              0.4444444444444444,
              "#bd3786"
             ],
             [
              0.5555555555555556,
              "#d8576b"
             ],
             [
              0.6666666666666666,
              "#ed7953"
             ],
             [
              0.7777777777777778,
              "#fb9f3a"
             ],
             [
              0.8888888888888888,
              "#fdca26"
             ],
             [
              1,
              "#f0f921"
             ]
            ],
            "type": "heatmapgl"
           }
          ],
          "histogram": [
           {
            "marker": {
             "colorbar": {
              "outlinewidth": 0,
              "ticks": ""
             }
            },
            "type": "histogram"
           }
          ],
          "histogram2d": [
           {
            "colorbar": {
             "outlinewidth": 0,
             "ticks": ""
            },
            "colorscale": [
             [
              0,
              "#0d0887"
             ],
             [
              0.1111111111111111,
              "#46039f"
             ],
             [
              0.2222222222222222,
              "#7201a8"
             ],
             [
              0.3333333333333333,
              "#9c179e"
             ],
             [
              0.4444444444444444,
              "#bd3786"
             ],
             [
              0.5555555555555556,
              "#d8576b"
             ],
             [
              0.6666666666666666,
              "#ed7953"
             ],
             [
              0.7777777777777778,
              "#fb9f3a"
             ],
             [
              0.8888888888888888,
              "#fdca26"
             ],
             [
              1,
              "#f0f921"
             ]
            ],
            "type": "histogram2d"
           }
          ],
          "histogram2dcontour": [
           {
            "colorbar": {
             "outlinewidth": 0,
             "ticks": ""
            },
            "colorscale": [
             [
              0,
              "#0d0887"
             ],
             [
              0.1111111111111111,
              "#46039f"
             ],
             [
              0.2222222222222222,
              "#7201a8"
             ],
             [
              0.3333333333333333,
              "#9c179e"
             ],
             [
              0.4444444444444444,
              "#bd3786"
             ],
             [
              0.5555555555555556,
              "#d8576b"
             ],
             [
              0.6666666666666666,
              "#ed7953"
             ],
             [
              0.7777777777777778,
              "#fb9f3a"
             ],
             [
              0.8888888888888888,
              "#fdca26"
             ],
             [
              1,
              "#f0f921"
             ]
            ],
            "type": "histogram2dcontour"
           }
          ],
          "mesh3d": [
           {
            "colorbar": {
             "outlinewidth": 0,
             "ticks": ""
            },
            "type": "mesh3d"
           }
          ],
          "parcoords": [
           {
            "line": {
             "colorbar": {
              "outlinewidth": 0,
              "ticks": ""
             }
            },
            "type": "parcoords"
           }
          ],
          "pie": [
           {
            "automargin": true,
            "type": "pie"
           }
          ],
          "scatter": [
           {
            "marker": {
             "colorbar": {
              "outlinewidth": 0,
              "ticks": ""
             }
            },
            "type": "scatter"
           }
          ],
          "scatter3d": [
           {
            "line": {
             "colorbar": {
              "outlinewidth": 0,
              "ticks": ""
             }
            },
            "marker": {
             "colorbar": {
              "outlinewidth": 0,
              "ticks": ""
             }
            },
            "type": "scatter3d"
           }
          ],
          "scattercarpet": [
           {
            "marker": {
             "colorbar": {
              "outlinewidth": 0,
              "ticks": ""
             }
            },
            "type": "scattercarpet"
           }
          ],
          "scattergeo": [
           {
            "marker": {
             "colorbar": {
              "outlinewidth": 0,
              "ticks": ""
             }
            },
            "type": "scattergeo"
           }
          ],
          "scattergl": [
           {
            "marker": {
             "colorbar": {
              "outlinewidth": 0,
              "ticks": ""
             }
            },
            "type": "scattergl"
           }
          ],
          "scattermapbox": [
           {
            "marker": {
             "colorbar": {
              "outlinewidth": 0,
              "ticks": ""
             }
            },
            "type": "scattermapbox"
           }
          ],
          "scatterpolar": [
           {
            "marker": {
             "colorbar": {
              "outlinewidth": 0,
              "ticks": ""
             }
            },
            "type": "scatterpolar"
           }
          ],
          "scatterpolargl": [
           {
            "marker": {
             "colorbar": {
              "outlinewidth": 0,
              "ticks": ""
             }
            },
            "type": "scatterpolargl"
           }
          ],
          "scatterternary": [
           {
            "marker": {
             "colorbar": {
              "outlinewidth": 0,
              "ticks": ""
             }
            },
            "type": "scatterternary"
           }
          ],
          "surface": [
           {
            "colorbar": {
             "outlinewidth": 0,
             "ticks": ""
            },
            "colorscale": [
             [
              0,
              "#0d0887"
             ],
             [
              0.1111111111111111,
              "#46039f"
             ],
             [
              0.2222222222222222,
              "#7201a8"
             ],
             [
              0.3333333333333333,
              "#9c179e"
             ],
             [
              0.4444444444444444,
              "#bd3786"
             ],
             [
              0.5555555555555556,
              "#d8576b"
             ],
             [
              0.6666666666666666,
              "#ed7953"
             ],
             [
              0.7777777777777778,
              "#fb9f3a"
             ],
             [
              0.8888888888888888,
              "#fdca26"
             ],
             [
              1,
              "#f0f921"
             ]
            ],
            "type": "surface"
           }
          ],
          "table": [
           {
            "cells": {
             "fill": {
              "color": "#EBF0F8"
             },
             "line": {
              "color": "white"
             }
            },
            "header": {
             "fill": {
              "color": "#C8D4E3"
             },
             "line": {
              "color": "white"
             }
            },
            "type": "table"
           }
          ]
         },
         "layout": {
          "annotationdefaults": {
           "arrowcolor": "#2a3f5f",
           "arrowhead": 0,
           "arrowwidth": 1
          },
          "autotypenumbers": "strict",
          "coloraxis": {
           "colorbar": {
            "outlinewidth": 0,
            "ticks": ""
           }
          },
          "colorscale": {
           "diverging": [
            [
             0,
             "#8e0152"
            ],
            [
             0.1,
             "#c51b7d"
            ],
            [
             0.2,
             "#de77ae"
            ],
            [
             0.3,
             "#f1b6da"
            ],
            [
             0.4,
             "#fde0ef"
            ],
            [
             0.5,
             "#f7f7f7"
            ],
            [
             0.6,
             "#e6f5d0"
            ],
            [
             0.7,
             "#b8e186"
            ],
            [
             0.8,
             "#7fbc41"
            ],
            [
             0.9,
             "#4d9221"
            ],
            [
             1,
             "#276419"
            ]
           ],
           "sequential": [
            [
             0,
             "#0d0887"
            ],
            [
             0.1111111111111111,
             "#46039f"
            ],
            [
             0.2222222222222222,
             "#7201a8"
            ],
            [
             0.3333333333333333,
             "#9c179e"
            ],
            [
             0.4444444444444444,
             "#bd3786"
            ],
            [
             0.5555555555555556,
             "#d8576b"
            ],
            [
             0.6666666666666666,
             "#ed7953"
            ],
            [
             0.7777777777777778,
             "#fb9f3a"
            ],
            [
             0.8888888888888888,
             "#fdca26"
            ],
            [
             1,
             "#f0f921"
            ]
           ],
           "sequentialminus": [
            [
             0,
             "#0d0887"
            ],
            [
             0.1111111111111111,
             "#46039f"
            ],
            [
             0.2222222222222222,
             "#7201a8"
            ],
            [
             0.3333333333333333,
             "#9c179e"
            ],
            [
             0.4444444444444444,
             "#bd3786"
            ],
            [
             0.5555555555555556,
             "#d8576b"
            ],
            [
             0.6666666666666666,
             "#ed7953"
            ],
            [
             0.7777777777777778,
             "#fb9f3a"
            ],
            [
             0.8888888888888888,
             "#fdca26"
            ],
            [
             1,
             "#f0f921"
            ]
           ]
          },
          "colorway": [
           "#636efa",
           "#EF553B",
           "#00cc96",
           "#ab63fa",
           "#FFA15A",
           "#19d3f3",
           "#FF6692",
           "#B6E880",
           "#FF97FF",
           "#FECB52"
          ],
          "font": {
           "color": "#2a3f5f"
          },
          "geo": {
           "bgcolor": "white",
           "lakecolor": "white",
           "landcolor": "#E5ECF6",
           "showlakes": true,
           "showland": true,
           "subunitcolor": "white"
          },
          "hoverlabel": {
           "align": "left"
          },
          "hovermode": "closest",
          "mapbox": {
           "style": "light"
          },
          "paper_bgcolor": "white",
          "plot_bgcolor": "#E5ECF6",
          "polar": {
           "angularaxis": {
            "gridcolor": "white",
            "linecolor": "white",
            "ticks": ""
           },
           "bgcolor": "#E5ECF6",
           "radialaxis": {
            "gridcolor": "white",
            "linecolor": "white",
            "ticks": ""
           }
          },
          "scene": {
           "xaxis": {
            "backgroundcolor": "#E5ECF6",
            "gridcolor": "white",
            "gridwidth": 2,
            "linecolor": "white",
            "showbackground": true,
            "ticks": "",
            "zerolinecolor": "white"
           },
           "yaxis": {
            "backgroundcolor": "#E5ECF6",
            "gridcolor": "white",
            "gridwidth": 2,
            "linecolor": "white",
            "showbackground": true,
            "ticks": "",
            "zerolinecolor": "white"
           },
           "zaxis": {
            "backgroundcolor": "#E5ECF6",
            "gridcolor": "white",
            "gridwidth": 2,
            "linecolor": "white",
            "showbackground": true,
            "ticks": "",
            "zerolinecolor": "white"
           }
          },
          "shapedefaults": {
           "line": {
            "color": "#2a3f5f"
           }
          },
          "ternary": {
           "aaxis": {
            "gridcolor": "white",
            "linecolor": "white",
            "ticks": ""
           },
           "baxis": {
            "gridcolor": "white",
            "linecolor": "white",
            "ticks": ""
           },
           "bgcolor": "#E5ECF6",
           "caxis": {
            "gridcolor": "white",
            "linecolor": "white",
            "ticks": ""
           }
          },
          "title": {
           "x": 0.05
          },
          "xaxis": {
           "automargin": true,
           "gridcolor": "white",
           "linecolor": "white",
           "ticks": "",
           "title": {
            "standoff": 15
           },
           "zerolinecolor": "white",
           "zerolinewidth": 2
          },
          "yaxis": {
           "automargin": true,
           "gridcolor": "white",
           "linecolor": "white",
           "ticks": "",
           "title": {
            "standoff": 15
           },
           "zerolinecolor": "white",
           "zerolinewidth": 2
          }
         }
        },
        "title": {
         "text": "Distribution of CNV in query sequence, per sample source"
        },
        "xaxis": {
         "anchor": "y",
         "categoryarray": [
          "Long",
          "Chakraborty",
          "Rech"
         ],
         "categoryorder": "array",
         "domain": [
          0,
          1
         ],
         "title": {
          "text": "SRC"
         }
        },
        "yaxis": {
         "anchor": "x",
         "domain": [
          0,
          1
         ],
         "title": {
          "text": "CNV-Q"
         }
        }
       }
      },
      "text/html": [
       "<div>                            <div id=\"6c18e87d-c2ec-4ba9-a936-29ef00079964\" class=\"plotly-graph-div\" style=\"height:525px; width:100%;\"></div>            <script type=\"text/javascript\">                require([\"plotly\"], function(Plotly) {                    window.PLOTLYENV=window.PLOTLYENV || {};                                    if (document.getElementById(\"6c18e87d-c2ec-4ba9-a936-29ef00079964\")) {                    Plotly.newPlot(                        \"6c18e87d-c2ec-4ba9-a936-29ef00079964\",                        [{\"hovertemplate\": \"SRC=%{x}<br>CNV-Q=%{y}<extra></extra>\", \"legendgroup\": \"Long\", \"marker\": {\"color\": \"#636efa\", \"symbol\": \"circle\"}, \"mode\": \"markers\", \"name\": \"Long\", \"orientation\": \"v\", \"showlegend\": true, \"type\": \"scatter\", \"x\": [\"Long\", \"Long\", \"Long\", \"Long\", \"Long\"], \"xaxis\": \"x\", \"y\": [766, 657, 699, 695, 846], \"yaxis\": \"y\"}, {\"hovertemplate\": \"SRC=%{x}<br>CNV-Q=%{y}<extra></extra>\", \"legendgroup\": \"Chakraborty\", \"marker\": {\"color\": \"#EF553B\", \"symbol\": \"circle\"}, \"mode\": \"markers\", \"name\": \"Chakraborty\", \"orientation\": \"v\", \"showlegend\": true, \"type\": \"scatter\", \"x\": [\"Chakraborty\", \"Chakraborty\", \"Chakraborty\", \"Chakraborty\", \"Chakraborty\", \"Chakraborty\", \"Chakraborty\", \"Chakraborty\", \"Chakraborty\", \"Chakraborty\", \"Chakraborty\", \"Chakraborty\", \"Chakraborty\", \"Chakraborty\"], \"xaxis\": \"x\", \"y\": [659, 795, 610, 624, 588, 729, 764, 570, 659, 770, 647, 694, 634, 767], \"yaxis\": \"y\"}, {\"hovertemplate\": \"SRC=%{x}<br>CNV-Q=%{y}<extra></extra>\", \"legendgroup\": \"Rech\", \"marker\": {\"color\": \"#00cc96\", \"symbol\": \"circle\"}, \"mode\": \"markers\", \"name\": \"Rech\", \"orientation\": \"v\", \"showlegend\": true, \"type\": \"scatter\", \"x\": [\"Rech\", \"Rech\", \"Rech\", \"Rech\", \"Rech\", \"Rech\", \"Rech\", \"Rech\", \"Rech\", \"Rech\", \"Rech\", \"Rech\", \"Rech\", \"Rech\", \"Rech\", \"Rech\", \"Rech\", \"Rech\", \"Rech\", \"Rech\", \"Rech\", \"Rech\", \"Rech\", \"Rech\", \"Rech\", \"Rech\", \"Rech\", \"Rech\", \"Rech\", \"Rech\", \"Rech\", \"Rech\"], \"xaxis\": \"x\", \"y\": [659, 714, 817, 594, 923, 976, 937, 573, 745, 806, 852, 822, 969, 580, 936, 906, 931, 683, 927, 803, 936, 1035, 605, 688, 997, 885, 874, 865, 824, 879, 787, 877], \"yaxis\": \"y\"}],                        {\"legend\": {\"title\": {\"text\": \"SRC\"}, \"tracegroupgap\": 0}, \"paper_bgcolor\": \"rgba(0,0,0,0)\", \"plot_bgcolor\": \"rgba(0,0,0,0)\", \"template\": {\"data\": {\"bar\": [{\"error_x\": {\"color\": \"#2a3f5f\"}, \"error_y\": {\"color\": \"#2a3f5f\"}, \"marker\": {\"line\": {\"color\": \"#E5ECF6\", \"width\": 0.5}}, \"type\": \"bar\"}], \"barpolar\": [{\"marker\": {\"line\": {\"color\": \"#E5ECF6\", \"width\": 0.5}}, \"type\": \"barpolar\"}], \"carpet\": [{\"aaxis\": {\"endlinecolor\": \"#2a3f5f\", \"gridcolor\": \"white\", \"linecolor\": \"white\", \"minorgridcolor\": \"white\", \"startlinecolor\": \"#2a3f5f\"}, \"baxis\": {\"endlinecolor\": \"#2a3f5f\", \"gridcolor\": \"white\", \"linecolor\": \"white\", \"minorgridcolor\": \"white\", \"startlinecolor\": \"#2a3f5f\"}, \"type\": \"carpet\"}], \"choropleth\": [{\"colorbar\": {\"outlinewidth\": 0, \"ticks\": \"\"}, \"type\": \"choropleth\"}], \"contour\": [{\"colorbar\": {\"outlinewidth\": 0, \"ticks\": \"\"}, \"colorscale\": [[0.0, \"#0d0887\"], [0.1111111111111111, \"#46039f\"], [0.2222222222222222, \"#7201a8\"], [0.3333333333333333, \"#9c179e\"], [0.4444444444444444, \"#bd3786\"], [0.5555555555555556, \"#d8576b\"], [0.6666666666666666, \"#ed7953\"], [0.7777777777777778, \"#fb9f3a\"], [0.8888888888888888, \"#fdca26\"], [1.0, \"#f0f921\"]], \"type\": \"contour\"}], \"contourcarpet\": [{\"colorbar\": {\"outlinewidth\": 0, \"ticks\": \"\"}, \"type\": \"contourcarpet\"}], \"heatmap\": [{\"colorbar\": {\"outlinewidth\": 0, \"ticks\": \"\"}, \"colorscale\": [[0.0, \"#0d0887\"], [0.1111111111111111, \"#46039f\"], [0.2222222222222222, \"#7201a8\"], [0.3333333333333333, \"#9c179e\"], [0.4444444444444444, \"#bd3786\"], [0.5555555555555556, \"#d8576b\"], [0.6666666666666666, \"#ed7953\"], [0.7777777777777778, \"#fb9f3a\"], [0.8888888888888888, \"#fdca26\"], [1.0, \"#f0f921\"]], \"type\": \"heatmap\"}], \"heatmapgl\": [{\"colorbar\": {\"outlinewidth\": 0, \"ticks\": \"\"}, \"colorscale\": [[0.0, \"#0d0887\"], [0.1111111111111111, \"#46039f\"], [0.2222222222222222, \"#7201a8\"], [0.3333333333333333, \"#9c179e\"], [0.4444444444444444, \"#bd3786\"], [0.5555555555555556, \"#d8576b\"], [0.6666666666666666, \"#ed7953\"], [0.7777777777777778, \"#fb9f3a\"], [0.8888888888888888, \"#fdca26\"], [1.0, \"#f0f921\"]], \"type\": \"heatmapgl\"}], \"histogram\": [{\"marker\": {\"colorbar\": {\"outlinewidth\": 0, \"ticks\": \"\"}}, \"type\": \"histogram\"}], \"histogram2d\": [{\"colorbar\": {\"outlinewidth\": 0, \"ticks\": \"\"}, \"colorscale\": [[0.0, \"#0d0887\"], [0.1111111111111111, \"#46039f\"], [0.2222222222222222, \"#7201a8\"], [0.3333333333333333, \"#9c179e\"], [0.4444444444444444, \"#bd3786\"], [0.5555555555555556, \"#d8576b\"], [0.6666666666666666, \"#ed7953\"], [0.7777777777777778, \"#fb9f3a\"], [0.8888888888888888, \"#fdca26\"], [1.0, \"#f0f921\"]], \"type\": \"histogram2d\"}], \"histogram2dcontour\": [{\"colorbar\": {\"outlinewidth\": 0, \"ticks\": \"\"}, \"colorscale\": [[0.0, \"#0d0887\"], [0.1111111111111111, \"#46039f\"], [0.2222222222222222, \"#7201a8\"], [0.3333333333333333, \"#9c179e\"], [0.4444444444444444, \"#bd3786\"], [0.5555555555555556, \"#d8576b\"], [0.6666666666666666, \"#ed7953\"], [0.7777777777777778, \"#fb9f3a\"], [0.8888888888888888, \"#fdca26\"], [1.0, \"#f0f921\"]], \"type\": \"histogram2dcontour\"}], \"mesh3d\": [{\"colorbar\": {\"outlinewidth\": 0, \"ticks\": \"\"}, \"type\": \"mesh3d\"}], \"parcoords\": [{\"line\": {\"colorbar\": {\"outlinewidth\": 0, \"ticks\": \"\"}}, \"type\": \"parcoords\"}], \"pie\": [{\"automargin\": true, \"type\": \"pie\"}], \"scatter\": [{\"marker\": {\"colorbar\": {\"outlinewidth\": 0, \"ticks\": \"\"}}, \"type\": \"scatter\"}], \"scatter3d\": [{\"line\": {\"colorbar\": {\"outlinewidth\": 0, \"ticks\": \"\"}}, \"marker\": {\"colorbar\": {\"outlinewidth\": 0, \"ticks\": \"\"}}, \"type\": \"scatter3d\"}], \"scattercarpet\": [{\"marker\": {\"colorbar\": {\"outlinewidth\": 0, \"ticks\": \"\"}}, \"type\": \"scattercarpet\"}], \"scattergeo\": [{\"marker\": {\"colorbar\": {\"outlinewidth\": 0, \"ticks\": \"\"}}, \"type\": \"scattergeo\"}], \"scattergl\": [{\"marker\": {\"colorbar\": {\"outlinewidth\": 0, \"ticks\": \"\"}}, \"type\": \"scattergl\"}], \"scattermapbox\": [{\"marker\": {\"colorbar\": {\"outlinewidth\": 0, \"ticks\": \"\"}}, \"type\": \"scattermapbox\"}], \"scatterpolar\": [{\"marker\": {\"colorbar\": {\"outlinewidth\": 0, \"ticks\": \"\"}}, \"type\": \"scatterpolar\"}], \"scatterpolargl\": [{\"marker\": {\"colorbar\": {\"outlinewidth\": 0, \"ticks\": \"\"}}, \"type\": \"scatterpolargl\"}], \"scatterternary\": [{\"marker\": {\"colorbar\": {\"outlinewidth\": 0, \"ticks\": \"\"}}, \"type\": \"scatterternary\"}], \"surface\": [{\"colorbar\": {\"outlinewidth\": 0, \"ticks\": \"\"}, \"colorscale\": [[0.0, \"#0d0887\"], [0.1111111111111111, \"#46039f\"], [0.2222222222222222, \"#7201a8\"], [0.3333333333333333, \"#9c179e\"], [0.4444444444444444, \"#bd3786\"], [0.5555555555555556, \"#d8576b\"], [0.6666666666666666, \"#ed7953\"], [0.7777777777777778, \"#fb9f3a\"], [0.8888888888888888, \"#fdca26\"], [1.0, \"#f0f921\"]], \"type\": \"surface\"}], \"table\": [{\"cells\": {\"fill\": {\"color\": \"#EBF0F8\"}, \"line\": {\"color\": \"white\"}}, \"header\": {\"fill\": {\"color\": \"#C8D4E3\"}, \"line\": {\"color\": \"white\"}}, \"type\": \"table\"}]}, \"layout\": {\"annotationdefaults\": {\"arrowcolor\": \"#2a3f5f\", \"arrowhead\": 0, \"arrowwidth\": 1}, \"autotypenumbers\": \"strict\", \"coloraxis\": {\"colorbar\": {\"outlinewidth\": 0, \"ticks\": \"\"}}, \"colorscale\": {\"diverging\": [[0, \"#8e0152\"], [0.1, \"#c51b7d\"], [0.2, \"#de77ae\"], [0.3, \"#f1b6da\"], [0.4, \"#fde0ef\"], [0.5, \"#f7f7f7\"], [0.6, \"#e6f5d0\"], [0.7, \"#b8e186\"], [0.8, \"#7fbc41\"], [0.9, \"#4d9221\"], [1, \"#276419\"]], \"sequential\": [[0.0, \"#0d0887\"], [0.1111111111111111, \"#46039f\"], [0.2222222222222222, \"#7201a8\"], [0.3333333333333333, \"#9c179e\"], [0.4444444444444444, \"#bd3786\"], [0.5555555555555556, \"#d8576b\"], [0.6666666666666666, \"#ed7953\"], [0.7777777777777778, \"#fb9f3a\"], [0.8888888888888888, \"#fdca26\"], [1.0, \"#f0f921\"]], \"sequentialminus\": [[0.0, \"#0d0887\"], [0.1111111111111111, \"#46039f\"], [0.2222222222222222, \"#7201a8\"], [0.3333333333333333, \"#9c179e\"], [0.4444444444444444, \"#bd3786\"], [0.5555555555555556, \"#d8576b\"], [0.6666666666666666, \"#ed7953\"], [0.7777777777777778, \"#fb9f3a\"], [0.8888888888888888, \"#fdca26\"], [1.0, \"#f0f921\"]]}, \"colorway\": [\"#636efa\", \"#EF553B\", \"#00cc96\", \"#ab63fa\", \"#FFA15A\", \"#19d3f3\", \"#FF6692\", \"#B6E880\", \"#FF97FF\", \"#FECB52\"], \"font\": {\"color\": \"#2a3f5f\"}, \"geo\": {\"bgcolor\": \"white\", \"lakecolor\": \"white\", \"landcolor\": \"#E5ECF6\", \"showlakes\": true, \"showland\": true, \"subunitcolor\": \"white\"}, \"hoverlabel\": {\"align\": \"left\"}, \"hovermode\": \"closest\", \"mapbox\": {\"style\": \"light\"}, \"paper_bgcolor\": \"white\", \"plot_bgcolor\": \"#E5ECF6\", \"polar\": {\"angularaxis\": {\"gridcolor\": \"white\", \"linecolor\": \"white\", \"ticks\": \"\"}, \"bgcolor\": \"#E5ECF6\", \"radialaxis\": {\"gridcolor\": \"white\", \"linecolor\": \"white\", \"ticks\": \"\"}}, \"scene\": {\"xaxis\": {\"backgroundcolor\": \"#E5ECF6\", \"gridcolor\": \"white\", \"gridwidth\": 2, \"linecolor\": \"white\", \"showbackground\": true, \"ticks\": \"\", \"zerolinecolor\": \"white\"}, \"yaxis\": {\"backgroundcolor\": \"#E5ECF6\", \"gridcolor\": \"white\", \"gridwidth\": 2, \"linecolor\": \"white\", \"showbackground\": true, \"ticks\": \"\", \"zerolinecolor\": \"white\"}, \"zaxis\": {\"backgroundcolor\": \"#E5ECF6\", \"gridcolor\": \"white\", \"gridwidth\": 2, \"linecolor\": \"white\", \"showbackground\": true, \"ticks\": \"\", \"zerolinecolor\": \"white\"}}, \"shapedefaults\": {\"line\": {\"color\": \"#2a3f5f\"}}, \"ternary\": {\"aaxis\": {\"gridcolor\": \"white\", \"linecolor\": \"white\", \"ticks\": \"\"}, \"baxis\": {\"gridcolor\": \"white\", \"linecolor\": \"white\", \"ticks\": \"\"}, \"bgcolor\": \"#E5ECF6\", \"caxis\": {\"gridcolor\": \"white\", \"linecolor\": \"white\", \"ticks\": \"\"}}, \"title\": {\"x\": 0.05}, \"xaxis\": {\"automargin\": true, \"gridcolor\": \"white\", \"linecolor\": \"white\", \"ticks\": \"\", \"title\": {\"standoff\": 15}, \"zerolinecolor\": \"white\", \"zerolinewidth\": 2}, \"yaxis\": {\"automargin\": true, \"gridcolor\": \"white\", \"linecolor\": \"white\", \"ticks\": \"\", \"title\": {\"standoff\": 15}, \"zerolinecolor\": \"white\", \"zerolinewidth\": 2}}}, \"title\": {\"text\": \"Distribution of CNV in query sequence, per sample source\"}, \"xaxis\": {\"anchor\": \"y\", \"categoryarray\": [\"Long\", \"Chakraborty\", \"Rech\"], \"categoryorder\": \"array\", \"domain\": [0.0, 1.0], \"title\": {\"text\": \"SRC\"}}, \"yaxis\": {\"anchor\": \"x\", \"domain\": [0.0, 1.0], \"title\": {\"text\": \"CNV-Q\"}}},                        {\"responsive\": true}                    ).then(function(){\n",
       "                            \n",
       "var gd = document.getElementById('6c18e87d-c2ec-4ba9-a936-29ef00079964');\n",
       "var x = new MutationObserver(function (mutations, observer) {{\n",
       "        var display = window.getComputedStyle(gd).display;\n",
       "        if (!display || display === 'none') {{\n",
       "            console.log([gd, 'removed!']);\n",
       "            Plotly.purge(gd);\n",
       "            observer.disconnect();\n",
       "        }}\n",
       "}});\n",
       "\n",
       "// Listen for the removal of the full notebook cells\n",
       "var notebookContainer = gd.closest('#notebook-container');\n",
       "if (notebookContainer) {{\n",
       "    x.observe(notebookContainer, {childList: true});\n",
       "}}\n",
       "\n",
       "// Listen for the clearing of the current output cell\n",
       "var outputEl = gd.closest('.output');\n",
       "if (outputEl) {{\n",
       "    x.observe(outputEl, {childList: true});\n",
       "}}\n",
       "\n",
       "                        })                };                });            </script>        </div>"
      ]
     },
     "metadata": {},
     "output_type": "display_data"
    }
   ],
   "source": [
    "fig = px.scatter(df, x=\"SRC\", y=\"CNV-Q\", color=\"SRC\", title=\"Distribution of CNV in query sequence, per sample source\")\n",
    "\n",
    "fig.update_layout(\n",
    "    paper_bgcolor='rgba(0,0,0,0)',\n",
    "    plot_bgcolor='rgba(0,0,0,0)'\n",
    ")\n",
    "\n",
    "fig.show()"
   ]
  },
  {
   "cell_type": "code",
   "execution_count": 236,
   "metadata": {},
   "outputs": [
    {
     "data": {
      "application/vnd.plotly.v1+json": {
       "config": {
        "plotlyServerURL": "https://plot.ly"
       },
       "data": [
        {
         "name": "CNV-R",
         "type": "scatter",
         "x": [
          "B59",
          "I23",
          "N25",
          "T29A",
          "ZH26",
          "A1",
          "A2",
          "A3",
          "A4",
          "A5",
          "A6",
          "A7",
          "AB8",
          "B1",
          "B2",
          "B3",
          "B4",
          "B6",
          "OreR",
          "AKA-017",
          "AKA-018",
          "COR-014",
          "COR-018",
          "COR-023",
          "COR-025",
          "GIM-012",
          "GIM-024",
          "JUT-008",
          "JUT-011",
          "KIE-094",
          "LUN-004",
          "LUN-007",
          "MUN-008",
          "MUN-009",
          "MUN-013",
          "MUN-015",
          "MUN-016",
          "MUN-020",
          "RAL-059",
          "RAL-091",
          "RAL-176",
          "RAL-177",
          "RAL-375",
          "RAL-426",
          "RAL-737",
          "RAL-855",
          "SLA-001",
          "STO-022",
          "TEN-015",
          "TOM-007",
          "TOM-008"
         ],
         "y": [
          725,
          713,
          716,
          697,
          755,
          640,
          731,
          694,
          669,
          704,
          744,
          736,
          602,
          733,
          717,
          693,
          686,
          699,
          758,
          701,
          717,
          691,
          382,
          717,
          714,
          712,
          561,
          682,
          702,
          726,
          699,
          715,
          405,
          696,
          744,
          724,
          674,
          754,
          689,
          700,
          744,
          579,
          678,
          763,
          714,
          740,
          691,
          705,
          742,
          738,
          745
         ]
        },
        {
         "name": "CNV-Q",
         "type": "scatter",
         "x": [
          "B59",
          "I23",
          "N25",
          "T29A",
          "ZH26",
          "A1",
          "A2",
          "A3",
          "A4",
          "A5",
          "A6",
          "A7",
          "AB8",
          "B1",
          "B2",
          "B3",
          "B4",
          "B6",
          "OreR",
          "AKA-017",
          "AKA-018",
          "COR-014",
          "COR-018",
          "COR-023",
          "COR-025",
          "GIM-012",
          "GIM-024",
          "JUT-008",
          "JUT-011",
          "KIE-094",
          "LUN-004",
          "LUN-007",
          "MUN-008",
          "MUN-009",
          "MUN-013",
          "MUN-015",
          "MUN-016",
          "MUN-020",
          "RAL-059",
          "RAL-091",
          "RAL-176",
          "RAL-177",
          "RAL-375",
          "RAL-426",
          "RAL-737",
          "RAL-855",
          "SLA-001",
          "STO-022",
          "TEN-015",
          "TOM-007",
          "TOM-008"
         ],
         "y": [
          766,
          657,
          699,
          695,
          846,
          659,
          795,
          610,
          624,
          588,
          729,
          764,
          570,
          659,
          770,
          647,
          694,
          634,
          767,
          659,
          714,
          817,
          594,
          923,
          976,
          937,
          573,
          745,
          806,
          852,
          822,
          969,
          580,
          936,
          906,
          931,
          683,
          927,
          803,
          936,
          1035,
          605,
          688,
          997,
          885,
          874,
          865,
          824,
          879,
          787,
          877
         ]
        },
        {
         "name": "DEL",
         "type": "scatter",
         "x": [
          "B59",
          "I23",
          "N25",
          "T29A",
          "ZH26",
          "A1",
          "A2",
          "A3",
          "A4",
          "A5",
          "A6",
          "A7",
          "AB8",
          "B1",
          "B2",
          "B3",
          "B4",
          "B6",
          "OreR",
          "AKA-017",
          "AKA-018",
          "COR-014",
          "COR-018",
          "COR-023",
          "COR-025",
          "GIM-012",
          "GIM-024",
          "JUT-008",
          "JUT-011",
          "KIE-094",
          "LUN-004",
          "LUN-007",
          "MUN-008",
          "MUN-009",
          "MUN-013",
          "MUN-015",
          "MUN-016",
          "MUN-020",
          "RAL-059",
          "RAL-091",
          "RAL-176",
          "RAL-177",
          "RAL-375",
          "RAL-426",
          "RAL-737",
          "RAL-855",
          "SLA-001",
          "STO-022",
          "TEN-015",
          "TOM-007",
          "TOM-008"
         ],
         "y": [
          1949,
          1749,
          1821,
          1747,
          2169,
          1824,
          2127,
          1908,
          1833,
          2007,
          1923,
          2347,
          1675,
          2165,
          1927,
          1965,
          1985,
          1891,
          2016,
          1944,
          2044,
          2005,
          1147,
          1975,
          1885,
          1911,
          1633,
          1999,
          1999,
          2184,
          2053,
          2009,
          1165,
          1955,
          1983,
          2067,
          1907,
          1968,
          1955,
          2054,
          2208,
          1661,
          1945,
          2169,
          2171,
          2075,
          1888,
          2033,
          1972,
          2054,
          1921
         ]
        },
        {
         "name": "INS",
         "type": "scatter",
         "x": [
          "B59",
          "I23",
          "N25",
          "T29A",
          "ZH26",
          "A1",
          "A2",
          "A3",
          "A4",
          "A5",
          "A6",
          "A7",
          "AB8",
          "B1",
          "B2",
          "B3",
          "B4",
          "B6",
          "OreR",
          "AKA-017",
          "AKA-018",
          "COR-014",
          "COR-018",
          "COR-023",
          "COR-025",
          "GIM-012",
          "GIM-024",
          "JUT-008",
          "JUT-011",
          "KIE-094",
          "LUN-004",
          "LUN-007",
          "MUN-008",
          "MUN-009",
          "MUN-013",
          "MUN-015",
          "MUN-016",
          "MUN-020",
          "RAL-059",
          "RAL-091",
          "RAL-176",
          "RAL-177",
          "RAL-375",
          "RAL-426",
          "RAL-737",
          "RAL-855",
          "SLA-001",
          "STO-022",
          "TEN-015",
          "TOM-007",
          "TOM-008"
         ],
         "y": [
          1830,
          1629,
          1692,
          1606,
          1696,
          1903,
          2044,
          1757,
          1780,
          1816,
          2031,
          2066,
          1603,
          1940,
          2054,
          1884,
          1936,
          1787,
          1857,
          1863,
          1857,
          1887,
          1239,
          1966,
          1971,
          2023,
          1547,
          1922,
          1952,
          2104,
          1961,
          2073,
          1264,
          1976,
          1939,
          1979,
          1803,
          1977,
          2044,
          2123,
          2320,
          1661,
          1822,
          2211,
          2199,
          2070,
          1761,
          1889,
          1816,
          1954,
          1937
         ]
        },
        {
         "name": "INV",
         "type": "scatter",
         "x": [
          "B59",
          "I23",
          "N25",
          "T29A",
          "ZH26",
          "A1",
          "A2",
          "A3",
          "A4",
          "A5",
          "A6",
          "A7",
          "AB8",
          "B1",
          "B2",
          "B3",
          "B4",
          "B6",
          "OreR",
          "AKA-017",
          "AKA-018",
          "COR-014",
          "COR-018",
          "COR-023",
          "COR-025",
          "GIM-012",
          "GIM-024",
          "JUT-008",
          "JUT-011",
          "KIE-094",
          "LUN-004",
          "LUN-007",
          "MUN-008",
          "MUN-009",
          "MUN-013",
          "MUN-015",
          "MUN-016",
          "MUN-020",
          "RAL-059",
          "RAL-091",
          "RAL-176",
          "RAL-177",
          "RAL-375",
          "RAL-426",
          "RAL-737",
          "RAL-855",
          "SLA-001",
          "STO-022",
          "TEN-015",
          "TOM-007",
          "TOM-008"
         ],
         "y": [
          136,
          133,
          134,
          129,
          153,
          152,
          203,
          178,
          155,
          135,
          168,
          173,
          133,
          215,
          186,
          169,
          149,
          155,
          206,
          151,
          173,
          161,
          84,
          192,
          180,
          195,
          120,
          161,
          194,
          208,
          193,
          169,
          78,
          164,
          190,
          176,
          152,
          197,
          156,
          170,
          231,
          137,
          142,
          232,
          208,
          196,
          150,
          173,
          145,
          163,
          164
         ]
        }
       ],
       "layout": {
        "paper_bgcolor": "rgba(0,0,0,0)",
        "plot_bgcolor": "rgba(0,0,0,0)",
        "template": {
         "data": {
          "bar": [
           {
            "error_x": {
             "color": "#2a3f5f"
            },
            "error_y": {
             "color": "#2a3f5f"
            },
            "marker": {
             "line": {
              "color": "#E5ECF6",
              "width": 0.5
             }
            },
            "type": "bar"
           }
          ],
          "barpolar": [
           {
            "marker": {
             "line": {
              "color": "#E5ECF6",
              "width": 0.5
             }
            },
            "type": "barpolar"
           }
          ],
          "carpet": [
           {
            "aaxis": {
             "endlinecolor": "#2a3f5f",
             "gridcolor": "white",
             "linecolor": "white",
             "minorgridcolor": "white",
             "startlinecolor": "#2a3f5f"
            },
            "baxis": {
             "endlinecolor": "#2a3f5f",
             "gridcolor": "white",
             "linecolor": "white",
             "minorgridcolor": "white",
             "startlinecolor": "#2a3f5f"
            },
            "type": "carpet"
           }
          ],
          "choropleth": [
           {
            "colorbar": {
             "outlinewidth": 0,
             "ticks": ""
            },
            "type": "choropleth"
           }
          ],
          "contour": [
           {
            "colorbar": {
             "outlinewidth": 0,
             "ticks": ""
            },
            "colorscale": [
             [
              0,
              "#0d0887"
             ],
             [
              0.1111111111111111,
              "#46039f"
             ],
             [
              0.2222222222222222,
              "#7201a8"
             ],
             [
              0.3333333333333333,
              "#9c179e"
             ],
             [
              0.4444444444444444,
              "#bd3786"
             ],
             [
              0.5555555555555556,
              "#d8576b"
             ],
             [
              0.6666666666666666,
              "#ed7953"
             ],
             [
              0.7777777777777778,
              "#fb9f3a"
             ],
             [
              0.8888888888888888,
              "#fdca26"
             ],
             [
              1,
              "#f0f921"
             ]
            ],
            "type": "contour"
           }
          ],
          "contourcarpet": [
           {
            "colorbar": {
             "outlinewidth": 0,
             "ticks": ""
            },
            "type": "contourcarpet"
           }
          ],
          "heatmap": [
           {
            "colorbar": {
             "outlinewidth": 0,
             "ticks": ""
            },
            "colorscale": [
             [
              0,
              "#0d0887"
             ],
             [
              0.1111111111111111,
              "#46039f"
             ],
             [
              0.2222222222222222,
              "#7201a8"
             ],
             [
              0.3333333333333333,
              "#9c179e"
             ],
             [
              0.4444444444444444,
              "#bd3786"
             ],
             [
              0.5555555555555556,
              "#d8576b"
             ],
             [
              0.6666666666666666,
              "#ed7953"
             ],
             [
              0.7777777777777778,
              "#fb9f3a"
             ],
             [
              0.8888888888888888,
              "#fdca26"
             ],
             [
              1,
              "#f0f921"
             ]
            ],
            "type": "heatmap"
           }
          ],
          "heatmapgl": [
           {
            "colorbar": {
             "outlinewidth": 0,
             "ticks": ""
            },
            "colorscale": [
             [
              0,
              "#0d0887"
             ],
             [
              0.1111111111111111,
              "#46039f"
             ],
             [
              0.2222222222222222,
              "#7201a8"
             ],
             [
              0.3333333333333333,
              "#9c179e"
             ],
             [
              0.4444444444444444,
              "#bd3786"
             ],
             [
              0.5555555555555556,
              "#d8576b"
             ],
             [
              0.6666666666666666,
              "#ed7953"
             ],
             [
              0.7777777777777778,
              "#fb9f3a"
             ],
             [
              0.8888888888888888,
              "#fdca26"
             ],
             [
              1,
              "#f0f921"
             ]
            ],
            "type": "heatmapgl"
           }
          ],
          "histogram": [
           {
            "marker": {
             "colorbar": {
              "outlinewidth": 0,
              "ticks": ""
             }
            },
            "type": "histogram"
           }
          ],
          "histogram2d": [
           {
            "colorbar": {
             "outlinewidth": 0,
             "ticks": ""
            },
            "colorscale": [
             [
              0,
              "#0d0887"
             ],
             [
              0.1111111111111111,
              "#46039f"
             ],
             [
              0.2222222222222222,
              "#7201a8"
             ],
             [
              0.3333333333333333,
              "#9c179e"
             ],
             [
              0.4444444444444444,
              "#bd3786"
             ],
             [
              0.5555555555555556,
              "#d8576b"
             ],
             [
              0.6666666666666666,
              "#ed7953"
             ],
             [
              0.7777777777777778,
              "#fb9f3a"
             ],
             [
              0.8888888888888888,
              "#fdca26"
             ],
             [
              1,
              "#f0f921"
             ]
            ],
            "type": "histogram2d"
           }
          ],
          "histogram2dcontour": [
           {
            "colorbar": {
             "outlinewidth": 0,
             "ticks": ""
            },
            "colorscale": [
             [
              0,
              "#0d0887"
             ],
             [
              0.1111111111111111,
              "#46039f"
             ],
             [
              0.2222222222222222,
              "#7201a8"
             ],
             [
              0.3333333333333333,
              "#9c179e"
             ],
             [
              0.4444444444444444,
              "#bd3786"
             ],
             [
              0.5555555555555556,
              "#d8576b"
             ],
             [
              0.6666666666666666,
              "#ed7953"
             ],
             [
              0.7777777777777778,
              "#fb9f3a"
             ],
             [
              0.8888888888888888,
              "#fdca26"
             ],
             [
              1,
              "#f0f921"
             ]
            ],
            "type": "histogram2dcontour"
           }
          ],
          "mesh3d": [
           {
            "colorbar": {
             "outlinewidth": 0,
             "ticks": ""
            },
            "type": "mesh3d"
           }
          ],
          "parcoords": [
           {
            "line": {
             "colorbar": {
              "outlinewidth": 0,
              "ticks": ""
             }
            },
            "type": "parcoords"
           }
          ],
          "pie": [
           {
            "automargin": true,
            "type": "pie"
           }
          ],
          "scatter": [
           {
            "marker": {
             "colorbar": {
              "outlinewidth": 0,
              "ticks": ""
             }
            },
            "type": "scatter"
           }
          ],
          "scatter3d": [
           {
            "line": {
             "colorbar": {
              "outlinewidth": 0,
              "ticks": ""
             }
            },
            "marker": {
             "colorbar": {
              "outlinewidth": 0,
              "ticks": ""
             }
            },
            "type": "scatter3d"
           }
          ],
          "scattercarpet": [
           {
            "marker": {
             "colorbar": {
              "outlinewidth": 0,
              "ticks": ""
             }
            },
            "type": "scattercarpet"
           }
          ],
          "scattergeo": [
           {
            "marker": {
             "colorbar": {
              "outlinewidth": 0,
              "ticks": ""
             }
            },
            "type": "scattergeo"
           }
          ],
          "scattergl": [
           {
            "marker": {
             "colorbar": {
              "outlinewidth": 0,
              "ticks": ""
             }
            },
            "type": "scattergl"
           }
          ],
          "scattermapbox": [
           {
            "marker": {
             "colorbar": {
              "outlinewidth": 0,
              "ticks": ""
             }
            },
            "type": "scattermapbox"
           }
          ],
          "scatterpolar": [
           {
            "marker": {
             "colorbar": {
              "outlinewidth": 0,
              "ticks": ""
             }
            },
            "type": "scatterpolar"
           }
          ],
          "scatterpolargl": [
           {
            "marker": {
             "colorbar": {
              "outlinewidth": 0,
              "ticks": ""
             }
            },
            "type": "scatterpolargl"
           }
          ],
          "scatterternary": [
           {
            "marker": {
             "colorbar": {
              "outlinewidth": 0,
              "ticks": ""
             }
            },
            "type": "scatterternary"
           }
          ],
          "surface": [
           {
            "colorbar": {
             "outlinewidth": 0,
             "ticks": ""
            },
            "colorscale": [
             [
              0,
              "#0d0887"
             ],
             [
              0.1111111111111111,
              "#46039f"
             ],
             [
              0.2222222222222222,
              "#7201a8"
             ],
             [
              0.3333333333333333,
              "#9c179e"
             ],
             [
              0.4444444444444444,
              "#bd3786"
             ],
             [
              0.5555555555555556,
              "#d8576b"
             ],
             [
              0.6666666666666666,
              "#ed7953"
             ],
             [
              0.7777777777777778,
              "#fb9f3a"
             ],
             [
              0.8888888888888888,
              "#fdca26"
             ],
             [
              1,
              "#f0f921"
             ]
            ],
            "type": "surface"
           }
          ],
          "table": [
           {
            "cells": {
             "fill": {
              "color": "#EBF0F8"
             },
             "line": {
              "color": "white"
             }
            },
            "header": {
             "fill": {
              "color": "#C8D4E3"
             },
             "line": {
              "color": "white"
             }
            },
            "type": "table"
           }
          ]
         },
         "layout": {
          "annotationdefaults": {
           "arrowcolor": "#2a3f5f",
           "arrowhead": 0,
           "arrowwidth": 1
          },
          "autotypenumbers": "strict",
          "coloraxis": {
           "colorbar": {
            "outlinewidth": 0,
            "ticks": ""
           }
          },
          "colorscale": {
           "diverging": [
            [
             0,
             "#8e0152"
            ],
            [
             0.1,
             "#c51b7d"
            ],
            [
             0.2,
             "#de77ae"
            ],
            [
             0.3,
             "#f1b6da"
            ],
            [
             0.4,
             "#fde0ef"
            ],
            [
             0.5,
             "#f7f7f7"
            ],
            [
             0.6,
             "#e6f5d0"
            ],
            [
             0.7,
             "#b8e186"
            ],
            [
             0.8,
             "#7fbc41"
            ],
            [
             0.9,
             "#4d9221"
            ],
            [
             1,
             "#276419"
            ]
           ],
           "sequential": [
            [
             0,
             "#0d0887"
            ],
            [
             0.1111111111111111,
             "#46039f"
            ],
            [
             0.2222222222222222,
             "#7201a8"
            ],
            [
             0.3333333333333333,
             "#9c179e"
            ],
            [
             0.4444444444444444,
             "#bd3786"
            ],
            [
             0.5555555555555556,
             "#d8576b"
            ],
            [
             0.6666666666666666,
             "#ed7953"
            ],
            [
             0.7777777777777778,
             "#fb9f3a"
            ],
            [
             0.8888888888888888,
             "#fdca26"
            ],
            [
             1,
             "#f0f921"
            ]
           ],
           "sequentialminus": [
            [
             0,
             "#0d0887"
            ],
            [
             0.1111111111111111,
             "#46039f"
            ],
            [
             0.2222222222222222,
             "#7201a8"
            ],
            [
             0.3333333333333333,
             "#9c179e"
            ],
            [
             0.4444444444444444,
             "#bd3786"
            ],
            [
             0.5555555555555556,
             "#d8576b"
            ],
            [
             0.6666666666666666,
             "#ed7953"
            ],
            [
             0.7777777777777778,
             "#fb9f3a"
            ],
            [
             0.8888888888888888,
             "#fdca26"
            ],
            [
             1,
             "#f0f921"
            ]
           ]
          },
          "colorway": [
           "#636efa",
           "#EF553B",
           "#00cc96",
           "#ab63fa",
           "#FFA15A",
           "#19d3f3",
           "#FF6692",
           "#B6E880",
           "#FF97FF",
           "#FECB52"
          ],
          "font": {
           "color": "#2a3f5f"
          },
          "geo": {
           "bgcolor": "white",
           "lakecolor": "white",
           "landcolor": "#E5ECF6",
           "showlakes": true,
           "showland": true,
           "subunitcolor": "white"
          },
          "hoverlabel": {
           "align": "left"
          },
          "hovermode": "closest",
          "mapbox": {
           "style": "light"
          },
          "paper_bgcolor": "white",
          "plot_bgcolor": "#E5ECF6",
          "polar": {
           "angularaxis": {
            "gridcolor": "white",
            "linecolor": "white",
            "ticks": ""
           },
           "bgcolor": "#E5ECF6",
           "radialaxis": {
            "gridcolor": "white",
            "linecolor": "white",
            "ticks": ""
           }
          },
          "scene": {
           "xaxis": {
            "backgroundcolor": "#E5ECF6",
            "gridcolor": "white",
            "gridwidth": 2,
            "linecolor": "white",
            "showbackground": true,
            "ticks": "",
            "zerolinecolor": "white"
           },
           "yaxis": {
            "backgroundcolor": "#E5ECF6",
            "gridcolor": "white",
            "gridwidth": 2,
            "linecolor": "white",
            "showbackground": true,
            "ticks": "",
            "zerolinecolor": "white"
           },
           "zaxis": {
            "backgroundcolor": "#E5ECF6",
            "gridcolor": "white",
            "gridwidth": 2,
            "linecolor": "white",
            "showbackground": true,
            "ticks": "",
            "zerolinecolor": "white"
           }
          },
          "shapedefaults": {
           "line": {
            "color": "#2a3f5f"
           }
          },
          "ternary": {
           "aaxis": {
            "gridcolor": "white",
            "linecolor": "white",
            "ticks": ""
           },
           "baxis": {
            "gridcolor": "white",
            "linecolor": "white",
            "ticks": ""
           },
           "bgcolor": "#E5ECF6",
           "caxis": {
            "gridcolor": "white",
            "linecolor": "white",
            "ticks": ""
           }
          },
          "title": {
           "x": 0.05
          },
          "xaxis": {
           "automargin": true,
           "gridcolor": "white",
           "linecolor": "white",
           "ticks": "",
           "title": {
            "standoff": 15
           },
           "zerolinecolor": "white",
           "zerolinewidth": 2
          },
          "yaxis": {
           "automargin": true,
           "gridcolor": "white",
           "linecolor": "white",
           "ticks": "",
           "title": {
            "standoff": 15
           },
           "zerolinecolor": "white",
           "zerolinewidth": 2
          }
         }
        },
        "title": {
         "text": "Quantity of structural variance types per sample"
        }
       }
      },
      "text/html": [
       "<div>                            <div id=\"2a562c3b-dd51-4451-85ba-f5e0ee4fabc9\" class=\"plotly-graph-div\" style=\"height:525px; width:100%;\"></div>            <script type=\"text/javascript\">                require([\"plotly\"], function(Plotly) {                    window.PLOTLYENV=window.PLOTLYENV || {};                                    if (document.getElementById(\"2a562c3b-dd51-4451-85ba-f5e0ee4fabc9\")) {                    Plotly.newPlot(                        \"2a562c3b-dd51-4451-85ba-f5e0ee4fabc9\",                        [{\"name\": \"CNV-R\", \"type\": \"scatter\", \"x\": [\"B59\", \"I23\", \"N25\", \"T29A\", \"ZH26\", \"A1\", \"A2\", \"A3\", \"A4\", \"A5\", \"A6\", \"A7\", \"AB8\", \"B1\", \"B2\", \"B3\", \"B4\", \"B6\", \"OreR\", \"AKA-017\", \"AKA-018\", \"COR-014\", \"COR-018\", \"COR-023\", \"COR-025\", \"GIM-012\", \"GIM-024\", \"JUT-008\", \"JUT-011\", \"KIE-094\", \"LUN-004\", \"LUN-007\", \"MUN-008\", \"MUN-009\", \"MUN-013\", \"MUN-015\", \"MUN-016\", \"MUN-020\", \"RAL-059\", \"RAL-091\", \"RAL-176\", \"RAL-177\", \"RAL-375\", \"RAL-426\", \"RAL-737\", \"RAL-855\", \"SLA-001\", \"STO-022\", \"TEN-015\", \"TOM-007\", \"TOM-008\"], \"y\": [725, 713, 716, 697, 755, 640, 731, 694, 669, 704, 744, 736, 602, 733, 717, 693, 686, 699, 758, 701, 717, 691, 382, 717, 714, 712, 561, 682, 702, 726, 699, 715, 405, 696, 744, 724, 674, 754, 689, 700, 744, 579, 678, 763, 714, 740, 691, 705, 742, 738, 745]}, {\"name\": \"CNV-Q\", \"type\": \"scatter\", \"x\": [\"B59\", \"I23\", \"N25\", \"T29A\", \"ZH26\", \"A1\", \"A2\", \"A3\", \"A4\", \"A5\", \"A6\", \"A7\", \"AB8\", \"B1\", \"B2\", \"B3\", \"B4\", \"B6\", \"OreR\", \"AKA-017\", \"AKA-018\", \"COR-014\", \"COR-018\", \"COR-023\", \"COR-025\", \"GIM-012\", \"GIM-024\", \"JUT-008\", \"JUT-011\", \"KIE-094\", \"LUN-004\", \"LUN-007\", \"MUN-008\", \"MUN-009\", \"MUN-013\", \"MUN-015\", \"MUN-016\", \"MUN-020\", \"RAL-059\", \"RAL-091\", \"RAL-176\", \"RAL-177\", \"RAL-375\", \"RAL-426\", \"RAL-737\", \"RAL-855\", \"SLA-001\", \"STO-022\", \"TEN-015\", \"TOM-007\", \"TOM-008\"], \"y\": [766, 657, 699, 695, 846, 659, 795, 610, 624, 588, 729, 764, 570, 659, 770, 647, 694, 634, 767, 659, 714, 817, 594, 923, 976, 937, 573, 745, 806, 852, 822, 969, 580, 936, 906, 931, 683, 927, 803, 936, 1035, 605, 688, 997, 885, 874, 865, 824, 879, 787, 877]}, {\"name\": \"DEL\", \"type\": \"scatter\", \"x\": [\"B59\", \"I23\", \"N25\", \"T29A\", \"ZH26\", \"A1\", \"A2\", \"A3\", \"A4\", \"A5\", \"A6\", \"A7\", \"AB8\", \"B1\", \"B2\", \"B3\", \"B4\", \"B6\", \"OreR\", \"AKA-017\", \"AKA-018\", \"COR-014\", \"COR-018\", \"COR-023\", \"COR-025\", \"GIM-012\", \"GIM-024\", \"JUT-008\", \"JUT-011\", \"KIE-094\", \"LUN-004\", \"LUN-007\", \"MUN-008\", \"MUN-009\", \"MUN-013\", \"MUN-015\", \"MUN-016\", \"MUN-020\", \"RAL-059\", \"RAL-091\", \"RAL-176\", \"RAL-177\", \"RAL-375\", \"RAL-426\", \"RAL-737\", \"RAL-855\", \"SLA-001\", \"STO-022\", \"TEN-015\", \"TOM-007\", \"TOM-008\"], \"y\": [1949, 1749, 1821, 1747, 2169, 1824, 2127, 1908, 1833, 2007, 1923, 2347, 1675, 2165, 1927, 1965, 1985, 1891, 2016, 1944, 2044, 2005, 1147, 1975, 1885, 1911, 1633, 1999, 1999, 2184, 2053, 2009, 1165, 1955, 1983, 2067, 1907, 1968, 1955, 2054, 2208, 1661, 1945, 2169, 2171, 2075, 1888, 2033, 1972, 2054, 1921]}, {\"name\": \"INS\", \"type\": \"scatter\", \"x\": [\"B59\", \"I23\", \"N25\", \"T29A\", \"ZH26\", \"A1\", \"A2\", \"A3\", \"A4\", \"A5\", \"A6\", \"A7\", \"AB8\", \"B1\", \"B2\", \"B3\", \"B4\", \"B6\", \"OreR\", \"AKA-017\", \"AKA-018\", \"COR-014\", \"COR-018\", \"COR-023\", \"COR-025\", \"GIM-012\", \"GIM-024\", \"JUT-008\", \"JUT-011\", \"KIE-094\", \"LUN-004\", \"LUN-007\", \"MUN-008\", \"MUN-009\", \"MUN-013\", \"MUN-015\", \"MUN-016\", \"MUN-020\", \"RAL-059\", \"RAL-091\", \"RAL-176\", \"RAL-177\", \"RAL-375\", \"RAL-426\", \"RAL-737\", \"RAL-855\", \"SLA-001\", \"STO-022\", \"TEN-015\", \"TOM-007\", \"TOM-008\"], \"y\": [1830, 1629, 1692, 1606, 1696, 1903, 2044, 1757, 1780, 1816, 2031, 2066, 1603, 1940, 2054, 1884, 1936, 1787, 1857, 1863, 1857, 1887, 1239, 1966, 1971, 2023, 1547, 1922, 1952, 2104, 1961, 2073, 1264, 1976, 1939, 1979, 1803, 1977, 2044, 2123, 2320, 1661, 1822, 2211, 2199, 2070, 1761, 1889, 1816, 1954, 1937]}, {\"name\": \"INV\", \"type\": \"scatter\", \"x\": [\"B59\", \"I23\", \"N25\", \"T29A\", \"ZH26\", \"A1\", \"A2\", \"A3\", \"A4\", \"A5\", \"A6\", \"A7\", \"AB8\", \"B1\", \"B2\", \"B3\", \"B4\", \"B6\", \"OreR\", \"AKA-017\", \"AKA-018\", \"COR-014\", \"COR-018\", \"COR-023\", \"COR-025\", \"GIM-012\", \"GIM-024\", \"JUT-008\", \"JUT-011\", \"KIE-094\", \"LUN-004\", \"LUN-007\", \"MUN-008\", \"MUN-009\", \"MUN-013\", \"MUN-015\", \"MUN-016\", \"MUN-020\", \"RAL-059\", \"RAL-091\", \"RAL-176\", \"RAL-177\", \"RAL-375\", \"RAL-426\", \"RAL-737\", \"RAL-855\", \"SLA-001\", \"STO-022\", \"TEN-015\", \"TOM-007\", \"TOM-008\"], \"y\": [136, 133, 134, 129, 153, 152, 203, 178, 155, 135, 168, 173, 133, 215, 186, 169, 149, 155, 206, 151, 173, 161, 84, 192, 180, 195, 120, 161, 194, 208, 193, 169, 78, 164, 190, 176, 152, 197, 156, 170, 231, 137, 142, 232, 208, 196, 150, 173, 145, 163, 164]}],                        {\"paper_bgcolor\": \"rgba(0,0,0,0)\", \"plot_bgcolor\": \"rgba(0,0,0,0)\", \"template\": {\"data\": {\"bar\": [{\"error_x\": {\"color\": \"#2a3f5f\"}, \"error_y\": {\"color\": \"#2a3f5f\"}, \"marker\": {\"line\": {\"color\": \"#E5ECF6\", \"width\": 0.5}}, \"type\": \"bar\"}], \"barpolar\": [{\"marker\": {\"line\": {\"color\": \"#E5ECF6\", \"width\": 0.5}}, \"type\": \"barpolar\"}], \"carpet\": [{\"aaxis\": {\"endlinecolor\": \"#2a3f5f\", \"gridcolor\": \"white\", \"linecolor\": \"white\", \"minorgridcolor\": \"white\", \"startlinecolor\": \"#2a3f5f\"}, \"baxis\": {\"endlinecolor\": \"#2a3f5f\", \"gridcolor\": \"white\", \"linecolor\": \"white\", \"minorgridcolor\": \"white\", \"startlinecolor\": \"#2a3f5f\"}, \"type\": \"carpet\"}], \"choropleth\": [{\"colorbar\": {\"outlinewidth\": 0, \"ticks\": \"\"}, \"type\": \"choropleth\"}], \"contour\": [{\"colorbar\": {\"outlinewidth\": 0, \"ticks\": \"\"}, \"colorscale\": [[0.0, \"#0d0887\"], [0.1111111111111111, \"#46039f\"], [0.2222222222222222, \"#7201a8\"], [0.3333333333333333, \"#9c179e\"], [0.4444444444444444, \"#bd3786\"], [0.5555555555555556, \"#d8576b\"], [0.6666666666666666, \"#ed7953\"], [0.7777777777777778, \"#fb9f3a\"], [0.8888888888888888, \"#fdca26\"], [1.0, \"#f0f921\"]], \"type\": \"contour\"}], \"contourcarpet\": [{\"colorbar\": {\"outlinewidth\": 0, \"ticks\": \"\"}, \"type\": \"contourcarpet\"}], \"heatmap\": [{\"colorbar\": {\"outlinewidth\": 0, \"ticks\": \"\"}, \"colorscale\": [[0.0, \"#0d0887\"], [0.1111111111111111, \"#46039f\"], [0.2222222222222222, \"#7201a8\"], [0.3333333333333333, \"#9c179e\"], [0.4444444444444444, \"#bd3786\"], [0.5555555555555556, \"#d8576b\"], [0.6666666666666666, \"#ed7953\"], [0.7777777777777778, \"#fb9f3a\"], [0.8888888888888888, \"#fdca26\"], [1.0, \"#f0f921\"]], \"type\": \"heatmap\"}], \"heatmapgl\": [{\"colorbar\": {\"outlinewidth\": 0, \"ticks\": \"\"}, \"colorscale\": [[0.0, \"#0d0887\"], [0.1111111111111111, \"#46039f\"], [0.2222222222222222, \"#7201a8\"], [0.3333333333333333, \"#9c179e\"], [0.4444444444444444, \"#bd3786\"], [0.5555555555555556, \"#d8576b\"], [0.6666666666666666, \"#ed7953\"], [0.7777777777777778, \"#fb9f3a\"], [0.8888888888888888, \"#fdca26\"], [1.0, \"#f0f921\"]], \"type\": \"heatmapgl\"}], \"histogram\": [{\"marker\": {\"colorbar\": {\"outlinewidth\": 0, \"ticks\": \"\"}}, \"type\": \"histogram\"}], \"histogram2d\": [{\"colorbar\": {\"outlinewidth\": 0, \"ticks\": \"\"}, \"colorscale\": [[0.0, \"#0d0887\"], [0.1111111111111111, \"#46039f\"], [0.2222222222222222, \"#7201a8\"], [0.3333333333333333, \"#9c179e\"], [0.4444444444444444, \"#bd3786\"], [0.5555555555555556, \"#d8576b\"], [0.6666666666666666, \"#ed7953\"], [0.7777777777777778, \"#fb9f3a\"], [0.8888888888888888, \"#fdca26\"], [1.0, \"#f0f921\"]], \"type\": \"histogram2d\"}], \"histogram2dcontour\": [{\"colorbar\": {\"outlinewidth\": 0, \"ticks\": \"\"}, \"colorscale\": [[0.0, \"#0d0887\"], [0.1111111111111111, \"#46039f\"], [0.2222222222222222, \"#7201a8\"], [0.3333333333333333, \"#9c179e\"], [0.4444444444444444, \"#bd3786\"], [0.5555555555555556, \"#d8576b\"], [0.6666666666666666, \"#ed7953\"], [0.7777777777777778, \"#fb9f3a\"], [0.8888888888888888, \"#fdca26\"], [1.0, \"#f0f921\"]], \"type\": \"histogram2dcontour\"}], \"mesh3d\": [{\"colorbar\": {\"outlinewidth\": 0, \"ticks\": \"\"}, \"type\": \"mesh3d\"}], \"parcoords\": [{\"line\": {\"colorbar\": {\"outlinewidth\": 0, \"ticks\": \"\"}}, \"type\": \"parcoords\"}], \"pie\": [{\"automargin\": true, \"type\": \"pie\"}], \"scatter\": [{\"marker\": {\"colorbar\": {\"outlinewidth\": 0, \"ticks\": \"\"}}, \"type\": \"scatter\"}], \"scatter3d\": [{\"line\": {\"colorbar\": {\"outlinewidth\": 0, \"ticks\": \"\"}}, \"marker\": {\"colorbar\": {\"outlinewidth\": 0, \"ticks\": \"\"}}, \"type\": \"scatter3d\"}], \"scattercarpet\": [{\"marker\": {\"colorbar\": {\"outlinewidth\": 0, \"ticks\": \"\"}}, \"type\": \"scattercarpet\"}], \"scattergeo\": [{\"marker\": {\"colorbar\": {\"outlinewidth\": 0, \"ticks\": \"\"}}, \"type\": \"scattergeo\"}], \"scattergl\": [{\"marker\": {\"colorbar\": {\"outlinewidth\": 0, \"ticks\": \"\"}}, \"type\": \"scattergl\"}], \"scattermapbox\": [{\"marker\": {\"colorbar\": {\"outlinewidth\": 0, \"ticks\": \"\"}}, \"type\": \"scattermapbox\"}], \"scatterpolar\": [{\"marker\": {\"colorbar\": {\"outlinewidth\": 0, \"ticks\": \"\"}}, \"type\": \"scatterpolar\"}], \"scatterpolargl\": [{\"marker\": {\"colorbar\": {\"outlinewidth\": 0, \"ticks\": \"\"}}, \"type\": \"scatterpolargl\"}], \"scatterternary\": [{\"marker\": {\"colorbar\": {\"outlinewidth\": 0, \"ticks\": \"\"}}, \"type\": \"scatterternary\"}], \"surface\": [{\"colorbar\": {\"outlinewidth\": 0, \"ticks\": \"\"}, \"colorscale\": [[0.0, \"#0d0887\"], [0.1111111111111111, \"#46039f\"], [0.2222222222222222, \"#7201a8\"], [0.3333333333333333, \"#9c179e\"], [0.4444444444444444, \"#bd3786\"], [0.5555555555555556, \"#d8576b\"], [0.6666666666666666, \"#ed7953\"], [0.7777777777777778, \"#fb9f3a\"], [0.8888888888888888, \"#fdca26\"], [1.0, \"#f0f921\"]], \"type\": \"surface\"}], \"table\": [{\"cells\": {\"fill\": {\"color\": \"#EBF0F8\"}, \"line\": {\"color\": \"white\"}}, \"header\": {\"fill\": {\"color\": \"#C8D4E3\"}, \"line\": {\"color\": \"white\"}}, \"type\": \"table\"}]}, \"layout\": {\"annotationdefaults\": {\"arrowcolor\": \"#2a3f5f\", \"arrowhead\": 0, \"arrowwidth\": 1}, \"autotypenumbers\": \"strict\", \"coloraxis\": {\"colorbar\": {\"outlinewidth\": 0, \"ticks\": \"\"}}, \"colorscale\": {\"diverging\": [[0, \"#8e0152\"], [0.1, \"#c51b7d\"], [0.2, \"#de77ae\"], [0.3, \"#f1b6da\"], [0.4, \"#fde0ef\"], [0.5, \"#f7f7f7\"], [0.6, \"#e6f5d0\"], [0.7, \"#b8e186\"], [0.8, \"#7fbc41\"], [0.9, \"#4d9221\"], [1, \"#276419\"]], \"sequential\": [[0.0, \"#0d0887\"], [0.1111111111111111, \"#46039f\"], [0.2222222222222222, \"#7201a8\"], [0.3333333333333333, \"#9c179e\"], [0.4444444444444444, \"#bd3786\"], [0.5555555555555556, \"#d8576b\"], [0.6666666666666666, \"#ed7953\"], [0.7777777777777778, \"#fb9f3a\"], [0.8888888888888888, \"#fdca26\"], [1.0, \"#f0f921\"]], \"sequentialminus\": [[0.0, \"#0d0887\"], [0.1111111111111111, \"#46039f\"], [0.2222222222222222, \"#7201a8\"], [0.3333333333333333, \"#9c179e\"], [0.4444444444444444, \"#bd3786\"], [0.5555555555555556, \"#d8576b\"], [0.6666666666666666, \"#ed7953\"], [0.7777777777777778, \"#fb9f3a\"], [0.8888888888888888, \"#fdca26\"], [1.0, \"#f0f921\"]]}, \"colorway\": [\"#636efa\", \"#EF553B\", \"#00cc96\", \"#ab63fa\", \"#FFA15A\", \"#19d3f3\", \"#FF6692\", \"#B6E880\", \"#FF97FF\", \"#FECB52\"], \"font\": {\"color\": \"#2a3f5f\"}, \"geo\": {\"bgcolor\": \"white\", \"lakecolor\": \"white\", \"landcolor\": \"#E5ECF6\", \"showlakes\": true, \"showland\": true, \"subunitcolor\": \"white\"}, \"hoverlabel\": {\"align\": \"left\"}, \"hovermode\": \"closest\", \"mapbox\": {\"style\": \"light\"}, \"paper_bgcolor\": \"white\", \"plot_bgcolor\": \"#E5ECF6\", \"polar\": {\"angularaxis\": {\"gridcolor\": \"white\", \"linecolor\": \"white\", \"ticks\": \"\"}, \"bgcolor\": \"#E5ECF6\", \"radialaxis\": {\"gridcolor\": \"white\", \"linecolor\": \"white\", \"ticks\": \"\"}}, \"scene\": {\"xaxis\": {\"backgroundcolor\": \"#E5ECF6\", \"gridcolor\": \"white\", \"gridwidth\": 2, \"linecolor\": \"white\", \"showbackground\": true, \"ticks\": \"\", \"zerolinecolor\": \"white\"}, \"yaxis\": {\"backgroundcolor\": \"#E5ECF6\", \"gridcolor\": \"white\", \"gridwidth\": 2, \"linecolor\": \"white\", \"showbackground\": true, \"ticks\": \"\", \"zerolinecolor\": \"white\"}, \"zaxis\": {\"backgroundcolor\": \"#E5ECF6\", \"gridcolor\": \"white\", \"gridwidth\": 2, \"linecolor\": \"white\", \"showbackground\": true, \"ticks\": \"\", \"zerolinecolor\": \"white\"}}, \"shapedefaults\": {\"line\": {\"color\": \"#2a3f5f\"}}, \"ternary\": {\"aaxis\": {\"gridcolor\": \"white\", \"linecolor\": \"white\", \"ticks\": \"\"}, \"baxis\": {\"gridcolor\": \"white\", \"linecolor\": \"white\", \"ticks\": \"\"}, \"bgcolor\": \"#E5ECF6\", \"caxis\": {\"gridcolor\": \"white\", \"linecolor\": \"white\", \"ticks\": \"\"}}, \"title\": {\"x\": 0.05}, \"xaxis\": {\"automargin\": true, \"gridcolor\": \"white\", \"linecolor\": \"white\", \"ticks\": \"\", \"title\": {\"standoff\": 15}, \"zerolinecolor\": \"white\", \"zerolinewidth\": 2}, \"yaxis\": {\"automargin\": true, \"gridcolor\": \"white\", \"linecolor\": \"white\", \"ticks\": \"\", \"title\": {\"standoff\": 15}, \"zerolinecolor\": \"white\", \"zerolinewidth\": 2}}}, \"title\": {\"text\": \"Quantity of structural variance types per sample\"}},                        {\"responsive\": true}                    ).then(function(){\n",
       "                            \n",
       "var gd = document.getElementById('2a562c3b-dd51-4451-85ba-f5e0ee4fabc9');\n",
       "var x = new MutationObserver(function (mutations, observer) {{\n",
       "        var display = window.getComputedStyle(gd).display;\n",
       "        if (!display || display === 'none') {{\n",
       "            console.log([gd, 'removed!']);\n",
       "            Plotly.purge(gd);\n",
       "            observer.disconnect();\n",
       "        }}\n",
       "}});\n",
       "\n",
       "// Listen for the removal of the full notebook cells\n",
       "var notebookContainer = gd.closest('#notebook-container');\n",
       "if (notebookContainer) {{\n",
       "    x.observe(notebookContainer, {childList: true});\n",
       "}}\n",
       "\n",
       "// Listen for the clearing of the current output cell\n",
       "var outputEl = gd.closest('.output');\n",
       "if (outputEl) {{\n",
       "    x.observe(outputEl, {childList: true});\n",
       "}}\n",
       "\n",
       "                        })                };                });            </script>        </div>"
      ]
     },
     "metadata": {},
     "output_type": "display_data"
    }
   ],
   "source": [
    "fig = go.Figure()\n",
    "\n",
    "fig.add_trace(go.Scatter(x=samples, y=CNV_R, name=\"CNV-R\"))\n",
    "fig.add_trace(go.Scatter(x=samples, y=CNV_Q, name=\"CNV-Q\"))\n",
    "fig.add_trace(go.Scatter(x=samples, y=DEL, name=\"DEL\"))\n",
    "fig.add_trace(go.Scatter(x=samples, y=INS, name=\"INS\"))\n",
    "fig.add_trace(go.Scatter(x=samples, y=INV, name=\"INV\"))\n",
    "\n",
    "fig.update_layout(\n",
    "    title=\"Quantity of structural variance types per sample\",\n",
    "    paper_bgcolor='rgba(0,0,0,0)',\n",
    "    plot_bgcolor='rgba(0,0,0,0)'\n",
    ")\n",
    "\n",
    "\n",
    "fig.show()"
   ]
  },
  {
   "cell_type": "code",
   "execution_count": 239,
   "metadata": {},
   "outputs": [
    {
     "data": {
      "application/vnd.plotly.v1+json": {
       "config": {
        "plotlyServerURL": "https://plot.ly"
       },
       "data": [
        {
         "alignmentgroup": "True",
         "box": {
          "visible": true
         },
         "customdata": [
          [
           "B59",
           725,
           1949,
           1830,
           136,
           1133,
           1032
          ],
          [
           "I23",
           713,
           1749,
           1629,
           133,
           786,
           790
          ],
          [
           "N25",
           716,
           1821,
           1692,
           134,
           941,
           972
          ],
          [
           "T29A",
           697,
           1747,
           1606,
           129,
           898,
           914
          ],
          [
           "ZH26",
           755,
           2169,
           1696,
           153,
           915,
           1021
          ]
         ],
         "hovertemplate": "SRC=%{x}<br>CNV-Q=%{y}<br>sample=%{customdata[0]}<br>CNV-R=%{customdata[1]}<br>DEL=%{customdata[2]}<br>INS=%{customdata[3]}<br>INV=%{customdata[4]}<br>nCNV-Q=%{customdata[5]}<br>nCNV-R=%{customdata[6]}<extra></extra>",
         "legendgroup": "Long",
         "marker": {
          "color": "#636efa"
         },
         "name": "Long",
         "offsetgroup": "Long",
         "orientation": "v",
         "points": "all",
         "scalegroup": "True",
         "showlegend": true,
         "type": "violin",
         "x": [
          "Long",
          "Long",
          "Long",
          "Long",
          "Long"
         ],
         "x0": " ",
         "xaxis": "x",
         "y": [
          766,
          657,
          699,
          695,
          846
         ],
         "y0": " ",
         "yaxis": "y"
        },
        {
         "alignmentgroup": "True",
         "box": {
          "visible": true
         },
         "customdata": [
          [
           "A1",
           640,
           1824,
           1903,
           152,
           1677,
           1153
          ],
          [
           "A2",
           731,
           2127,
           2044,
           203,
           1726,
           1309
          ],
          [
           "A3",
           694,
           1908,
           1757,
           178,
           1349,
           1105
          ],
          [
           "A4",
           669,
           1833,
           1780,
           155,
           1807,
           1102
          ],
          [
           "A5",
           704,
           2007,
           1816,
           135,
           1475,
           1198
          ],
          [
           "A6",
           744,
           1923,
           2031,
           168,
           1355,
           1101
          ],
          [
           "A7",
           736,
           2347,
           2066,
           173,
           1717,
           1423
          ],
          [
           "AB8",
           602,
           1675,
           1603,
           133,
           1559,
           978
          ],
          [
           "B1",
           733,
           2165,
           1940,
           215,
           1670,
           1362
          ],
          [
           "B2",
           717,
           1927,
           2054,
           186,
           1578,
           1211
          ],
          [
           "B3",
           693,
           1965,
           1884,
           169,
           1692,
           1184
          ],
          [
           "B4",
           686,
           1985,
           1936,
           149,
           1443,
           1223
          ],
          [
           "B6",
           699,
           1891,
           1787,
           155,
           1575,
           1150
          ],
          [
           "OreR",
           758,
           2016,
           1857,
           206,
           1488,
           1266
          ]
         ],
         "hovertemplate": "SRC=%{x}<br>CNV-Q=%{y}<br>sample=%{customdata[0]}<br>CNV-R=%{customdata[1]}<br>DEL=%{customdata[2]}<br>INS=%{customdata[3]}<br>INV=%{customdata[4]}<br>nCNV-Q=%{customdata[5]}<br>nCNV-R=%{customdata[6]}<extra></extra>",
         "legendgroup": "Chakraborty",
         "marker": {
          "color": "#EF553B"
         },
         "name": "Chakraborty",
         "offsetgroup": "Chakraborty",
         "orientation": "v",
         "points": "all",
         "scalegroup": "True",
         "showlegend": true,
         "type": "violin",
         "x": [
          "Chakraborty",
          "Chakraborty",
          "Chakraborty",
          "Chakraborty",
          "Chakraborty",
          "Chakraborty",
          "Chakraborty",
          "Chakraborty",
          "Chakraborty",
          "Chakraborty",
          "Chakraborty",
          "Chakraborty",
          "Chakraborty",
          "Chakraborty"
         ],
         "x0": " ",
         "xaxis": "x",
         "y": [
          659,
          795,
          610,
          624,
          588,
          729,
          764,
          570,
          659,
          770,
          647,
          694,
          634,
          767
         ],
         "y0": " ",
         "yaxis": "y"
        },
        {
         "alignmentgroup": "True",
         "box": {
          "visible": true
         },
         "customdata": [
          [
           "AKA-017",
           701,
           1944,
           1863,
           151,
           2178,
           1138
          ],
          [
           "AKA-018",
           717,
           2044,
           1857,
           173,
           1698,
           1239
          ],
          [
           "COR-014",
           691,
           2005,
           1887,
           161,
           1847,
           1182
          ],
          [
           "COR-018",
           382,
           1147,
           1239,
           84,
           1100,
           684
          ],
          [
           "COR-023",
           717,
           1975,
           1966,
           192,
           1520,
           1223
          ],
          [
           "COR-025",
           714,
           1885,
           1971,
           180,
           2118,
           1132
          ],
          [
           "GIM-012",
           712,
           1911,
           2023,
           195,
           1921,
           1195
          ],
          [
           "GIM-024",
           561,
           1633,
           1547,
           120,
           1419,
           965
          ],
          [
           "JUT-008",
           682,
           1999,
           1922,
           161,
           2286,
           1304
          ],
          [
           "JUT-011",
           702,
           1999,
           1952,
           194,
           1767,
           1251
          ],
          [
           "KIE-094",
           726,
           2184,
           2104,
           208,
           2011,
           1386
          ],
          [
           "LUN-004",
           699,
           2053,
           1961,
           193,
           1678,
           1235
          ],
          [
           "LUN-007",
           715,
           2009,
           2073,
           169,
           1712,
           1210
          ],
          [
           "MUN-008",
           405,
           1165,
           1264,
           78,
           1071,
           674
          ],
          [
           "MUN-009",
           696,
           1955,
           1976,
           164,
           2251,
           1182
          ],
          [
           "MUN-013",
           744,
           1983,
           1939,
           190,
           1894,
           1175
          ],
          [
           "MUN-015",
           724,
           2067,
           1979,
           176,
           1864,
           1214
          ],
          [
           "MUN-016",
           674,
           1907,
           1803,
           152,
           1735,
           1160
          ],
          [
           "MUN-020",
           754,
           1968,
           1977,
           197,
           1896,
           1133
          ],
          [
           "RAL-059",
           689,
           1955,
           2044,
           156,
           1848,
           1201
          ],
          [
           "RAL-091",
           700,
           2054,
           2123,
           170,
           1898,
           1179
          ],
          [
           "RAL-176",
           744,
           2208,
           2320,
           231,
           2073,
           1210
          ],
          [
           "RAL-177",
           579,
           1661,
           1661,
           137,
           1420,
           954
          ],
          [
           "RAL-375",
           678,
           1945,
           1822,
           142,
           1945,
           1184
          ],
          [
           "RAL-426",
           763,
           2169,
           2211,
           232,
           1863,
           1361
          ],
          [
           "RAL-737",
           714,
           2171,
           2199,
           208,
           2532,
           1329
          ],
          [
           "RAL-855",
           740,
           2075,
           2070,
           196,
           1992,
           1240
          ],
          [
           "SLA-001",
           691,
           1888,
           1761,
           150,
           1548,
           1129
          ],
          [
           "STO-022",
           705,
           2033,
           1889,
           173,
           2093,
           1257
          ],
          [
           "TEN-015",
           742,
           1972,
           1816,
           145,
           1784,
           1130
          ],
          [
           "TOM-007",
           738,
           2054,
           1954,
           163,
           1546,
           1241
          ],
          [
           "TOM-008",
           745,
           1921,
           1937,
           164,
           1708,
           1136
          ]
         ],
         "hovertemplate": "SRC=%{x}<br>CNV-Q=%{y}<br>sample=%{customdata[0]}<br>CNV-R=%{customdata[1]}<br>DEL=%{customdata[2]}<br>INS=%{customdata[3]}<br>INV=%{customdata[4]}<br>nCNV-Q=%{customdata[5]}<br>nCNV-R=%{customdata[6]}<extra></extra>",
         "legendgroup": "Rech",
         "marker": {
          "color": "#00cc96"
         },
         "name": "Rech",
         "offsetgroup": "Rech",
         "orientation": "v",
         "points": "all",
         "scalegroup": "True",
         "showlegend": true,
         "type": "violin",
         "x": [
          "Rech",
          "Rech",
          "Rech",
          "Rech",
          "Rech",
          "Rech",
          "Rech",
          "Rech",
          "Rech",
          "Rech",
          "Rech",
          "Rech",
          "Rech",
          "Rech",
          "Rech",
          "Rech",
          "Rech",
          "Rech",
          "Rech",
          "Rech",
          "Rech",
          "Rech",
          "Rech",
          "Rech",
          "Rech",
          "Rech",
          "Rech",
          "Rech",
          "Rech",
          "Rech",
          "Rech",
          "Rech"
         ],
         "x0": " ",
         "xaxis": "x",
         "y": [
          659,
          714,
          817,
          594,
          923,
          976,
          937,
          573,
          745,
          806,
          852,
          822,
          969,
          580,
          936,
          906,
          931,
          683,
          927,
          803,
          936,
          1035,
          605,
          688,
          997,
          885,
          874,
          865,
          824,
          879,
          787,
          877
         ],
         "y0": " ",
         "yaxis": "y"
        }
       ],
       "layout": {
        "legend": {
         "title": {
          "text": "SRC"
         },
         "tracegroupgap": 0
        },
        "paper_bgcolor": "rgba(0,0,0,0)",
        "plot_bgcolor": "rgba(0,0,0,0)",
        "template": {
         "data": {
          "bar": [
           {
            "error_x": {
             "color": "#2a3f5f"
            },
            "error_y": {
             "color": "#2a3f5f"
            },
            "marker": {
             "line": {
              "color": "#E5ECF6",
              "width": 0.5
             }
            },
            "type": "bar"
           }
          ],
          "barpolar": [
           {
            "marker": {
             "line": {
              "color": "#E5ECF6",
              "width": 0.5
             }
            },
            "type": "barpolar"
           }
          ],
          "carpet": [
           {
            "aaxis": {
             "endlinecolor": "#2a3f5f",
             "gridcolor": "white",
             "linecolor": "white",
             "minorgridcolor": "white",
             "startlinecolor": "#2a3f5f"
            },
            "baxis": {
             "endlinecolor": "#2a3f5f",
             "gridcolor": "white",
             "linecolor": "white",
             "minorgridcolor": "white",
             "startlinecolor": "#2a3f5f"
            },
            "type": "carpet"
           }
          ],
          "choropleth": [
           {
            "colorbar": {
             "outlinewidth": 0,
             "ticks": ""
            },
            "type": "choropleth"
           }
          ],
          "contour": [
           {
            "colorbar": {
             "outlinewidth": 0,
             "ticks": ""
            },
            "colorscale": [
             [
              0,
              "#0d0887"
             ],
             [
              0.1111111111111111,
              "#46039f"
             ],
             [
              0.2222222222222222,
              "#7201a8"
             ],
             [
              0.3333333333333333,
              "#9c179e"
             ],
             [
              0.4444444444444444,
              "#bd3786"
             ],
             [
              0.5555555555555556,
              "#d8576b"
             ],
             [
              0.6666666666666666,
              "#ed7953"
             ],
             [
              0.7777777777777778,
              "#fb9f3a"
             ],
             [
              0.8888888888888888,
              "#fdca26"
             ],
             [
              1,
              "#f0f921"
             ]
            ],
            "type": "contour"
           }
          ],
          "contourcarpet": [
           {
            "colorbar": {
             "outlinewidth": 0,
             "ticks": ""
            },
            "type": "contourcarpet"
           }
          ],
          "heatmap": [
           {
            "colorbar": {
             "outlinewidth": 0,
             "ticks": ""
            },
            "colorscale": [
             [
              0,
              "#0d0887"
             ],
             [
              0.1111111111111111,
              "#46039f"
             ],
             [
              0.2222222222222222,
              "#7201a8"
             ],
             [
              0.3333333333333333,
              "#9c179e"
             ],
             [
              0.4444444444444444,
              "#bd3786"
             ],
             [
              0.5555555555555556,
              "#d8576b"
             ],
             [
              0.6666666666666666,
              "#ed7953"
             ],
             [
              0.7777777777777778,
              "#fb9f3a"
             ],
             [
              0.8888888888888888,
              "#fdca26"
             ],
             [
              1,
              "#f0f921"
             ]
            ],
            "type": "heatmap"
           }
          ],
          "heatmapgl": [
           {
            "colorbar": {
             "outlinewidth": 0,
             "ticks": ""
            },
            "colorscale": [
             [
              0,
              "#0d0887"
             ],
             [
              0.1111111111111111,
              "#46039f"
             ],
             [
              0.2222222222222222,
              "#7201a8"
             ],
             [
              0.3333333333333333,
              "#9c179e"
             ],
             [
              0.4444444444444444,
              "#bd3786"
             ],
             [
              0.5555555555555556,
              "#d8576b"
             ],
             [
              0.6666666666666666,
              "#ed7953"
             ],
             [
              0.7777777777777778,
              "#fb9f3a"
             ],
             [
              0.8888888888888888,
              "#fdca26"
             ],
             [
              1,
              "#f0f921"
             ]
            ],
            "type": "heatmapgl"
           }
          ],
          "histogram": [
           {
            "marker": {
             "colorbar": {
              "outlinewidth": 0,
              "ticks": ""
             }
            },
            "type": "histogram"
           }
          ],
          "histogram2d": [
           {
            "colorbar": {
             "outlinewidth": 0,
             "ticks": ""
            },
            "colorscale": [
             [
              0,
              "#0d0887"
             ],
             [
              0.1111111111111111,
              "#46039f"
             ],
             [
              0.2222222222222222,
              "#7201a8"
             ],
             [
              0.3333333333333333,
              "#9c179e"
             ],
             [
              0.4444444444444444,
              "#bd3786"
             ],
             [
              0.5555555555555556,
              "#d8576b"
             ],
             [
              0.6666666666666666,
              "#ed7953"
             ],
             [
              0.7777777777777778,
              "#fb9f3a"
             ],
             [
              0.8888888888888888,
              "#fdca26"
             ],
             [
              1,
              "#f0f921"
             ]
            ],
            "type": "histogram2d"
           }
          ],
          "histogram2dcontour": [
           {
            "colorbar": {
             "outlinewidth": 0,
             "ticks": ""
            },
            "colorscale": [
             [
              0,
              "#0d0887"
             ],
             [
              0.1111111111111111,
              "#46039f"
             ],
             [
              0.2222222222222222,
              "#7201a8"
             ],
             [
              0.3333333333333333,
              "#9c179e"
             ],
             [
              0.4444444444444444,
              "#bd3786"
             ],
             [
              0.5555555555555556,
              "#d8576b"
             ],
             [
              0.6666666666666666,
              "#ed7953"
             ],
             [
              0.7777777777777778,
              "#fb9f3a"
             ],
             [
              0.8888888888888888,
              "#fdca26"
             ],
             [
              1,
              "#f0f921"
             ]
            ],
            "type": "histogram2dcontour"
           }
          ],
          "mesh3d": [
           {
            "colorbar": {
             "outlinewidth": 0,
             "ticks": ""
            },
            "type": "mesh3d"
           }
          ],
          "parcoords": [
           {
            "line": {
             "colorbar": {
              "outlinewidth": 0,
              "ticks": ""
             }
            },
            "type": "parcoords"
           }
          ],
          "pie": [
           {
            "automargin": true,
            "type": "pie"
           }
          ],
          "scatter": [
           {
            "marker": {
             "colorbar": {
              "outlinewidth": 0,
              "ticks": ""
             }
            },
            "type": "scatter"
           }
          ],
          "scatter3d": [
           {
            "line": {
             "colorbar": {
              "outlinewidth": 0,
              "ticks": ""
             }
            },
            "marker": {
             "colorbar": {
              "outlinewidth": 0,
              "ticks": ""
             }
            },
            "type": "scatter3d"
           }
          ],
          "scattercarpet": [
           {
            "marker": {
             "colorbar": {
              "outlinewidth": 0,
              "ticks": ""
             }
            },
            "type": "scattercarpet"
           }
          ],
          "scattergeo": [
           {
            "marker": {
             "colorbar": {
              "outlinewidth": 0,
              "ticks": ""
             }
            },
            "type": "scattergeo"
           }
          ],
          "scattergl": [
           {
            "marker": {
             "colorbar": {
              "outlinewidth": 0,
              "ticks": ""
             }
            },
            "type": "scattergl"
           }
          ],
          "scattermapbox": [
           {
            "marker": {
             "colorbar": {
              "outlinewidth": 0,
              "ticks": ""
             }
            },
            "type": "scattermapbox"
           }
          ],
          "scatterpolar": [
           {
            "marker": {
             "colorbar": {
              "outlinewidth": 0,
              "ticks": ""
             }
            },
            "type": "scatterpolar"
           }
          ],
          "scatterpolargl": [
           {
            "marker": {
             "colorbar": {
              "outlinewidth": 0,
              "ticks": ""
             }
            },
            "type": "scatterpolargl"
           }
          ],
          "scatterternary": [
           {
            "marker": {
             "colorbar": {
              "outlinewidth": 0,
              "ticks": ""
             }
            },
            "type": "scatterternary"
           }
          ],
          "surface": [
           {
            "colorbar": {
             "outlinewidth": 0,
             "ticks": ""
            },
            "colorscale": [
             [
              0,
              "#0d0887"
             ],
             [
              0.1111111111111111,
              "#46039f"
             ],
             [
              0.2222222222222222,
              "#7201a8"
             ],
             [
              0.3333333333333333,
              "#9c179e"
             ],
             [
              0.4444444444444444,
              "#bd3786"
             ],
             [
              0.5555555555555556,
              "#d8576b"
             ],
             [
              0.6666666666666666,
              "#ed7953"
             ],
             [
              0.7777777777777778,
              "#fb9f3a"
             ],
             [
              0.8888888888888888,
              "#fdca26"
             ],
             [
              1,
              "#f0f921"
             ]
            ],
            "type": "surface"
           }
          ],
          "table": [
           {
            "cells": {
             "fill": {
              "color": "#EBF0F8"
             },
             "line": {
              "color": "white"
             }
            },
            "header": {
             "fill": {
              "color": "#C8D4E3"
             },
             "line": {
              "color": "white"
             }
            },
            "type": "table"
           }
          ]
         },
         "layout": {
          "annotationdefaults": {
           "arrowcolor": "#2a3f5f",
           "arrowhead": 0,
           "arrowwidth": 1
          },
          "autotypenumbers": "strict",
          "coloraxis": {
           "colorbar": {
            "outlinewidth": 0,
            "ticks": ""
           }
          },
          "colorscale": {
           "diverging": [
            [
             0,
             "#8e0152"
            ],
            [
             0.1,
             "#c51b7d"
            ],
            [
             0.2,
             "#de77ae"
            ],
            [
             0.3,
             "#f1b6da"
            ],
            [
             0.4,
             "#fde0ef"
            ],
            [
             0.5,
             "#f7f7f7"
            ],
            [
             0.6,
             "#e6f5d0"
            ],
            [
             0.7,
             "#b8e186"
            ],
            [
             0.8,
             "#7fbc41"
            ],
            [
             0.9,
             "#4d9221"
            ],
            [
             1,
             "#276419"
            ]
           ],
           "sequential": [
            [
             0,
             "#0d0887"
            ],
            [
             0.1111111111111111,
             "#46039f"
            ],
            [
             0.2222222222222222,
             "#7201a8"
            ],
            [
             0.3333333333333333,
             "#9c179e"
            ],
            [
             0.4444444444444444,
             "#bd3786"
            ],
            [
             0.5555555555555556,
             "#d8576b"
            ],
            [
             0.6666666666666666,
             "#ed7953"
            ],
            [
             0.7777777777777778,
             "#fb9f3a"
            ],
            [
             0.8888888888888888,
             "#fdca26"
            ],
            [
             1,
             "#f0f921"
            ]
           ],
           "sequentialminus": [
            [
             0,
             "#0d0887"
            ],
            [
             0.1111111111111111,
             "#46039f"
            ],
            [
             0.2222222222222222,
             "#7201a8"
            ],
            [
             0.3333333333333333,
             "#9c179e"
            ],
            [
             0.4444444444444444,
             "#bd3786"
            ],
            [
             0.5555555555555556,
             "#d8576b"
            ],
            [
             0.6666666666666666,
             "#ed7953"
            ],
            [
             0.7777777777777778,
             "#fb9f3a"
            ],
            [
             0.8888888888888888,
             "#fdca26"
            ],
            [
             1,
             "#f0f921"
            ]
           ]
          },
          "colorway": [
           "#636efa",
           "#EF553B",
           "#00cc96",
           "#ab63fa",
           "#FFA15A",
           "#19d3f3",
           "#FF6692",
           "#B6E880",
           "#FF97FF",
           "#FECB52"
          ],
          "font": {
           "color": "#2a3f5f"
          },
          "geo": {
           "bgcolor": "white",
           "lakecolor": "white",
           "landcolor": "#E5ECF6",
           "showlakes": true,
           "showland": true,
           "subunitcolor": "white"
          },
          "hoverlabel": {
           "align": "left"
          },
          "hovermode": "closest",
          "mapbox": {
           "style": "light"
          },
          "paper_bgcolor": "white",
          "plot_bgcolor": "#E5ECF6",
          "polar": {
           "angularaxis": {
            "gridcolor": "white",
            "linecolor": "white",
            "ticks": ""
           },
           "bgcolor": "#E5ECF6",
           "radialaxis": {
            "gridcolor": "white",
            "linecolor": "white",
            "ticks": ""
           }
          },
          "scene": {
           "xaxis": {
            "backgroundcolor": "#E5ECF6",
            "gridcolor": "white",
            "gridwidth": 2,
            "linecolor": "white",
            "showbackground": true,
            "ticks": "",
            "zerolinecolor": "white"
           },
           "yaxis": {
            "backgroundcolor": "#E5ECF6",
            "gridcolor": "white",
            "gridwidth": 2,
            "linecolor": "white",
            "showbackground": true,
            "ticks": "",
            "zerolinecolor": "white"
           },
           "zaxis": {
            "backgroundcolor": "#E5ECF6",
            "gridcolor": "white",
            "gridwidth": 2,
            "linecolor": "white",
            "showbackground": true,
            "ticks": "",
            "zerolinecolor": "white"
           }
          },
          "shapedefaults": {
           "line": {
            "color": "#2a3f5f"
           }
          },
          "ternary": {
           "aaxis": {
            "gridcolor": "white",
            "linecolor": "white",
            "ticks": ""
           },
           "baxis": {
            "gridcolor": "white",
            "linecolor": "white",
            "ticks": ""
           },
           "bgcolor": "#E5ECF6",
           "caxis": {
            "gridcolor": "white",
            "linecolor": "white",
            "ticks": ""
           }
          },
          "title": {
           "x": 0.05
          },
          "xaxis": {
           "automargin": true,
           "gridcolor": "white",
           "linecolor": "white",
           "ticks": "",
           "title": {
            "standoff": 15
           },
           "zerolinecolor": "white",
           "zerolinewidth": 2
          },
          "yaxis": {
           "automargin": true,
           "gridcolor": "white",
           "linecolor": "white",
           "ticks": "",
           "title": {
            "standoff": 15
           },
           "zerolinecolor": "white",
           "zerolinewidth": 2
          }
         }
        },
        "title": {
         "text": "Query CNV distribution per each sample source"
        },
        "violinmode": "overlay",
        "xaxis": {
         "anchor": "y",
         "categoryarray": [
          "Long",
          "Chakraborty",
          "Rech"
         ],
         "categoryorder": "array",
         "domain": [
          0,
          1
         ],
         "title": {
          "text": "SRC"
         }
        },
        "yaxis": {
         "anchor": "x",
         "domain": [
          0,
          1
         ],
         "title": {
          "text": "CNV-Q"
         }
        }
       }
      },
      "text/html": [
       "<div>                            <div id=\"6de752b4-de0c-4e82-85d2-ac160e93732f\" class=\"plotly-graph-div\" style=\"height:525px; width:100%;\"></div>            <script type=\"text/javascript\">                require([\"plotly\"], function(Plotly) {                    window.PLOTLYENV=window.PLOTLYENV || {};                                    if (document.getElementById(\"6de752b4-de0c-4e82-85d2-ac160e93732f\")) {                    Plotly.newPlot(                        \"6de752b4-de0c-4e82-85d2-ac160e93732f\",                        [{\"alignmentgroup\": \"True\", \"box\": {\"visible\": true}, \"customdata\": [[\"B59\", 725, 1949, 1830, 136, 1133, 1032], [\"I23\", 713, 1749, 1629, 133, 786, 790], [\"N25\", 716, 1821, 1692, 134, 941, 972], [\"T29A\", 697, 1747, 1606, 129, 898, 914], [\"ZH26\", 755, 2169, 1696, 153, 915, 1021]], \"hovertemplate\": \"SRC=%{x}<br>CNV-Q=%{y}<br>sample=%{customdata[0]}<br>CNV-R=%{customdata[1]}<br>DEL=%{customdata[2]}<br>INS=%{customdata[3]}<br>INV=%{customdata[4]}<br>nCNV-Q=%{customdata[5]}<br>nCNV-R=%{customdata[6]}<extra></extra>\", \"legendgroup\": \"Long\", \"marker\": {\"color\": \"#636efa\"}, \"name\": \"Long\", \"offsetgroup\": \"Long\", \"orientation\": \"v\", \"points\": \"all\", \"scalegroup\": \"True\", \"showlegend\": true, \"type\": \"violin\", \"x\": [\"Long\", \"Long\", \"Long\", \"Long\", \"Long\"], \"x0\": \" \", \"xaxis\": \"x\", \"y\": [766, 657, 699, 695, 846], \"y0\": \" \", \"yaxis\": \"y\"}, {\"alignmentgroup\": \"True\", \"box\": {\"visible\": true}, \"customdata\": [[\"A1\", 640, 1824, 1903, 152, 1677, 1153], [\"A2\", 731, 2127, 2044, 203, 1726, 1309], [\"A3\", 694, 1908, 1757, 178, 1349, 1105], [\"A4\", 669, 1833, 1780, 155, 1807, 1102], [\"A5\", 704, 2007, 1816, 135, 1475, 1198], [\"A6\", 744, 1923, 2031, 168, 1355, 1101], [\"A7\", 736, 2347, 2066, 173, 1717, 1423], [\"AB8\", 602, 1675, 1603, 133, 1559, 978], [\"B1\", 733, 2165, 1940, 215, 1670, 1362], [\"B2\", 717, 1927, 2054, 186, 1578, 1211], [\"B3\", 693, 1965, 1884, 169, 1692, 1184], [\"B4\", 686, 1985, 1936, 149, 1443, 1223], [\"B6\", 699, 1891, 1787, 155, 1575, 1150], [\"OreR\", 758, 2016, 1857, 206, 1488, 1266]], \"hovertemplate\": \"SRC=%{x}<br>CNV-Q=%{y}<br>sample=%{customdata[0]}<br>CNV-R=%{customdata[1]}<br>DEL=%{customdata[2]}<br>INS=%{customdata[3]}<br>INV=%{customdata[4]}<br>nCNV-Q=%{customdata[5]}<br>nCNV-R=%{customdata[6]}<extra></extra>\", \"legendgroup\": \"Chakraborty\", \"marker\": {\"color\": \"#EF553B\"}, \"name\": \"Chakraborty\", \"offsetgroup\": \"Chakraborty\", \"orientation\": \"v\", \"points\": \"all\", \"scalegroup\": \"True\", \"showlegend\": true, \"type\": \"violin\", \"x\": [\"Chakraborty\", \"Chakraborty\", \"Chakraborty\", \"Chakraborty\", \"Chakraborty\", \"Chakraborty\", \"Chakraborty\", \"Chakraborty\", \"Chakraborty\", \"Chakraborty\", \"Chakraborty\", \"Chakraborty\", \"Chakraborty\", \"Chakraborty\"], \"x0\": \" \", \"xaxis\": \"x\", \"y\": [659, 795, 610, 624, 588, 729, 764, 570, 659, 770, 647, 694, 634, 767], \"y0\": \" \", \"yaxis\": \"y\"}, {\"alignmentgroup\": \"True\", \"box\": {\"visible\": true}, \"customdata\": [[\"AKA-017\", 701, 1944, 1863, 151, 2178, 1138], [\"AKA-018\", 717, 2044, 1857, 173, 1698, 1239], [\"COR-014\", 691, 2005, 1887, 161, 1847, 1182], [\"COR-018\", 382, 1147, 1239, 84, 1100, 684], [\"COR-023\", 717, 1975, 1966, 192, 1520, 1223], [\"COR-025\", 714, 1885, 1971, 180, 2118, 1132], [\"GIM-012\", 712, 1911, 2023, 195, 1921, 1195], [\"GIM-024\", 561, 1633, 1547, 120, 1419, 965], [\"JUT-008\", 682, 1999, 1922, 161, 2286, 1304], [\"JUT-011\", 702, 1999, 1952, 194, 1767, 1251], [\"KIE-094\", 726, 2184, 2104, 208, 2011, 1386], [\"LUN-004\", 699, 2053, 1961, 193, 1678, 1235], [\"LUN-007\", 715, 2009, 2073, 169, 1712, 1210], [\"MUN-008\", 405, 1165, 1264, 78, 1071, 674], [\"MUN-009\", 696, 1955, 1976, 164, 2251, 1182], [\"MUN-013\", 744, 1983, 1939, 190, 1894, 1175], [\"MUN-015\", 724, 2067, 1979, 176, 1864, 1214], [\"MUN-016\", 674, 1907, 1803, 152, 1735, 1160], [\"MUN-020\", 754, 1968, 1977, 197, 1896, 1133], [\"RAL-059\", 689, 1955, 2044, 156, 1848, 1201], [\"RAL-091\", 700, 2054, 2123, 170, 1898, 1179], [\"RAL-176\", 744, 2208, 2320, 231, 2073, 1210], [\"RAL-177\", 579, 1661, 1661, 137, 1420, 954], [\"RAL-375\", 678, 1945, 1822, 142, 1945, 1184], [\"RAL-426\", 763, 2169, 2211, 232, 1863, 1361], [\"RAL-737\", 714, 2171, 2199, 208, 2532, 1329], [\"RAL-855\", 740, 2075, 2070, 196, 1992, 1240], [\"SLA-001\", 691, 1888, 1761, 150, 1548, 1129], [\"STO-022\", 705, 2033, 1889, 173, 2093, 1257], [\"TEN-015\", 742, 1972, 1816, 145, 1784, 1130], [\"TOM-007\", 738, 2054, 1954, 163, 1546, 1241], [\"TOM-008\", 745, 1921, 1937, 164, 1708, 1136]], \"hovertemplate\": \"SRC=%{x}<br>CNV-Q=%{y}<br>sample=%{customdata[0]}<br>CNV-R=%{customdata[1]}<br>DEL=%{customdata[2]}<br>INS=%{customdata[3]}<br>INV=%{customdata[4]}<br>nCNV-Q=%{customdata[5]}<br>nCNV-R=%{customdata[6]}<extra></extra>\", \"legendgroup\": \"Rech\", \"marker\": {\"color\": \"#00cc96\"}, \"name\": \"Rech\", \"offsetgroup\": \"Rech\", \"orientation\": \"v\", \"points\": \"all\", \"scalegroup\": \"True\", \"showlegend\": true, \"type\": \"violin\", \"x\": [\"Rech\", \"Rech\", \"Rech\", \"Rech\", \"Rech\", \"Rech\", \"Rech\", \"Rech\", \"Rech\", \"Rech\", \"Rech\", \"Rech\", \"Rech\", \"Rech\", \"Rech\", \"Rech\", \"Rech\", \"Rech\", \"Rech\", \"Rech\", \"Rech\", \"Rech\", \"Rech\", \"Rech\", \"Rech\", \"Rech\", \"Rech\", \"Rech\", \"Rech\", \"Rech\", \"Rech\", \"Rech\"], \"x0\": \" \", \"xaxis\": \"x\", \"y\": [659, 714, 817, 594, 923, 976, 937, 573, 745, 806, 852, 822, 969, 580, 936, 906, 931, 683, 927, 803, 936, 1035, 605, 688, 997, 885, 874, 865, 824, 879, 787, 877], \"y0\": \" \", \"yaxis\": \"y\"}],                        {\"legend\": {\"title\": {\"text\": \"SRC\"}, \"tracegroupgap\": 0}, \"paper_bgcolor\": \"rgba(0,0,0,0)\", \"plot_bgcolor\": \"rgba(0,0,0,0)\", \"template\": {\"data\": {\"bar\": [{\"error_x\": {\"color\": \"#2a3f5f\"}, \"error_y\": {\"color\": \"#2a3f5f\"}, \"marker\": {\"line\": {\"color\": \"#E5ECF6\", \"width\": 0.5}}, \"type\": \"bar\"}], \"barpolar\": [{\"marker\": {\"line\": {\"color\": \"#E5ECF6\", \"width\": 0.5}}, \"type\": \"barpolar\"}], \"carpet\": [{\"aaxis\": {\"endlinecolor\": \"#2a3f5f\", \"gridcolor\": \"white\", \"linecolor\": \"white\", \"minorgridcolor\": \"white\", \"startlinecolor\": \"#2a3f5f\"}, \"baxis\": {\"endlinecolor\": \"#2a3f5f\", \"gridcolor\": \"white\", \"linecolor\": \"white\", \"minorgridcolor\": \"white\", \"startlinecolor\": \"#2a3f5f\"}, \"type\": \"carpet\"}], \"choropleth\": [{\"colorbar\": {\"outlinewidth\": 0, \"ticks\": \"\"}, \"type\": \"choropleth\"}], \"contour\": [{\"colorbar\": {\"outlinewidth\": 0, \"ticks\": \"\"}, \"colorscale\": [[0.0, \"#0d0887\"], [0.1111111111111111, \"#46039f\"], [0.2222222222222222, \"#7201a8\"], [0.3333333333333333, \"#9c179e\"], [0.4444444444444444, \"#bd3786\"], [0.5555555555555556, \"#d8576b\"], [0.6666666666666666, \"#ed7953\"], [0.7777777777777778, \"#fb9f3a\"], [0.8888888888888888, \"#fdca26\"], [1.0, \"#f0f921\"]], \"type\": \"contour\"}], \"contourcarpet\": [{\"colorbar\": {\"outlinewidth\": 0, \"ticks\": \"\"}, \"type\": \"contourcarpet\"}], \"heatmap\": [{\"colorbar\": {\"outlinewidth\": 0, \"ticks\": \"\"}, \"colorscale\": [[0.0, \"#0d0887\"], [0.1111111111111111, \"#46039f\"], [0.2222222222222222, \"#7201a8\"], [0.3333333333333333, \"#9c179e\"], [0.4444444444444444, \"#bd3786\"], [0.5555555555555556, \"#d8576b\"], [0.6666666666666666, \"#ed7953\"], [0.7777777777777778, \"#fb9f3a\"], [0.8888888888888888, \"#fdca26\"], [1.0, \"#f0f921\"]], \"type\": \"heatmap\"}], \"heatmapgl\": [{\"colorbar\": {\"outlinewidth\": 0, \"ticks\": \"\"}, \"colorscale\": [[0.0, \"#0d0887\"], [0.1111111111111111, \"#46039f\"], [0.2222222222222222, \"#7201a8\"], [0.3333333333333333, \"#9c179e\"], [0.4444444444444444, \"#bd3786\"], [0.5555555555555556, \"#d8576b\"], [0.6666666666666666, \"#ed7953\"], [0.7777777777777778, \"#fb9f3a\"], [0.8888888888888888, \"#fdca26\"], [1.0, \"#f0f921\"]], \"type\": \"heatmapgl\"}], \"histogram\": [{\"marker\": {\"colorbar\": {\"outlinewidth\": 0, \"ticks\": \"\"}}, \"type\": \"histogram\"}], \"histogram2d\": [{\"colorbar\": {\"outlinewidth\": 0, \"ticks\": \"\"}, \"colorscale\": [[0.0, \"#0d0887\"], [0.1111111111111111, \"#46039f\"], [0.2222222222222222, \"#7201a8\"], [0.3333333333333333, \"#9c179e\"], [0.4444444444444444, \"#bd3786\"], [0.5555555555555556, \"#d8576b\"], [0.6666666666666666, \"#ed7953\"], [0.7777777777777778, \"#fb9f3a\"], [0.8888888888888888, \"#fdca26\"], [1.0, \"#f0f921\"]], \"type\": \"histogram2d\"}], \"histogram2dcontour\": [{\"colorbar\": {\"outlinewidth\": 0, \"ticks\": \"\"}, \"colorscale\": [[0.0, \"#0d0887\"], [0.1111111111111111, \"#46039f\"], [0.2222222222222222, \"#7201a8\"], [0.3333333333333333, \"#9c179e\"], [0.4444444444444444, \"#bd3786\"], [0.5555555555555556, \"#d8576b\"], [0.6666666666666666, \"#ed7953\"], [0.7777777777777778, \"#fb9f3a\"], [0.8888888888888888, \"#fdca26\"], [1.0, \"#f0f921\"]], \"type\": \"histogram2dcontour\"}], \"mesh3d\": [{\"colorbar\": {\"outlinewidth\": 0, \"ticks\": \"\"}, \"type\": \"mesh3d\"}], \"parcoords\": [{\"line\": {\"colorbar\": {\"outlinewidth\": 0, \"ticks\": \"\"}}, \"type\": \"parcoords\"}], \"pie\": [{\"automargin\": true, \"type\": \"pie\"}], \"scatter\": [{\"marker\": {\"colorbar\": {\"outlinewidth\": 0, \"ticks\": \"\"}}, \"type\": \"scatter\"}], \"scatter3d\": [{\"line\": {\"colorbar\": {\"outlinewidth\": 0, \"ticks\": \"\"}}, \"marker\": {\"colorbar\": {\"outlinewidth\": 0, \"ticks\": \"\"}}, \"type\": \"scatter3d\"}], \"scattercarpet\": [{\"marker\": {\"colorbar\": {\"outlinewidth\": 0, \"ticks\": \"\"}}, \"type\": \"scattercarpet\"}], \"scattergeo\": [{\"marker\": {\"colorbar\": {\"outlinewidth\": 0, \"ticks\": \"\"}}, \"type\": \"scattergeo\"}], \"scattergl\": [{\"marker\": {\"colorbar\": {\"outlinewidth\": 0, \"ticks\": \"\"}}, \"type\": \"scattergl\"}], \"scattermapbox\": [{\"marker\": {\"colorbar\": {\"outlinewidth\": 0, \"ticks\": \"\"}}, \"type\": \"scattermapbox\"}], \"scatterpolar\": [{\"marker\": {\"colorbar\": {\"outlinewidth\": 0, \"ticks\": \"\"}}, \"type\": \"scatterpolar\"}], \"scatterpolargl\": [{\"marker\": {\"colorbar\": {\"outlinewidth\": 0, \"ticks\": \"\"}}, \"type\": \"scatterpolargl\"}], \"scatterternary\": [{\"marker\": {\"colorbar\": {\"outlinewidth\": 0, \"ticks\": \"\"}}, \"type\": \"scatterternary\"}], \"surface\": [{\"colorbar\": {\"outlinewidth\": 0, \"ticks\": \"\"}, \"colorscale\": [[0.0, \"#0d0887\"], [0.1111111111111111, \"#46039f\"], [0.2222222222222222, \"#7201a8\"], [0.3333333333333333, \"#9c179e\"], [0.4444444444444444, \"#bd3786\"], [0.5555555555555556, \"#d8576b\"], [0.6666666666666666, \"#ed7953\"], [0.7777777777777778, \"#fb9f3a\"], [0.8888888888888888, \"#fdca26\"], [1.0, \"#f0f921\"]], \"type\": \"surface\"}], \"table\": [{\"cells\": {\"fill\": {\"color\": \"#EBF0F8\"}, \"line\": {\"color\": \"white\"}}, \"header\": {\"fill\": {\"color\": \"#C8D4E3\"}, \"line\": {\"color\": \"white\"}}, \"type\": \"table\"}]}, \"layout\": {\"annotationdefaults\": {\"arrowcolor\": \"#2a3f5f\", \"arrowhead\": 0, \"arrowwidth\": 1}, \"autotypenumbers\": \"strict\", \"coloraxis\": {\"colorbar\": {\"outlinewidth\": 0, \"ticks\": \"\"}}, \"colorscale\": {\"diverging\": [[0, \"#8e0152\"], [0.1, \"#c51b7d\"], [0.2, \"#de77ae\"], [0.3, \"#f1b6da\"], [0.4, \"#fde0ef\"], [0.5, \"#f7f7f7\"], [0.6, \"#e6f5d0\"], [0.7, \"#b8e186\"], [0.8, \"#7fbc41\"], [0.9, \"#4d9221\"], [1, \"#276419\"]], \"sequential\": [[0.0, \"#0d0887\"], [0.1111111111111111, \"#46039f\"], [0.2222222222222222, \"#7201a8\"], [0.3333333333333333, \"#9c179e\"], [0.4444444444444444, \"#bd3786\"], [0.5555555555555556, \"#d8576b\"], [0.6666666666666666, \"#ed7953\"], [0.7777777777777778, \"#fb9f3a\"], [0.8888888888888888, \"#fdca26\"], [1.0, \"#f0f921\"]], \"sequentialminus\": [[0.0, \"#0d0887\"], [0.1111111111111111, \"#46039f\"], [0.2222222222222222, \"#7201a8\"], [0.3333333333333333, \"#9c179e\"], [0.4444444444444444, \"#bd3786\"], [0.5555555555555556, \"#d8576b\"], [0.6666666666666666, \"#ed7953\"], [0.7777777777777778, \"#fb9f3a\"], [0.8888888888888888, \"#fdca26\"], [1.0, \"#f0f921\"]]}, \"colorway\": [\"#636efa\", \"#EF553B\", \"#00cc96\", \"#ab63fa\", \"#FFA15A\", \"#19d3f3\", \"#FF6692\", \"#B6E880\", \"#FF97FF\", \"#FECB52\"], \"font\": {\"color\": \"#2a3f5f\"}, \"geo\": {\"bgcolor\": \"white\", \"lakecolor\": \"white\", \"landcolor\": \"#E5ECF6\", \"showlakes\": true, \"showland\": true, \"subunitcolor\": \"white\"}, \"hoverlabel\": {\"align\": \"left\"}, \"hovermode\": \"closest\", \"mapbox\": {\"style\": \"light\"}, \"paper_bgcolor\": \"white\", \"plot_bgcolor\": \"#E5ECF6\", \"polar\": {\"angularaxis\": {\"gridcolor\": \"white\", \"linecolor\": \"white\", \"ticks\": \"\"}, \"bgcolor\": \"#E5ECF6\", \"radialaxis\": {\"gridcolor\": \"white\", \"linecolor\": \"white\", \"ticks\": \"\"}}, \"scene\": {\"xaxis\": {\"backgroundcolor\": \"#E5ECF6\", \"gridcolor\": \"white\", \"gridwidth\": 2, \"linecolor\": \"white\", \"showbackground\": true, \"ticks\": \"\", \"zerolinecolor\": \"white\"}, \"yaxis\": {\"backgroundcolor\": \"#E5ECF6\", \"gridcolor\": \"white\", \"gridwidth\": 2, \"linecolor\": \"white\", \"showbackground\": true, \"ticks\": \"\", \"zerolinecolor\": \"white\"}, \"zaxis\": {\"backgroundcolor\": \"#E5ECF6\", \"gridcolor\": \"white\", \"gridwidth\": 2, \"linecolor\": \"white\", \"showbackground\": true, \"ticks\": \"\", \"zerolinecolor\": \"white\"}}, \"shapedefaults\": {\"line\": {\"color\": \"#2a3f5f\"}}, \"ternary\": {\"aaxis\": {\"gridcolor\": \"white\", \"linecolor\": \"white\", \"ticks\": \"\"}, \"baxis\": {\"gridcolor\": \"white\", \"linecolor\": \"white\", \"ticks\": \"\"}, \"bgcolor\": \"#E5ECF6\", \"caxis\": {\"gridcolor\": \"white\", \"linecolor\": \"white\", \"ticks\": \"\"}}, \"title\": {\"x\": 0.05}, \"xaxis\": {\"automargin\": true, \"gridcolor\": \"white\", \"linecolor\": \"white\", \"ticks\": \"\", \"title\": {\"standoff\": 15}, \"zerolinecolor\": \"white\", \"zerolinewidth\": 2}, \"yaxis\": {\"automargin\": true, \"gridcolor\": \"white\", \"linecolor\": \"white\", \"ticks\": \"\", \"title\": {\"standoff\": 15}, \"zerolinecolor\": \"white\", \"zerolinewidth\": 2}}}, \"title\": {\"text\": \"Query CNV distribution per each sample source\"}, \"violinmode\": \"overlay\", \"xaxis\": {\"anchor\": \"y\", \"categoryarray\": [\"Long\", \"Chakraborty\", \"Rech\"], \"categoryorder\": \"array\", \"domain\": [0.0, 1.0], \"title\": {\"text\": \"SRC\"}}, \"yaxis\": {\"anchor\": \"x\", \"domain\": [0.0, 1.0], \"title\": {\"text\": \"CNV-Q\"}}},                        {\"responsive\": true}                    ).then(function(){\n",
       "                            \n",
       "var gd = document.getElementById('6de752b4-de0c-4e82-85d2-ac160e93732f');\n",
       "var x = new MutationObserver(function (mutations, observer) {{\n",
       "        var display = window.getComputedStyle(gd).display;\n",
       "        if (!display || display === 'none') {{\n",
       "            console.log([gd, 'removed!']);\n",
       "            Plotly.purge(gd);\n",
       "            observer.disconnect();\n",
       "        }}\n",
       "}});\n",
       "\n",
       "// Listen for the removal of the full notebook cells\n",
       "var notebookContainer = gd.closest('#notebook-container');\n",
       "if (notebookContainer) {{\n",
       "    x.observe(notebookContainer, {childList: true});\n",
       "}}\n",
       "\n",
       "// Listen for the clearing of the current output cell\n",
       "var outputEl = gd.closest('.output');\n",
       "if (outputEl) {{\n",
       "    x.observe(outputEl, {childList: true});\n",
       "}}\n",
       "\n",
       "                        })                };                });            </script>        </div>"
      ]
     },
     "metadata": {},
     "output_type": "display_data"
    }
   ],
   "source": [
    "fig = px.violin(df, y=\"CNV-Q\", x=\"SRC\", color=\"SRC\", box=True, points=\"all\", title=\"Query CNV distribution per each sample source\",\n",
    "          hover_data=df.columns)\n",
    "\n",
    "fig.update_layout(\n",
    "    paper_bgcolor='rgba(0,0,0,0)',\n",
    "    plot_bgcolor='rgba(0,0,0,0)'\n",
    ")\n",
    "\n",
    "fig.show()"
   ]
  },
  {
   "cell_type": "code",
   "execution_count": 240,
   "metadata": {},
   "outputs": [
    {
     "data": {
      "application/vnd.plotly.v1+json": {
       "config": {
        "plotlyServerURL": "https://plot.ly"
       },
       "data": [
        {
         "alignmentgroup": "True",
         "box": {
          "visible": true
         },
         "customdata": [
          [
           "B59",
           766,
           1949,
           1830,
           136,
           1133,
           1032
          ],
          [
           "I23",
           657,
           1749,
           1629,
           133,
           786,
           790
          ],
          [
           "N25",
           699,
           1821,
           1692,
           134,
           941,
           972
          ],
          [
           "T29A",
           695,
           1747,
           1606,
           129,
           898,
           914
          ],
          [
           "ZH26",
           846,
           2169,
           1696,
           153,
           915,
           1021
          ]
         ],
         "hovertemplate": "SRC=%{x}<br>CNV-R=%{y}<br>sample=%{customdata[0]}<br>CNV-Q=%{customdata[1]}<br>DEL=%{customdata[2]}<br>INS=%{customdata[3]}<br>INV=%{customdata[4]}<br>nCNV-Q=%{customdata[5]}<br>nCNV-R=%{customdata[6]}<extra></extra>",
         "legendgroup": "Long",
         "marker": {
          "color": "#636efa"
         },
         "name": "Long",
         "offsetgroup": "Long",
         "orientation": "v",
         "points": "all",
         "scalegroup": "True",
         "showlegend": true,
         "type": "violin",
         "x": [
          "Long",
          "Long",
          "Long",
          "Long",
          "Long"
         ],
         "x0": " ",
         "xaxis": "x",
         "y": [
          725,
          713,
          716,
          697,
          755
         ],
         "y0": " ",
         "yaxis": "y"
        },
        {
         "alignmentgroup": "True",
         "box": {
          "visible": true
         },
         "customdata": [
          [
           "A1",
           659,
           1824,
           1903,
           152,
           1677,
           1153
          ],
          [
           "A2",
           795,
           2127,
           2044,
           203,
           1726,
           1309
          ],
          [
           "A3",
           610,
           1908,
           1757,
           178,
           1349,
           1105
          ],
          [
           "A4",
           624,
           1833,
           1780,
           155,
           1807,
           1102
          ],
          [
           "A5",
           588,
           2007,
           1816,
           135,
           1475,
           1198
          ],
          [
           "A6",
           729,
           1923,
           2031,
           168,
           1355,
           1101
          ],
          [
           "A7",
           764,
           2347,
           2066,
           173,
           1717,
           1423
          ],
          [
           "AB8",
           570,
           1675,
           1603,
           133,
           1559,
           978
          ],
          [
           "B1",
           659,
           2165,
           1940,
           215,
           1670,
           1362
          ],
          [
           "B2",
           770,
           1927,
           2054,
           186,
           1578,
           1211
          ],
          [
           "B3",
           647,
           1965,
           1884,
           169,
           1692,
           1184
          ],
          [
           "B4",
           694,
           1985,
           1936,
           149,
           1443,
           1223
          ],
          [
           "B6",
           634,
           1891,
           1787,
           155,
           1575,
           1150
          ],
          [
           "OreR",
           767,
           2016,
           1857,
           206,
           1488,
           1266
          ]
         ],
         "hovertemplate": "SRC=%{x}<br>CNV-R=%{y}<br>sample=%{customdata[0]}<br>CNV-Q=%{customdata[1]}<br>DEL=%{customdata[2]}<br>INS=%{customdata[3]}<br>INV=%{customdata[4]}<br>nCNV-Q=%{customdata[5]}<br>nCNV-R=%{customdata[6]}<extra></extra>",
         "legendgroup": "Chakraborty",
         "marker": {
          "color": "#EF553B"
         },
         "name": "Chakraborty",
         "offsetgroup": "Chakraborty",
         "orientation": "v",
         "points": "all",
         "scalegroup": "True",
         "showlegend": true,
         "type": "violin",
         "x": [
          "Chakraborty",
          "Chakraborty",
          "Chakraborty",
          "Chakraborty",
          "Chakraborty",
          "Chakraborty",
          "Chakraborty",
          "Chakraborty",
          "Chakraborty",
          "Chakraborty",
          "Chakraborty",
          "Chakraborty",
          "Chakraborty",
          "Chakraborty"
         ],
         "x0": " ",
         "xaxis": "x",
         "y": [
          640,
          731,
          694,
          669,
          704,
          744,
          736,
          602,
          733,
          717,
          693,
          686,
          699,
          758
         ],
         "y0": " ",
         "yaxis": "y"
        },
        {
         "alignmentgroup": "True",
         "box": {
          "visible": true
         },
         "customdata": [
          [
           "AKA-017",
           659,
           1944,
           1863,
           151,
           2178,
           1138
          ],
          [
           "AKA-018",
           714,
           2044,
           1857,
           173,
           1698,
           1239
          ],
          [
           "COR-014",
           817,
           2005,
           1887,
           161,
           1847,
           1182
          ],
          [
           "COR-018",
           594,
           1147,
           1239,
           84,
           1100,
           684
          ],
          [
           "COR-023",
           923,
           1975,
           1966,
           192,
           1520,
           1223
          ],
          [
           "COR-025",
           976,
           1885,
           1971,
           180,
           2118,
           1132
          ],
          [
           "GIM-012",
           937,
           1911,
           2023,
           195,
           1921,
           1195
          ],
          [
           "GIM-024",
           573,
           1633,
           1547,
           120,
           1419,
           965
          ],
          [
           "JUT-008",
           745,
           1999,
           1922,
           161,
           2286,
           1304
          ],
          [
           "JUT-011",
           806,
           1999,
           1952,
           194,
           1767,
           1251
          ],
          [
           "KIE-094",
           852,
           2184,
           2104,
           208,
           2011,
           1386
          ],
          [
           "LUN-004",
           822,
           2053,
           1961,
           193,
           1678,
           1235
          ],
          [
           "LUN-007",
           969,
           2009,
           2073,
           169,
           1712,
           1210
          ],
          [
           "MUN-008",
           580,
           1165,
           1264,
           78,
           1071,
           674
          ],
          [
           "MUN-009",
           936,
           1955,
           1976,
           164,
           2251,
           1182
          ],
          [
           "MUN-013",
           906,
           1983,
           1939,
           190,
           1894,
           1175
          ],
          [
           "MUN-015",
           931,
           2067,
           1979,
           176,
           1864,
           1214
          ],
          [
           "MUN-016",
           683,
           1907,
           1803,
           152,
           1735,
           1160
          ],
          [
           "MUN-020",
           927,
           1968,
           1977,
           197,
           1896,
           1133
          ],
          [
           "RAL-059",
           803,
           1955,
           2044,
           156,
           1848,
           1201
          ],
          [
           "RAL-091",
           936,
           2054,
           2123,
           170,
           1898,
           1179
          ],
          [
           "RAL-176",
           1035,
           2208,
           2320,
           231,
           2073,
           1210
          ],
          [
           "RAL-177",
           605,
           1661,
           1661,
           137,
           1420,
           954
          ],
          [
           "RAL-375",
           688,
           1945,
           1822,
           142,
           1945,
           1184
          ],
          [
           "RAL-426",
           997,
           2169,
           2211,
           232,
           1863,
           1361
          ],
          [
           "RAL-737",
           885,
           2171,
           2199,
           208,
           2532,
           1329
          ],
          [
           "RAL-855",
           874,
           2075,
           2070,
           196,
           1992,
           1240
          ],
          [
           "SLA-001",
           865,
           1888,
           1761,
           150,
           1548,
           1129
          ],
          [
           "STO-022",
           824,
           2033,
           1889,
           173,
           2093,
           1257
          ],
          [
           "TEN-015",
           879,
           1972,
           1816,
           145,
           1784,
           1130
          ],
          [
           "TOM-007",
           787,
           2054,
           1954,
           163,
           1546,
           1241
          ],
          [
           "TOM-008",
           877,
           1921,
           1937,
           164,
           1708,
           1136
          ]
         ],
         "hovertemplate": "SRC=%{x}<br>CNV-R=%{y}<br>sample=%{customdata[0]}<br>CNV-Q=%{customdata[1]}<br>DEL=%{customdata[2]}<br>INS=%{customdata[3]}<br>INV=%{customdata[4]}<br>nCNV-Q=%{customdata[5]}<br>nCNV-R=%{customdata[6]}<extra></extra>",
         "legendgroup": "Rech",
         "marker": {
          "color": "#00cc96"
         },
         "name": "Rech",
         "offsetgroup": "Rech",
         "orientation": "v",
         "points": "all",
         "scalegroup": "True",
         "showlegend": true,
         "type": "violin",
         "x": [
          "Rech",
          "Rech",
          "Rech",
          "Rech",
          "Rech",
          "Rech",
          "Rech",
          "Rech",
          "Rech",
          "Rech",
          "Rech",
          "Rech",
          "Rech",
          "Rech",
          "Rech",
          "Rech",
          "Rech",
          "Rech",
          "Rech",
          "Rech",
          "Rech",
          "Rech",
          "Rech",
          "Rech",
          "Rech",
          "Rech",
          "Rech",
          "Rech",
          "Rech",
          "Rech",
          "Rech",
          "Rech"
         ],
         "x0": " ",
         "xaxis": "x",
         "y": [
          701,
          717,
          691,
          382,
          717,
          714,
          712,
          561,
          682,
          702,
          726,
          699,
          715,
          405,
          696,
          744,
          724,
          674,
          754,
          689,
          700,
          744,
          579,
          678,
          763,
          714,
          740,
          691,
          705,
          742,
          738,
          745
         ],
         "y0": " ",
         "yaxis": "y"
        }
       ],
       "layout": {
        "legend": {
         "title": {
          "text": "SRC"
         },
         "tracegroupgap": 0
        },
        "paper_bgcolor": "rgba(0,0,0,0)",
        "plot_bgcolor": "rgba(0,0,0,0)",
        "template": {
         "data": {
          "bar": [
           {
            "error_x": {
             "color": "#2a3f5f"
            },
            "error_y": {
             "color": "#2a3f5f"
            },
            "marker": {
             "line": {
              "color": "#E5ECF6",
              "width": 0.5
             }
            },
            "type": "bar"
           }
          ],
          "barpolar": [
           {
            "marker": {
             "line": {
              "color": "#E5ECF6",
              "width": 0.5
             }
            },
            "type": "barpolar"
           }
          ],
          "carpet": [
           {
            "aaxis": {
             "endlinecolor": "#2a3f5f",
             "gridcolor": "white",
             "linecolor": "white",
             "minorgridcolor": "white",
             "startlinecolor": "#2a3f5f"
            },
            "baxis": {
             "endlinecolor": "#2a3f5f",
             "gridcolor": "white",
             "linecolor": "white",
             "minorgridcolor": "white",
             "startlinecolor": "#2a3f5f"
            },
            "type": "carpet"
           }
          ],
          "choropleth": [
           {
            "colorbar": {
             "outlinewidth": 0,
             "ticks": ""
            },
            "type": "choropleth"
           }
          ],
          "contour": [
           {
            "colorbar": {
             "outlinewidth": 0,
             "ticks": ""
            },
            "colorscale": [
             [
              0,
              "#0d0887"
             ],
             [
              0.1111111111111111,
              "#46039f"
             ],
             [
              0.2222222222222222,
              "#7201a8"
             ],
             [
              0.3333333333333333,
              "#9c179e"
             ],
             [
              0.4444444444444444,
              "#bd3786"
             ],
             [
              0.5555555555555556,
              "#d8576b"
             ],
             [
              0.6666666666666666,
              "#ed7953"
             ],
             [
              0.7777777777777778,
              "#fb9f3a"
             ],
             [
              0.8888888888888888,
              "#fdca26"
             ],
             [
              1,
              "#f0f921"
             ]
            ],
            "type": "contour"
           }
          ],
          "contourcarpet": [
           {
            "colorbar": {
             "outlinewidth": 0,
             "ticks": ""
            },
            "type": "contourcarpet"
           }
          ],
          "heatmap": [
           {
            "colorbar": {
             "outlinewidth": 0,
             "ticks": ""
            },
            "colorscale": [
             [
              0,
              "#0d0887"
             ],
             [
              0.1111111111111111,
              "#46039f"
             ],
             [
              0.2222222222222222,
              "#7201a8"
             ],
             [
              0.3333333333333333,
              "#9c179e"
             ],
             [
              0.4444444444444444,
              "#bd3786"
             ],
             [
              0.5555555555555556,
              "#d8576b"
             ],
             [
              0.6666666666666666,
              "#ed7953"
             ],
             [
              0.7777777777777778,
              "#fb9f3a"
             ],
             [
              0.8888888888888888,
              "#fdca26"
             ],
             [
              1,
              "#f0f921"
             ]
            ],
            "type": "heatmap"
           }
          ],
          "heatmapgl": [
           {
            "colorbar": {
             "outlinewidth": 0,
             "ticks": ""
            },
            "colorscale": [
             [
              0,
              "#0d0887"
             ],
             [
              0.1111111111111111,
              "#46039f"
             ],
             [
              0.2222222222222222,
              "#7201a8"
             ],
             [
              0.3333333333333333,
              "#9c179e"
             ],
             [
              0.4444444444444444,
              "#bd3786"
             ],
             [
              0.5555555555555556,
              "#d8576b"
             ],
             [
              0.6666666666666666,
              "#ed7953"
             ],
             [
              0.7777777777777778,
              "#fb9f3a"
             ],
             [
              0.8888888888888888,
              "#fdca26"
             ],
             [
              1,
              "#f0f921"
             ]
            ],
            "type": "heatmapgl"
           }
          ],
          "histogram": [
           {
            "marker": {
             "colorbar": {
              "outlinewidth": 0,
              "ticks": ""
             }
            },
            "type": "histogram"
           }
          ],
          "histogram2d": [
           {
            "colorbar": {
             "outlinewidth": 0,
             "ticks": ""
            },
            "colorscale": [
             [
              0,
              "#0d0887"
             ],
             [
              0.1111111111111111,
              "#46039f"
             ],
             [
              0.2222222222222222,
              "#7201a8"
             ],
             [
              0.3333333333333333,
              "#9c179e"
             ],
             [
              0.4444444444444444,
              "#bd3786"
             ],
             [
              0.5555555555555556,
              "#d8576b"
             ],
             [
              0.6666666666666666,
              "#ed7953"
             ],
             [
              0.7777777777777778,
              "#fb9f3a"
             ],
             [
              0.8888888888888888,
              "#fdca26"
             ],
             [
              1,
              "#f0f921"
             ]
            ],
            "type": "histogram2d"
           }
          ],
          "histogram2dcontour": [
           {
            "colorbar": {
             "outlinewidth": 0,
             "ticks": ""
            },
            "colorscale": [
             [
              0,
              "#0d0887"
             ],
             [
              0.1111111111111111,
              "#46039f"
             ],
             [
              0.2222222222222222,
              "#7201a8"
             ],
             [
              0.3333333333333333,
              "#9c179e"
             ],
             [
              0.4444444444444444,
              "#bd3786"
             ],
             [
              0.5555555555555556,
              "#d8576b"
             ],
             [
              0.6666666666666666,
              "#ed7953"
             ],
             [
              0.7777777777777778,
              "#fb9f3a"
             ],
             [
              0.8888888888888888,
              "#fdca26"
             ],
             [
              1,
              "#f0f921"
             ]
            ],
            "type": "histogram2dcontour"
           }
          ],
          "mesh3d": [
           {
            "colorbar": {
             "outlinewidth": 0,
             "ticks": ""
            },
            "type": "mesh3d"
           }
          ],
          "parcoords": [
           {
            "line": {
             "colorbar": {
              "outlinewidth": 0,
              "ticks": ""
             }
            },
            "type": "parcoords"
           }
          ],
          "pie": [
           {
            "automargin": true,
            "type": "pie"
           }
          ],
          "scatter": [
           {
            "marker": {
             "colorbar": {
              "outlinewidth": 0,
              "ticks": ""
             }
            },
            "type": "scatter"
           }
          ],
          "scatter3d": [
           {
            "line": {
             "colorbar": {
              "outlinewidth": 0,
              "ticks": ""
             }
            },
            "marker": {
             "colorbar": {
              "outlinewidth": 0,
              "ticks": ""
             }
            },
            "type": "scatter3d"
           }
          ],
          "scattercarpet": [
           {
            "marker": {
             "colorbar": {
              "outlinewidth": 0,
              "ticks": ""
             }
            },
            "type": "scattercarpet"
           }
          ],
          "scattergeo": [
           {
            "marker": {
             "colorbar": {
              "outlinewidth": 0,
              "ticks": ""
             }
            },
            "type": "scattergeo"
           }
          ],
          "scattergl": [
           {
            "marker": {
             "colorbar": {
              "outlinewidth": 0,
              "ticks": ""
             }
            },
            "type": "scattergl"
           }
          ],
          "scattermapbox": [
           {
            "marker": {
             "colorbar": {
              "outlinewidth": 0,
              "ticks": ""
             }
            },
            "type": "scattermapbox"
           }
          ],
          "scatterpolar": [
           {
            "marker": {
             "colorbar": {
              "outlinewidth": 0,
              "ticks": ""
             }
            },
            "type": "scatterpolar"
           }
          ],
          "scatterpolargl": [
           {
            "marker": {
             "colorbar": {
              "outlinewidth": 0,
              "ticks": ""
             }
            },
            "type": "scatterpolargl"
           }
          ],
          "scatterternary": [
           {
            "marker": {
             "colorbar": {
              "outlinewidth": 0,
              "ticks": ""
             }
            },
            "type": "scatterternary"
           }
          ],
          "surface": [
           {
            "colorbar": {
             "outlinewidth": 0,
             "ticks": ""
            },
            "colorscale": [
             [
              0,
              "#0d0887"
             ],
             [
              0.1111111111111111,
              "#46039f"
             ],
             [
              0.2222222222222222,
              "#7201a8"
             ],
             [
              0.3333333333333333,
              "#9c179e"
             ],
             [
              0.4444444444444444,
              "#bd3786"
             ],
             [
              0.5555555555555556,
              "#d8576b"
             ],
             [
              0.6666666666666666,
              "#ed7953"
             ],
             [
              0.7777777777777778,
              "#fb9f3a"
             ],
             [
              0.8888888888888888,
              "#fdca26"
             ],
             [
              1,
              "#f0f921"
             ]
            ],
            "type": "surface"
           }
          ],
          "table": [
           {
            "cells": {
             "fill": {
              "color": "#EBF0F8"
             },
             "line": {
              "color": "white"
             }
            },
            "header": {
             "fill": {
              "color": "#C8D4E3"
             },
             "line": {
              "color": "white"
             }
            },
            "type": "table"
           }
          ]
         },
         "layout": {
          "annotationdefaults": {
           "arrowcolor": "#2a3f5f",
           "arrowhead": 0,
           "arrowwidth": 1
          },
          "autotypenumbers": "strict",
          "coloraxis": {
           "colorbar": {
            "outlinewidth": 0,
            "ticks": ""
           }
          },
          "colorscale": {
           "diverging": [
            [
             0,
             "#8e0152"
            ],
            [
             0.1,
             "#c51b7d"
            ],
            [
             0.2,
             "#de77ae"
            ],
            [
             0.3,
             "#f1b6da"
            ],
            [
             0.4,
             "#fde0ef"
            ],
            [
             0.5,
             "#f7f7f7"
            ],
            [
             0.6,
             "#e6f5d0"
            ],
            [
             0.7,
             "#b8e186"
            ],
            [
             0.8,
             "#7fbc41"
            ],
            [
             0.9,
             "#4d9221"
            ],
            [
             1,
             "#276419"
            ]
           ],
           "sequential": [
            [
             0,
             "#0d0887"
            ],
            [
             0.1111111111111111,
             "#46039f"
            ],
            [
             0.2222222222222222,
             "#7201a8"
            ],
            [
             0.3333333333333333,
             "#9c179e"
            ],
            [
             0.4444444444444444,
             "#bd3786"
            ],
            [
             0.5555555555555556,
             "#d8576b"
            ],
            [
             0.6666666666666666,
             "#ed7953"
            ],
            [
             0.7777777777777778,
             "#fb9f3a"
            ],
            [
             0.8888888888888888,
             "#fdca26"
            ],
            [
             1,
             "#f0f921"
            ]
           ],
           "sequentialminus": [
            [
             0,
             "#0d0887"
            ],
            [
             0.1111111111111111,
             "#46039f"
            ],
            [
             0.2222222222222222,
             "#7201a8"
            ],
            [
             0.3333333333333333,
             "#9c179e"
            ],
            [
             0.4444444444444444,
             "#bd3786"
            ],
            [
             0.5555555555555556,
             "#d8576b"
            ],
            [
             0.6666666666666666,
             "#ed7953"
            ],
            [
             0.7777777777777778,
             "#fb9f3a"
            ],
            [
             0.8888888888888888,
             "#fdca26"
            ],
            [
             1,
             "#f0f921"
            ]
           ]
          },
          "colorway": [
           "#636efa",
           "#EF553B",
           "#00cc96",
           "#ab63fa",
           "#FFA15A",
           "#19d3f3",
           "#FF6692",
           "#B6E880",
           "#FF97FF",
           "#FECB52"
          ],
          "font": {
           "color": "#2a3f5f"
          },
          "geo": {
           "bgcolor": "white",
           "lakecolor": "white",
           "landcolor": "#E5ECF6",
           "showlakes": true,
           "showland": true,
           "subunitcolor": "white"
          },
          "hoverlabel": {
           "align": "left"
          },
          "hovermode": "closest",
          "mapbox": {
           "style": "light"
          },
          "paper_bgcolor": "white",
          "plot_bgcolor": "#E5ECF6",
          "polar": {
           "angularaxis": {
            "gridcolor": "white",
            "linecolor": "white",
            "ticks": ""
           },
           "bgcolor": "#E5ECF6",
           "radialaxis": {
            "gridcolor": "white",
            "linecolor": "white",
            "ticks": ""
           }
          },
          "scene": {
           "xaxis": {
            "backgroundcolor": "#E5ECF6",
            "gridcolor": "white",
            "gridwidth": 2,
            "linecolor": "white",
            "showbackground": true,
            "ticks": "",
            "zerolinecolor": "white"
           },
           "yaxis": {
            "backgroundcolor": "#E5ECF6",
            "gridcolor": "white",
            "gridwidth": 2,
            "linecolor": "white",
            "showbackground": true,
            "ticks": "",
            "zerolinecolor": "white"
           },
           "zaxis": {
            "backgroundcolor": "#E5ECF6",
            "gridcolor": "white",
            "gridwidth": 2,
            "linecolor": "white",
            "showbackground": true,
            "ticks": "",
            "zerolinecolor": "white"
           }
          },
          "shapedefaults": {
           "line": {
            "color": "#2a3f5f"
           }
          },
          "ternary": {
           "aaxis": {
            "gridcolor": "white",
            "linecolor": "white",
            "ticks": ""
           },
           "baxis": {
            "gridcolor": "white",
            "linecolor": "white",
            "ticks": ""
           },
           "bgcolor": "#E5ECF6",
           "caxis": {
            "gridcolor": "white",
            "linecolor": "white",
            "ticks": ""
           }
          },
          "title": {
           "x": 0.05
          },
          "xaxis": {
           "automargin": true,
           "gridcolor": "white",
           "linecolor": "white",
           "ticks": "",
           "title": {
            "standoff": 15
           },
           "zerolinecolor": "white",
           "zerolinewidth": 2
          },
          "yaxis": {
           "automargin": true,
           "gridcolor": "white",
           "linecolor": "white",
           "ticks": "",
           "title": {
            "standoff": 15
           },
           "zerolinecolor": "white",
           "zerolinewidth": 2
          }
         }
        },
        "title": {
         "text": "Refference CNV distribution per each sample source"
        },
        "violinmode": "overlay",
        "xaxis": {
         "anchor": "y",
         "categoryarray": [
          "Long",
          "Chakraborty",
          "Rech"
         ],
         "categoryorder": "array",
         "domain": [
          0,
          1
         ],
         "title": {
          "text": "SRC"
         }
        },
        "yaxis": {
         "anchor": "x",
         "domain": [
          0,
          1
         ],
         "title": {
          "text": "CNV-R"
         }
        }
       }
      },
      "text/html": [
       "<div>                            <div id=\"49a684c3-86cc-448d-90d0-3375c22e34b0\" class=\"plotly-graph-div\" style=\"height:525px; width:100%;\"></div>            <script type=\"text/javascript\">                require([\"plotly\"], function(Plotly) {                    window.PLOTLYENV=window.PLOTLYENV || {};                                    if (document.getElementById(\"49a684c3-86cc-448d-90d0-3375c22e34b0\")) {                    Plotly.newPlot(                        \"49a684c3-86cc-448d-90d0-3375c22e34b0\",                        [{\"alignmentgroup\": \"True\", \"box\": {\"visible\": true}, \"customdata\": [[\"B59\", 766, 1949, 1830, 136, 1133, 1032], [\"I23\", 657, 1749, 1629, 133, 786, 790], [\"N25\", 699, 1821, 1692, 134, 941, 972], [\"T29A\", 695, 1747, 1606, 129, 898, 914], [\"ZH26\", 846, 2169, 1696, 153, 915, 1021]], \"hovertemplate\": \"SRC=%{x}<br>CNV-R=%{y}<br>sample=%{customdata[0]}<br>CNV-Q=%{customdata[1]}<br>DEL=%{customdata[2]}<br>INS=%{customdata[3]}<br>INV=%{customdata[4]}<br>nCNV-Q=%{customdata[5]}<br>nCNV-R=%{customdata[6]}<extra></extra>\", \"legendgroup\": \"Long\", \"marker\": {\"color\": \"#636efa\"}, \"name\": \"Long\", \"offsetgroup\": \"Long\", \"orientation\": \"v\", \"points\": \"all\", \"scalegroup\": \"True\", \"showlegend\": true, \"type\": \"violin\", \"x\": [\"Long\", \"Long\", \"Long\", \"Long\", \"Long\"], \"x0\": \" \", \"xaxis\": \"x\", \"y\": [725, 713, 716, 697, 755], \"y0\": \" \", \"yaxis\": \"y\"}, {\"alignmentgroup\": \"True\", \"box\": {\"visible\": true}, \"customdata\": [[\"A1\", 659, 1824, 1903, 152, 1677, 1153], [\"A2\", 795, 2127, 2044, 203, 1726, 1309], [\"A3\", 610, 1908, 1757, 178, 1349, 1105], [\"A4\", 624, 1833, 1780, 155, 1807, 1102], [\"A5\", 588, 2007, 1816, 135, 1475, 1198], [\"A6\", 729, 1923, 2031, 168, 1355, 1101], [\"A7\", 764, 2347, 2066, 173, 1717, 1423], [\"AB8\", 570, 1675, 1603, 133, 1559, 978], [\"B1\", 659, 2165, 1940, 215, 1670, 1362], [\"B2\", 770, 1927, 2054, 186, 1578, 1211], [\"B3\", 647, 1965, 1884, 169, 1692, 1184], [\"B4\", 694, 1985, 1936, 149, 1443, 1223], [\"B6\", 634, 1891, 1787, 155, 1575, 1150], [\"OreR\", 767, 2016, 1857, 206, 1488, 1266]], \"hovertemplate\": \"SRC=%{x}<br>CNV-R=%{y}<br>sample=%{customdata[0]}<br>CNV-Q=%{customdata[1]}<br>DEL=%{customdata[2]}<br>INS=%{customdata[3]}<br>INV=%{customdata[4]}<br>nCNV-Q=%{customdata[5]}<br>nCNV-R=%{customdata[6]}<extra></extra>\", \"legendgroup\": \"Chakraborty\", \"marker\": {\"color\": \"#EF553B\"}, \"name\": \"Chakraborty\", \"offsetgroup\": \"Chakraborty\", \"orientation\": \"v\", \"points\": \"all\", \"scalegroup\": \"True\", \"showlegend\": true, \"type\": \"violin\", \"x\": [\"Chakraborty\", \"Chakraborty\", \"Chakraborty\", \"Chakraborty\", \"Chakraborty\", \"Chakraborty\", \"Chakraborty\", \"Chakraborty\", \"Chakraborty\", \"Chakraborty\", \"Chakraborty\", \"Chakraborty\", \"Chakraborty\", \"Chakraborty\"], \"x0\": \" \", \"xaxis\": \"x\", \"y\": [640, 731, 694, 669, 704, 744, 736, 602, 733, 717, 693, 686, 699, 758], \"y0\": \" \", \"yaxis\": \"y\"}, {\"alignmentgroup\": \"True\", \"box\": {\"visible\": true}, \"customdata\": [[\"AKA-017\", 659, 1944, 1863, 151, 2178, 1138], [\"AKA-018\", 714, 2044, 1857, 173, 1698, 1239], [\"COR-014\", 817, 2005, 1887, 161, 1847, 1182], [\"COR-018\", 594, 1147, 1239, 84, 1100, 684], [\"COR-023\", 923, 1975, 1966, 192, 1520, 1223], [\"COR-025\", 976, 1885, 1971, 180, 2118, 1132], [\"GIM-012\", 937, 1911, 2023, 195, 1921, 1195], [\"GIM-024\", 573, 1633, 1547, 120, 1419, 965], [\"JUT-008\", 745, 1999, 1922, 161, 2286, 1304], [\"JUT-011\", 806, 1999, 1952, 194, 1767, 1251], [\"KIE-094\", 852, 2184, 2104, 208, 2011, 1386], [\"LUN-004\", 822, 2053, 1961, 193, 1678, 1235], [\"LUN-007\", 969, 2009, 2073, 169, 1712, 1210], [\"MUN-008\", 580, 1165, 1264, 78, 1071, 674], [\"MUN-009\", 936, 1955, 1976, 164, 2251, 1182], [\"MUN-013\", 906, 1983, 1939, 190, 1894, 1175], [\"MUN-015\", 931, 2067, 1979, 176, 1864, 1214], [\"MUN-016\", 683, 1907, 1803, 152, 1735, 1160], [\"MUN-020\", 927, 1968, 1977, 197, 1896, 1133], [\"RAL-059\", 803, 1955, 2044, 156, 1848, 1201], [\"RAL-091\", 936, 2054, 2123, 170, 1898, 1179], [\"RAL-176\", 1035, 2208, 2320, 231, 2073, 1210], [\"RAL-177\", 605, 1661, 1661, 137, 1420, 954], [\"RAL-375\", 688, 1945, 1822, 142, 1945, 1184], [\"RAL-426\", 997, 2169, 2211, 232, 1863, 1361], [\"RAL-737\", 885, 2171, 2199, 208, 2532, 1329], [\"RAL-855\", 874, 2075, 2070, 196, 1992, 1240], [\"SLA-001\", 865, 1888, 1761, 150, 1548, 1129], [\"STO-022\", 824, 2033, 1889, 173, 2093, 1257], [\"TEN-015\", 879, 1972, 1816, 145, 1784, 1130], [\"TOM-007\", 787, 2054, 1954, 163, 1546, 1241], [\"TOM-008\", 877, 1921, 1937, 164, 1708, 1136]], \"hovertemplate\": \"SRC=%{x}<br>CNV-R=%{y}<br>sample=%{customdata[0]}<br>CNV-Q=%{customdata[1]}<br>DEL=%{customdata[2]}<br>INS=%{customdata[3]}<br>INV=%{customdata[4]}<br>nCNV-Q=%{customdata[5]}<br>nCNV-R=%{customdata[6]}<extra></extra>\", \"legendgroup\": \"Rech\", \"marker\": {\"color\": \"#00cc96\"}, \"name\": \"Rech\", \"offsetgroup\": \"Rech\", \"orientation\": \"v\", \"points\": \"all\", \"scalegroup\": \"True\", \"showlegend\": true, \"type\": \"violin\", \"x\": [\"Rech\", \"Rech\", \"Rech\", \"Rech\", \"Rech\", \"Rech\", \"Rech\", \"Rech\", \"Rech\", \"Rech\", \"Rech\", \"Rech\", \"Rech\", \"Rech\", \"Rech\", \"Rech\", \"Rech\", \"Rech\", \"Rech\", \"Rech\", \"Rech\", \"Rech\", \"Rech\", \"Rech\", \"Rech\", \"Rech\", \"Rech\", \"Rech\", \"Rech\", \"Rech\", \"Rech\", \"Rech\"], \"x0\": \" \", \"xaxis\": \"x\", \"y\": [701, 717, 691, 382, 717, 714, 712, 561, 682, 702, 726, 699, 715, 405, 696, 744, 724, 674, 754, 689, 700, 744, 579, 678, 763, 714, 740, 691, 705, 742, 738, 745], \"y0\": \" \", \"yaxis\": \"y\"}],                        {\"legend\": {\"title\": {\"text\": \"SRC\"}, \"tracegroupgap\": 0}, \"paper_bgcolor\": \"rgba(0,0,0,0)\", \"plot_bgcolor\": \"rgba(0,0,0,0)\", \"template\": {\"data\": {\"bar\": [{\"error_x\": {\"color\": \"#2a3f5f\"}, \"error_y\": {\"color\": \"#2a3f5f\"}, \"marker\": {\"line\": {\"color\": \"#E5ECF6\", \"width\": 0.5}}, \"type\": \"bar\"}], \"barpolar\": [{\"marker\": {\"line\": {\"color\": \"#E5ECF6\", \"width\": 0.5}}, \"type\": \"barpolar\"}], \"carpet\": [{\"aaxis\": {\"endlinecolor\": \"#2a3f5f\", \"gridcolor\": \"white\", \"linecolor\": \"white\", \"minorgridcolor\": \"white\", \"startlinecolor\": \"#2a3f5f\"}, \"baxis\": {\"endlinecolor\": \"#2a3f5f\", \"gridcolor\": \"white\", \"linecolor\": \"white\", \"minorgridcolor\": \"white\", \"startlinecolor\": \"#2a3f5f\"}, \"type\": \"carpet\"}], \"choropleth\": [{\"colorbar\": {\"outlinewidth\": 0, \"ticks\": \"\"}, \"type\": \"choropleth\"}], \"contour\": [{\"colorbar\": {\"outlinewidth\": 0, \"ticks\": \"\"}, \"colorscale\": [[0.0, \"#0d0887\"], [0.1111111111111111, \"#46039f\"], [0.2222222222222222, \"#7201a8\"], [0.3333333333333333, \"#9c179e\"], [0.4444444444444444, \"#bd3786\"], [0.5555555555555556, \"#d8576b\"], [0.6666666666666666, \"#ed7953\"], [0.7777777777777778, \"#fb9f3a\"], [0.8888888888888888, \"#fdca26\"], [1.0, \"#f0f921\"]], \"type\": \"contour\"}], \"contourcarpet\": [{\"colorbar\": {\"outlinewidth\": 0, \"ticks\": \"\"}, \"type\": \"contourcarpet\"}], \"heatmap\": [{\"colorbar\": {\"outlinewidth\": 0, \"ticks\": \"\"}, \"colorscale\": [[0.0, \"#0d0887\"], [0.1111111111111111, \"#46039f\"], [0.2222222222222222, \"#7201a8\"], [0.3333333333333333, \"#9c179e\"], [0.4444444444444444, \"#bd3786\"], [0.5555555555555556, \"#d8576b\"], [0.6666666666666666, \"#ed7953\"], [0.7777777777777778, \"#fb9f3a\"], [0.8888888888888888, \"#fdca26\"], [1.0, \"#f0f921\"]], \"type\": \"heatmap\"}], \"heatmapgl\": [{\"colorbar\": {\"outlinewidth\": 0, \"ticks\": \"\"}, \"colorscale\": [[0.0, \"#0d0887\"], [0.1111111111111111, \"#46039f\"], [0.2222222222222222, \"#7201a8\"], [0.3333333333333333, \"#9c179e\"], [0.4444444444444444, \"#bd3786\"], [0.5555555555555556, \"#d8576b\"], [0.6666666666666666, \"#ed7953\"], [0.7777777777777778, \"#fb9f3a\"], [0.8888888888888888, \"#fdca26\"], [1.0, \"#f0f921\"]], \"type\": \"heatmapgl\"}], \"histogram\": [{\"marker\": {\"colorbar\": {\"outlinewidth\": 0, \"ticks\": \"\"}}, \"type\": \"histogram\"}], \"histogram2d\": [{\"colorbar\": {\"outlinewidth\": 0, \"ticks\": \"\"}, \"colorscale\": [[0.0, \"#0d0887\"], [0.1111111111111111, \"#46039f\"], [0.2222222222222222, \"#7201a8\"], [0.3333333333333333, \"#9c179e\"], [0.4444444444444444, \"#bd3786\"], [0.5555555555555556, \"#d8576b\"], [0.6666666666666666, \"#ed7953\"], [0.7777777777777778, \"#fb9f3a\"], [0.8888888888888888, \"#fdca26\"], [1.0, \"#f0f921\"]], \"type\": \"histogram2d\"}], \"histogram2dcontour\": [{\"colorbar\": {\"outlinewidth\": 0, \"ticks\": \"\"}, \"colorscale\": [[0.0, \"#0d0887\"], [0.1111111111111111, \"#46039f\"], [0.2222222222222222, \"#7201a8\"], [0.3333333333333333, \"#9c179e\"], [0.4444444444444444, \"#bd3786\"], [0.5555555555555556, \"#d8576b\"], [0.6666666666666666, \"#ed7953\"], [0.7777777777777778, \"#fb9f3a\"], [0.8888888888888888, \"#fdca26\"], [1.0, \"#f0f921\"]], \"type\": \"histogram2dcontour\"}], \"mesh3d\": [{\"colorbar\": {\"outlinewidth\": 0, \"ticks\": \"\"}, \"type\": \"mesh3d\"}], \"parcoords\": [{\"line\": {\"colorbar\": {\"outlinewidth\": 0, \"ticks\": \"\"}}, \"type\": \"parcoords\"}], \"pie\": [{\"automargin\": true, \"type\": \"pie\"}], \"scatter\": [{\"marker\": {\"colorbar\": {\"outlinewidth\": 0, \"ticks\": \"\"}}, \"type\": \"scatter\"}], \"scatter3d\": [{\"line\": {\"colorbar\": {\"outlinewidth\": 0, \"ticks\": \"\"}}, \"marker\": {\"colorbar\": {\"outlinewidth\": 0, \"ticks\": \"\"}}, \"type\": \"scatter3d\"}], \"scattercarpet\": [{\"marker\": {\"colorbar\": {\"outlinewidth\": 0, \"ticks\": \"\"}}, \"type\": \"scattercarpet\"}], \"scattergeo\": [{\"marker\": {\"colorbar\": {\"outlinewidth\": 0, \"ticks\": \"\"}}, \"type\": \"scattergeo\"}], \"scattergl\": [{\"marker\": {\"colorbar\": {\"outlinewidth\": 0, \"ticks\": \"\"}}, \"type\": \"scattergl\"}], \"scattermapbox\": [{\"marker\": {\"colorbar\": {\"outlinewidth\": 0, \"ticks\": \"\"}}, \"type\": \"scattermapbox\"}], \"scatterpolar\": [{\"marker\": {\"colorbar\": {\"outlinewidth\": 0, \"ticks\": \"\"}}, \"type\": \"scatterpolar\"}], \"scatterpolargl\": [{\"marker\": {\"colorbar\": {\"outlinewidth\": 0, \"ticks\": \"\"}}, \"type\": \"scatterpolargl\"}], \"scatterternary\": [{\"marker\": {\"colorbar\": {\"outlinewidth\": 0, \"ticks\": \"\"}}, \"type\": \"scatterternary\"}], \"surface\": [{\"colorbar\": {\"outlinewidth\": 0, \"ticks\": \"\"}, \"colorscale\": [[0.0, \"#0d0887\"], [0.1111111111111111, \"#46039f\"], [0.2222222222222222, \"#7201a8\"], [0.3333333333333333, \"#9c179e\"], [0.4444444444444444, \"#bd3786\"], [0.5555555555555556, \"#d8576b\"], [0.6666666666666666, \"#ed7953\"], [0.7777777777777778, \"#fb9f3a\"], [0.8888888888888888, \"#fdca26\"], [1.0, \"#f0f921\"]], \"type\": \"surface\"}], \"table\": [{\"cells\": {\"fill\": {\"color\": \"#EBF0F8\"}, \"line\": {\"color\": \"white\"}}, \"header\": {\"fill\": {\"color\": \"#C8D4E3\"}, \"line\": {\"color\": \"white\"}}, \"type\": \"table\"}]}, \"layout\": {\"annotationdefaults\": {\"arrowcolor\": \"#2a3f5f\", \"arrowhead\": 0, \"arrowwidth\": 1}, \"autotypenumbers\": \"strict\", \"coloraxis\": {\"colorbar\": {\"outlinewidth\": 0, \"ticks\": \"\"}}, \"colorscale\": {\"diverging\": [[0, \"#8e0152\"], [0.1, \"#c51b7d\"], [0.2, \"#de77ae\"], [0.3, \"#f1b6da\"], [0.4, \"#fde0ef\"], [0.5, \"#f7f7f7\"], [0.6, \"#e6f5d0\"], [0.7, \"#b8e186\"], [0.8, \"#7fbc41\"], [0.9, \"#4d9221\"], [1, \"#276419\"]], \"sequential\": [[0.0, \"#0d0887\"], [0.1111111111111111, \"#46039f\"], [0.2222222222222222, \"#7201a8\"], [0.3333333333333333, \"#9c179e\"], [0.4444444444444444, \"#bd3786\"], [0.5555555555555556, \"#d8576b\"], [0.6666666666666666, \"#ed7953\"], [0.7777777777777778, \"#fb9f3a\"], [0.8888888888888888, \"#fdca26\"], [1.0, \"#f0f921\"]], \"sequentialminus\": [[0.0, \"#0d0887\"], [0.1111111111111111, \"#46039f\"], [0.2222222222222222, \"#7201a8\"], [0.3333333333333333, \"#9c179e\"], [0.4444444444444444, \"#bd3786\"], [0.5555555555555556, \"#d8576b\"], [0.6666666666666666, \"#ed7953\"], [0.7777777777777778, \"#fb9f3a\"], [0.8888888888888888, \"#fdca26\"], [1.0, \"#f0f921\"]]}, \"colorway\": [\"#636efa\", \"#EF553B\", \"#00cc96\", \"#ab63fa\", \"#FFA15A\", \"#19d3f3\", \"#FF6692\", \"#B6E880\", \"#FF97FF\", \"#FECB52\"], \"font\": {\"color\": \"#2a3f5f\"}, \"geo\": {\"bgcolor\": \"white\", \"lakecolor\": \"white\", \"landcolor\": \"#E5ECF6\", \"showlakes\": true, \"showland\": true, \"subunitcolor\": \"white\"}, \"hoverlabel\": {\"align\": \"left\"}, \"hovermode\": \"closest\", \"mapbox\": {\"style\": \"light\"}, \"paper_bgcolor\": \"white\", \"plot_bgcolor\": \"#E5ECF6\", \"polar\": {\"angularaxis\": {\"gridcolor\": \"white\", \"linecolor\": \"white\", \"ticks\": \"\"}, \"bgcolor\": \"#E5ECF6\", \"radialaxis\": {\"gridcolor\": \"white\", \"linecolor\": \"white\", \"ticks\": \"\"}}, \"scene\": {\"xaxis\": {\"backgroundcolor\": \"#E5ECF6\", \"gridcolor\": \"white\", \"gridwidth\": 2, \"linecolor\": \"white\", \"showbackground\": true, \"ticks\": \"\", \"zerolinecolor\": \"white\"}, \"yaxis\": {\"backgroundcolor\": \"#E5ECF6\", \"gridcolor\": \"white\", \"gridwidth\": 2, \"linecolor\": \"white\", \"showbackground\": true, \"ticks\": \"\", \"zerolinecolor\": \"white\"}, \"zaxis\": {\"backgroundcolor\": \"#E5ECF6\", \"gridcolor\": \"white\", \"gridwidth\": 2, \"linecolor\": \"white\", \"showbackground\": true, \"ticks\": \"\", \"zerolinecolor\": \"white\"}}, \"shapedefaults\": {\"line\": {\"color\": \"#2a3f5f\"}}, \"ternary\": {\"aaxis\": {\"gridcolor\": \"white\", \"linecolor\": \"white\", \"ticks\": \"\"}, \"baxis\": {\"gridcolor\": \"white\", \"linecolor\": \"white\", \"ticks\": \"\"}, \"bgcolor\": \"#E5ECF6\", \"caxis\": {\"gridcolor\": \"white\", \"linecolor\": \"white\", \"ticks\": \"\"}}, \"title\": {\"x\": 0.05}, \"xaxis\": {\"automargin\": true, \"gridcolor\": \"white\", \"linecolor\": \"white\", \"ticks\": \"\", \"title\": {\"standoff\": 15}, \"zerolinecolor\": \"white\", \"zerolinewidth\": 2}, \"yaxis\": {\"automargin\": true, \"gridcolor\": \"white\", \"linecolor\": \"white\", \"ticks\": \"\", \"title\": {\"standoff\": 15}, \"zerolinecolor\": \"white\", \"zerolinewidth\": 2}}}, \"title\": {\"text\": \"Refference CNV distribution per each sample source\"}, \"violinmode\": \"overlay\", \"xaxis\": {\"anchor\": \"y\", \"categoryarray\": [\"Long\", \"Chakraborty\", \"Rech\"], \"categoryorder\": \"array\", \"domain\": [0.0, 1.0], \"title\": {\"text\": \"SRC\"}}, \"yaxis\": {\"anchor\": \"x\", \"domain\": [0.0, 1.0], \"title\": {\"text\": \"CNV-R\"}}},                        {\"responsive\": true}                    ).then(function(){\n",
       "                            \n",
       "var gd = document.getElementById('49a684c3-86cc-448d-90d0-3375c22e34b0');\n",
       "var x = new MutationObserver(function (mutations, observer) {{\n",
       "        var display = window.getComputedStyle(gd).display;\n",
       "        if (!display || display === 'none') {{\n",
       "            console.log([gd, 'removed!']);\n",
       "            Plotly.purge(gd);\n",
       "            observer.disconnect();\n",
       "        }}\n",
       "}});\n",
       "\n",
       "// Listen for the removal of the full notebook cells\n",
       "var notebookContainer = gd.closest('#notebook-container');\n",
       "if (notebookContainer) {{\n",
       "    x.observe(notebookContainer, {childList: true});\n",
       "}}\n",
       "\n",
       "// Listen for the clearing of the current output cell\n",
       "var outputEl = gd.closest('.output');\n",
       "if (outputEl) {{\n",
       "    x.observe(outputEl, {childList: true});\n",
       "}}\n",
       "\n",
       "                        })                };                });            </script>        </div>"
      ]
     },
     "metadata": {},
     "output_type": "display_data"
    }
   ],
   "source": [
    "fig = px.violin(df, y=\"CNV-R\", x=\"SRC\", color=\"SRC\", box=True, points=\"all\", title=\"Refference CNV distribution per each sample source\",\n",
    "          hover_data=df.columns)\n",
    "\n",
    "fig.update_layout(\n",
    "    paper_bgcolor='rgba(0,0,0,0)',\n",
    "    plot_bgcolor='rgba(0,0,0,0)'\n",
    ")\n",
    "fig.show()"
   ]
  },
  {
   "cell_type": "code",
   "execution_count": 241,
   "metadata": {},
   "outputs": [
    {
     "data": {
      "application/vnd.plotly.v1+json": {
       "config": {
        "plotlyServerURL": "https://plot.ly"
       },
       "data": [
        {
         "alignmentgroup": "True",
         "box": {
          "visible": true
         },
         "customdata": [
          [
           "B59",
           766,
           725,
           1949,
           136,
           1133,
           1032
          ],
          [
           "I23",
           657,
           713,
           1749,
           133,
           786,
           790
          ],
          [
           "N25",
           699,
           716,
           1821,
           134,
           941,
           972
          ],
          [
           "T29A",
           695,
           697,
           1747,
           129,
           898,
           914
          ],
          [
           "ZH26",
           846,
           755,
           2169,
           153,
           915,
           1021
          ]
         ],
         "hovertemplate": "SRC=%{x}<br>INS=%{y}<br>sample=%{customdata[0]}<br>CNV-Q=%{customdata[1]}<br>CNV-R=%{customdata[2]}<br>DEL=%{customdata[3]}<br>INV=%{customdata[4]}<br>nCNV-Q=%{customdata[5]}<br>nCNV-R=%{customdata[6]}<extra></extra>",
         "legendgroup": "Long",
         "marker": {
          "color": "#636efa"
         },
         "name": "Long",
         "offsetgroup": "Long",
         "orientation": "v",
         "points": "all",
         "scalegroup": "True",
         "showlegend": true,
         "type": "violin",
         "x": [
          "Long",
          "Long",
          "Long",
          "Long",
          "Long"
         ],
         "x0": " ",
         "xaxis": "x",
         "y": [
          1830,
          1629,
          1692,
          1606,
          1696
         ],
         "y0": " ",
         "yaxis": "y"
        },
        {
         "alignmentgroup": "True",
         "box": {
          "visible": true
         },
         "customdata": [
          [
           "A1",
           659,
           640,
           1824,
           152,
           1677,
           1153
          ],
          [
           "A2",
           795,
           731,
           2127,
           203,
           1726,
           1309
          ],
          [
           "A3",
           610,
           694,
           1908,
           178,
           1349,
           1105
          ],
          [
           "A4",
           624,
           669,
           1833,
           155,
           1807,
           1102
          ],
          [
           "A5",
           588,
           704,
           2007,
           135,
           1475,
           1198
          ],
          [
           "A6",
           729,
           744,
           1923,
           168,
           1355,
           1101
          ],
          [
           "A7",
           764,
           736,
           2347,
           173,
           1717,
           1423
          ],
          [
           "AB8",
           570,
           602,
           1675,
           133,
           1559,
           978
          ],
          [
           "B1",
           659,
           733,
           2165,
           215,
           1670,
           1362
          ],
          [
           "B2",
           770,
           717,
           1927,
           186,
           1578,
           1211
          ],
          [
           "B3",
           647,
           693,
           1965,
           169,
           1692,
           1184
          ],
          [
           "B4",
           694,
           686,
           1985,
           149,
           1443,
           1223
          ],
          [
           "B6",
           634,
           699,
           1891,
           155,
           1575,
           1150
          ],
          [
           "OreR",
           767,
           758,
           2016,
           206,
           1488,
           1266
          ]
         ],
         "hovertemplate": "SRC=%{x}<br>INS=%{y}<br>sample=%{customdata[0]}<br>CNV-Q=%{customdata[1]}<br>CNV-R=%{customdata[2]}<br>DEL=%{customdata[3]}<br>INV=%{customdata[4]}<br>nCNV-Q=%{customdata[5]}<br>nCNV-R=%{customdata[6]}<extra></extra>",
         "legendgroup": "Chakraborty",
         "marker": {
          "color": "#EF553B"
         },
         "name": "Chakraborty",
         "offsetgroup": "Chakraborty",
         "orientation": "v",
         "points": "all",
         "scalegroup": "True",
         "showlegend": true,
         "type": "violin",
         "x": [
          "Chakraborty",
          "Chakraborty",
          "Chakraborty",
          "Chakraborty",
          "Chakraborty",
          "Chakraborty",
          "Chakraborty",
          "Chakraborty",
          "Chakraborty",
          "Chakraborty",
          "Chakraborty",
          "Chakraborty",
          "Chakraborty",
          "Chakraborty"
         ],
         "x0": " ",
         "xaxis": "x",
         "y": [
          1903,
          2044,
          1757,
          1780,
          1816,
          2031,
          2066,
          1603,
          1940,
          2054,
          1884,
          1936,
          1787,
          1857
         ],
         "y0": " ",
         "yaxis": "y"
        },
        {
         "alignmentgroup": "True",
         "box": {
          "visible": true
         },
         "customdata": [
          [
           "AKA-017",
           659,
           701,
           1944,
           151,
           2178,
           1138
          ],
          [
           "AKA-018",
           714,
           717,
           2044,
           173,
           1698,
           1239
          ],
          [
           "COR-014",
           817,
           691,
           2005,
           161,
           1847,
           1182
          ],
          [
           "COR-018",
           594,
           382,
           1147,
           84,
           1100,
           684
          ],
          [
           "COR-023",
           923,
           717,
           1975,
           192,
           1520,
           1223
          ],
          [
           "COR-025",
           976,
           714,
           1885,
           180,
           2118,
           1132
          ],
          [
           "GIM-012",
           937,
           712,
           1911,
           195,
           1921,
           1195
          ],
          [
           "GIM-024",
           573,
           561,
           1633,
           120,
           1419,
           965
          ],
          [
           "JUT-008",
           745,
           682,
           1999,
           161,
           2286,
           1304
          ],
          [
           "JUT-011",
           806,
           702,
           1999,
           194,
           1767,
           1251
          ],
          [
           "KIE-094",
           852,
           726,
           2184,
           208,
           2011,
           1386
          ],
          [
           "LUN-004",
           822,
           699,
           2053,
           193,
           1678,
           1235
          ],
          [
           "LUN-007",
           969,
           715,
           2009,
           169,
           1712,
           1210
          ],
          [
           "MUN-008",
           580,
           405,
           1165,
           78,
           1071,
           674
          ],
          [
           "MUN-009",
           936,
           696,
           1955,
           164,
           2251,
           1182
          ],
          [
           "MUN-013",
           906,
           744,
           1983,
           190,
           1894,
           1175
          ],
          [
           "MUN-015",
           931,
           724,
           2067,
           176,
           1864,
           1214
          ],
          [
           "MUN-016",
           683,
           674,
           1907,
           152,
           1735,
           1160
          ],
          [
           "MUN-020",
           927,
           754,
           1968,
           197,
           1896,
           1133
          ],
          [
           "RAL-059",
           803,
           689,
           1955,
           156,
           1848,
           1201
          ],
          [
           "RAL-091",
           936,
           700,
           2054,
           170,
           1898,
           1179
          ],
          [
           "RAL-176",
           1035,
           744,
           2208,
           231,
           2073,
           1210
          ],
          [
           "RAL-177",
           605,
           579,
           1661,
           137,
           1420,
           954
          ],
          [
           "RAL-375",
           688,
           678,
           1945,
           142,
           1945,
           1184
          ],
          [
           "RAL-426",
           997,
           763,
           2169,
           232,
           1863,
           1361
          ],
          [
           "RAL-737",
           885,
           714,
           2171,
           208,
           2532,
           1329
          ],
          [
           "RAL-855",
           874,
           740,
           2075,
           196,
           1992,
           1240
          ],
          [
           "SLA-001",
           865,
           691,
           1888,
           150,
           1548,
           1129
          ],
          [
           "STO-022",
           824,
           705,
           2033,
           173,
           2093,
           1257
          ],
          [
           "TEN-015",
           879,
           742,
           1972,
           145,
           1784,
           1130
          ],
          [
           "TOM-007",
           787,
           738,
           2054,
           163,
           1546,
           1241
          ],
          [
           "TOM-008",
           877,
           745,
           1921,
           164,
           1708,
           1136
          ]
         ],
         "hovertemplate": "SRC=%{x}<br>INS=%{y}<br>sample=%{customdata[0]}<br>CNV-Q=%{customdata[1]}<br>CNV-R=%{customdata[2]}<br>DEL=%{customdata[3]}<br>INV=%{customdata[4]}<br>nCNV-Q=%{customdata[5]}<br>nCNV-R=%{customdata[6]}<extra></extra>",
         "legendgroup": "Rech",
         "marker": {
          "color": "#00cc96"
         },
         "name": "Rech",
         "offsetgroup": "Rech",
         "orientation": "v",
         "points": "all",
         "scalegroup": "True",
         "showlegend": true,
         "type": "violin",
         "x": [
          "Rech",
          "Rech",
          "Rech",
          "Rech",
          "Rech",
          "Rech",
          "Rech",
          "Rech",
          "Rech",
          "Rech",
          "Rech",
          "Rech",
          "Rech",
          "Rech",
          "Rech",
          "Rech",
          "Rech",
          "Rech",
          "Rech",
          "Rech",
          "Rech",
          "Rech",
          "Rech",
          "Rech",
          "Rech",
          "Rech",
          "Rech",
          "Rech",
          "Rech",
          "Rech",
          "Rech",
          "Rech"
         ],
         "x0": " ",
         "xaxis": "x",
         "y": [
          1863,
          1857,
          1887,
          1239,
          1966,
          1971,
          2023,
          1547,
          1922,
          1952,
          2104,
          1961,
          2073,
          1264,
          1976,
          1939,
          1979,
          1803,
          1977,
          2044,
          2123,
          2320,
          1661,
          1822,
          2211,
          2199,
          2070,
          1761,
          1889,
          1816,
          1954,
          1937
         ],
         "y0": " ",
         "yaxis": "y"
        }
       ],
       "layout": {
        "legend": {
         "title": {
          "text": "SRC"
         },
         "tracegroupgap": 0
        },
        "paper_bgcolor": "rgba(0,0,0,0)",
        "plot_bgcolor": "rgba(0,0,0,0)",
        "template": {
         "data": {
          "bar": [
           {
            "error_x": {
             "color": "#2a3f5f"
            },
            "error_y": {
             "color": "#2a3f5f"
            },
            "marker": {
             "line": {
              "color": "#E5ECF6",
              "width": 0.5
             }
            },
            "type": "bar"
           }
          ],
          "barpolar": [
           {
            "marker": {
             "line": {
              "color": "#E5ECF6",
              "width": 0.5
             }
            },
            "type": "barpolar"
           }
          ],
          "carpet": [
           {
            "aaxis": {
             "endlinecolor": "#2a3f5f",
             "gridcolor": "white",
             "linecolor": "white",
             "minorgridcolor": "white",
             "startlinecolor": "#2a3f5f"
            },
            "baxis": {
             "endlinecolor": "#2a3f5f",
             "gridcolor": "white",
             "linecolor": "white",
             "minorgridcolor": "white",
             "startlinecolor": "#2a3f5f"
            },
            "type": "carpet"
           }
          ],
          "choropleth": [
           {
            "colorbar": {
             "outlinewidth": 0,
             "ticks": ""
            },
            "type": "choropleth"
           }
          ],
          "contour": [
           {
            "colorbar": {
             "outlinewidth": 0,
             "ticks": ""
            },
            "colorscale": [
             [
              0,
              "#0d0887"
             ],
             [
              0.1111111111111111,
              "#46039f"
             ],
             [
              0.2222222222222222,
              "#7201a8"
             ],
             [
              0.3333333333333333,
              "#9c179e"
             ],
             [
              0.4444444444444444,
              "#bd3786"
             ],
             [
              0.5555555555555556,
              "#d8576b"
             ],
             [
              0.6666666666666666,
              "#ed7953"
             ],
             [
              0.7777777777777778,
              "#fb9f3a"
             ],
             [
              0.8888888888888888,
              "#fdca26"
             ],
             [
              1,
              "#f0f921"
             ]
            ],
            "type": "contour"
           }
          ],
          "contourcarpet": [
           {
            "colorbar": {
             "outlinewidth": 0,
             "ticks": ""
            },
            "type": "contourcarpet"
           }
          ],
          "heatmap": [
           {
            "colorbar": {
             "outlinewidth": 0,
             "ticks": ""
            },
            "colorscale": [
             [
              0,
              "#0d0887"
             ],
             [
              0.1111111111111111,
              "#46039f"
             ],
             [
              0.2222222222222222,
              "#7201a8"
             ],
             [
              0.3333333333333333,
              "#9c179e"
             ],
             [
              0.4444444444444444,
              "#bd3786"
             ],
             [
              0.5555555555555556,
              "#d8576b"
             ],
             [
              0.6666666666666666,
              "#ed7953"
             ],
             [
              0.7777777777777778,
              "#fb9f3a"
             ],
             [
              0.8888888888888888,
              "#fdca26"
             ],
             [
              1,
              "#f0f921"
             ]
            ],
            "type": "heatmap"
           }
          ],
          "heatmapgl": [
           {
            "colorbar": {
             "outlinewidth": 0,
             "ticks": ""
            },
            "colorscale": [
             [
              0,
              "#0d0887"
             ],
             [
              0.1111111111111111,
              "#46039f"
             ],
             [
              0.2222222222222222,
              "#7201a8"
             ],
             [
              0.3333333333333333,
              "#9c179e"
             ],
             [
              0.4444444444444444,
              "#bd3786"
             ],
             [
              0.5555555555555556,
              "#d8576b"
             ],
             [
              0.6666666666666666,
              "#ed7953"
             ],
             [
              0.7777777777777778,
              "#fb9f3a"
             ],
             [
              0.8888888888888888,
              "#fdca26"
             ],
             [
              1,
              "#f0f921"
             ]
            ],
            "type": "heatmapgl"
           }
          ],
          "histogram": [
           {
            "marker": {
             "colorbar": {
              "outlinewidth": 0,
              "ticks": ""
             }
            },
            "type": "histogram"
           }
          ],
          "histogram2d": [
           {
            "colorbar": {
             "outlinewidth": 0,
             "ticks": ""
            },
            "colorscale": [
             [
              0,
              "#0d0887"
             ],
             [
              0.1111111111111111,
              "#46039f"
             ],
             [
              0.2222222222222222,
              "#7201a8"
             ],
             [
              0.3333333333333333,
              "#9c179e"
             ],
             [
              0.4444444444444444,
              "#bd3786"
             ],
             [
              0.5555555555555556,
              "#d8576b"
             ],
             [
              0.6666666666666666,
              "#ed7953"
             ],
             [
              0.7777777777777778,
              "#fb9f3a"
             ],
             [
              0.8888888888888888,
              "#fdca26"
             ],
             [
              1,
              "#f0f921"
             ]
            ],
            "type": "histogram2d"
           }
          ],
          "histogram2dcontour": [
           {
            "colorbar": {
             "outlinewidth": 0,
             "ticks": ""
            },
            "colorscale": [
             [
              0,
              "#0d0887"
             ],
             [
              0.1111111111111111,
              "#46039f"
             ],
             [
              0.2222222222222222,
              "#7201a8"
             ],
             [
              0.3333333333333333,
              "#9c179e"
             ],
             [
              0.4444444444444444,
              "#bd3786"
             ],
             [
              0.5555555555555556,
              "#d8576b"
             ],
             [
              0.6666666666666666,
              "#ed7953"
             ],
             [
              0.7777777777777778,
              "#fb9f3a"
             ],
             [
              0.8888888888888888,
              "#fdca26"
             ],
             [
              1,
              "#f0f921"
             ]
            ],
            "type": "histogram2dcontour"
           }
          ],
          "mesh3d": [
           {
            "colorbar": {
             "outlinewidth": 0,
             "ticks": ""
            },
            "type": "mesh3d"
           }
          ],
          "parcoords": [
           {
            "line": {
             "colorbar": {
              "outlinewidth": 0,
              "ticks": ""
             }
            },
            "type": "parcoords"
           }
          ],
          "pie": [
           {
            "automargin": true,
            "type": "pie"
           }
          ],
          "scatter": [
           {
            "marker": {
             "colorbar": {
              "outlinewidth": 0,
              "ticks": ""
             }
            },
            "type": "scatter"
           }
          ],
          "scatter3d": [
           {
            "line": {
             "colorbar": {
              "outlinewidth": 0,
              "ticks": ""
             }
            },
            "marker": {
             "colorbar": {
              "outlinewidth": 0,
              "ticks": ""
             }
            },
            "type": "scatter3d"
           }
          ],
          "scattercarpet": [
           {
            "marker": {
             "colorbar": {
              "outlinewidth": 0,
              "ticks": ""
             }
            },
            "type": "scattercarpet"
           }
          ],
          "scattergeo": [
           {
            "marker": {
             "colorbar": {
              "outlinewidth": 0,
              "ticks": ""
             }
            },
            "type": "scattergeo"
           }
          ],
          "scattergl": [
           {
            "marker": {
             "colorbar": {
              "outlinewidth": 0,
              "ticks": ""
             }
            },
            "type": "scattergl"
           }
          ],
          "scattermapbox": [
           {
            "marker": {
             "colorbar": {
              "outlinewidth": 0,
              "ticks": ""
             }
            },
            "type": "scattermapbox"
           }
          ],
          "scatterpolar": [
           {
            "marker": {
             "colorbar": {
              "outlinewidth": 0,
              "ticks": ""
             }
            },
            "type": "scatterpolar"
           }
          ],
          "scatterpolargl": [
           {
            "marker": {
             "colorbar": {
              "outlinewidth": 0,
              "ticks": ""
             }
            },
            "type": "scatterpolargl"
           }
          ],
          "scatterternary": [
           {
            "marker": {
             "colorbar": {
              "outlinewidth": 0,
              "ticks": ""
             }
            },
            "type": "scatterternary"
           }
          ],
          "surface": [
           {
            "colorbar": {
             "outlinewidth": 0,
             "ticks": ""
            },
            "colorscale": [
             [
              0,
              "#0d0887"
             ],
             [
              0.1111111111111111,
              "#46039f"
             ],
             [
              0.2222222222222222,
              "#7201a8"
             ],
             [
              0.3333333333333333,
              "#9c179e"
             ],
             [
              0.4444444444444444,
              "#bd3786"
             ],
             [
              0.5555555555555556,
              "#d8576b"
             ],
             [
              0.6666666666666666,
              "#ed7953"
             ],
             [
              0.7777777777777778,
              "#fb9f3a"
             ],
             [
              0.8888888888888888,
              "#fdca26"
             ],
             [
              1,
              "#f0f921"
             ]
            ],
            "type": "surface"
           }
          ],
          "table": [
           {
            "cells": {
             "fill": {
              "color": "#EBF0F8"
             },
             "line": {
              "color": "white"
             }
            },
            "header": {
             "fill": {
              "color": "#C8D4E3"
             },
             "line": {
              "color": "white"
             }
            },
            "type": "table"
           }
          ]
         },
         "layout": {
          "annotationdefaults": {
           "arrowcolor": "#2a3f5f",
           "arrowhead": 0,
           "arrowwidth": 1
          },
          "autotypenumbers": "strict",
          "coloraxis": {
           "colorbar": {
            "outlinewidth": 0,
            "ticks": ""
           }
          },
          "colorscale": {
           "diverging": [
            [
             0,
             "#8e0152"
            ],
            [
             0.1,
             "#c51b7d"
            ],
            [
             0.2,
             "#de77ae"
            ],
            [
             0.3,
             "#f1b6da"
            ],
            [
             0.4,
             "#fde0ef"
            ],
            [
             0.5,
             "#f7f7f7"
            ],
            [
             0.6,
             "#e6f5d0"
            ],
            [
             0.7,
             "#b8e186"
            ],
            [
             0.8,
             "#7fbc41"
            ],
            [
             0.9,
             "#4d9221"
            ],
            [
             1,
             "#276419"
            ]
           ],
           "sequential": [
            [
             0,
             "#0d0887"
            ],
            [
             0.1111111111111111,
             "#46039f"
            ],
            [
             0.2222222222222222,
             "#7201a8"
            ],
            [
             0.3333333333333333,
             "#9c179e"
            ],
            [
             0.4444444444444444,
             "#bd3786"
            ],
            [
             0.5555555555555556,
             "#d8576b"
            ],
            [
             0.6666666666666666,
             "#ed7953"
            ],
            [
             0.7777777777777778,
             "#fb9f3a"
            ],
            [
             0.8888888888888888,
             "#fdca26"
            ],
            [
             1,
             "#f0f921"
            ]
           ],
           "sequentialminus": [
            [
             0,
             "#0d0887"
            ],
            [
             0.1111111111111111,
             "#46039f"
            ],
            [
             0.2222222222222222,
             "#7201a8"
            ],
            [
             0.3333333333333333,
             "#9c179e"
            ],
            [
             0.4444444444444444,
             "#bd3786"
            ],
            [
             0.5555555555555556,
             "#d8576b"
            ],
            [
             0.6666666666666666,
             "#ed7953"
            ],
            [
             0.7777777777777778,
             "#fb9f3a"
            ],
            [
             0.8888888888888888,
             "#fdca26"
            ],
            [
             1,
             "#f0f921"
            ]
           ]
          },
          "colorway": [
           "#636efa",
           "#EF553B",
           "#00cc96",
           "#ab63fa",
           "#FFA15A",
           "#19d3f3",
           "#FF6692",
           "#B6E880",
           "#FF97FF",
           "#FECB52"
          ],
          "font": {
           "color": "#2a3f5f"
          },
          "geo": {
           "bgcolor": "white",
           "lakecolor": "white",
           "landcolor": "#E5ECF6",
           "showlakes": true,
           "showland": true,
           "subunitcolor": "white"
          },
          "hoverlabel": {
           "align": "left"
          },
          "hovermode": "closest",
          "mapbox": {
           "style": "light"
          },
          "paper_bgcolor": "white",
          "plot_bgcolor": "#E5ECF6",
          "polar": {
           "angularaxis": {
            "gridcolor": "white",
            "linecolor": "white",
            "ticks": ""
           },
           "bgcolor": "#E5ECF6",
           "radialaxis": {
            "gridcolor": "white",
            "linecolor": "white",
            "ticks": ""
           }
          },
          "scene": {
           "xaxis": {
            "backgroundcolor": "#E5ECF6",
            "gridcolor": "white",
            "gridwidth": 2,
            "linecolor": "white",
            "showbackground": true,
            "ticks": "",
            "zerolinecolor": "white"
           },
           "yaxis": {
            "backgroundcolor": "#E5ECF6",
            "gridcolor": "white",
            "gridwidth": 2,
            "linecolor": "white",
            "showbackground": true,
            "ticks": "",
            "zerolinecolor": "white"
           },
           "zaxis": {
            "backgroundcolor": "#E5ECF6",
            "gridcolor": "white",
            "gridwidth": 2,
            "linecolor": "white",
            "showbackground": true,
            "ticks": "",
            "zerolinecolor": "white"
           }
          },
          "shapedefaults": {
           "line": {
            "color": "#2a3f5f"
           }
          },
          "ternary": {
           "aaxis": {
            "gridcolor": "white",
            "linecolor": "white",
            "ticks": ""
           },
           "baxis": {
            "gridcolor": "white",
            "linecolor": "white",
            "ticks": ""
           },
           "bgcolor": "#E5ECF6",
           "caxis": {
            "gridcolor": "white",
            "linecolor": "white",
            "ticks": ""
           }
          },
          "title": {
           "x": 0.05
          },
          "xaxis": {
           "automargin": true,
           "gridcolor": "white",
           "linecolor": "white",
           "ticks": "",
           "title": {
            "standoff": 15
           },
           "zerolinecolor": "white",
           "zerolinewidth": 2
          },
          "yaxis": {
           "automargin": true,
           "gridcolor": "white",
           "linecolor": "white",
           "ticks": "",
           "title": {
            "standoff": 15
           },
           "zerolinecolor": "white",
           "zerolinewidth": 2
          }
         }
        },
        "title": {
         "text": "Inversion distribution per each sample source"
        },
        "violinmode": "overlay",
        "xaxis": {
         "anchor": "y",
         "categoryarray": [
          "Long",
          "Chakraborty",
          "Rech"
         ],
         "categoryorder": "array",
         "domain": [
          0,
          1
         ],
         "title": {
          "text": "SRC"
         }
        },
        "yaxis": {
         "anchor": "x",
         "domain": [
          0,
          1
         ],
         "title": {
          "text": "INS"
         }
        }
       }
      },
      "text/html": [
       "<div>                            <div id=\"42a391bb-ea33-475b-8ee9-726acda4c69b\" class=\"plotly-graph-div\" style=\"height:525px; width:100%;\"></div>            <script type=\"text/javascript\">                require([\"plotly\"], function(Plotly) {                    window.PLOTLYENV=window.PLOTLYENV || {};                                    if (document.getElementById(\"42a391bb-ea33-475b-8ee9-726acda4c69b\")) {                    Plotly.newPlot(                        \"42a391bb-ea33-475b-8ee9-726acda4c69b\",                        [{\"alignmentgroup\": \"True\", \"box\": {\"visible\": true}, \"customdata\": [[\"B59\", 766, 725, 1949, 136, 1133, 1032], [\"I23\", 657, 713, 1749, 133, 786, 790], [\"N25\", 699, 716, 1821, 134, 941, 972], [\"T29A\", 695, 697, 1747, 129, 898, 914], [\"ZH26\", 846, 755, 2169, 153, 915, 1021]], \"hovertemplate\": \"SRC=%{x}<br>INS=%{y}<br>sample=%{customdata[0]}<br>CNV-Q=%{customdata[1]}<br>CNV-R=%{customdata[2]}<br>DEL=%{customdata[3]}<br>INV=%{customdata[4]}<br>nCNV-Q=%{customdata[5]}<br>nCNV-R=%{customdata[6]}<extra></extra>\", \"legendgroup\": \"Long\", \"marker\": {\"color\": \"#636efa\"}, \"name\": \"Long\", \"offsetgroup\": \"Long\", \"orientation\": \"v\", \"points\": \"all\", \"scalegroup\": \"True\", \"showlegend\": true, \"type\": \"violin\", \"x\": [\"Long\", \"Long\", \"Long\", \"Long\", \"Long\"], \"x0\": \" \", \"xaxis\": \"x\", \"y\": [1830, 1629, 1692, 1606, 1696], \"y0\": \" \", \"yaxis\": \"y\"}, {\"alignmentgroup\": \"True\", \"box\": {\"visible\": true}, \"customdata\": [[\"A1\", 659, 640, 1824, 152, 1677, 1153], [\"A2\", 795, 731, 2127, 203, 1726, 1309], [\"A3\", 610, 694, 1908, 178, 1349, 1105], [\"A4\", 624, 669, 1833, 155, 1807, 1102], [\"A5\", 588, 704, 2007, 135, 1475, 1198], [\"A6\", 729, 744, 1923, 168, 1355, 1101], [\"A7\", 764, 736, 2347, 173, 1717, 1423], [\"AB8\", 570, 602, 1675, 133, 1559, 978], [\"B1\", 659, 733, 2165, 215, 1670, 1362], [\"B2\", 770, 717, 1927, 186, 1578, 1211], [\"B3\", 647, 693, 1965, 169, 1692, 1184], [\"B4\", 694, 686, 1985, 149, 1443, 1223], [\"B6\", 634, 699, 1891, 155, 1575, 1150], [\"OreR\", 767, 758, 2016, 206, 1488, 1266]], \"hovertemplate\": \"SRC=%{x}<br>INS=%{y}<br>sample=%{customdata[0]}<br>CNV-Q=%{customdata[1]}<br>CNV-R=%{customdata[2]}<br>DEL=%{customdata[3]}<br>INV=%{customdata[4]}<br>nCNV-Q=%{customdata[5]}<br>nCNV-R=%{customdata[6]}<extra></extra>\", \"legendgroup\": \"Chakraborty\", \"marker\": {\"color\": \"#EF553B\"}, \"name\": \"Chakraborty\", \"offsetgroup\": \"Chakraborty\", \"orientation\": \"v\", \"points\": \"all\", \"scalegroup\": \"True\", \"showlegend\": true, \"type\": \"violin\", \"x\": [\"Chakraborty\", \"Chakraborty\", \"Chakraborty\", \"Chakraborty\", \"Chakraborty\", \"Chakraborty\", \"Chakraborty\", \"Chakraborty\", \"Chakraborty\", \"Chakraborty\", \"Chakraborty\", \"Chakraborty\", \"Chakraborty\", \"Chakraborty\"], \"x0\": \" \", \"xaxis\": \"x\", \"y\": [1903, 2044, 1757, 1780, 1816, 2031, 2066, 1603, 1940, 2054, 1884, 1936, 1787, 1857], \"y0\": \" \", \"yaxis\": \"y\"}, {\"alignmentgroup\": \"True\", \"box\": {\"visible\": true}, \"customdata\": [[\"AKA-017\", 659, 701, 1944, 151, 2178, 1138], [\"AKA-018\", 714, 717, 2044, 173, 1698, 1239], [\"COR-014\", 817, 691, 2005, 161, 1847, 1182], [\"COR-018\", 594, 382, 1147, 84, 1100, 684], [\"COR-023\", 923, 717, 1975, 192, 1520, 1223], [\"COR-025\", 976, 714, 1885, 180, 2118, 1132], [\"GIM-012\", 937, 712, 1911, 195, 1921, 1195], [\"GIM-024\", 573, 561, 1633, 120, 1419, 965], [\"JUT-008\", 745, 682, 1999, 161, 2286, 1304], [\"JUT-011\", 806, 702, 1999, 194, 1767, 1251], [\"KIE-094\", 852, 726, 2184, 208, 2011, 1386], [\"LUN-004\", 822, 699, 2053, 193, 1678, 1235], [\"LUN-007\", 969, 715, 2009, 169, 1712, 1210], [\"MUN-008\", 580, 405, 1165, 78, 1071, 674], [\"MUN-009\", 936, 696, 1955, 164, 2251, 1182], [\"MUN-013\", 906, 744, 1983, 190, 1894, 1175], [\"MUN-015\", 931, 724, 2067, 176, 1864, 1214], [\"MUN-016\", 683, 674, 1907, 152, 1735, 1160], [\"MUN-020\", 927, 754, 1968, 197, 1896, 1133], [\"RAL-059\", 803, 689, 1955, 156, 1848, 1201], [\"RAL-091\", 936, 700, 2054, 170, 1898, 1179], [\"RAL-176\", 1035, 744, 2208, 231, 2073, 1210], [\"RAL-177\", 605, 579, 1661, 137, 1420, 954], [\"RAL-375\", 688, 678, 1945, 142, 1945, 1184], [\"RAL-426\", 997, 763, 2169, 232, 1863, 1361], [\"RAL-737\", 885, 714, 2171, 208, 2532, 1329], [\"RAL-855\", 874, 740, 2075, 196, 1992, 1240], [\"SLA-001\", 865, 691, 1888, 150, 1548, 1129], [\"STO-022\", 824, 705, 2033, 173, 2093, 1257], [\"TEN-015\", 879, 742, 1972, 145, 1784, 1130], [\"TOM-007\", 787, 738, 2054, 163, 1546, 1241], [\"TOM-008\", 877, 745, 1921, 164, 1708, 1136]], \"hovertemplate\": \"SRC=%{x}<br>INS=%{y}<br>sample=%{customdata[0]}<br>CNV-Q=%{customdata[1]}<br>CNV-R=%{customdata[2]}<br>DEL=%{customdata[3]}<br>INV=%{customdata[4]}<br>nCNV-Q=%{customdata[5]}<br>nCNV-R=%{customdata[6]}<extra></extra>\", \"legendgroup\": \"Rech\", \"marker\": {\"color\": \"#00cc96\"}, \"name\": \"Rech\", \"offsetgroup\": \"Rech\", \"orientation\": \"v\", \"points\": \"all\", \"scalegroup\": \"True\", \"showlegend\": true, \"type\": \"violin\", \"x\": [\"Rech\", \"Rech\", \"Rech\", \"Rech\", \"Rech\", \"Rech\", \"Rech\", \"Rech\", \"Rech\", \"Rech\", \"Rech\", \"Rech\", \"Rech\", \"Rech\", \"Rech\", \"Rech\", \"Rech\", \"Rech\", \"Rech\", \"Rech\", \"Rech\", \"Rech\", \"Rech\", \"Rech\", \"Rech\", \"Rech\", \"Rech\", \"Rech\", \"Rech\", \"Rech\", \"Rech\", \"Rech\"], \"x0\": \" \", \"xaxis\": \"x\", \"y\": [1863, 1857, 1887, 1239, 1966, 1971, 2023, 1547, 1922, 1952, 2104, 1961, 2073, 1264, 1976, 1939, 1979, 1803, 1977, 2044, 2123, 2320, 1661, 1822, 2211, 2199, 2070, 1761, 1889, 1816, 1954, 1937], \"y0\": \" \", \"yaxis\": \"y\"}],                        {\"legend\": {\"title\": {\"text\": \"SRC\"}, \"tracegroupgap\": 0}, \"paper_bgcolor\": \"rgba(0,0,0,0)\", \"plot_bgcolor\": \"rgba(0,0,0,0)\", \"template\": {\"data\": {\"bar\": [{\"error_x\": {\"color\": \"#2a3f5f\"}, \"error_y\": {\"color\": \"#2a3f5f\"}, \"marker\": {\"line\": {\"color\": \"#E5ECF6\", \"width\": 0.5}}, \"type\": \"bar\"}], \"barpolar\": [{\"marker\": {\"line\": {\"color\": \"#E5ECF6\", \"width\": 0.5}}, \"type\": \"barpolar\"}], \"carpet\": [{\"aaxis\": {\"endlinecolor\": \"#2a3f5f\", \"gridcolor\": \"white\", \"linecolor\": \"white\", \"minorgridcolor\": \"white\", \"startlinecolor\": \"#2a3f5f\"}, \"baxis\": {\"endlinecolor\": \"#2a3f5f\", \"gridcolor\": \"white\", \"linecolor\": \"white\", \"minorgridcolor\": \"white\", \"startlinecolor\": \"#2a3f5f\"}, \"type\": \"carpet\"}], \"choropleth\": [{\"colorbar\": {\"outlinewidth\": 0, \"ticks\": \"\"}, \"type\": \"choropleth\"}], \"contour\": [{\"colorbar\": {\"outlinewidth\": 0, \"ticks\": \"\"}, \"colorscale\": [[0.0, \"#0d0887\"], [0.1111111111111111, \"#46039f\"], [0.2222222222222222, \"#7201a8\"], [0.3333333333333333, \"#9c179e\"], [0.4444444444444444, \"#bd3786\"], [0.5555555555555556, \"#d8576b\"], [0.6666666666666666, \"#ed7953\"], [0.7777777777777778, \"#fb9f3a\"], [0.8888888888888888, \"#fdca26\"], [1.0, \"#f0f921\"]], \"type\": \"contour\"}], \"contourcarpet\": [{\"colorbar\": {\"outlinewidth\": 0, \"ticks\": \"\"}, \"type\": \"contourcarpet\"}], \"heatmap\": [{\"colorbar\": {\"outlinewidth\": 0, \"ticks\": \"\"}, \"colorscale\": [[0.0, \"#0d0887\"], [0.1111111111111111, \"#46039f\"], [0.2222222222222222, \"#7201a8\"], [0.3333333333333333, \"#9c179e\"], [0.4444444444444444, \"#bd3786\"], [0.5555555555555556, \"#d8576b\"], [0.6666666666666666, \"#ed7953\"], [0.7777777777777778, \"#fb9f3a\"], [0.8888888888888888, \"#fdca26\"], [1.0, \"#f0f921\"]], \"type\": \"heatmap\"}], \"heatmapgl\": [{\"colorbar\": {\"outlinewidth\": 0, \"ticks\": \"\"}, \"colorscale\": [[0.0, \"#0d0887\"], [0.1111111111111111, \"#46039f\"], [0.2222222222222222, \"#7201a8\"], [0.3333333333333333, \"#9c179e\"], [0.4444444444444444, \"#bd3786\"], [0.5555555555555556, \"#d8576b\"], [0.6666666666666666, \"#ed7953\"], [0.7777777777777778, \"#fb9f3a\"], [0.8888888888888888, \"#fdca26\"], [1.0, \"#f0f921\"]], \"type\": \"heatmapgl\"}], \"histogram\": [{\"marker\": {\"colorbar\": {\"outlinewidth\": 0, \"ticks\": \"\"}}, \"type\": \"histogram\"}], \"histogram2d\": [{\"colorbar\": {\"outlinewidth\": 0, \"ticks\": \"\"}, \"colorscale\": [[0.0, \"#0d0887\"], [0.1111111111111111, \"#46039f\"], [0.2222222222222222, \"#7201a8\"], [0.3333333333333333, \"#9c179e\"], [0.4444444444444444, \"#bd3786\"], [0.5555555555555556, \"#d8576b\"], [0.6666666666666666, \"#ed7953\"], [0.7777777777777778, \"#fb9f3a\"], [0.8888888888888888, \"#fdca26\"], [1.0, \"#f0f921\"]], \"type\": \"histogram2d\"}], \"histogram2dcontour\": [{\"colorbar\": {\"outlinewidth\": 0, \"ticks\": \"\"}, \"colorscale\": [[0.0, \"#0d0887\"], [0.1111111111111111, \"#46039f\"], [0.2222222222222222, \"#7201a8\"], [0.3333333333333333, \"#9c179e\"], [0.4444444444444444, \"#bd3786\"], [0.5555555555555556, \"#d8576b\"], [0.6666666666666666, \"#ed7953\"], [0.7777777777777778, \"#fb9f3a\"], [0.8888888888888888, \"#fdca26\"], [1.0, \"#f0f921\"]], \"type\": \"histogram2dcontour\"}], \"mesh3d\": [{\"colorbar\": {\"outlinewidth\": 0, \"ticks\": \"\"}, \"type\": \"mesh3d\"}], \"parcoords\": [{\"line\": {\"colorbar\": {\"outlinewidth\": 0, \"ticks\": \"\"}}, \"type\": \"parcoords\"}], \"pie\": [{\"automargin\": true, \"type\": \"pie\"}], \"scatter\": [{\"marker\": {\"colorbar\": {\"outlinewidth\": 0, \"ticks\": \"\"}}, \"type\": \"scatter\"}], \"scatter3d\": [{\"line\": {\"colorbar\": {\"outlinewidth\": 0, \"ticks\": \"\"}}, \"marker\": {\"colorbar\": {\"outlinewidth\": 0, \"ticks\": \"\"}}, \"type\": \"scatter3d\"}], \"scattercarpet\": [{\"marker\": {\"colorbar\": {\"outlinewidth\": 0, \"ticks\": \"\"}}, \"type\": \"scattercarpet\"}], \"scattergeo\": [{\"marker\": {\"colorbar\": {\"outlinewidth\": 0, \"ticks\": \"\"}}, \"type\": \"scattergeo\"}], \"scattergl\": [{\"marker\": {\"colorbar\": {\"outlinewidth\": 0, \"ticks\": \"\"}}, \"type\": \"scattergl\"}], \"scattermapbox\": [{\"marker\": {\"colorbar\": {\"outlinewidth\": 0, \"ticks\": \"\"}}, \"type\": \"scattermapbox\"}], \"scatterpolar\": [{\"marker\": {\"colorbar\": {\"outlinewidth\": 0, \"ticks\": \"\"}}, \"type\": \"scatterpolar\"}], \"scatterpolargl\": [{\"marker\": {\"colorbar\": {\"outlinewidth\": 0, \"ticks\": \"\"}}, \"type\": \"scatterpolargl\"}], \"scatterternary\": [{\"marker\": {\"colorbar\": {\"outlinewidth\": 0, \"ticks\": \"\"}}, \"type\": \"scatterternary\"}], \"surface\": [{\"colorbar\": {\"outlinewidth\": 0, \"ticks\": \"\"}, \"colorscale\": [[0.0, \"#0d0887\"], [0.1111111111111111, \"#46039f\"], [0.2222222222222222, \"#7201a8\"], [0.3333333333333333, \"#9c179e\"], [0.4444444444444444, \"#bd3786\"], [0.5555555555555556, \"#d8576b\"], [0.6666666666666666, \"#ed7953\"], [0.7777777777777778, \"#fb9f3a\"], [0.8888888888888888, \"#fdca26\"], [1.0, \"#f0f921\"]], \"type\": \"surface\"}], \"table\": [{\"cells\": {\"fill\": {\"color\": \"#EBF0F8\"}, \"line\": {\"color\": \"white\"}}, \"header\": {\"fill\": {\"color\": \"#C8D4E3\"}, \"line\": {\"color\": \"white\"}}, \"type\": \"table\"}]}, \"layout\": {\"annotationdefaults\": {\"arrowcolor\": \"#2a3f5f\", \"arrowhead\": 0, \"arrowwidth\": 1}, \"autotypenumbers\": \"strict\", \"coloraxis\": {\"colorbar\": {\"outlinewidth\": 0, \"ticks\": \"\"}}, \"colorscale\": {\"diverging\": [[0, \"#8e0152\"], [0.1, \"#c51b7d\"], [0.2, \"#de77ae\"], [0.3, \"#f1b6da\"], [0.4, \"#fde0ef\"], [0.5, \"#f7f7f7\"], [0.6, \"#e6f5d0\"], [0.7, \"#b8e186\"], [0.8, \"#7fbc41\"], [0.9, \"#4d9221\"], [1, \"#276419\"]], \"sequential\": [[0.0, \"#0d0887\"], [0.1111111111111111, \"#46039f\"], [0.2222222222222222, \"#7201a8\"], [0.3333333333333333, \"#9c179e\"], [0.4444444444444444, \"#bd3786\"], [0.5555555555555556, \"#d8576b\"], [0.6666666666666666, \"#ed7953\"], [0.7777777777777778, \"#fb9f3a\"], [0.8888888888888888, \"#fdca26\"], [1.0, \"#f0f921\"]], \"sequentialminus\": [[0.0, \"#0d0887\"], [0.1111111111111111, \"#46039f\"], [0.2222222222222222, \"#7201a8\"], [0.3333333333333333, \"#9c179e\"], [0.4444444444444444, \"#bd3786\"], [0.5555555555555556, \"#d8576b\"], [0.6666666666666666, \"#ed7953\"], [0.7777777777777778, \"#fb9f3a\"], [0.8888888888888888, \"#fdca26\"], [1.0, \"#f0f921\"]]}, \"colorway\": [\"#636efa\", \"#EF553B\", \"#00cc96\", \"#ab63fa\", \"#FFA15A\", \"#19d3f3\", \"#FF6692\", \"#B6E880\", \"#FF97FF\", \"#FECB52\"], \"font\": {\"color\": \"#2a3f5f\"}, \"geo\": {\"bgcolor\": \"white\", \"lakecolor\": \"white\", \"landcolor\": \"#E5ECF6\", \"showlakes\": true, \"showland\": true, \"subunitcolor\": \"white\"}, \"hoverlabel\": {\"align\": \"left\"}, \"hovermode\": \"closest\", \"mapbox\": {\"style\": \"light\"}, \"paper_bgcolor\": \"white\", \"plot_bgcolor\": \"#E5ECF6\", \"polar\": {\"angularaxis\": {\"gridcolor\": \"white\", \"linecolor\": \"white\", \"ticks\": \"\"}, \"bgcolor\": \"#E5ECF6\", \"radialaxis\": {\"gridcolor\": \"white\", \"linecolor\": \"white\", \"ticks\": \"\"}}, \"scene\": {\"xaxis\": {\"backgroundcolor\": \"#E5ECF6\", \"gridcolor\": \"white\", \"gridwidth\": 2, \"linecolor\": \"white\", \"showbackground\": true, \"ticks\": \"\", \"zerolinecolor\": \"white\"}, \"yaxis\": {\"backgroundcolor\": \"#E5ECF6\", \"gridcolor\": \"white\", \"gridwidth\": 2, \"linecolor\": \"white\", \"showbackground\": true, \"ticks\": \"\", \"zerolinecolor\": \"white\"}, \"zaxis\": {\"backgroundcolor\": \"#E5ECF6\", \"gridcolor\": \"white\", \"gridwidth\": 2, \"linecolor\": \"white\", \"showbackground\": true, \"ticks\": \"\", \"zerolinecolor\": \"white\"}}, \"shapedefaults\": {\"line\": {\"color\": \"#2a3f5f\"}}, \"ternary\": {\"aaxis\": {\"gridcolor\": \"white\", \"linecolor\": \"white\", \"ticks\": \"\"}, \"baxis\": {\"gridcolor\": \"white\", \"linecolor\": \"white\", \"ticks\": \"\"}, \"bgcolor\": \"#E5ECF6\", \"caxis\": {\"gridcolor\": \"white\", \"linecolor\": \"white\", \"ticks\": \"\"}}, \"title\": {\"x\": 0.05}, \"xaxis\": {\"automargin\": true, \"gridcolor\": \"white\", \"linecolor\": \"white\", \"ticks\": \"\", \"title\": {\"standoff\": 15}, \"zerolinecolor\": \"white\", \"zerolinewidth\": 2}, \"yaxis\": {\"automargin\": true, \"gridcolor\": \"white\", \"linecolor\": \"white\", \"ticks\": \"\", \"title\": {\"standoff\": 15}, \"zerolinecolor\": \"white\", \"zerolinewidth\": 2}}}, \"title\": {\"text\": \"Inversion distribution per each sample source\"}, \"violinmode\": \"overlay\", \"xaxis\": {\"anchor\": \"y\", \"categoryarray\": [\"Long\", \"Chakraborty\", \"Rech\"], \"categoryorder\": \"array\", \"domain\": [0.0, 1.0], \"title\": {\"text\": \"SRC\"}}, \"yaxis\": {\"anchor\": \"x\", \"domain\": [0.0, 1.0], \"title\": {\"text\": \"INS\"}}},                        {\"responsive\": true}                    ).then(function(){\n",
       "                            \n",
       "var gd = document.getElementById('42a391bb-ea33-475b-8ee9-726acda4c69b');\n",
       "var x = new MutationObserver(function (mutations, observer) {{\n",
       "        var display = window.getComputedStyle(gd).display;\n",
       "        if (!display || display === 'none') {{\n",
       "            console.log([gd, 'removed!']);\n",
       "            Plotly.purge(gd);\n",
       "            observer.disconnect();\n",
       "        }}\n",
       "}});\n",
       "\n",
       "// Listen for the removal of the full notebook cells\n",
       "var notebookContainer = gd.closest('#notebook-container');\n",
       "if (notebookContainer) {{\n",
       "    x.observe(notebookContainer, {childList: true});\n",
       "}}\n",
       "\n",
       "// Listen for the clearing of the current output cell\n",
       "var outputEl = gd.closest('.output');\n",
       "if (outputEl) {{\n",
       "    x.observe(outputEl, {childList: true});\n",
       "}}\n",
       "\n",
       "                        })                };                });            </script>        </div>"
      ]
     },
     "metadata": {},
     "output_type": "display_data"
    }
   ],
   "source": [
    "fig = px.violin(df, y=\"INS\", x=\"SRC\", color=\"SRC\", box=True, points=\"all\", title=\"Inversion distribution per each sample source\",\n",
    "          hover_data=df.columns)\n",
    "\n",
    "fig.update_layout(\n",
    "    paper_bgcolor='rgba(0,0,0,0)',\n",
    "    plot_bgcolor='rgba(0,0,0,0)'\n",
    ")\n",
    "fig.show()"
   ]
  },
  {
   "cell_type": "code",
   "execution_count": 242,
   "metadata": {},
   "outputs": [
    {
     "data": {
      "application/vnd.plotly.v1+json": {
       "config": {
        "plotlyServerURL": "https://plot.ly"
       },
       "data": [
        {
         "alignmentgroup": "True",
         "box": {
          "visible": true
         },
         "customdata": [
          [
           "B59",
           766,
           725,
           1830,
           136,
           1133,
           1032
          ],
          [
           "I23",
           657,
           713,
           1629,
           133,
           786,
           790
          ],
          [
           "N25",
           699,
           716,
           1692,
           134,
           941,
           972
          ],
          [
           "T29A",
           695,
           697,
           1606,
           129,
           898,
           914
          ],
          [
           "ZH26",
           846,
           755,
           1696,
           153,
           915,
           1021
          ]
         ],
         "hovertemplate": "SRC=%{x}<br>DEL=%{y}<br>sample=%{customdata[0]}<br>CNV-Q=%{customdata[1]}<br>CNV-R=%{customdata[2]}<br>INS=%{customdata[3]}<br>INV=%{customdata[4]}<br>nCNV-Q=%{customdata[5]}<br>nCNV-R=%{customdata[6]}<extra></extra>",
         "legendgroup": "Long",
         "marker": {
          "color": "#636efa"
         },
         "name": "Long",
         "offsetgroup": "Long",
         "orientation": "v",
         "points": "all",
         "scalegroup": "True",
         "showlegend": true,
         "type": "violin",
         "x": [
          "Long",
          "Long",
          "Long",
          "Long",
          "Long"
         ],
         "x0": " ",
         "xaxis": "x",
         "y": [
          1949,
          1749,
          1821,
          1747,
          2169
         ],
         "y0": " ",
         "yaxis": "y"
        },
        {
         "alignmentgroup": "True",
         "box": {
          "visible": true
         },
         "customdata": [
          [
           "A1",
           659,
           640,
           1903,
           152,
           1677,
           1153
          ],
          [
           "A2",
           795,
           731,
           2044,
           203,
           1726,
           1309
          ],
          [
           "A3",
           610,
           694,
           1757,
           178,
           1349,
           1105
          ],
          [
           "A4",
           624,
           669,
           1780,
           155,
           1807,
           1102
          ],
          [
           "A5",
           588,
           704,
           1816,
           135,
           1475,
           1198
          ],
          [
           "A6",
           729,
           744,
           2031,
           168,
           1355,
           1101
          ],
          [
           "A7",
           764,
           736,
           2066,
           173,
           1717,
           1423
          ],
          [
           "AB8",
           570,
           602,
           1603,
           133,
           1559,
           978
          ],
          [
           "B1",
           659,
           733,
           1940,
           215,
           1670,
           1362
          ],
          [
           "B2",
           770,
           717,
           2054,
           186,
           1578,
           1211
          ],
          [
           "B3",
           647,
           693,
           1884,
           169,
           1692,
           1184
          ],
          [
           "B4",
           694,
           686,
           1936,
           149,
           1443,
           1223
          ],
          [
           "B6",
           634,
           699,
           1787,
           155,
           1575,
           1150
          ],
          [
           "OreR",
           767,
           758,
           1857,
           206,
           1488,
           1266
          ]
         ],
         "hovertemplate": "SRC=%{x}<br>DEL=%{y}<br>sample=%{customdata[0]}<br>CNV-Q=%{customdata[1]}<br>CNV-R=%{customdata[2]}<br>INS=%{customdata[3]}<br>INV=%{customdata[4]}<br>nCNV-Q=%{customdata[5]}<br>nCNV-R=%{customdata[6]}<extra></extra>",
         "legendgroup": "Chakraborty",
         "marker": {
          "color": "#EF553B"
         },
         "name": "Chakraborty",
         "offsetgroup": "Chakraborty",
         "orientation": "v",
         "points": "all",
         "scalegroup": "True",
         "showlegend": true,
         "type": "violin",
         "x": [
          "Chakraborty",
          "Chakraborty",
          "Chakraborty",
          "Chakraborty",
          "Chakraborty",
          "Chakraborty",
          "Chakraborty",
          "Chakraborty",
          "Chakraborty",
          "Chakraborty",
          "Chakraborty",
          "Chakraborty",
          "Chakraborty",
          "Chakraborty"
         ],
         "x0": " ",
         "xaxis": "x",
         "y": [
          1824,
          2127,
          1908,
          1833,
          2007,
          1923,
          2347,
          1675,
          2165,
          1927,
          1965,
          1985,
          1891,
          2016
         ],
         "y0": " ",
         "yaxis": "y"
        },
        {
         "alignmentgroup": "True",
         "box": {
          "visible": true
         },
         "customdata": [
          [
           "AKA-017",
           659,
           701,
           1863,
           151,
           2178,
           1138
          ],
          [
           "AKA-018",
           714,
           717,
           1857,
           173,
           1698,
           1239
          ],
          [
           "COR-014",
           817,
           691,
           1887,
           161,
           1847,
           1182
          ],
          [
           "COR-018",
           594,
           382,
           1239,
           84,
           1100,
           684
          ],
          [
           "COR-023",
           923,
           717,
           1966,
           192,
           1520,
           1223
          ],
          [
           "COR-025",
           976,
           714,
           1971,
           180,
           2118,
           1132
          ],
          [
           "GIM-012",
           937,
           712,
           2023,
           195,
           1921,
           1195
          ],
          [
           "GIM-024",
           573,
           561,
           1547,
           120,
           1419,
           965
          ],
          [
           "JUT-008",
           745,
           682,
           1922,
           161,
           2286,
           1304
          ],
          [
           "JUT-011",
           806,
           702,
           1952,
           194,
           1767,
           1251
          ],
          [
           "KIE-094",
           852,
           726,
           2104,
           208,
           2011,
           1386
          ],
          [
           "LUN-004",
           822,
           699,
           1961,
           193,
           1678,
           1235
          ],
          [
           "LUN-007",
           969,
           715,
           2073,
           169,
           1712,
           1210
          ],
          [
           "MUN-008",
           580,
           405,
           1264,
           78,
           1071,
           674
          ],
          [
           "MUN-009",
           936,
           696,
           1976,
           164,
           2251,
           1182
          ],
          [
           "MUN-013",
           906,
           744,
           1939,
           190,
           1894,
           1175
          ],
          [
           "MUN-015",
           931,
           724,
           1979,
           176,
           1864,
           1214
          ],
          [
           "MUN-016",
           683,
           674,
           1803,
           152,
           1735,
           1160
          ],
          [
           "MUN-020",
           927,
           754,
           1977,
           197,
           1896,
           1133
          ],
          [
           "RAL-059",
           803,
           689,
           2044,
           156,
           1848,
           1201
          ],
          [
           "RAL-091",
           936,
           700,
           2123,
           170,
           1898,
           1179
          ],
          [
           "RAL-176",
           1035,
           744,
           2320,
           231,
           2073,
           1210
          ],
          [
           "RAL-177",
           605,
           579,
           1661,
           137,
           1420,
           954
          ],
          [
           "RAL-375",
           688,
           678,
           1822,
           142,
           1945,
           1184
          ],
          [
           "RAL-426",
           997,
           763,
           2211,
           232,
           1863,
           1361
          ],
          [
           "RAL-737",
           885,
           714,
           2199,
           208,
           2532,
           1329
          ],
          [
           "RAL-855",
           874,
           740,
           2070,
           196,
           1992,
           1240
          ],
          [
           "SLA-001",
           865,
           691,
           1761,
           150,
           1548,
           1129
          ],
          [
           "STO-022",
           824,
           705,
           1889,
           173,
           2093,
           1257
          ],
          [
           "TEN-015",
           879,
           742,
           1816,
           145,
           1784,
           1130
          ],
          [
           "TOM-007",
           787,
           738,
           1954,
           163,
           1546,
           1241
          ],
          [
           "TOM-008",
           877,
           745,
           1937,
           164,
           1708,
           1136
          ]
         ],
         "hovertemplate": "SRC=%{x}<br>DEL=%{y}<br>sample=%{customdata[0]}<br>CNV-Q=%{customdata[1]}<br>CNV-R=%{customdata[2]}<br>INS=%{customdata[3]}<br>INV=%{customdata[4]}<br>nCNV-Q=%{customdata[5]}<br>nCNV-R=%{customdata[6]}<extra></extra>",
         "legendgroup": "Rech",
         "marker": {
          "color": "#00cc96"
         },
         "name": "Rech",
         "offsetgroup": "Rech",
         "orientation": "v",
         "points": "all",
         "scalegroup": "True",
         "showlegend": true,
         "type": "violin",
         "x": [
          "Rech",
          "Rech",
          "Rech",
          "Rech",
          "Rech",
          "Rech",
          "Rech",
          "Rech",
          "Rech",
          "Rech",
          "Rech",
          "Rech",
          "Rech",
          "Rech",
          "Rech",
          "Rech",
          "Rech",
          "Rech",
          "Rech",
          "Rech",
          "Rech",
          "Rech",
          "Rech",
          "Rech",
          "Rech",
          "Rech",
          "Rech",
          "Rech",
          "Rech",
          "Rech",
          "Rech",
          "Rech"
         ],
         "x0": " ",
         "xaxis": "x",
         "y": [
          1944,
          2044,
          2005,
          1147,
          1975,
          1885,
          1911,
          1633,
          1999,
          1999,
          2184,
          2053,
          2009,
          1165,
          1955,
          1983,
          2067,
          1907,
          1968,
          1955,
          2054,
          2208,
          1661,
          1945,
          2169,
          2171,
          2075,
          1888,
          2033,
          1972,
          2054,
          1921
         ],
         "y0": " ",
         "yaxis": "y"
        }
       ],
       "layout": {
        "legend": {
         "title": {
          "text": "SRC"
         },
         "tracegroupgap": 0
        },
        "paper_bgcolor": "rgba(0,0,0,0)",
        "plot_bgcolor": "rgba(0,0,0,0)",
        "template": {
         "data": {
          "bar": [
           {
            "error_x": {
             "color": "#2a3f5f"
            },
            "error_y": {
             "color": "#2a3f5f"
            },
            "marker": {
             "line": {
              "color": "#E5ECF6",
              "width": 0.5
             }
            },
            "type": "bar"
           }
          ],
          "barpolar": [
           {
            "marker": {
             "line": {
              "color": "#E5ECF6",
              "width": 0.5
             }
            },
            "type": "barpolar"
           }
          ],
          "carpet": [
           {
            "aaxis": {
             "endlinecolor": "#2a3f5f",
             "gridcolor": "white",
             "linecolor": "white",
             "minorgridcolor": "white",
             "startlinecolor": "#2a3f5f"
            },
            "baxis": {
             "endlinecolor": "#2a3f5f",
             "gridcolor": "white",
             "linecolor": "white",
             "minorgridcolor": "white",
             "startlinecolor": "#2a3f5f"
            },
            "type": "carpet"
           }
          ],
          "choropleth": [
           {
            "colorbar": {
             "outlinewidth": 0,
             "ticks": ""
            },
            "type": "choropleth"
           }
          ],
          "contour": [
           {
            "colorbar": {
             "outlinewidth": 0,
             "ticks": ""
            },
            "colorscale": [
             [
              0,
              "#0d0887"
             ],
             [
              0.1111111111111111,
              "#46039f"
             ],
             [
              0.2222222222222222,
              "#7201a8"
             ],
             [
              0.3333333333333333,
              "#9c179e"
             ],
             [
              0.4444444444444444,
              "#bd3786"
             ],
             [
              0.5555555555555556,
              "#d8576b"
             ],
             [
              0.6666666666666666,
              "#ed7953"
             ],
             [
              0.7777777777777778,
              "#fb9f3a"
             ],
             [
              0.8888888888888888,
              "#fdca26"
             ],
             [
              1,
              "#f0f921"
             ]
            ],
            "type": "contour"
           }
          ],
          "contourcarpet": [
           {
            "colorbar": {
             "outlinewidth": 0,
             "ticks": ""
            },
            "type": "contourcarpet"
           }
          ],
          "heatmap": [
           {
            "colorbar": {
             "outlinewidth": 0,
             "ticks": ""
            },
            "colorscale": [
             [
              0,
              "#0d0887"
             ],
             [
              0.1111111111111111,
              "#46039f"
             ],
             [
              0.2222222222222222,
              "#7201a8"
             ],
             [
              0.3333333333333333,
              "#9c179e"
             ],
             [
              0.4444444444444444,
              "#bd3786"
             ],
             [
              0.5555555555555556,
              "#d8576b"
             ],
             [
              0.6666666666666666,
              "#ed7953"
             ],
             [
              0.7777777777777778,
              "#fb9f3a"
             ],
             [
              0.8888888888888888,
              "#fdca26"
             ],
             [
              1,
              "#f0f921"
             ]
            ],
            "type": "heatmap"
           }
          ],
          "heatmapgl": [
           {
            "colorbar": {
             "outlinewidth": 0,
             "ticks": ""
            },
            "colorscale": [
             [
              0,
              "#0d0887"
             ],
             [
              0.1111111111111111,
              "#46039f"
             ],
             [
              0.2222222222222222,
              "#7201a8"
             ],
             [
              0.3333333333333333,
              "#9c179e"
             ],
             [
              0.4444444444444444,
              "#bd3786"
             ],
             [
              0.5555555555555556,
              "#d8576b"
             ],
             [
              0.6666666666666666,
              "#ed7953"
             ],
             [
              0.7777777777777778,
              "#fb9f3a"
             ],
             [
              0.8888888888888888,
              "#fdca26"
             ],
             [
              1,
              "#f0f921"
             ]
            ],
            "type": "heatmapgl"
           }
          ],
          "histogram": [
           {
            "marker": {
             "colorbar": {
              "outlinewidth": 0,
              "ticks": ""
             }
            },
            "type": "histogram"
           }
          ],
          "histogram2d": [
           {
            "colorbar": {
             "outlinewidth": 0,
             "ticks": ""
            },
            "colorscale": [
             [
              0,
              "#0d0887"
             ],
             [
              0.1111111111111111,
              "#46039f"
             ],
             [
              0.2222222222222222,
              "#7201a8"
             ],
             [
              0.3333333333333333,
              "#9c179e"
             ],
             [
              0.4444444444444444,
              "#bd3786"
             ],
             [
              0.5555555555555556,
              "#d8576b"
             ],
             [
              0.6666666666666666,
              "#ed7953"
             ],
             [
              0.7777777777777778,
              "#fb9f3a"
             ],
             [
              0.8888888888888888,
              "#fdca26"
             ],
             [
              1,
              "#f0f921"
             ]
            ],
            "type": "histogram2d"
           }
          ],
          "histogram2dcontour": [
           {
            "colorbar": {
             "outlinewidth": 0,
             "ticks": ""
            },
            "colorscale": [
             [
              0,
              "#0d0887"
             ],
             [
              0.1111111111111111,
              "#46039f"
             ],
             [
              0.2222222222222222,
              "#7201a8"
             ],
             [
              0.3333333333333333,
              "#9c179e"
             ],
             [
              0.4444444444444444,
              "#bd3786"
             ],
             [
              0.5555555555555556,
              "#d8576b"
             ],
             [
              0.6666666666666666,
              "#ed7953"
             ],
             [
              0.7777777777777778,
              "#fb9f3a"
             ],
             [
              0.8888888888888888,
              "#fdca26"
             ],
             [
              1,
              "#f0f921"
             ]
            ],
            "type": "histogram2dcontour"
           }
          ],
          "mesh3d": [
           {
            "colorbar": {
             "outlinewidth": 0,
             "ticks": ""
            },
            "type": "mesh3d"
           }
          ],
          "parcoords": [
           {
            "line": {
             "colorbar": {
              "outlinewidth": 0,
              "ticks": ""
             }
            },
            "type": "parcoords"
           }
          ],
          "pie": [
           {
            "automargin": true,
            "type": "pie"
           }
          ],
          "scatter": [
           {
            "marker": {
             "colorbar": {
              "outlinewidth": 0,
              "ticks": ""
             }
            },
            "type": "scatter"
           }
          ],
          "scatter3d": [
           {
            "line": {
             "colorbar": {
              "outlinewidth": 0,
              "ticks": ""
             }
            },
            "marker": {
             "colorbar": {
              "outlinewidth": 0,
              "ticks": ""
             }
            },
            "type": "scatter3d"
           }
          ],
          "scattercarpet": [
           {
            "marker": {
             "colorbar": {
              "outlinewidth": 0,
              "ticks": ""
             }
            },
            "type": "scattercarpet"
           }
          ],
          "scattergeo": [
           {
            "marker": {
             "colorbar": {
              "outlinewidth": 0,
              "ticks": ""
             }
            },
            "type": "scattergeo"
           }
          ],
          "scattergl": [
           {
            "marker": {
             "colorbar": {
              "outlinewidth": 0,
              "ticks": ""
             }
            },
            "type": "scattergl"
           }
          ],
          "scattermapbox": [
           {
            "marker": {
             "colorbar": {
              "outlinewidth": 0,
              "ticks": ""
             }
            },
            "type": "scattermapbox"
           }
          ],
          "scatterpolar": [
           {
            "marker": {
             "colorbar": {
              "outlinewidth": 0,
              "ticks": ""
             }
            },
            "type": "scatterpolar"
           }
          ],
          "scatterpolargl": [
           {
            "marker": {
             "colorbar": {
              "outlinewidth": 0,
              "ticks": ""
             }
            },
            "type": "scatterpolargl"
           }
          ],
          "scatterternary": [
           {
            "marker": {
             "colorbar": {
              "outlinewidth": 0,
              "ticks": ""
             }
            },
            "type": "scatterternary"
           }
          ],
          "surface": [
           {
            "colorbar": {
             "outlinewidth": 0,
             "ticks": ""
            },
            "colorscale": [
             [
              0,
              "#0d0887"
             ],
             [
              0.1111111111111111,
              "#46039f"
             ],
             [
              0.2222222222222222,
              "#7201a8"
             ],
             [
              0.3333333333333333,
              "#9c179e"
             ],
             [
              0.4444444444444444,
              "#bd3786"
             ],
             [
              0.5555555555555556,
              "#d8576b"
             ],
             [
              0.6666666666666666,
              "#ed7953"
             ],
             [
              0.7777777777777778,
              "#fb9f3a"
             ],
             [
              0.8888888888888888,
              "#fdca26"
             ],
             [
              1,
              "#f0f921"
             ]
            ],
            "type": "surface"
           }
          ],
          "table": [
           {
            "cells": {
             "fill": {
              "color": "#EBF0F8"
             },
             "line": {
              "color": "white"
             }
            },
            "header": {
             "fill": {
              "color": "#C8D4E3"
             },
             "line": {
              "color": "white"
             }
            },
            "type": "table"
           }
          ]
         },
         "layout": {
          "annotationdefaults": {
           "arrowcolor": "#2a3f5f",
           "arrowhead": 0,
           "arrowwidth": 1
          },
          "autotypenumbers": "strict",
          "coloraxis": {
           "colorbar": {
            "outlinewidth": 0,
            "ticks": ""
           }
          },
          "colorscale": {
           "diverging": [
            [
             0,
             "#8e0152"
            ],
            [
             0.1,
             "#c51b7d"
            ],
            [
             0.2,
             "#de77ae"
            ],
            [
             0.3,
             "#f1b6da"
            ],
            [
             0.4,
             "#fde0ef"
            ],
            [
             0.5,
             "#f7f7f7"
            ],
            [
             0.6,
             "#e6f5d0"
            ],
            [
             0.7,
             "#b8e186"
            ],
            [
             0.8,
             "#7fbc41"
            ],
            [
             0.9,
             "#4d9221"
            ],
            [
             1,
             "#276419"
            ]
           ],
           "sequential": [
            [
             0,
             "#0d0887"
            ],
            [
             0.1111111111111111,
             "#46039f"
            ],
            [
             0.2222222222222222,
             "#7201a8"
            ],
            [
             0.3333333333333333,
             "#9c179e"
            ],
            [
             0.4444444444444444,
             "#bd3786"
            ],
            [
             0.5555555555555556,
             "#d8576b"
            ],
            [
             0.6666666666666666,
             "#ed7953"
            ],
            [
             0.7777777777777778,
             "#fb9f3a"
            ],
            [
             0.8888888888888888,
             "#fdca26"
            ],
            [
             1,
             "#f0f921"
            ]
           ],
           "sequentialminus": [
            [
             0,
             "#0d0887"
            ],
            [
             0.1111111111111111,
             "#46039f"
            ],
            [
             0.2222222222222222,
             "#7201a8"
            ],
            [
             0.3333333333333333,
             "#9c179e"
            ],
            [
             0.4444444444444444,
             "#bd3786"
            ],
            [
             0.5555555555555556,
             "#d8576b"
            ],
            [
             0.6666666666666666,
             "#ed7953"
            ],
            [
             0.7777777777777778,
             "#fb9f3a"
            ],
            [
             0.8888888888888888,
             "#fdca26"
            ],
            [
             1,
             "#f0f921"
            ]
           ]
          },
          "colorway": [
           "#636efa",
           "#EF553B",
           "#00cc96",
           "#ab63fa",
           "#FFA15A",
           "#19d3f3",
           "#FF6692",
           "#B6E880",
           "#FF97FF",
           "#FECB52"
          ],
          "font": {
           "color": "#2a3f5f"
          },
          "geo": {
           "bgcolor": "white",
           "lakecolor": "white",
           "landcolor": "#E5ECF6",
           "showlakes": true,
           "showland": true,
           "subunitcolor": "white"
          },
          "hoverlabel": {
           "align": "left"
          },
          "hovermode": "closest",
          "mapbox": {
           "style": "light"
          },
          "paper_bgcolor": "white",
          "plot_bgcolor": "#E5ECF6",
          "polar": {
           "angularaxis": {
            "gridcolor": "white",
            "linecolor": "white",
            "ticks": ""
           },
           "bgcolor": "#E5ECF6",
           "radialaxis": {
            "gridcolor": "white",
            "linecolor": "white",
            "ticks": ""
           }
          },
          "scene": {
           "xaxis": {
            "backgroundcolor": "#E5ECF6",
            "gridcolor": "white",
            "gridwidth": 2,
            "linecolor": "white",
            "showbackground": true,
            "ticks": "",
            "zerolinecolor": "white"
           },
           "yaxis": {
            "backgroundcolor": "#E5ECF6",
            "gridcolor": "white",
            "gridwidth": 2,
            "linecolor": "white",
            "showbackground": true,
            "ticks": "",
            "zerolinecolor": "white"
           },
           "zaxis": {
            "backgroundcolor": "#E5ECF6",
            "gridcolor": "white",
            "gridwidth": 2,
            "linecolor": "white",
            "showbackground": true,
            "ticks": "",
            "zerolinecolor": "white"
           }
          },
          "shapedefaults": {
           "line": {
            "color": "#2a3f5f"
           }
          },
          "ternary": {
           "aaxis": {
            "gridcolor": "white",
            "linecolor": "white",
            "ticks": ""
           },
           "baxis": {
            "gridcolor": "white",
            "linecolor": "white",
            "ticks": ""
           },
           "bgcolor": "#E5ECF6",
           "caxis": {
            "gridcolor": "white",
            "linecolor": "white",
            "ticks": ""
           }
          },
          "title": {
           "x": 0.05
          },
          "xaxis": {
           "automargin": true,
           "gridcolor": "white",
           "linecolor": "white",
           "ticks": "",
           "title": {
            "standoff": 15
           },
           "zerolinecolor": "white",
           "zerolinewidth": 2
          },
          "yaxis": {
           "automargin": true,
           "gridcolor": "white",
           "linecolor": "white",
           "ticks": "",
           "title": {
            "standoff": 15
           },
           "zerolinecolor": "white",
           "zerolinewidth": 2
          }
         }
        },
        "title": {
         "text": "Deletion distribution per each sample source"
        },
        "violinmode": "overlay",
        "xaxis": {
         "anchor": "y",
         "categoryarray": [
          "Long",
          "Chakraborty",
          "Rech"
         ],
         "categoryorder": "array",
         "domain": [
          0,
          1
         ],
         "title": {
          "text": "SRC"
         }
        },
        "yaxis": {
         "anchor": "x",
         "domain": [
          0,
          1
         ],
         "title": {
          "text": "DEL"
         }
        }
       }
      },
      "text/html": [
       "<div>                            <div id=\"d308ea14-b064-42b3-80b8-c28a414dcef8\" class=\"plotly-graph-div\" style=\"height:525px; width:100%;\"></div>            <script type=\"text/javascript\">                require([\"plotly\"], function(Plotly) {                    window.PLOTLYENV=window.PLOTLYENV || {};                                    if (document.getElementById(\"d308ea14-b064-42b3-80b8-c28a414dcef8\")) {                    Plotly.newPlot(                        \"d308ea14-b064-42b3-80b8-c28a414dcef8\",                        [{\"alignmentgroup\": \"True\", \"box\": {\"visible\": true}, \"customdata\": [[\"B59\", 766, 725, 1830, 136, 1133, 1032], [\"I23\", 657, 713, 1629, 133, 786, 790], [\"N25\", 699, 716, 1692, 134, 941, 972], [\"T29A\", 695, 697, 1606, 129, 898, 914], [\"ZH26\", 846, 755, 1696, 153, 915, 1021]], \"hovertemplate\": \"SRC=%{x}<br>DEL=%{y}<br>sample=%{customdata[0]}<br>CNV-Q=%{customdata[1]}<br>CNV-R=%{customdata[2]}<br>INS=%{customdata[3]}<br>INV=%{customdata[4]}<br>nCNV-Q=%{customdata[5]}<br>nCNV-R=%{customdata[6]}<extra></extra>\", \"legendgroup\": \"Long\", \"marker\": {\"color\": \"#636efa\"}, \"name\": \"Long\", \"offsetgroup\": \"Long\", \"orientation\": \"v\", \"points\": \"all\", \"scalegroup\": \"True\", \"showlegend\": true, \"type\": \"violin\", \"x\": [\"Long\", \"Long\", \"Long\", \"Long\", \"Long\"], \"x0\": \" \", \"xaxis\": \"x\", \"y\": [1949, 1749, 1821, 1747, 2169], \"y0\": \" \", \"yaxis\": \"y\"}, {\"alignmentgroup\": \"True\", \"box\": {\"visible\": true}, \"customdata\": [[\"A1\", 659, 640, 1903, 152, 1677, 1153], [\"A2\", 795, 731, 2044, 203, 1726, 1309], [\"A3\", 610, 694, 1757, 178, 1349, 1105], [\"A4\", 624, 669, 1780, 155, 1807, 1102], [\"A5\", 588, 704, 1816, 135, 1475, 1198], [\"A6\", 729, 744, 2031, 168, 1355, 1101], [\"A7\", 764, 736, 2066, 173, 1717, 1423], [\"AB8\", 570, 602, 1603, 133, 1559, 978], [\"B1\", 659, 733, 1940, 215, 1670, 1362], [\"B2\", 770, 717, 2054, 186, 1578, 1211], [\"B3\", 647, 693, 1884, 169, 1692, 1184], [\"B4\", 694, 686, 1936, 149, 1443, 1223], [\"B6\", 634, 699, 1787, 155, 1575, 1150], [\"OreR\", 767, 758, 1857, 206, 1488, 1266]], \"hovertemplate\": \"SRC=%{x}<br>DEL=%{y}<br>sample=%{customdata[0]}<br>CNV-Q=%{customdata[1]}<br>CNV-R=%{customdata[2]}<br>INS=%{customdata[3]}<br>INV=%{customdata[4]}<br>nCNV-Q=%{customdata[5]}<br>nCNV-R=%{customdata[6]}<extra></extra>\", \"legendgroup\": \"Chakraborty\", \"marker\": {\"color\": \"#EF553B\"}, \"name\": \"Chakraborty\", \"offsetgroup\": \"Chakraborty\", \"orientation\": \"v\", \"points\": \"all\", \"scalegroup\": \"True\", \"showlegend\": true, \"type\": \"violin\", \"x\": [\"Chakraborty\", \"Chakraborty\", \"Chakraborty\", \"Chakraborty\", \"Chakraborty\", \"Chakraborty\", \"Chakraborty\", \"Chakraborty\", \"Chakraborty\", \"Chakraborty\", \"Chakraborty\", \"Chakraborty\", \"Chakraborty\", \"Chakraborty\"], \"x0\": \" \", \"xaxis\": \"x\", \"y\": [1824, 2127, 1908, 1833, 2007, 1923, 2347, 1675, 2165, 1927, 1965, 1985, 1891, 2016], \"y0\": \" \", \"yaxis\": \"y\"}, {\"alignmentgroup\": \"True\", \"box\": {\"visible\": true}, \"customdata\": [[\"AKA-017\", 659, 701, 1863, 151, 2178, 1138], [\"AKA-018\", 714, 717, 1857, 173, 1698, 1239], [\"COR-014\", 817, 691, 1887, 161, 1847, 1182], [\"COR-018\", 594, 382, 1239, 84, 1100, 684], [\"COR-023\", 923, 717, 1966, 192, 1520, 1223], [\"COR-025\", 976, 714, 1971, 180, 2118, 1132], [\"GIM-012\", 937, 712, 2023, 195, 1921, 1195], [\"GIM-024\", 573, 561, 1547, 120, 1419, 965], [\"JUT-008\", 745, 682, 1922, 161, 2286, 1304], [\"JUT-011\", 806, 702, 1952, 194, 1767, 1251], [\"KIE-094\", 852, 726, 2104, 208, 2011, 1386], [\"LUN-004\", 822, 699, 1961, 193, 1678, 1235], [\"LUN-007\", 969, 715, 2073, 169, 1712, 1210], [\"MUN-008\", 580, 405, 1264, 78, 1071, 674], [\"MUN-009\", 936, 696, 1976, 164, 2251, 1182], [\"MUN-013\", 906, 744, 1939, 190, 1894, 1175], [\"MUN-015\", 931, 724, 1979, 176, 1864, 1214], [\"MUN-016\", 683, 674, 1803, 152, 1735, 1160], [\"MUN-020\", 927, 754, 1977, 197, 1896, 1133], [\"RAL-059\", 803, 689, 2044, 156, 1848, 1201], [\"RAL-091\", 936, 700, 2123, 170, 1898, 1179], [\"RAL-176\", 1035, 744, 2320, 231, 2073, 1210], [\"RAL-177\", 605, 579, 1661, 137, 1420, 954], [\"RAL-375\", 688, 678, 1822, 142, 1945, 1184], [\"RAL-426\", 997, 763, 2211, 232, 1863, 1361], [\"RAL-737\", 885, 714, 2199, 208, 2532, 1329], [\"RAL-855\", 874, 740, 2070, 196, 1992, 1240], [\"SLA-001\", 865, 691, 1761, 150, 1548, 1129], [\"STO-022\", 824, 705, 1889, 173, 2093, 1257], [\"TEN-015\", 879, 742, 1816, 145, 1784, 1130], [\"TOM-007\", 787, 738, 1954, 163, 1546, 1241], [\"TOM-008\", 877, 745, 1937, 164, 1708, 1136]], \"hovertemplate\": \"SRC=%{x}<br>DEL=%{y}<br>sample=%{customdata[0]}<br>CNV-Q=%{customdata[1]}<br>CNV-R=%{customdata[2]}<br>INS=%{customdata[3]}<br>INV=%{customdata[4]}<br>nCNV-Q=%{customdata[5]}<br>nCNV-R=%{customdata[6]}<extra></extra>\", \"legendgroup\": \"Rech\", \"marker\": {\"color\": \"#00cc96\"}, \"name\": \"Rech\", \"offsetgroup\": \"Rech\", \"orientation\": \"v\", \"points\": \"all\", \"scalegroup\": \"True\", \"showlegend\": true, \"type\": \"violin\", \"x\": [\"Rech\", \"Rech\", \"Rech\", \"Rech\", \"Rech\", \"Rech\", \"Rech\", \"Rech\", \"Rech\", \"Rech\", \"Rech\", \"Rech\", \"Rech\", \"Rech\", \"Rech\", \"Rech\", \"Rech\", \"Rech\", \"Rech\", \"Rech\", \"Rech\", \"Rech\", \"Rech\", \"Rech\", \"Rech\", \"Rech\", \"Rech\", \"Rech\", \"Rech\", \"Rech\", \"Rech\", \"Rech\"], \"x0\": \" \", \"xaxis\": \"x\", \"y\": [1944, 2044, 2005, 1147, 1975, 1885, 1911, 1633, 1999, 1999, 2184, 2053, 2009, 1165, 1955, 1983, 2067, 1907, 1968, 1955, 2054, 2208, 1661, 1945, 2169, 2171, 2075, 1888, 2033, 1972, 2054, 1921], \"y0\": \" \", \"yaxis\": \"y\"}],                        {\"legend\": {\"title\": {\"text\": \"SRC\"}, \"tracegroupgap\": 0}, \"paper_bgcolor\": \"rgba(0,0,0,0)\", \"plot_bgcolor\": \"rgba(0,0,0,0)\", \"template\": {\"data\": {\"bar\": [{\"error_x\": {\"color\": \"#2a3f5f\"}, \"error_y\": {\"color\": \"#2a3f5f\"}, \"marker\": {\"line\": {\"color\": \"#E5ECF6\", \"width\": 0.5}}, \"type\": \"bar\"}], \"barpolar\": [{\"marker\": {\"line\": {\"color\": \"#E5ECF6\", \"width\": 0.5}}, \"type\": \"barpolar\"}], \"carpet\": [{\"aaxis\": {\"endlinecolor\": \"#2a3f5f\", \"gridcolor\": \"white\", \"linecolor\": \"white\", \"minorgridcolor\": \"white\", \"startlinecolor\": \"#2a3f5f\"}, \"baxis\": {\"endlinecolor\": \"#2a3f5f\", \"gridcolor\": \"white\", \"linecolor\": \"white\", \"minorgridcolor\": \"white\", \"startlinecolor\": \"#2a3f5f\"}, \"type\": \"carpet\"}], \"choropleth\": [{\"colorbar\": {\"outlinewidth\": 0, \"ticks\": \"\"}, \"type\": \"choropleth\"}], \"contour\": [{\"colorbar\": {\"outlinewidth\": 0, \"ticks\": \"\"}, \"colorscale\": [[0.0, \"#0d0887\"], [0.1111111111111111, \"#46039f\"], [0.2222222222222222, \"#7201a8\"], [0.3333333333333333, \"#9c179e\"], [0.4444444444444444, \"#bd3786\"], [0.5555555555555556, \"#d8576b\"], [0.6666666666666666, \"#ed7953\"], [0.7777777777777778, \"#fb9f3a\"], [0.8888888888888888, \"#fdca26\"], [1.0, \"#f0f921\"]], \"type\": \"contour\"}], \"contourcarpet\": [{\"colorbar\": {\"outlinewidth\": 0, \"ticks\": \"\"}, \"type\": \"contourcarpet\"}], \"heatmap\": [{\"colorbar\": {\"outlinewidth\": 0, \"ticks\": \"\"}, \"colorscale\": [[0.0, \"#0d0887\"], [0.1111111111111111, \"#46039f\"], [0.2222222222222222, \"#7201a8\"], [0.3333333333333333, \"#9c179e\"], [0.4444444444444444, \"#bd3786\"], [0.5555555555555556, \"#d8576b\"], [0.6666666666666666, \"#ed7953\"], [0.7777777777777778, \"#fb9f3a\"], [0.8888888888888888, \"#fdca26\"], [1.0, \"#f0f921\"]], \"type\": \"heatmap\"}], \"heatmapgl\": [{\"colorbar\": {\"outlinewidth\": 0, \"ticks\": \"\"}, \"colorscale\": [[0.0, \"#0d0887\"], [0.1111111111111111, \"#46039f\"], [0.2222222222222222, \"#7201a8\"], [0.3333333333333333, \"#9c179e\"], [0.4444444444444444, \"#bd3786\"], [0.5555555555555556, \"#d8576b\"], [0.6666666666666666, \"#ed7953\"], [0.7777777777777778, \"#fb9f3a\"], [0.8888888888888888, \"#fdca26\"], [1.0, \"#f0f921\"]], \"type\": \"heatmapgl\"}], \"histogram\": [{\"marker\": {\"colorbar\": {\"outlinewidth\": 0, \"ticks\": \"\"}}, \"type\": \"histogram\"}], \"histogram2d\": [{\"colorbar\": {\"outlinewidth\": 0, \"ticks\": \"\"}, \"colorscale\": [[0.0, \"#0d0887\"], [0.1111111111111111, \"#46039f\"], [0.2222222222222222, \"#7201a8\"], [0.3333333333333333, \"#9c179e\"], [0.4444444444444444, \"#bd3786\"], [0.5555555555555556, \"#d8576b\"], [0.6666666666666666, \"#ed7953\"], [0.7777777777777778, \"#fb9f3a\"], [0.8888888888888888, \"#fdca26\"], [1.0, \"#f0f921\"]], \"type\": \"histogram2d\"}], \"histogram2dcontour\": [{\"colorbar\": {\"outlinewidth\": 0, \"ticks\": \"\"}, \"colorscale\": [[0.0, \"#0d0887\"], [0.1111111111111111, \"#46039f\"], [0.2222222222222222, \"#7201a8\"], [0.3333333333333333, \"#9c179e\"], [0.4444444444444444, \"#bd3786\"], [0.5555555555555556, \"#d8576b\"], [0.6666666666666666, \"#ed7953\"], [0.7777777777777778, \"#fb9f3a\"], [0.8888888888888888, \"#fdca26\"], [1.0, \"#f0f921\"]], \"type\": \"histogram2dcontour\"}], \"mesh3d\": [{\"colorbar\": {\"outlinewidth\": 0, \"ticks\": \"\"}, \"type\": \"mesh3d\"}], \"parcoords\": [{\"line\": {\"colorbar\": {\"outlinewidth\": 0, \"ticks\": \"\"}}, \"type\": \"parcoords\"}], \"pie\": [{\"automargin\": true, \"type\": \"pie\"}], \"scatter\": [{\"marker\": {\"colorbar\": {\"outlinewidth\": 0, \"ticks\": \"\"}}, \"type\": \"scatter\"}], \"scatter3d\": [{\"line\": {\"colorbar\": {\"outlinewidth\": 0, \"ticks\": \"\"}}, \"marker\": {\"colorbar\": {\"outlinewidth\": 0, \"ticks\": \"\"}}, \"type\": \"scatter3d\"}], \"scattercarpet\": [{\"marker\": {\"colorbar\": {\"outlinewidth\": 0, \"ticks\": \"\"}}, \"type\": \"scattercarpet\"}], \"scattergeo\": [{\"marker\": {\"colorbar\": {\"outlinewidth\": 0, \"ticks\": \"\"}}, \"type\": \"scattergeo\"}], \"scattergl\": [{\"marker\": {\"colorbar\": {\"outlinewidth\": 0, \"ticks\": \"\"}}, \"type\": \"scattergl\"}], \"scattermapbox\": [{\"marker\": {\"colorbar\": {\"outlinewidth\": 0, \"ticks\": \"\"}}, \"type\": \"scattermapbox\"}], \"scatterpolar\": [{\"marker\": {\"colorbar\": {\"outlinewidth\": 0, \"ticks\": \"\"}}, \"type\": \"scatterpolar\"}], \"scatterpolargl\": [{\"marker\": {\"colorbar\": {\"outlinewidth\": 0, \"ticks\": \"\"}}, \"type\": \"scatterpolargl\"}], \"scatterternary\": [{\"marker\": {\"colorbar\": {\"outlinewidth\": 0, \"ticks\": \"\"}}, \"type\": \"scatterternary\"}], \"surface\": [{\"colorbar\": {\"outlinewidth\": 0, \"ticks\": \"\"}, \"colorscale\": [[0.0, \"#0d0887\"], [0.1111111111111111, \"#46039f\"], [0.2222222222222222, \"#7201a8\"], [0.3333333333333333, \"#9c179e\"], [0.4444444444444444, \"#bd3786\"], [0.5555555555555556, \"#d8576b\"], [0.6666666666666666, \"#ed7953\"], [0.7777777777777778, \"#fb9f3a\"], [0.8888888888888888, \"#fdca26\"], [1.0, \"#f0f921\"]], \"type\": \"surface\"}], \"table\": [{\"cells\": {\"fill\": {\"color\": \"#EBF0F8\"}, \"line\": {\"color\": \"white\"}}, \"header\": {\"fill\": {\"color\": \"#C8D4E3\"}, \"line\": {\"color\": \"white\"}}, \"type\": \"table\"}]}, \"layout\": {\"annotationdefaults\": {\"arrowcolor\": \"#2a3f5f\", \"arrowhead\": 0, \"arrowwidth\": 1}, \"autotypenumbers\": \"strict\", \"coloraxis\": {\"colorbar\": {\"outlinewidth\": 0, \"ticks\": \"\"}}, \"colorscale\": {\"diverging\": [[0, \"#8e0152\"], [0.1, \"#c51b7d\"], [0.2, \"#de77ae\"], [0.3, \"#f1b6da\"], [0.4, \"#fde0ef\"], [0.5, \"#f7f7f7\"], [0.6, \"#e6f5d0\"], [0.7, \"#b8e186\"], [0.8, \"#7fbc41\"], [0.9, \"#4d9221\"], [1, \"#276419\"]], \"sequential\": [[0.0, \"#0d0887\"], [0.1111111111111111, \"#46039f\"], [0.2222222222222222, \"#7201a8\"], [0.3333333333333333, \"#9c179e\"], [0.4444444444444444, \"#bd3786\"], [0.5555555555555556, \"#d8576b\"], [0.6666666666666666, \"#ed7953\"], [0.7777777777777778, \"#fb9f3a\"], [0.8888888888888888, \"#fdca26\"], [1.0, \"#f0f921\"]], \"sequentialminus\": [[0.0, \"#0d0887\"], [0.1111111111111111, \"#46039f\"], [0.2222222222222222, \"#7201a8\"], [0.3333333333333333, \"#9c179e\"], [0.4444444444444444, \"#bd3786\"], [0.5555555555555556, \"#d8576b\"], [0.6666666666666666, \"#ed7953\"], [0.7777777777777778, \"#fb9f3a\"], [0.8888888888888888, \"#fdca26\"], [1.0, \"#f0f921\"]]}, \"colorway\": [\"#636efa\", \"#EF553B\", \"#00cc96\", \"#ab63fa\", \"#FFA15A\", \"#19d3f3\", \"#FF6692\", \"#B6E880\", \"#FF97FF\", \"#FECB52\"], \"font\": {\"color\": \"#2a3f5f\"}, \"geo\": {\"bgcolor\": \"white\", \"lakecolor\": \"white\", \"landcolor\": \"#E5ECF6\", \"showlakes\": true, \"showland\": true, \"subunitcolor\": \"white\"}, \"hoverlabel\": {\"align\": \"left\"}, \"hovermode\": \"closest\", \"mapbox\": {\"style\": \"light\"}, \"paper_bgcolor\": \"white\", \"plot_bgcolor\": \"#E5ECF6\", \"polar\": {\"angularaxis\": {\"gridcolor\": \"white\", \"linecolor\": \"white\", \"ticks\": \"\"}, \"bgcolor\": \"#E5ECF6\", \"radialaxis\": {\"gridcolor\": \"white\", \"linecolor\": \"white\", \"ticks\": \"\"}}, \"scene\": {\"xaxis\": {\"backgroundcolor\": \"#E5ECF6\", \"gridcolor\": \"white\", \"gridwidth\": 2, \"linecolor\": \"white\", \"showbackground\": true, \"ticks\": \"\", \"zerolinecolor\": \"white\"}, \"yaxis\": {\"backgroundcolor\": \"#E5ECF6\", \"gridcolor\": \"white\", \"gridwidth\": 2, \"linecolor\": \"white\", \"showbackground\": true, \"ticks\": \"\", \"zerolinecolor\": \"white\"}, \"zaxis\": {\"backgroundcolor\": \"#E5ECF6\", \"gridcolor\": \"white\", \"gridwidth\": 2, \"linecolor\": \"white\", \"showbackground\": true, \"ticks\": \"\", \"zerolinecolor\": \"white\"}}, \"shapedefaults\": {\"line\": {\"color\": \"#2a3f5f\"}}, \"ternary\": {\"aaxis\": {\"gridcolor\": \"white\", \"linecolor\": \"white\", \"ticks\": \"\"}, \"baxis\": {\"gridcolor\": \"white\", \"linecolor\": \"white\", \"ticks\": \"\"}, \"bgcolor\": \"#E5ECF6\", \"caxis\": {\"gridcolor\": \"white\", \"linecolor\": \"white\", \"ticks\": \"\"}}, \"title\": {\"x\": 0.05}, \"xaxis\": {\"automargin\": true, \"gridcolor\": \"white\", \"linecolor\": \"white\", \"ticks\": \"\", \"title\": {\"standoff\": 15}, \"zerolinecolor\": \"white\", \"zerolinewidth\": 2}, \"yaxis\": {\"automargin\": true, \"gridcolor\": \"white\", \"linecolor\": \"white\", \"ticks\": \"\", \"title\": {\"standoff\": 15}, \"zerolinecolor\": \"white\", \"zerolinewidth\": 2}}}, \"title\": {\"text\": \"Deletion distribution per each sample source\"}, \"violinmode\": \"overlay\", \"xaxis\": {\"anchor\": \"y\", \"categoryarray\": [\"Long\", \"Chakraborty\", \"Rech\"], \"categoryorder\": \"array\", \"domain\": [0.0, 1.0], \"title\": {\"text\": \"SRC\"}}, \"yaxis\": {\"anchor\": \"x\", \"domain\": [0.0, 1.0], \"title\": {\"text\": \"DEL\"}}},                        {\"responsive\": true}                    ).then(function(){\n",
       "                            \n",
       "var gd = document.getElementById('d308ea14-b064-42b3-80b8-c28a414dcef8');\n",
       "var x = new MutationObserver(function (mutations, observer) {{\n",
       "        var display = window.getComputedStyle(gd).display;\n",
       "        if (!display || display === 'none') {{\n",
       "            console.log([gd, 'removed!']);\n",
       "            Plotly.purge(gd);\n",
       "            observer.disconnect();\n",
       "        }}\n",
       "}});\n",
       "\n",
       "// Listen for the removal of the full notebook cells\n",
       "var notebookContainer = gd.closest('#notebook-container');\n",
       "if (notebookContainer) {{\n",
       "    x.observe(notebookContainer, {childList: true});\n",
       "}}\n",
       "\n",
       "// Listen for the clearing of the current output cell\n",
       "var outputEl = gd.closest('.output');\n",
       "if (outputEl) {{\n",
       "    x.observe(outputEl, {childList: true});\n",
       "}}\n",
       "\n",
       "                        })                };                });            </script>        </div>"
      ]
     },
     "metadata": {},
     "output_type": "display_data"
    }
   ],
   "source": [
    "fig = px.violin(df, y=\"DEL\", x=\"SRC\", color=\"SRC\", box=True, points=\"all\", title=\"Deletion distribution per each sample source\",\n",
    "          hover_data=df.columns)\n",
    "\n",
    "fig.update_layout(\n",
    "    paper_bgcolor='rgba(0,0,0,0)',\n",
    "    plot_bgcolor='rgba(0,0,0,0)'\n",
    ")\n",
    "\n",
    "fig.show()"
   ]
  },
  {
   "cell_type": "code",
   "execution_count": 243,
   "metadata": {},
   "outputs": [
    {
     "data": {
      "application/vnd.plotly.v1+json": {
       "config": {
        "plotlyServerURL": "https://plot.ly"
       },
       "data": [
        {
         "box": {
          "visible": true
         },
         "fillcolor": "lightseagreen",
         "line": {
          "color": "black"
         },
         "meanline": {
          "visible": true
         },
         "name": "CNV-Q",
         "opacity": 0.6,
         "type": "violin",
         "x0": "CNV-Q",
         "y": [
          766,
          657,
          699,
          695,
          846,
          659,
          795,
          610,
          624,
          588,
          729,
          764,
          570,
          659,
          770,
          647,
          694,
          634,
          767,
          659,
          714,
          817,
          594,
          923,
          976,
          937,
          573,
          745,
          806,
          852,
          822,
          969,
          580,
          936,
          906,
          931,
          683,
          927,
          803,
          936,
          1035,
          605,
          688,
          997,
          885,
          874,
          865,
          824,
          879,
          787,
          877
         ]
        },
        {
         "box": {
          "visible": true
         },
         "fillcolor": "red",
         "line": {
          "color": "black"
         },
         "meanline": {
          "visible": true
         },
         "name": "CNV-R",
         "opacity": 0.6,
         "type": "violin",
         "x0": "CNV-R",
         "y": [
          725,
          713,
          716,
          697,
          755,
          640,
          731,
          694,
          669,
          704,
          744,
          736,
          602,
          733,
          717,
          693,
          686,
          699,
          758,
          701,
          717,
          691,
          382,
          717,
          714,
          712,
          561,
          682,
          702,
          726,
          699,
          715,
          405,
          696,
          744,
          724,
          674,
          754,
          689,
          700,
          744,
          579,
          678,
          763,
          714,
          740,
          691,
          705,
          742,
          738,
          745
         ]
        },
        {
         "box": {
          "visible": true
         },
         "fillcolor": "blue",
         "line": {
          "color": "black"
         },
         "meanline": {
          "visible": true
         },
         "name": "DEL",
         "opacity": 0.6,
         "type": "violin",
         "x0": "DEL",
         "y": [
          1949,
          1749,
          1821,
          1747,
          2169,
          1824,
          2127,
          1908,
          1833,
          2007,
          1923,
          2347,
          1675,
          2165,
          1927,
          1965,
          1985,
          1891,
          2016,
          1944,
          2044,
          2005,
          1147,
          1975,
          1885,
          1911,
          1633,
          1999,
          1999,
          2184,
          2053,
          2009,
          1165,
          1955,
          1983,
          2067,
          1907,
          1968,
          1955,
          2054,
          2208,
          1661,
          1945,
          2169,
          2171,
          2075,
          1888,
          2033,
          1972,
          2054,
          1921
         ]
        },
        {
         "box": {
          "visible": true
         },
         "fillcolor": "yellow",
         "line": {
          "color": "black"
         },
         "meanline": {
          "visible": true
         },
         "name": "INS",
         "opacity": 0.6,
         "type": "violin",
         "x0": "INS",
         "y": [
          1830,
          1629,
          1692,
          1606,
          1696,
          1903,
          2044,
          1757,
          1780,
          1816,
          2031,
          2066,
          1603,
          1940,
          2054,
          1884,
          1936,
          1787,
          1857,
          1863,
          1857,
          1887,
          1239,
          1966,
          1971,
          2023,
          1547,
          1922,
          1952,
          2104,
          1961,
          2073,
          1264,
          1976,
          1939,
          1979,
          1803,
          1977,
          2044,
          2123,
          2320,
          1661,
          1822,
          2211,
          2199,
          2070,
          1761,
          1889,
          1816,
          1954,
          1937
         ]
        },
        {
         "box": {
          "visible": true
         },
         "fillcolor": "pink",
         "line": {
          "color": "black"
         },
         "meanline": {
          "visible": true
         },
         "name": "INV",
         "opacity": 0.6,
         "type": "violin",
         "x0": "INV",
         "y": [
          136,
          133,
          134,
          129,
          153,
          152,
          203,
          178,
          155,
          135,
          168,
          173,
          133,
          215,
          186,
          169,
          149,
          155,
          206,
          151,
          173,
          161,
          84,
          192,
          180,
          195,
          120,
          161,
          194,
          208,
          193,
          169,
          78,
          164,
          190,
          176,
          152,
          197,
          156,
          170,
          231,
          137,
          142,
          232,
          208,
          196,
          150,
          173,
          145,
          163,
          164
         ]
        },
        {
         "box": {
          "visible": true
         },
         "fillcolor": "purple",
         "line": {
          "color": "black"
         },
         "meanline": {
          "visible": true
         },
         "name": "nCNV-Q",
         "opacity": 0.6,
         "type": "violin",
         "x0": "nCNV-Q",
         "y": [
          1133,
          786,
          941,
          898,
          915,
          1677,
          1726,
          1349,
          1807,
          1475,
          1355,
          1717,
          1559,
          1670,
          1578,
          1692,
          1443,
          1575,
          1488,
          2178,
          1698,
          1847,
          1100,
          1520,
          2118,
          1921,
          1419,
          2286,
          1767,
          2011,
          1678,
          1712,
          1071,
          2251,
          1894,
          1864,
          1735,
          1896,
          1848,
          1898,
          2073,
          1420,
          1945,
          1863,
          2532,
          1992,
          1548,
          2093,
          1784,
          1546,
          1708
         ]
        },
        {
         "box": {
          "visible": true
         },
         "fillcolor": "orange",
         "line": {
          "color": "black"
         },
         "meanline": {
          "visible": true
         },
         "name": "nCNV-R",
         "opacity": 0.6,
         "type": "violin",
         "x0": "nCNV-R",
         "y": [
          1032,
          790,
          972,
          914,
          1021,
          1153,
          1309,
          1105,
          1102,
          1198,
          1101,
          1423,
          978,
          1362,
          1211,
          1184,
          1223,
          1150,
          1266,
          1138,
          1239,
          1182,
          684,
          1223,
          1132,
          1195,
          965,
          1304,
          1251,
          1386,
          1235,
          1210,
          674,
          1182,
          1175,
          1214,
          1160,
          1133,
          1201,
          1179,
          1210,
          954,
          1184,
          1361,
          1329,
          1240,
          1129,
          1257,
          1130,
          1241,
          1136
         ]
        }
       ],
       "layout": {
        "paper_bgcolor": "rgba(0,0,0,0)",
        "plot_bgcolor": "rgba(0,0,0,0)",
        "template": {
         "data": {
          "bar": [
           {
            "error_x": {
             "color": "#2a3f5f"
            },
            "error_y": {
             "color": "#2a3f5f"
            },
            "marker": {
             "line": {
              "color": "#E5ECF6",
              "width": 0.5
             }
            },
            "type": "bar"
           }
          ],
          "barpolar": [
           {
            "marker": {
             "line": {
              "color": "#E5ECF6",
              "width": 0.5
             }
            },
            "type": "barpolar"
           }
          ],
          "carpet": [
           {
            "aaxis": {
             "endlinecolor": "#2a3f5f",
             "gridcolor": "white",
             "linecolor": "white",
             "minorgridcolor": "white",
             "startlinecolor": "#2a3f5f"
            },
            "baxis": {
             "endlinecolor": "#2a3f5f",
             "gridcolor": "white",
             "linecolor": "white",
             "minorgridcolor": "white",
             "startlinecolor": "#2a3f5f"
            },
            "type": "carpet"
           }
          ],
          "choropleth": [
           {
            "colorbar": {
             "outlinewidth": 0,
             "ticks": ""
            },
            "type": "choropleth"
           }
          ],
          "contour": [
           {
            "colorbar": {
             "outlinewidth": 0,
             "ticks": ""
            },
            "colorscale": [
             [
              0,
              "#0d0887"
             ],
             [
              0.1111111111111111,
              "#46039f"
             ],
             [
              0.2222222222222222,
              "#7201a8"
             ],
             [
              0.3333333333333333,
              "#9c179e"
             ],
             [
              0.4444444444444444,
              "#bd3786"
             ],
             [
              0.5555555555555556,
              "#d8576b"
             ],
             [
              0.6666666666666666,
              "#ed7953"
             ],
             [
              0.7777777777777778,
              "#fb9f3a"
             ],
             [
              0.8888888888888888,
              "#fdca26"
             ],
             [
              1,
              "#f0f921"
             ]
            ],
            "type": "contour"
           }
          ],
          "contourcarpet": [
           {
            "colorbar": {
             "outlinewidth": 0,
             "ticks": ""
            },
            "type": "contourcarpet"
           }
          ],
          "heatmap": [
           {
            "colorbar": {
             "outlinewidth": 0,
             "ticks": ""
            },
            "colorscale": [
             [
              0,
              "#0d0887"
             ],
             [
              0.1111111111111111,
              "#46039f"
             ],
             [
              0.2222222222222222,
              "#7201a8"
             ],
             [
              0.3333333333333333,
              "#9c179e"
             ],
             [
              0.4444444444444444,
              "#bd3786"
             ],
             [
              0.5555555555555556,
              "#d8576b"
             ],
             [
              0.6666666666666666,
              "#ed7953"
             ],
             [
              0.7777777777777778,
              "#fb9f3a"
             ],
             [
              0.8888888888888888,
              "#fdca26"
             ],
             [
              1,
              "#f0f921"
             ]
            ],
            "type": "heatmap"
           }
          ],
          "heatmapgl": [
           {
            "colorbar": {
             "outlinewidth": 0,
             "ticks": ""
            },
            "colorscale": [
             [
              0,
              "#0d0887"
             ],
             [
              0.1111111111111111,
              "#46039f"
             ],
             [
              0.2222222222222222,
              "#7201a8"
             ],
             [
              0.3333333333333333,
              "#9c179e"
             ],
             [
              0.4444444444444444,
              "#bd3786"
             ],
             [
              0.5555555555555556,
              "#d8576b"
             ],
             [
              0.6666666666666666,
              "#ed7953"
             ],
             [
              0.7777777777777778,
              "#fb9f3a"
             ],
             [
              0.8888888888888888,
              "#fdca26"
             ],
             [
              1,
              "#f0f921"
             ]
            ],
            "type": "heatmapgl"
           }
          ],
          "histogram": [
           {
            "marker": {
             "colorbar": {
              "outlinewidth": 0,
              "ticks": ""
             }
            },
            "type": "histogram"
           }
          ],
          "histogram2d": [
           {
            "colorbar": {
             "outlinewidth": 0,
             "ticks": ""
            },
            "colorscale": [
             [
              0,
              "#0d0887"
             ],
             [
              0.1111111111111111,
              "#46039f"
             ],
             [
              0.2222222222222222,
              "#7201a8"
             ],
             [
              0.3333333333333333,
              "#9c179e"
             ],
             [
              0.4444444444444444,
              "#bd3786"
             ],
             [
              0.5555555555555556,
              "#d8576b"
             ],
             [
              0.6666666666666666,
              "#ed7953"
             ],
             [
              0.7777777777777778,
              "#fb9f3a"
             ],
             [
              0.8888888888888888,
              "#fdca26"
             ],
             [
              1,
              "#f0f921"
             ]
            ],
            "type": "histogram2d"
           }
          ],
          "histogram2dcontour": [
           {
            "colorbar": {
             "outlinewidth": 0,
             "ticks": ""
            },
            "colorscale": [
             [
              0,
              "#0d0887"
             ],
             [
              0.1111111111111111,
              "#46039f"
             ],
             [
              0.2222222222222222,
              "#7201a8"
             ],
             [
              0.3333333333333333,
              "#9c179e"
             ],
             [
              0.4444444444444444,
              "#bd3786"
             ],
             [
              0.5555555555555556,
              "#d8576b"
             ],
             [
              0.6666666666666666,
              "#ed7953"
             ],
             [
              0.7777777777777778,
              "#fb9f3a"
             ],
             [
              0.8888888888888888,
              "#fdca26"
             ],
             [
              1,
              "#f0f921"
             ]
            ],
            "type": "histogram2dcontour"
           }
          ],
          "mesh3d": [
           {
            "colorbar": {
             "outlinewidth": 0,
             "ticks": ""
            },
            "type": "mesh3d"
           }
          ],
          "parcoords": [
           {
            "line": {
             "colorbar": {
              "outlinewidth": 0,
              "ticks": ""
             }
            },
            "type": "parcoords"
           }
          ],
          "pie": [
           {
            "automargin": true,
            "type": "pie"
           }
          ],
          "scatter": [
           {
            "marker": {
             "colorbar": {
              "outlinewidth": 0,
              "ticks": ""
             }
            },
            "type": "scatter"
           }
          ],
          "scatter3d": [
           {
            "line": {
             "colorbar": {
              "outlinewidth": 0,
              "ticks": ""
             }
            },
            "marker": {
             "colorbar": {
              "outlinewidth": 0,
              "ticks": ""
             }
            },
            "type": "scatter3d"
           }
          ],
          "scattercarpet": [
           {
            "marker": {
             "colorbar": {
              "outlinewidth": 0,
              "ticks": ""
             }
            },
            "type": "scattercarpet"
           }
          ],
          "scattergeo": [
           {
            "marker": {
             "colorbar": {
              "outlinewidth": 0,
              "ticks": ""
             }
            },
            "type": "scattergeo"
           }
          ],
          "scattergl": [
           {
            "marker": {
             "colorbar": {
              "outlinewidth": 0,
              "ticks": ""
             }
            },
            "type": "scattergl"
           }
          ],
          "scattermapbox": [
           {
            "marker": {
             "colorbar": {
              "outlinewidth": 0,
              "ticks": ""
             }
            },
            "type": "scattermapbox"
           }
          ],
          "scatterpolar": [
           {
            "marker": {
             "colorbar": {
              "outlinewidth": 0,
              "ticks": ""
             }
            },
            "type": "scatterpolar"
           }
          ],
          "scatterpolargl": [
           {
            "marker": {
             "colorbar": {
              "outlinewidth": 0,
              "ticks": ""
             }
            },
            "type": "scatterpolargl"
           }
          ],
          "scatterternary": [
           {
            "marker": {
             "colorbar": {
              "outlinewidth": 0,
              "ticks": ""
             }
            },
            "type": "scatterternary"
           }
          ],
          "surface": [
           {
            "colorbar": {
             "outlinewidth": 0,
             "ticks": ""
            },
            "colorscale": [
             [
              0,
              "#0d0887"
             ],
             [
              0.1111111111111111,
              "#46039f"
             ],
             [
              0.2222222222222222,
              "#7201a8"
             ],
             [
              0.3333333333333333,
              "#9c179e"
             ],
             [
              0.4444444444444444,
              "#bd3786"
             ],
             [
              0.5555555555555556,
              "#d8576b"
             ],
             [
              0.6666666666666666,
              "#ed7953"
             ],
             [
              0.7777777777777778,
              "#fb9f3a"
             ],
             [
              0.8888888888888888,
              "#fdca26"
             ],
             [
              1,
              "#f0f921"
             ]
            ],
            "type": "surface"
           }
          ],
          "table": [
           {
            "cells": {
             "fill": {
              "color": "#EBF0F8"
             },
             "line": {
              "color": "white"
             }
            },
            "header": {
             "fill": {
              "color": "#C8D4E3"
             },
             "line": {
              "color": "white"
             }
            },
            "type": "table"
           }
          ]
         },
         "layout": {
          "annotationdefaults": {
           "arrowcolor": "#2a3f5f",
           "arrowhead": 0,
           "arrowwidth": 1
          },
          "autotypenumbers": "strict",
          "coloraxis": {
           "colorbar": {
            "outlinewidth": 0,
            "ticks": ""
           }
          },
          "colorscale": {
           "diverging": [
            [
             0,
             "#8e0152"
            ],
            [
             0.1,
             "#c51b7d"
            ],
            [
             0.2,
             "#de77ae"
            ],
            [
             0.3,
             "#f1b6da"
            ],
            [
             0.4,
             "#fde0ef"
            ],
            [
             0.5,
             "#f7f7f7"
            ],
            [
             0.6,
             "#e6f5d0"
            ],
            [
             0.7,
             "#b8e186"
            ],
            [
             0.8,
             "#7fbc41"
            ],
            [
             0.9,
             "#4d9221"
            ],
            [
             1,
             "#276419"
            ]
           ],
           "sequential": [
            [
             0,
             "#0d0887"
            ],
            [
             0.1111111111111111,
             "#46039f"
            ],
            [
             0.2222222222222222,
             "#7201a8"
            ],
            [
             0.3333333333333333,
             "#9c179e"
            ],
            [
             0.4444444444444444,
             "#bd3786"
            ],
            [
             0.5555555555555556,
             "#d8576b"
            ],
            [
             0.6666666666666666,
             "#ed7953"
            ],
            [
             0.7777777777777778,
             "#fb9f3a"
            ],
            [
             0.8888888888888888,
             "#fdca26"
            ],
            [
             1,
             "#f0f921"
            ]
           ],
           "sequentialminus": [
            [
             0,
             "#0d0887"
            ],
            [
             0.1111111111111111,
             "#46039f"
            ],
            [
             0.2222222222222222,
             "#7201a8"
            ],
            [
             0.3333333333333333,
             "#9c179e"
            ],
            [
             0.4444444444444444,
             "#bd3786"
            ],
            [
             0.5555555555555556,
             "#d8576b"
            ],
            [
             0.6666666666666666,
             "#ed7953"
            ],
            [
             0.7777777777777778,
             "#fb9f3a"
            ],
            [
             0.8888888888888888,
             "#fdca26"
            ],
            [
             1,
             "#f0f921"
            ]
           ]
          },
          "colorway": [
           "#636efa",
           "#EF553B",
           "#00cc96",
           "#ab63fa",
           "#FFA15A",
           "#19d3f3",
           "#FF6692",
           "#B6E880",
           "#FF97FF",
           "#FECB52"
          ],
          "font": {
           "color": "#2a3f5f"
          },
          "geo": {
           "bgcolor": "white",
           "lakecolor": "white",
           "landcolor": "#E5ECF6",
           "showlakes": true,
           "showland": true,
           "subunitcolor": "white"
          },
          "hoverlabel": {
           "align": "left"
          },
          "hovermode": "closest",
          "mapbox": {
           "style": "light"
          },
          "paper_bgcolor": "white",
          "plot_bgcolor": "#E5ECF6",
          "polar": {
           "angularaxis": {
            "gridcolor": "white",
            "linecolor": "white",
            "ticks": ""
           },
           "bgcolor": "#E5ECF6",
           "radialaxis": {
            "gridcolor": "white",
            "linecolor": "white",
            "ticks": ""
           }
          },
          "scene": {
           "xaxis": {
            "backgroundcolor": "#E5ECF6",
            "gridcolor": "white",
            "gridwidth": 2,
            "linecolor": "white",
            "showbackground": true,
            "ticks": "",
            "zerolinecolor": "white"
           },
           "yaxis": {
            "backgroundcolor": "#E5ECF6",
            "gridcolor": "white",
            "gridwidth": 2,
            "linecolor": "white",
            "showbackground": true,
            "ticks": "",
            "zerolinecolor": "white"
           },
           "zaxis": {
            "backgroundcolor": "#E5ECF6",
            "gridcolor": "white",
            "gridwidth": 2,
            "linecolor": "white",
            "showbackground": true,
            "ticks": "",
            "zerolinecolor": "white"
           }
          },
          "shapedefaults": {
           "line": {
            "color": "#2a3f5f"
           }
          },
          "ternary": {
           "aaxis": {
            "gridcolor": "white",
            "linecolor": "white",
            "ticks": ""
           },
           "baxis": {
            "gridcolor": "white",
            "linecolor": "white",
            "ticks": ""
           },
           "bgcolor": "#E5ECF6",
           "caxis": {
            "gridcolor": "white",
            "linecolor": "white",
            "ticks": ""
           }
          },
          "title": {
           "x": 0.05
          },
          "xaxis": {
           "automargin": true,
           "gridcolor": "white",
           "linecolor": "white",
           "ticks": "",
           "title": {
            "standoff": 15
           },
           "zerolinecolor": "white",
           "zerolinewidth": 2
          },
          "yaxis": {
           "automargin": true,
           "gridcolor": "white",
           "linecolor": "white",
           "ticks": "",
           "title": {
            "standoff": 15
           },
           "zerolinecolor": "white",
           "zerolinewidth": 2
          }
         }
        },
        "title": {
         "text": "Distribution of structural variance types per sample"
        }
       }
      },
      "text/html": [
       "<div>                            <div id=\"5b545e67-e9cb-4fbe-9715-79655fd01f43\" class=\"plotly-graph-div\" style=\"height:525px; width:100%;\"></div>            <script type=\"text/javascript\">                require([\"plotly\"], function(Plotly) {                    window.PLOTLYENV=window.PLOTLYENV || {};                                    if (document.getElementById(\"5b545e67-e9cb-4fbe-9715-79655fd01f43\")) {                    Plotly.newPlot(                        \"5b545e67-e9cb-4fbe-9715-79655fd01f43\",                        [{\"box\": {\"visible\": true}, \"fillcolor\": \"lightseagreen\", \"line\": {\"color\": \"black\"}, \"meanline\": {\"visible\": true}, \"name\": \"CNV-Q\", \"opacity\": 0.6, \"type\": \"violin\", \"x0\": \"CNV-Q\", \"y\": [766, 657, 699, 695, 846, 659, 795, 610, 624, 588, 729, 764, 570, 659, 770, 647, 694, 634, 767, 659, 714, 817, 594, 923, 976, 937, 573, 745, 806, 852, 822, 969, 580, 936, 906, 931, 683, 927, 803, 936, 1035, 605, 688, 997, 885, 874, 865, 824, 879, 787, 877]}, {\"box\": {\"visible\": true}, \"fillcolor\": \"red\", \"line\": {\"color\": \"black\"}, \"meanline\": {\"visible\": true}, \"name\": \"CNV-R\", \"opacity\": 0.6, \"type\": \"violin\", \"x0\": \"CNV-R\", \"y\": [725, 713, 716, 697, 755, 640, 731, 694, 669, 704, 744, 736, 602, 733, 717, 693, 686, 699, 758, 701, 717, 691, 382, 717, 714, 712, 561, 682, 702, 726, 699, 715, 405, 696, 744, 724, 674, 754, 689, 700, 744, 579, 678, 763, 714, 740, 691, 705, 742, 738, 745]}, {\"box\": {\"visible\": true}, \"fillcolor\": \"blue\", \"line\": {\"color\": \"black\"}, \"meanline\": {\"visible\": true}, \"name\": \"DEL\", \"opacity\": 0.6, \"type\": \"violin\", \"x0\": \"DEL\", \"y\": [1949, 1749, 1821, 1747, 2169, 1824, 2127, 1908, 1833, 2007, 1923, 2347, 1675, 2165, 1927, 1965, 1985, 1891, 2016, 1944, 2044, 2005, 1147, 1975, 1885, 1911, 1633, 1999, 1999, 2184, 2053, 2009, 1165, 1955, 1983, 2067, 1907, 1968, 1955, 2054, 2208, 1661, 1945, 2169, 2171, 2075, 1888, 2033, 1972, 2054, 1921]}, {\"box\": {\"visible\": true}, \"fillcolor\": \"yellow\", \"line\": {\"color\": \"black\"}, \"meanline\": {\"visible\": true}, \"name\": \"INS\", \"opacity\": 0.6, \"type\": \"violin\", \"x0\": \"INS\", \"y\": [1830, 1629, 1692, 1606, 1696, 1903, 2044, 1757, 1780, 1816, 2031, 2066, 1603, 1940, 2054, 1884, 1936, 1787, 1857, 1863, 1857, 1887, 1239, 1966, 1971, 2023, 1547, 1922, 1952, 2104, 1961, 2073, 1264, 1976, 1939, 1979, 1803, 1977, 2044, 2123, 2320, 1661, 1822, 2211, 2199, 2070, 1761, 1889, 1816, 1954, 1937]}, {\"box\": {\"visible\": true}, \"fillcolor\": \"pink\", \"line\": {\"color\": \"black\"}, \"meanline\": {\"visible\": true}, \"name\": \"INV\", \"opacity\": 0.6, \"type\": \"violin\", \"x0\": \"INV\", \"y\": [136, 133, 134, 129, 153, 152, 203, 178, 155, 135, 168, 173, 133, 215, 186, 169, 149, 155, 206, 151, 173, 161, 84, 192, 180, 195, 120, 161, 194, 208, 193, 169, 78, 164, 190, 176, 152, 197, 156, 170, 231, 137, 142, 232, 208, 196, 150, 173, 145, 163, 164]}, {\"box\": {\"visible\": true}, \"fillcolor\": \"purple\", \"line\": {\"color\": \"black\"}, \"meanline\": {\"visible\": true}, \"name\": \"nCNV-Q\", \"opacity\": 0.6, \"type\": \"violin\", \"x0\": \"nCNV-Q\", \"y\": [1133, 786, 941, 898, 915, 1677, 1726, 1349, 1807, 1475, 1355, 1717, 1559, 1670, 1578, 1692, 1443, 1575, 1488, 2178, 1698, 1847, 1100, 1520, 2118, 1921, 1419, 2286, 1767, 2011, 1678, 1712, 1071, 2251, 1894, 1864, 1735, 1896, 1848, 1898, 2073, 1420, 1945, 1863, 2532, 1992, 1548, 2093, 1784, 1546, 1708]}, {\"box\": {\"visible\": true}, \"fillcolor\": \"orange\", \"line\": {\"color\": \"black\"}, \"meanline\": {\"visible\": true}, \"name\": \"nCNV-R\", \"opacity\": 0.6, \"type\": \"violin\", \"x0\": \"nCNV-R\", \"y\": [1032, 790, 972, 914, 1021, 1153, 1309, 1105, 1102, 1198, 1101, 1423, 978, 1362, 1211, 1184, 1223, 1150, 1266, 1138, 1239, 1182, 684, 1223, 1132, 1195, 965, 1304, 1251, 1386, 1235, 1210, 674, 1182, 1175, 1214, 1160, 1133, 1201, 1179, 1210, 954, 1184, 1361, 1329, 1240, 1129, 1257, 1130, 1241, 1136]}],                        {\"paper_bgcolor\": \"rgba(0,0,0,0)\", \"plot_bgcolor\": \"rgba(0,0,0,0)\", \"template\": {\"data\": {\"bar\": [{\"error_x\": {\"color\": \"#2a3f5f\"}, \"error_y\": {\"color\": \"#2a3f5f\"}, \"marker\": {\"line\": {\"color\": \"#E5ECF6\", \"width\": 0.5}}, \"type\": \"bar\"}], \"barpolar\": [{\"marker\": {\"line\": {\"color\": \"#E5ECF6\", \"width\": 0.5}}, \"type\": \"barpolar\"}], \"carpet\": [{\"aaxis\": {\"endlinecolor\": \"#2a3f5f\", \"gridcolor\": \"white\", \"linecolor\": \"white\", \"minorgridcolor\": \"white\", \"startlinecolor\": \"#2a3f5f\"}, \"baxis\": {\"endlinecolor\": \"#2a3f5f\", \"gridcolor\": \"white\", \"linecolor\": \"white\", \"minorgridcolor\": \"white\", \"startlinecolor\": \"#2a3f5f\"}, \"type\": \"carpet\"}], \"choropleth\": [{\"colorbar\": {\"outlinewidth\": 0, \"ticks\": \"\"}, \"type\": \"choropleth\"}], \"contour\": [{\"colorbar\": {\"outlinewidth\": 0, \"ticks\": \"\"}, \"colorscale\": [[0.0, \"#0d0887\"], [0.1111111111111111, \"#46039f\"], [0.2222222222222222, \"#7201a8\"], [0.3333333333333333, \"#9c179e\"], [0.4444444444444444, \"#bd3786\"], [0.5555555555555556, \"#d8576b\"], [0.6666666666666666, \"#ed7953\"], [0.7777777777777778, \"#fb9f3a\"], [0.8888888888888888, \"#fdca26\"], [1.0, \"#f0f921\"]], \"type\": \"contour\"}], \"contourcarpet\": [{\"colorbar\": {\"outlinewidth\": 0, \"ticks\": \"\"}, \"type\": \"contourcarpet\"}], \"heatmap\": [{\"colorbar\": {\"outlinewidth\": 0, \"ticks\": \"\"}, \"colorscale\": [[0.0, \"#0d0887\"], [0.1111111111111111, \"#46039f\"], [0.2222222222222222, \"#7201a8\"], [0.3333333333333333, \"#9c179e\"], [0.4444444444444444, \"#bd3786\"], [0.5555555555555556, \"#d8576b\"], [0.6666666666666666, \"#ed7953\"], [0.7777777777777778, \"#fb9f3a\"], [0.8888888888888888, \"#fdca26\"], [1.0, \"#f0f921\"]], \"type\": \"heatmap\"}], \"heatmapgl\": [{\"colorbar\": {\"outlinewidth\": 0, \"ticks\": \"\"}, \"colorscale\": [[0.0, \"#0d0887\"], [0.1111111111111111, \"#46039f\"], [0.2222222222222222, \"#7201a8\"], [0.3333333333333333, \"#9c179e\"], [0.4444444444444444, \"#bd3786\"], [0.5555555555555556, \"#d8576b\"], [0.6666666666666666, \"#ed7953\"], [0.7777777777777778, \"#fb9f3a\"], [0.8888888888888888, \"#fdca26\"], [1.0, \"#f0f921\"]], \"type\": \"heatmapgl\"}], \"histogram\": [{\"marker\": {\"colorbar\": {\"outlinewidth\": 0, \"ticks\": \"\"}}, \"type\": \"histogram\"}], \"histogram2d\": [{\"colorbar\": {\"outlinewidth\": 0, \"ticks\": \"\"}, \"colorscale\": [[0.0, \"#0d0887\"], [0.1111111111111111, \"#46039f\"], [0.2222222222222222, \"#7201a8\"], [0.3333333333333333, \"#9c179e\"], [0.4444444444444444, \"#bd3786\"], [0.5555555555555556, \"#d8576b\"], [0.6666666666666666, \"#ed7953\"], [0.7777777777777778, \"#fb9f3a\"], [0.8888888888888888, \"#fdca26\"], [1.0, \"#f0f921\"]], \"type\": \"histogram2d\"}], \"histogram2dcontour\": [{\"colorbar\": {\"outlinewidth\": 0, \"ticks\": \"\"}, \"colorscale\": [[0.0, \"#0d0887\"], [0.1111111111111111, \"#46039f\"], [0.2222222222222222, \"#7201a8\"], [0.3333333333333333, \"#9c179e\"], [0.4444444444444444, \"#bd3786\"], [0.5555555555555556, \"#d8576b\"], [0.6666666666666666, \"#ed7953\"], [0.7777777777777778, \"#fb9f3a\"], [0.8888888888888888, \"#fdca26\"], [1.0, \"#f0f921\"]], \"type\": \"histogram2dcontour\"}], \"mesh3d\": [{\"colorbar\": {\"outlinewidth\": 0, \"ticks\": \"\"}, \"type\": \"mesh3d\"}], \"parcoords\": [{\"line\": {\"colorbar\": {\"outlinewidth\": 0, \"ticks\": \"\"}}, \"type\": \"parcoords\"}], \"pie\": [{\"automargin\": true, \"type\": \"pie\"}], \"scatter\": [{\"marker\": {\"colorbar\": {\"outlinewidth\": 0, \"ticks\": \"\"}}, \"type\": \"scatter\"}], \"scatter3d\": [{\"line\": {\"colorbar\": {\"outlinewidth\": 0, \"ticks\": \"\"}}, \"marker\": {\"colorbar\": {\"outlinewidth\": 0, \"ticks\": \"\"}}, \"type\": \"scatter3d\"}], \"scattercarpet\": [{\"marker\": {\"colorbar\": {\"outlinewidth\": 0, \"ticks\": \"\"}}, \"type\": \"scattercarpet\"}], \"scattergeo\": [{\"marker\": {\"colorbar\": {\"outlinewidth\": 0, \"ticks\": \"\"}}, \"type\": \"scattergeo\"}], \"scattergl\": [{\"marker\": {\"colorbar\": {\"outlinewidth\": 0, \"ticks\": \"\"}}, \"type\": \"scattergl\"}], \"scattermapbox\": [{\"marker\": {\"colorbar\": {\"outlinewidth\": 0, \"ticks\": \"\"}}, \"type\": \"scattermapbox\"}], \"scatterpolar\": [{\"marker\": {\"colorbar\": {\"outlinewidth\": 0, \"ticks\": \"\"}}, \"type\": \"scatterpolar\"}], \"scatterpolargl\": [{\"marker\": {\"colorbar\": {\"outlinewidth\": 0, \"ticks\": \"\"}}, \"type\": \"scatterpolargl\"}], \"scatterternary\": [{\"marker\": {\"colorbar\": {\"outlinewidth\": 0, \"ticks\": \"\"}}, \"type\": \"scatterternary\"}], \"surface\": [{\"colorbar\": {\"outlinewidth\": 0, \"ticks\": \"\"}, \"colorscale\": [[0.0, \"#0d0887\"], [0.1111111111111111, \"#46039f\"], [0.2222222222222222, \"#7201a8\"], [0.3333333333333333, \"#9c179e\"], [0.4444444444444444, \"#bd3786\"], [0.5555555555555556, \"#d8576b\"], [0.6666666666666666, \"#ed7953\"], [0.7777777777777778, \"#fb9f3a\"], [0.8888888888888888, \"#fdca26\"], [1.0, \"#f0f921\"]], \"type\": \"surface\"}], \"table\": [{\"cells\": {\"fill\": {\"color\": \"#EBF0F8\"}, \"line\": {\"color\": \"white\"}}, \"header\": {\"fill\": {\"color\": \"#C8D4E3\"}, \"line\": {\"color\": \"white\"}}, \"type\": \"table\"}]}, \"layout\": {\"annotationdefaults\": {\"arrowcolor\": \"#2a3f5f\", \"arrowhead\": 0, \"arrowwidth\": 1}, \"autotypenumbers\": \"strict\", \"coloraxis\": {\"colorbar\": {\"outlinewidth\": 0, \"ticks\": \"\"}}, \"colorscale\": {\"diverging\": [[0, \"#8e0152\"], [0.1, \"#c51b7d\"], [0.2, \"#de77ae\"], [0.3, \"#f1b6da\"], [0.4, \"#fde0ef\"], [0.5, \"#f7f7f7\"], [0.6, \"#e6f5d0\"], [0.7, \"#b8e186\"], [0.8, \"#7fbc41\"], [0.9, \"#4d9221\"], [1, \"#276419\"]], \"sequential\": [[0.0, \"#0d0887\"], [0.1111111111111111, \"#46039f\"], [0.2222222222222222, \"#7201a8\"], [0.3333333333333333, \"#9c179e\"], [0.4444444444444444, \"#bd3786\"], [0.5555555555555556, \"#d8576b\"], [0.6666666666666666, \"#ed7953\"], [0.7777777777777778, \"#fb9f3a\"], [0.8888888888888888, \"#fdca26\"], [1.0, \"#f0f921\"]], \"sequentialminus\": [[0.0, \"#0d0887\"], [0.1111111111111111, \"#46039f\"], [0.2222222222222222, \"#7201a8\"], [0.3333333333333333, \"#9c179e\"], [0.4444444444444444, \"#bd3786\"], [0.5555555555555556, \"#d8576b\"], [0.6666666666666666, \"#ed7953\"], [0.7777777777777778, \"#fb9f3a\"], [0.8888888888888888, \"#fdca26\"], [1.0, \"#f0f921\"]]}, \"colorway\": [\"#636efa\", \"#EF553B\", \"#00cc96\", \"#ab63fa\", \"#FFA15A\", \"#19d3f3\", \"#FF6692\", \"#B6E880\", \"#FF97FF\", \"#FECB52\"], \"font\": {\"color\": \"#2a3f5f\"}, \"geo\": {\"bgcolor\": \"white\", \"lakecolor\": \"white\", \"landcolor\": \"#E5ECF6\", \"showlakes\": true, \"showland\": true, \"subunitcolor\": \"white\"}, \"hoverlabel\": {\"align\": \"left\"}, \"hovermode\": \"closest\", \"mapbox\": {\"style\": \"light\"}, \"paper_bgcolor\": \"white\", \"plot_bgcolor\": \"#E5ECF6\", \"polar\": {\"angularaxis\": {\"gridcolor\": \"white\", \"linecolor\": \"white\", \"ticks\": \"\"}, \"bgcolor\": \"#E5ECF6\", \"radialaxis\": {\"gridcolor\": \"white\", \"linecolor\": \"white\", \"ticks\": \"\"}}, \"scene\": {\"xaxis\": {\"backgroundcolor\": \"#E5ECF6\", \"gridcolor\": \"white\", \"gridwidth\": 2, \"linecolor\": \"white\", \"showbackground\": true, \"ticks\": \"\", \"zerolinecolor\": \"white\"}, \"yaxis\": {\"backgroundcolor\": \"#E5ECF6\", \"gridcolor\": \"white\", \"gridwidth\": 2, \"linecolor\": \"white\", \"showbackground\": true, \"ticks\": \"\", \"zerolinecolor\": \"white\"}, \"zaxis\": {\"backgroundcolor\": \"#E5ECF6\", \"gridcolor\": \"white\", \"gridwidth\": 2, \"linecolor\": \"white\", \"showbackground\": true, \"ticks\": \"\", \"zerolinecolor\": \"white\"}}, \"shapedefaults\": {\"line\": {\"color\": \"#2a3f5f\"}}, \"ternary\": {\"aaxis\": {\"gridcolor\": \"white\", \"linecolor\": \"white\", \"ticks\": \"\"}, \"baxis\": {\"gridcolor\": \"white\", \"linecolor\": \"white\", \"ticks\": \"\"}, \"bgcolor\": \"#E5ECF6\", \"caxis\": {\"gridcolor\": \"white\", \"linecolor\": \"white\", \"ticks\": \"\"}}, \"title\": {\"x\": 0.05}, \"xaxis\": {\"automargin\": true, \"gridcolor\": \"white\", \"linecolor\": \"white\", \"ticks\": \"\", \"title\": {\"standoff\": 15}, \"zerolinecolor\": \"white\", \"zerolinewidth\": 2}, \"yaxis\": {\"automargin\": true, \"gridcolor\": \"white\", \"linecolor\": \"white\", \"ticks\": \"\", \"title\": {\"standoff\": 15}, \"zerolinecolor\": \"white\", \"zerolinewidth\": 2}}}, \"title\": {\"text\": \"Distribution of structural variance types per sample\"}},                        {\"responsive\": true}                    ).then(function(){\n",
       "                            \n",
       "var gd = document.getElementById('5b545e67-e9cb-4fbe-9715-79655fd01f43');\n",
       "var x = new MutationObserver(function (mutations, observer) {{\n",
       "        var display = window.getComputedStyle(gd).display;\n",
       "        if (!display || display === 'none') {{\n",
       "            console.log([gd, 'removed!']);\n",
       "            Plotly.purge(gd);\n",
       "            observer.disconnect();\n",
       "        }}\n",
       "}});\n",
       "\n",
       "// Listen for the removal of the full notebook cells\n",
       "var notebookContainer = gd.closest('#notebook-container');\n",
       "if (notebookContainer) {{\n",
       "    x.observe(notebookContainer, {childList: true});\n",
       "}}\n",
       "\n",
       "// Listen for the clearing of the current output cell\n",
       "var outputEl = gd.closest('.output');\n",
       "if (outputEl) {{\n",
       "    x.observe(outputEl, {childList: true});\n",
       "}}\n",
       "\n",
       "                        })                };                });            </script>        </div>"
      ]
     },
     "metadata": {},
     "output_type": "display_data"
    }
   ],
   "source": [
    "fig = go.Figure()\n",
    "\n",
    "fig.add_trace(go.Violin(y=df['CNV-Q'], box_visible=True, line_color='black',\n",
    "                               meanline_visible=True, fillcolor='lightseagreen', opacity=0.6,name='CNV-Q', \n",
    "                               x0='CNV-Q'))\n",
    "\n",
    "fig.add_trace(go.Violin(y=df['CNV-R'], box_visible=True, line_color='black',\n",
    "                               meanline_visible=True, fillcolor='red', opacity=0.6, name='CNV-R',\n",
    "                               x0='CNV-R'))\n",
    "\n",
    "fig.add_trace(go.Violin(y=df['DEL'], box_visible=True, line_color='black',\n",
    "                               meanline_visible=True, fillcolor='blue', opacity=0.6, name='DEL',\n",
    "                               x0='DEL'))\n",
    "\n",
    "fig.add_trace(go.Violin(y=df['INS'], box_visible=True, line_color='black',\n",
    "                               meanline_visible=True, fillcolor='yellow', opacity=0.6, name='INS',\n",
    "                               x0='INS'))\n",
    "\n",
    "fig.add_trace(go.Violin(y=df['INV'], box_visible=True, line_color='black',\n",
    "                               meanline_visible=True, fillcolor='pink', opacity=0.6, name='INV',\n",
    "                               x0='INV'))\n",
    "\n",
    "fig.add_trace(go.Violin(y=df['nCNV-Q'], box_visible=True, line_color='black',\n",
    "                               meanline_visible=True, fillcolor='purple', opacity=0.6, name='nCNV-Q',\n",
    "                               x0='nCNV-Q'))\n",
    "\n",
    "fig.add_trace(go.Violin(y=df['nCNV-R'], box_visible=True, line_color='black',\n",
    "                               meanline_visible=True, fillcolor='orange', opacity=0.6, name='nCNV-R',\n",
    "                               x0='nCNV-R'))\n",
    "\n",
    "fig.update_layout(\n",
    "    title=\"Distribution of structural variance types per sample\"\n",
    ")\n",
    "\n",
    "fig.update_layout(\n",
    "    paper_bgcolor='rgba(0,0,0,0)',\n",
    "    plot_bgcolor='rgba(0,0,0,0)'\n",
    ")\n",
    "\n",
    "fig.show()"
   ]
  },
  {
   "cell_type": "code",
   "execution_count": 245,
   "metadata": {},
   "outputs": [
    {
     "data": {
      "application/vnd.plotly.v1+json": {
       "config": {
        "plotlyServerURL": "https://plot.ly"
       },
       "data": [
        {
         "box": {
          "visible": true
         },
         "fillcolor": "lightseagreen",
         "line": {
          "color": "black"
         },
         "meanline": {
          "visible": true
         },
         "name": "CNV-Q",
         "opacity": 0.6,
         "type": "violin",
         "x": [
          "Long",
          "Long",
          "Long",
          "Long",
          "Long",
          "Chakraborty",
          "Chakraborty",
          "Chakraborty",
          "Chakraborty",
          "Chakraborty",
          "Chakraborty",
          "Chakraborty",
          "Chakraborty",
          "Chakraborty",
          "Chakraborty",
          "Chakraborty",
          "Chakraborty",
          "Chakraborty",
          "Chakraborty",
          "Rech",
          "Rech",
          "Rech",
          "Rech",
          "Rech",
          "Rech",
          "Rech",
          "Rech",
          "Rech",
          "Rech",
          "Rech",
          "Rech",
          "Rech",
          "Rech",
          "Rech",
          "Rech",
          "Rech",
          "Rech",
          "Rech",
          "Rech",
          "Rech",
          "Rech",
          "Rech",
          "Rech",
          "Rech",
          "Rech",
          "Rech",
          "Rech",
          "Rech",
          "Rech",
          "Rech",
          "Rech"
         ],
         "x0": "CNV-Q",
         "y": [
          766,
          657,
          699,
          695,
          846,
          659,
          795,
          610,
          624,
          588,
          729,
          764,
          570,
          659,
          770,
          647,
          694,
          634,
          767,
          659,
          714,
          817,
          594,
          923,
          976,
          937,
          573,
          745,
          806,
          852,
          822,
          969,
          580,
          936,
          906,
          931,
          683,
          927,
          803,
          936,
          1035,
          605,
          688,
          997,
          885,
          874,
          865,
          824,
          879,
          787,
          877
         ]
        },
        {
         "box": {
          "visible": true
         },
         "fillcolor": "red",
         "line": {
          "color": "black"
         },
         "meanline": {
          "visible": true
         },
         "name": "CNV-R",
         "opacity": 0.6,
         "type": "violin",
         "x": [
          "Long",
          "Long",
          "Long",
          "Long",
          "Long",
          "Chakraborty",
          "Chakraborty",
          "Chakraborty",
          "Chakraborty",
          "Chakraborty",
          "Chakraborty",
          "Chakraborty",
          "Chakraborty",
          "Chakraborty",
          "Chakraborty",
          "Chakraborty",
          "Chakraborty",
          "Chakraborty",
          "Chakraborty",
          "Rech",
          "Rech",
          "Rech",
          "Rech",
          "Rech",
          "Rech",
          "Rech",
          "Rech",
          "Rech",
          "Rech",
          "Rech",
          "Rech",
          "Rech",
          "Rech",
          "Rech",
          "Rech",
          "Rech",
          "Rech",
          "Rech",
          "Rech",
          "Rech",
          "Rech",
          "Rech",
          "Rech",
          "Rech",
          "Rech",
          "Rech",
          "Rech",
          "Rech",
          "Rech",
          "Rech",
          "Rech"
         ],
         "x0": "CNV-R",
         "y": [
          725,
          713,
          716,
          697,
          755,
          640,
          731,
          694,
          669,
          704,
          744,
          736,
          602,
          733,
          717,
          693,
          686,
          699,
          758,
          701,
          717,
          691,
          382,
          717,
          714,
          712,
          561,
          682,
          702,
          726,
          699,
          715,
          405,
          696,
          744,
          724,
          674,
          754,
          689,
          700,
          744,
          579,
          678,
          763,
          714,
          740,
          691,
          705,
          742,
          738,
          745
         ]
        },
        {
         "box": {
          "visible": true
         },
         "fillcolor": "blue",
         "line": {
          "color": "black"
         },
         "meanline": {
          "visible": true
         },
         "name": "DEL",
         "opacity": 0.6,
         "type": "violin",
         "x": [
          "Long",
          "Long",
          "Long",
          "Long",
          "Long",
          "Chakraborty",
          "Chakraborty",
          "Chakraborty",
          "Chakraborty",
          "Chakraborty",
          "Chakraborty",
          "Chakraborty",
          "Chakraborty",
          "Chakraborty",
          "Chakraborty",
          "Chakraborty",
          "Chakraborty",
          "Chakraborty",
          "Chakraborty",
          "Rech",
          "Rech",
          "Rech",
          "Rech",
          "Rech",
          "Rech",
          "Rech",
          "Rech",
          "Rech",
          "Rech",
          "Rech",
          "Rech",
          "Rech",
          "Rech",
          "Rech",
          "Rech",
          "Rech",
          "Rech",
          "Rech",
          "Rech",
          "Rech",
          "Rech",
          "Rech",
          "Rech",
          "Rech",
          "Rech",
          "Rech",
          "Rech",
          "Rech",
          "Rech",
          "Rech",
          "Rech"
         ],
         "x0": "DEL",
         "y": [
          1949,
          1749,
          1821,
          1747,
          2169,
          1824,
          2127,
          1908,
          1833,
          2007,
          1923,
          2347,
          1675,
          2165,
          1927,
          1965,
          1985,
          1891,
          2016,
          1944,
          2044,
          2005,
          1147,
          1975,
          1885,
          1911,
          1633,
          1999,
          1999,
          2184,
          2053,
          2009,
          1165,
          1955,
          1983,
          2067,
          1907,
          1968,
          1955,
          2054,
          2208,
          1661,
          1945,
          2169,
          2171,
          2075,
          1888,
          2033,
          1972,
          2054,
          1921
         ]
        },
        {
         "box": {
          "visible": true
         },
         "fillcolor": "yellow",
         "line": {
          "color": "black"
         },
         "meanline": {
          "visible": true
         },
         "name": "INS",
         "opacity": 0.6,
         "type": "violin",
         "x": [
          "Long",
          "Long",
          "Long",
          "Long",
          "Long",
          "Chakraborty",
          "Chakraborty",
          "Chakraborty",
          "Chakraborty",
          "Chakraborty",
          "Chakraborty",
          "Chakraborty",
          "Chakraborty",
          "Chakraborty",
          "Chakraborty",
          "Chakraborty",
          "Chakraborty",
          "Chakraborty",
          "Chakraborty",
          "Rech",
          "Rech",
          "Rech",
          "Rech",
          "Rech",
          "Rech",
          "Rech",
          "Rech",
          "Rech",
          "Rech",
          "Rech",
          "Rech",
          "Rech",
          "Rech",
          "Rech",
          "Rech",
          "Rech",
          "Rech",
          "Rech",
          "Rech",
          "Rech",
          "Rech",
          "Rech",
          "Rech",
          "Rech",
          "Rech",
          "Rech",
          "Rech",
          "Rech",
          "Rech",
          "Rech",
          "Rech"
         ],
         "x0": "INS",
         "y": [
          1830,
          1629,
          1692,
          1606,
          1696,
          1903,
          2044,
          1757,
          1780,
          1816,
          2031,
          2066,
          1603,
          1940,
          2054,
          1884,
          1936,
          1787,
          1857,
          1863,
          1857,
          1887,
          1239,
          1966,
          1971,
          2023,
          1547,
          1922,
          1952,
          2104,
          1961,
          2073,
          1264,
          1976,
          1939,
          1979,
          1803,
          1977,
          2044,
          2123,
          2320,
          1661,
          1822,
          2211,
          2199,
          2070,
          1761,
          1889,
          1816,
          1954,
          1937
         ]
        },
        {
         "box": {
          "visible": true
         },
         "fillcolor": "pink",
         "line": {
          "color": "black"
         },
         "meanline": {
          "visible": true
         },
         "name": "INV",
         "opacity": 0.6,
         "type": "violin",
         "x": [
          "Long",
          "Long",
          "Long",
          "Long",
          "Long",
          "Chakraborty",
          "Chakraborty",
          "Chakraborty",
          "Chakraborty",
          "Chakraborty",
          "Chakraborty",
          "Chakraborty",
          "Chakraborty",
          "Chakraborty",
          "Chakraborty",
          "Chakraborty",
          "Chakraborty",
          "Chakraborty",
          "Chakraborty",
          "Rech",
          "Rech",
          "Rech",
          "Rech",
          "Rech",
          "Rech",
          "Rech",
          "Rech",
          "Rech",
          "Rech",
          "Rech",
          "Rech",
          "Rech",
          "Rech",
          "Rech",
          "Rech",
          "Rech",
          "Rech",
          "Rech",
          "Rech",
          "Rech",
          "Rech",
          "Rech",
          "Rech",
          "Rech",
          "Rech",
          "Rech",
          "Rech",
          "Rech",
          "Rech",
          "Rech",
          "Rech"
         ],
         "x0": "INV",
         "y": [
          136,
          133,
          134,
          129,
          153,
          152,
          203,
          178,
          155,
          135,
          168,
          173,
          133,
          215,
          186,
          169,
          149,
          155,
          206,
          151,
          173,
          161,
          84,
          192,
          180,
          195,
          120,
          161,
          194,
          208,
          193,
          169,
          78,
          164,
          190,
          176,
          152,
          197,
          156,
          170,
          231,
          137,
          142,
          232,
          208,
          196,
          150,
          173,
          145,
          163,
          164
         ]
        },
        {
         "box": {
          "visible": true
         },
         "fillcolor": "purple",
         "line": {
          "color": "black"
         },
         "meanline": {
          "visible": true
         },
         "name": "nCNV-Q",
         "opacity": 0.6,
         "type": "violin",
         "x": [
          "Long",
          "Long",
          "Long",
          "Long",
          "Long",
          "Chakraborty",
          "Chakraborty",
          "Chakraborty",
          "Chakraborty",
          "Chakraborty",
          "Chakraborty",
          "Chakraborty",
          "Chakraborty",
          "Chakraborty",
          "Chakraborty",
          "Chakraborty",
          "Chakraborty",
          "Chakraborty",
          "Chakraborty",
          "Rech",
          "Rech",
          "Rech",
          "Rech",
          "Rech",
          "Rech",
          "Rech",
          "Rech",
          "Rech",
          "Rech",
          "Rech",
          "Rech",
          "Rech",
          "Rech",
          "Rech",
          "Rech",
          "Rech",
          "Rech",
          "Rech",
          "Rech",
          "Rech",
          "Rech",
          "Rech",
          "Rech",
          "Rech",
          "Rech",
          "Rech",
          "Rech",
          "Rech",
          "Rech",
          "Rech",
          "Rech"
         ],
         "x0": "nCNV-Q",
         "y": [
          1133,
          786,
          941,
          898,
          915,
          1677,
          1726,
          1349,
          1807,
          1475,
          1355,
          1717,
          1559,
          1670,
          1578,
          1692,
          1443,
          1575,
          1488,
          2178,
          1698,
          1847,
          1100,
          1520,
          2118,
          1921,
          1419,
          2286,
          1767,
          2011,
          1678,
          1712,
          1071,
          2251,
          1894,
          1864,
          1735,
          1896,
          1848,
          1898,
          2073,
          1420,
          1945,
          1863,
          2532,
          1992,
          1548,
          2093,
          1784,
          1546,
          1708
         ]
        },
        {
         "box": {
          "visible": true
         },
         "fillcolor": "orange",
         "line": {
          "color": "black"
         },
         "meanline": {
          "visible": true
         },
         "name": "nCNV-R",
         "opacity": 0.6,
         "type": "violin",
         "x": [
          "Long",
          "Long",
          "Long",
          "Long",
          "Long",
          "Chakraborty",
          "Chakraborty",
          "Chakraborty",
          "Chakraborty",
          "Chakraborty",
          "Chakraborty",
          "Chakraborty",
          "Chakraborty",
          "Chakraborty",
          "Chakraborty",
          "Chakraborty",
          "Chakraborty",
          "Chakraborty",
          "Chakraborty",
          "Rech",
          "Rech",
          "Rech",
          "Rech",
          "Rech",
          "Rech",
          "Rech",
          "Rech",
          "Rech",
          "Rech",
          "Rech",
          "Rech",
          "Rech",
          "Rech",
          "Rech",
          "Rech",
          "Rech",
          "Rech",
          "Rech",
          "Rech",
          "Rech",
          "Rech",
          "Rech",
          "Rech",
          "Rech",
          "Rech",
          "Rech",
          "Rech",
          "Rech",
          "Rech",
          "Rech",
          "Rech"
         ],
         "x0": "nCNV-R",
         "y": [
          1032,
          790,
          972,
          914,
          1021,
          1153,
          1309,
          1105,
          1102,
          1198,
          1101,
          1423,
          978,
          1362,
          1211,
          1184,
          1223,
          1150,
          1266,
          1138,
          1239,
          1182,
          684,
          1223,
          1132,
          1195,
          965,
          1304,
          1251,
          1386,
          1235,
          1210,
          674,
          1182,
          1175,
          1214,
          1160,
          1133,
          1201,
          1179,
          1210,
          954,
          1184,
          1361,
          1329,
          1240,
          1129,
          1257,
          1130,
          1241,
          1136
         ]
        }
       ],
       "layout": {
        "paper_bgcolor": "rgba(0,0,0,0)",
        "plot_bgcolor": "rgba(0,0,0,0)",
        "template": {
         "data": {
          "bar": [
           {
            "error_x": {
             "color": "#2a3f5f"
            },
            "error_y": {
             "color": "#2a3f5f"
            },
            "marker": {
             "line": {
              "color": "#E5ECF6",
              "width": 0.5
             }
            },
            "type": "bar"
           }
          ],
          "barpolar": [
           {
            "marker": {
             "line": {
              "color": "#E5ECF6",
              "width": 0.5
             }
            },
            "type": "barpolar"
           }
          ],
          "carpet": [
           {
            "aaxis": {
             "endlinecolor": "#2a3f5f",
             "gridcolor": "white",
             "linecolor": "white",
             "minorgridcolor": "white",
             "startlinecolor": "#2a3f5f"
            },
            "baxis": {
             "endlinecolor": "#2a3f5f",
             "gridcolor": "white",
             "linecolor": "white",
             "minorgridcolor": "white",
             "startlinecolor": "#2a3f5f"
            },
            "type": "carpet"
           }
          ],
          "choropleth": [
           {
            "colorbar": {
             "outlinewidth": 0,
             "ticks": ""
            },
            "type": "choropleth"
           }
          ],
          "contour": [
           {
            "colorbar": {
             "outlinewidth": 0,
             "ticks": ""
            },
            "colorscale": [
             [
              0,
              "#0d0887"
             ],
             [
              0.1111111111111111,
              "#46039f"
             ],
             [
              0.2222222222222222,
              "#7201a8"
             ],
             [
              0.3333333333333333,
              "#9c179e"
             ],
             [
              0.4444444444444444,
              "#bd3786"
             ],
             [
              0.5555555555555556,
              "#d8576b"
             ],
             [
              0.6666666666666666,
              "#ed7953"
             ],
             [
              0.7777777777777778,
              "#fb9f3a"
             ],
             [
              0.8888888888888888,
              "#fdca26"
             ],
             [
              1,
              "#f0f921"
             ]
            ],
            "type": "contour"
           }
          ],
          "contourcarpet": [
           {
            "colorbar": {
             "outlinewidth": 0,
             "ticks": ""
            },
            "type": "contourcarpet"
           }
          ],
          "heatmap": [
           {
            "colorbar": {
             "outlinewidth": 0,
             "ticks": ""
            },
            "colorscale": [
             [
              0,
              "#0d0887"
             ],
             [
              0.1111111111111111,
              "#46039f"
             ],
             [
              0.2222222222222222,
              "#7201a8"
             ],
             [
              0.3333333333333333,
              "#9c179e"
             ],
             [
              0.4444444444444444,
              "#bd3786"
             ],
             [
              0.5555555555555556,
              "#d8576b"
             ],
             [
              0.6666666666666666,
              "#ed7953"
             ],
             [
              0.7777777777777778,
              "#fb9f3a"
             ],
             [
              0.8888888888888888,
              "#fdca26"
             ],
             [
              1,
              "#f0f921"
             ]
            ],
            "type": "heatmap"
           }
          ],
          "heatmapgl": [
           {
            "colorbar": {
             "outlinewidth": 0,
             "ticks": ""
            },
            "colorscale": [
             [
              0,
              "#0d0887"
             ],
             [
              0.1111111111111111,
              "#46039f"
             ],
             [
              0.2222222222222222,
              "#7201a8"
             ],
             [
              0.3333333333333333,
              "#9c179e"
             ],
             [
              0.4444444444444444,
              "#bd3786"
             ],
             [
              0.5555555555555556,
              "#d8576b"
             ],
             [
              0.6666666666666666,
              "#ed7953"
             ],
             [
              0.7777777777777778,
              "#fb9f3a"
             ],
             [
              0.8888888888888888,
              "#fdca26"
             ],
             [
              1,
              "#f0f921"
             ]
            ],
            "type": "heatmapgl"
           }
          ],
          "histogram": [
           {
            "marker": {
             "colorbar": {
              "outlinewidth": 0,
              "ticks": ""
             }
            },
            "type": "histogram"
           }
          ],
          "histogram2d": [
           {
            "colorbar": {
             "outlinewidth": 0,
             "ticks": ""
            },
            "colorscale": [
             [
              0,
              "#0d0887"
             ],
             [
              0.1111111111111111,
              "#46039f"
             ],
             [
              0.2222222222222222,
              "#7201a8"
             ],
             [
              0.3333333333333333,
              "#9c179e"
             ],
             [
              0.4444444444444444,
              "#bd3786"
             ],
             [
              0.5555555555555556,
              "#d8576b"
             ],
             [
              0.6666666666666666,
              "#ed7953"
             ],
             [
              0.7777777777777778,
              "#fb9f3a"
             ],
             [
              0.8888888888888888,
              "#fdca26"
             ],
             [
              1,
              "#f0f921"
             ]
            ],
            "type": "histogram2d"
           }
          ],
          "histogram2dcontour": [
           {
            "colorbar": {
             "outlinewidth": 0,
             "ticks": ""
            },
            "colorscale": [
             [
              0,
              "#0d0887"
             ],
             [
              0.1111111111111111,
              "#46039f"
             ],
             [
              0.2222222222222222,
              "#7201a8"
             ],
             [
              0.3333333333333333,
              "#9c179e"
             ],
             [
              0.4444444444444444,
              "#bd3786"
             ],
             [
              0.5555555555555556,
              "#d8576b"
             ],
             [
              0.6666666666666666,
              "#ed7953"
             ],
             [
              0.7777777777777778,
              "#fb9f3a"
             ],
             [
              0.8888888888888888,
              "#fdca26"
             ],
             [
              1,
              "#f0f921"
             ]
            ],
            "type": "histogram2dcontour"
           }
          ],
          "mesh3d": [
           {
            "colorbar": {
             "outlinewidth": 0,
             "ticks": ""
            },
            "type": "mesh3d"
           }
          ],
          "parcoords": [
           {
            "line": {
             "colorbar": {
              "outlinewidth": 0,
              "ticks": ""
             }
            },
            "type": "parcoords"
           }
          ],
          "pie": [
           {
            "automargin": true,
            "type": "pie"
           }
          ],
          "scatter": [
           {
            "marker": {
             "colorbar": {
              "outlinewidth": 0,
              "ticks": ""
             }
            },
            "type": "scatter"
           }
          ],
          "scatter3d": [
           {
            "line": {
             "colorbar": {
              "outlinewidth": 0,
              "ticks": ""
             }
            },
            "marker": {
             "colorbar": {
              "outlinewidth": 0,
              "ticks": ""
             }
            },
            "type": "scatter3d"
           }
          ],
          "scattercarpet": [
           {
            "marker": {
             "colorbar": {
              "outlinewidth": 0,
              "ticks": ""
             }
            },
            "type": "scattercarpet"
           }
          ],
          "scattergeo": [
           {
            "marker": {
             "colorbar": {
              "outlinewidth": 0,
              "ticks": ""
             }
            },
            "type": "scattergeo"
           }
          ],
          "scattergl": [
           {
            "marker": {
             "colorbar": {
              "outlinewidth": 0,
              "ticks": ""
             }
            },
            "type": "scattergl"
           }
          ],
          "scattermapbox": [
           {
            "marker": {
             "colorbar": {
              "outlinewidth": 0,
              "ticks": ""
             }
            },
            "type": "scattermapbox"
           }
          ],
          "scatterpolar": [
           {
            "marker": {
             "colorbar": {
              "outlinewidth": 0,
              "ticks": ""
             }
            },
            "type": "scatterpolar"
           }
          ],
          "scatterpolargl": [
           {
            "marker": {
             "colorbar": {
              "outlinewidth": 0,
              "ticks": ""
             }
            },
            "type": "scatterpolargl"
           }
          ],
          "scatterternary": [
           {
            "marker": {
             "colorbar": {
              "outlinewidth": 0,
              "ticks": ""
             }
            },
            "type": "scatterternary"
           }
          ],
          "surface": [
           {
            "colorbar": {
             "outlinewidth": 0,
             "ticks": ""
            },
            "colorscale": [
             [
              0,
              "#0d0887"
             ],
             [
              0.1111111111111111,
              "#46039f"
             ],
             [
              0.2222222222222222,
              "#7201a8"
             ],
             [
              0.3333333333333333,
              "#9c179e"
             ],
             [
              0.4444444444444444,
              "#bd3786"
             ],
             [
              0.5555555555555556,
              "#d8576b"
             ],
             [
              0.6666666666666666,
              "#ed7953"
             ],
             [
              0.7777777777777778,
              "#fb9f3a"
             ],
             [
              0.8888888888888888,
              "#fdca26"
             ],
             [
              1,
              "#f0f921"
             ]
            ],
            "type": "surface"
           }
          ],
          "table": [
           {
            "cells": {
             "fill": {
              "color": "#EBF0F8"
             },
             "line": {
              "color": "white"
             }
            },
            "header": {
             "fill": {
              "color": "#C8D4E3"
             },
             "line": {
              "color": "white"
             }
            },
            "type": "table"
           }
          ]
         },
         "layout": {
          "annotationdefaults": {
           "arrowcolor": "#2a3f5f",
           "arrowhead": 0,
           "arrowwidth": 1
          },
          "autotypenumbers": "strict",
          "coloraxis": {
           "colorbar": {
            "outlinewidth": 0,
            "ticks": ""
           }
          },
          "colorscale": {
           "diverging": [
            [
             0,
             "#8e0152"
            ],
            [
             0.1,
             "#c51b7d"
            ],
            [
             0.2,
             "#de77ae"
            ],
            [
             0.3,
             "#f1b6da"
            ],
            [
             0.4,
             "#fde0ef"
            ],
            [
             0.5,
             "#f7f7f7"
            ],
            [
             0.6,
             "#e6f5d0"
            ],
            [
             0.7,
             "#b8e186"
            ],
            [
             0.8,
             "#7fbc41"
            ],
            [
             0.9,
             "#4d9221"
            ],
            [
             1,
             "#276419"
            ]
           ],
           "sequential": [
            [
             0,
             "#0d0887"
            ],
            [
             0.1111111111111111,
             "#46039f"
            ],
            [
             0.2222222222222222,
             "#7201a8"
            ],
            [
             0.3333333333333333,
             "#9c179e"
            ],
            [
             0.4444444444444444,
             "#bd3786"
            ],
            [
             0.5555555555555556,
             "#d8576b"
            ],
            [
             0.6666666666666666,
             "#ed7953"
            ],
            [
             0.7777777777777778,
             "#fb9f3a"
            ],
            [
             0.8888888888888888,
             "#fdca26"
            ],
            [
             1,
             "#f0f921"
            ]
           ],
           "sequentialminus": [
            [
             0,
             "#0d0887"
            ],
            [
             0.1111111111111111,
             "#46039f"
            ],
            [
             0.2222222222222222,
             "#7201a8"
            ],
            [
             0.3333333333333333,
             "#9c179e"
            ],
            [
             0.4444444444444444,
             "#bd3786"
            ],
            [
             0.5555555555555556,
             "#d8576b"
            ],
            [
             0.6666666666666666,
             "#ed7953"
            ],
            [
             0.7777777777777778,
             "#fb9f3a"
            ],
            [
             0.8888888888888888,
             "#fdca26"
            ],
            [
             1,
             "#f0f921"
            ]
           ]
          },
          "colorway": [
           "#636efa",
           "#EF553B",
           "#00cc96",
           "#ab63fa",
           "#FFA15A",
           "#19d3f3",
           "#FF6692",
           "#B6E880",
           "#FF97FF",
           "#FECB52"
          ],
          "font": {
           "color": "#2a3f5f"
          },
          "geo": {
           "bgcolor": "white",
           "lakecolor": "white",
           "landcolor": "#E5ECF6",
           "showlakes": true,
           "showland": true,
           "subunitcolor": "white"
          },
          "hoverlabel": {
           "align": "left"
          },
          "hovermode": "closest",
          "mapbox": {
           "style": "light"
          },
          "paper_bgcolor": "white",
          "plot_bgcolor": "#E5ECF6",
          "polar": {
           "angularaxis": {
            "gridcolor": "white",
            "linecolor": "white",
            "ticks": ""
           },
           "bgcolor": "#E5ECF6",
           "radialaxis": {
            "gridcolor": "white",
            "linecolor": "white",
            "ticks": ""
           }
          },
          "scene": {
           "xaxis": {
            "backgroundcolor": "#E5ECF6",
            "gridcolor": "white",
            "gridwidth": 2,
            "linecolor": "white",
            "showbackground": true,
            "ticks": "",
            "zerolinecolor": "white"
           },
           "yaxis": {
            "backgroundcolor": "#E5ECF6",
            "gridcolor": "white",
            "gridwidth": 2,
            "linecolor": "white",
            "showbackground": true,
            "ticks": "",
            "zerolinecolor": "white"
           },
           "zaxis": {
            "backgroundcolor": "#E5ECF6",
            "gridcolor": "white",
            "gridwidth": 2,
            "linecolor": "white",
            "showbackground": true,
            "ticks": "",
            "zerolinecolor": "white"
           }
          },
          "shapedefaults": {
           "line": {
            "color": "#2a3f5f"
           }
          },
          "ternary": {
           "aaxis": {
            "gridcolor": "white",
            "linecolor": "white",
            "ticks": ""
           },
           "baxis": {
            "gridcolor": "white",
            "linecolor": "white",
            "ticks": ""
           },
           "bgcolor": "#E5ECF6",
           "caxis": {
            "gridcolor": "white",
            "linecolor": "white",
            "ticks": ""
           }
          },
          "title": {
           "x": 0.05
          },
          "xaxis": {
           "automargin": true,
           "gridcolor": "white",
           "linecolor": "white",
           "ticks": "",
           "title": {
            "standoff": 15
           },
           "zerolinecolor": "white",
           "zerolinewidth": 2
          },
          "yaxis": {
           "automargin": true,
           "gridcolor": "white",
           "linecolor": "white",
           "ticks": "",
           "title": {
            "standoff": 15
           },
           "zerolinecolor": "white",
           "zerolinewidth": 2
          }
         }
        },
        "title": {
         "text": "Distribution of ALL structural variance types per sample"
        }
       }
      },
      "text/html": [
       "<div>                            <div id=\"33c74a58-e1d8-42c9-a200-e16e2fe26114\" class=\"plotly-graph-div\" style=\"height:525px; width:100%;\"></div>            <script type=\"text/javascript\">                require([\"plotly\"], function(Plotly) {                    window.PLOTLYENV=window.PLOTLYENV || {};                                    if (document.getElementById(\"33c74a58-e1d8-42c9-a200-e16e2fe26114\")) {                    Plotly.newPlot(                        \"33c74a58-e1d8-42c9-a200-e16e2fe26114\",                        [{\"box\": {\"visible\": true}, \"fillcolor\": \"lightseagreen\", \"line\": {\"color\": \"black\"}, \"meanline\": {\"visible\": true}, \"name\": \"CNV-Q\", \"opacity\": 0.6, \"type\": \"violin\", \"x\": [\"Long\", \"Long\", \"Long\", \"Long\", \"Long\", \"Chakraborty\", \"Chakraborty\", \"Chakraborty\", \"Chakraborty\", \"Chakraborty\", \"Chakraborty\", \"Chakraborty\", \"Chakraborty\", \"Chakraborty\", \"Chakraborty\", \"Chakraborty\", \"Chakraborty\", \"Chakraborty\", \"Chakraborty\", \"Rech\", \"Rech\", \"Rech\", \"Rech\", \"Rech\", \"Rech\", \"Rech\", \"Rech\", \"Rech\", \"Rech\", \"Rech\", \"Rech\", \"Rech\", \"Rech\", \"Rech\", \"Rech\", \"Rech\", \"Rech\", \"Rech\", \"Rech\", \"Rech\", \"Rech\", \"Rech\", \"Rech\", \"Rech\", \"Rech\", \"Rech\", \"Rech\", \"Rech\", \"Rech\", \"Rech\", \"Rech\"], \"x0\": \"CNV-Q\", \"y\": [766, 657, 699, 695, 846, 659, 795, 610, 624, 588, 729, 764, 570, 659, 770, 647, 694, 634, 767, 659, 714, 817, 594, 923, 976, 937, 573, 745, 806, 852, 822, 969, 580, 936, 906, 931, 683, 927, 803, 936, 1035, 605, 688, 997, 885, 874, 865, 824, 879, 787, 877]}, {\"box\": {\"visible\": true}, \"fillcolor\": \"red\", \"line\": {\"color\": \"black\"}, \"meanline\": {\"visible\": true}, \"name\": \"CNV-R\", \"opacity\": 0.6, \"type\": \"violin\", \"x\": [\"Long\", \"Long\", \"Long\", \"Long\", \"Long\", \"Chakraborty\", \"Chakraborty\", \"Chakraborty\", \"Chakraborty\", \"Chakraborty\", \"Chakraborty\", \"Chakraborty\", \"Chakraborty\", \"Chakraborty\", \"Chakraborty\", \"Chakraborty\", \"Chakraborty\", \"Chakraborty\", \"Chakraborty\", \"Rech\", \"Rech\", \"Rech\", \"Rech\", \"Rech\", \"Rech\", \"Rech\", \"Rech\", \"Rech\", \"Rech\", \"Rech\", \"Rech\", \"Rech\", \"Rech\", \"Rech\", \"Rech\", \"Rech\", \"Rech\", \"Rech\", \"Rech\", \"Rech\", \"Rech\", \"Rech\", \"Rech\", \"Rech\", \"Rech\", \"Rech\", \"Rech\", \"Rech\", \"Rech\", \"Rech\", \"Rech\"], \"x0\": \"CNV-R\", \"y\": [725, 713, 716, 697, 755, 640, 731, 694, 669, 704, 744, 736, 602, 733, 717, 693, 686, 699, 758, 701, 717, 691, 382, 717, 714, 712, 561, 682, 702, 726, 699, 715, 405, 696, 744, 724, 674, 754, 689, 700, 744, 579, 678, 763, 714, 740, 691, 705, 742, 738, 745]}, {\"box\": {\"visible\": true}, \"fillcolor\": \"blue\", \"line\": {\"color\": \"black\"}, \"meanline\": {\"visible\": true}, \"name\": \"DEL\", \"opacity\": 0.6, \"type\": \"violin\", \"x\": [\"Long\", \"Long\", \"Long\", \"Long\", \"Long\", \"Chakraborty\", \"Chakraborty\", \"Chakraborty\", \"Chakraborty\", \"Chakraborty\", \"Chakraborty\", \"Chakraborty\", \"Chakraborty\", \"Chakraborty\", \"Chakraborty\", \"Chakraborty\", \"Chakraborty\", \"Chakraborty\", \"Chakraborty\", \"Rech\", \"Rech\", \"Rech\", \"Rech\", \"Rech\", \"Rech\", \"Rech\", \"Rech\", \"Rech\", \"Rech\", \"Rech\", \"Rech\", \"Rech\", \"Rech\", \"Rech\", \"Rech\", \"Rech\", \"Rech\", \"Rech\", \"Rech\", \"Rech\", \"Rech\", \"Rech\", \"Rech\", \"Rech\", \"Rech\", \"Rech\", \"Rech\", \"Rech\", \"Rech\", \"Rech\", \"Rech\"], \"x0\": \"DEL\", \"y\": [1949, 1749, 1821, 1747, 2169, 1824, 2127, 1908, 1833, 2007, 1923, 2347, 1675, 2165, 1927, 1965, 1985, 1891, 2016, 1944, 2044, 2005, 1147, 1975, 1885, 1911, 1633, 1999, 1999, 2184, 2053, 2009, 1165, 1955, 1983, 2067, 1907, 1968, 1955, 2054, 2208, 1661, 1945, 2169, 2171, 2075, 1888, 2033, 1972, 2054, 1921]}, {\"box\": {\"visible\": true}, \"fillcolor\": \"yellow\", \"line\": {\"color\": \"black\"}, \"meanline\": {\"visible\": true}, \"name\": \"INS\", \"opacity\": 0.6, \"type\": \"violin\", \"x\": [\"Long\", \"Long\", \"Long\", \"Long\", \"Long\", \"Chakraborty\", \"Chakraborty\", \"Chakraborty\", \"Chakraborty\", \"Chakraborty\", \"Chakraborty\", \"Chakraborty\", \"Chakraborty\", \"Chakraborty\", \"Chakraborty\", \"Chakraborty\", \"Chakraborty\", \"Chakraborty\", \"Chakraborty\", \"Rech\", \"Rech\", \"Rech\", \"Rech\", \"Rech\", \"Rech\", \"Rech\", \"Rech\", \"Rech\", \"Rech\", \"Rech\", \"Rech\", \"Rech\", \"Rech\", \"Rech\", \"Rech\", \"Rech\", \"Rech\", \"Rech\", \"Rech\", \"Rech\", \"Rech\", \"Rech\", \"Rech\", \"Rech\", \"Rech\", \"Rech\", \"Rech\", \"Rech\", \"Rech\", \"Rech\", \"Rech\"], \"x0\": \"INS\", \"y\": [1830, 1629, 1692, 1606, 1696, 1903, 2044, 1757, 1780, 1816, 2031, 2066, 1603, 1940, 2054, 1884, 1936, 1787, 1857, 1863, 1857, 1887, 1239, 1966, 1971, 2023, 1547, 1922, 1952, 2104, 1961, 2073, 1264, 1976, 1939, 1979, 1803, 1977, 2044, 2123, 2320, 1661, 1822, 2211, 2199, 2070, 1761, 1889, 1816, 1954, 1937]}, {\"box\": {\"visible\": true}, \"fillcolor\": \"pink\", \"line\": {\"color\": \"black\"}, \"meanline\": {\"visible\": true}, \"name\": \"INV\", \"opacity\": 0.6, \"type\": \"violin\", \"x\": [\"Long\", \"Long\", \"Long\", \"Long\", \"Long\", \"Chakraborty\", \"Chakraborty\", \"Chakraborty\", \"Chakraborty\", \"Chakraborty\", \"Chakraborty\", \"Chakraborty\", \"Chakraborty\", \"Chakraborty\", \"Chakraborty\", \"Chakraborty\", \"Chakraborty\", \"Chakraborty\", \"Chakraborty\", \"Rech\", \"Rech\", \"Rech\", \"Rech\", \"Rech\", \"Rech\", \"Rech\", \"Rech\", \"Rech\", \"Rech\", \"Rech\", \"Rech\", \"Rech\", \"Rech\", \"Rech\", \"Rech\", \"Rech\", \"Rech\", \"Rech\", \"Rech\", \"Rech\", \"Rech\", \"Rech\", \"Rech\", \"Rech\", \"Rech\", \"Rech\", \"Rech\", \"Rech\", \"Rech\", \"Rech\", \"Rech\"], \"x0\": \"INV\", \"y\": [136, 133, 134, 129, 153, 152, 203, 178, 155, 135, 168, 173, 133, 215, 186, 169, 149, 155, 206, 151, 173, 161, 84, 192, 180, 195, 120, 161, 194, 208, 193, 169, 78, 164, 190, 176, 152, 197, 156, 170, 231, 137, 142, 232, 208, 196, 150, 173, 145, 163, 164]}, {\"box\": {\"visible\": true}, \"fillcolor\": \"purple\", \"line\": {\"color\": \"black\"}, \"meanline\": {\"visible\": true}, \"name\": \"nCNV-Q\", \"opacity\": 0.6, \"type\": \"violin\", \"x\": [\"Long\", \"Long\", \"Long\", \"Long\", \"Long\", \"Chakraborty\", \"Chakraborty\", \"Chakraborty\", \"Chakraborty\", \"Chakraborty\", \"Chakraborty\", \"Chakraborty\", \"Chakraborty\", \"Chakraborty\", \"Chakraborty\", \"Chakraborty\", \"Chakraborty\", \"Chakraborty\", \"Chakraborty\", \"Rech\", \"Rech\", \"Rech\", \"Rech\", \"Rech\", \"Rech\", \"Rech\", \"Rech\", \"Rech\", \"Rech\", \"Rech\", \"Rech\", \"Rech\", \"Rech\", \"Rech\", \"Rech\", \"Rech\", \"Rech\", \"Rech\", \"Rech\", \"Rech\", \"Rech\", \"Rech\", \"Rech\", \"Rech\", \"Rech\", \"Rech\", \"Rech\", \"Rech\", \"Rech\", \"Rech\", \"Rech\"], \"x0\": \"nCNV-Q\", \"y\": [1133, 786, 941, 898, 915, 1677, 1726, 1349, 1807, 1475, 1355, 1717, 1559, 1670, 1578, 1692, 1443, 1575, 1488, 2178, 1698, 1847, 1100, 1520, 2118, 1921, 1419, 2286, 1767, 2011, 1678, 1712, 1071, 2251, 1894, 1864, 1735, 1896, 1848, 1898, 2073, 1420, 1945, 1863, 2532, 1992, 1548, 2093, 1784, 1546, 1708]}, {\"box\": {\"visible\": true}, \"fillcolor\": \"orange\", \"line\": {\"color\": \"black\"}, \"meanline\": {\"visible\": true}, \"name\": \"nCNV-R\", \"opacity\": 0.6, \"type\": \"violin\", \"x\": [\"Long\", \"Long\", \"Long\", \"Long\", \"Long\", \"Chakraborty\", \"Chakraborty\", \"Chakraborty\", \"Chakraborty\", \"Chakraborty\", \"Chakraborty\", \"Chakraborty\", \"Chakraborty\", \"Chakraborty\", \"Chakraborty\", \"Chakraborty\", \"Chakraborty\", \"Chakraborty\", \"Chakraborty\", \"Rech\", \"Rech\", \"Rech\", \"Rech\", \"Rech\", \"Rech\", \"Rech\", \"Rech\", \"Rech\", \"Rech\", \"Rech\", \"Rech\", \"Rech\", \"Rech\", \"Rech\", \"Rech\", \"Rech\", \"Rech\", \"Rech\", \"Rech\", \"Rech\", \"Rech\", \"Rech\", \"Rech\", \"Rech\", \"Rech\", \"Rech\", \"Rech\", \"Rech\", \"Rech\", \"Rech\", \"Rech\"], \"x0\": \"nCNV-R\", \"y\": [1032, 790, 972, 914, 1021, 1153, 1309, 1105, 1102, 1198, 1101, 1423, 978, 1362, 1211, 1184, 1223, 1150, 1266, 1138, 1239, 1182, 684, 1223, 1132, 1195, 965, 1304, 1251, 1386, 1235, 1210, 674, 1182, 1175, 1214, 1160, 1133, 1201, 1179, 1210, 954, 1184, 1361, 1329, 1240, 1129, 1257, 1130, 1241, 1136]}],                        {\"paper_bgcolor\": \"rgba(0,0,0,0)\", \"plot_bgcolor\": \"rgba(0,0,0,0)\", \"template\": {\"data\": {\"bar\": [{\"error_x\": {\"color\": \"#2a3f5f\"}, \"error_y\": {\"color\": \"#2a3f5f\"}, \"marker\": {\"line\": {\"color\": \"#E5ECF6\", \"width\": 0.5}}, \"type\": \"bar\"}], \"barpolar\": [{\"marker\": {\"line\": {\"color\": \"#E5ECF6\", \"width\": 0.5}}, \"type\": \"barpolar\"}], \"carpet\": [{\"aaxis\": {\"endlinecolor\": \"#2a3f5f\", \"gridcolor\": \"white\", \"linecolor\": \"white\", \"minorgridcolor\": \"white\", \"startlinecolor\": \"#2a3f5f\"}, \"baxis\": {\"endlinecolor\": \"#2a3f5f\", \"gridcolor\": \"white\", \"linecolor\": \"white\", \"minorgridcolor\": \"white\", \"startlinecolor\": \"#2a3f5f\"}, \"type\": \"carpet\"}], \"choropleth\": [{\"colorbar\": {\"outlinewidth\": 0, \"ticks\": \"\"}, \"type\": \"choropleth\"}], \"contour\": [{\"colorbar\": {\"outlinewidth\": 0, \"ticks\": \"\"}, \"colorscale\": [[0.0, \"#0d0887\"], [0.1111111111111111, \"#46039f\"], [0.2222222222222222, \"#7201a8\"], [0.3333333333333333, \"#9c179e\"], [0.4444444444444444, \"#bd3786\"], [0.5555555555555556, \"#d8576b\"], [0.6666666666666666, \"#ed7953\"], [0.7777777777777778, \"#fb9f3a\"], [0.8888888888888888, \"#fdca26\"], [1.0, \"#f0f921\"]], \"type\": \"contour\"}], \"contourcarpet\": [{\"colorbar\": {\"outlinewidth\": 0, \"ticks\": \"\"}, \"type\": \"contourcarpet\"}], \"heatmap\": [{\"colorbar\": {\"outlinewidth\": 0, \"ticks\": \"\"}, \"colorscale\": [[0.0, \"#0d0887\"], [0.1111111111111111, \"#46039f\"], [0.2222222222222222, \"#7201a8\"], [0.3333333333333333, \"#9c179e\"], [0.4444444444444444, \"#bd3786\"], [0.5555555555555556, \"#d8576b\"], [0.6666666666666666, \"#ed7953\"], [0.7777777777777778, \"#fb9f3a\"], [0.8888888888888888, \"#fdca26\"], [1.0, \"#f0f921\"]], \"type\": \"heatmap\"}], \"heatmapgl\": [{\"colorbar\": {\"outlinewidth\": 0, \"ticks\": \"\"}, \"colorscale\": [[0.0, \"#0d0887\"], [0.1111111111111111, \"#46039f\"], [0.2222222222222222, \"#7201a8\"], [0.3333333333333333, \"#9c179e\"], [0.4444444444444444, \"#bd3786\"], [0.5555555555555556, \"#d8576b\"], [0.6666666666666666, \"#ed7953\"], [0.7777777777777778, \"#fb9f3a\"], [0.8888888888888888, \"#fdca26\"], [1.0, \"#f0f921\"]], \"type\": \"heatmapgl\"}], \"histogram\": [{\"marker\": {\"colorbar\": {\"outlinewidth\": 0, \"ticks\": \"\"}}, \"type\": \"histogram\"}], \"histogram2d\": [{\"colorbar\": {\"outlinewidth\": 0, \"ticks\": \"\"}, \"colorscale\": [[0.0, \"#0d0887\"], [0.1111111111111111, \"#46039f\"], [0.2222222222222222, \"#7201a8\"], [0.3333333333333333, \"#9c179e\"], [0.4444444444444444, \"#bd3786\"], [0.5555555555555556, \"#d8576b\"], [0.6666666666666666, \"#ed7953\"], [0.7777777777777778, \"#fb9f3a\"], [0.8888888888888888, \"#fdca26\"], [1.0, \"#f0f921\"]], \"type\": \"histogram2d\"}], \"histogram2dcontour\": [{\"colorbar\": {\"outlinewidth\": 0, \"ticks\": \"\"}, \"colorscale\": [[0.0, \"#0d0887\"], [0.1111111111111111, \"#46039f\"], [0.2222222222222222, \"#7201a8\"], [0.3333333333333333, \"#9c179e\"], [0.4444444444444444, \"#bd3786\"], [0.5555555555555556, \"#d8576b\"], [0.6666666666666666, \"#ed7953\"], [0.7777777777777778, \"#fb9f3a\"], [0.8888888888888888, \"#fdca26\"], [1.0, \"#f0f921\"]], \"type\": \"histogram2dcontour\"}], \"mesh3d\": [{\"colorbar\": {\"outlinewidth\": 0, \"ticks\": \"\"}, \"type\": \"mesh3d\"}], \"parcoords\": [{\"line\": {\"colorbar\": {\"outlinewidth\": 0, \"ticks\": \"\"}}, \"type\": \"parcoords\"}], \"pie\": [{\"automargin\": true, \"type\": \"pie\"}], \"scatter\": [{\"marker\": {\"colorbar\": {\"outlinewidth\": 0, \"ticks\": \"\"}}, \"type\": \"scatter\"}], \"scatter3d\": [{\"line\": {\"colorbar\": {\"outlinewidth\": 0, \"ticks\": \"\"}}, \"marker\": {\"colorbar\": {\"outlinewidth\": 0, \"ticks\": \"\"}}, \"type\": \"scatter3d\"}], \"scattercarpet\": [{\"marker\": {\"colorbar\": {\"outlinewidth\": 0, \"ticks\": \"\"}}, \"type\": \"scattercarpet\"}], \"scattergeo\": [{\"marker\": {\"colorbar\": {\"outlinewidth\": 0, \"ticks\": \"\"}}, \"type\": \"scattergeo\"}], \"scattergl\": [{\"marker\": {\"colorbar\": {\"outlinewidth\": 0, \"ticks\": \"\"}}, \"type\": \"scattergl\"}], \"scattermapbox\": [{\"marker\": {\"colorbar\": {\"outlinewidth\": 0, \"ticks\": \"\"}}, \"type\": \"scattermapbox\"}], \"scatterpolar\": [{\"marker\": {\"colorbar\": {\"outlinewidth\": 0, \"ticks\": \"\"}}, \"type\": \"scatterpolar\"}], \"scatterpolargl\": [{\"marker\": {\"colorbar\": {\"outlinewidth\": 0, \"ticks\": \"\"}}, \"type\": \"scatterpolargl\"}], \"scatterternary\": [{\"marker\": {\"colorbar\": {\"outlinewidth\": 0, \"ticks\": \"\"}}, \"type\": \"scatterternary\"}], \"surface\": [{\"colorbar\": {\"outlinewidth\": 0, \"ticks\": \"\"}, \"colorscale\": [[0.0, \"#0d0887\"], [0.1111111111111111, \"#46039f\"], [0.2222222222222222, \"#7201a8\"], [0.3333333333333333, \"#9c179e\"], [0.4444444444444444, \"#bd3786\"], [0.5555555555555556, \"#d8576b\"], [0.6666666666666666, \"#ed7953\"], [0.7777777777777778, \"#fb9f3a\"], [0.8888888888888888, \"#fdca26\"], [1.0, \"#f0f921\"]], \"type\": \"surface\"}], \"table\": [{\"cells\": {\"fill\": {\"color\": \"#EBF0F8\"}, \"line\": {\"color\": \"white\"}}, \"header\": {\"fill\": {\"color\": \"#C8D4E3\"}, \"line\": {\"color\": \"white\"}}, \"type\": \"table\"}]}, \"layout\": {\"annotationdefaults\": {\"arrowcolor\": \"#2a3f5f\", \"arrowhead\": 0, \"arrowwidth\": 1}, \"autotypenumbers\": \"strict\", \"coloraxis\": {\"colorbar\": {\"outlinewidth\": 0, \"ticks\": \"\"}}, \"colorscale\": {\"diverging\": [[0, \"#8e0152\"], [0.1, \"#c51b7d\"], [0.2, \"#de77ae\"], [0.3, \"#f1b6da\"], [0.4, \"#fde0ef\"], [0.5, \"#f7f7f7\"], [0.6, \"#e6f5d0\"], [0.7, \"#b8e186\"], [0.8, \"#7fbc41\"], [0.9, \"#4d9221\"], [1, \"#276419\"]], \"sequential\": [[0.0, \"#0d0887\"], [0.1111111111111111, \"#46039f\"], [0.2222222222222222, \"#7201a8\"], [0.3333333333333333, \"#9c179e\"], [0.4444444444444444, \"#bd3786\"], [0.5555555555555556, \"#d8576b\"], [0.6666666666666666, \"#ed7953\"], [0.7777777777777778, \"#fb9f3a\"], [0.8888888888888888, \"#fdca26\"], [1.0, \"#f0f921\"]], \"sequentialminus\": [[0.0, \"#0d0887\"], [0.1111111111111111, \"#46039f\"], [0.2222222222222222, \"#7201a8\"], [0.3333333333333333, \"#9c179e\"], [0.4444444444444444, \"#bd3786\"], [0.5555555555555556, \"#d8576b\"], [0.6666666666666666, \"#ed7953\"], [0.7777777777777778, \"#fb9f3a\"], [0.8888888888888888, \"#fdca26\"], [1.0, \"#f0f921\"]]}, \"colorway\": [\"#636efa\", \"#EF553B\", \"#00cc96\", \"#ab63fa\", \"#FFA15A\", \"#19d3f3\", \"#FF6692\", \"#B6E880\", \"#FF97FF\", \"#FECB52\"], \"font\": {\"color\": \"#2a3f5f\"}, \"geo\": {\"bgcolor\": \"white\", \"lakecolor\": \"white\", \"landcolor\": \"#E5ECF6\", \"showlakes\": true, \"showland\": true, \"subunitcolor\": \"white\"}, \"hoverlabel\": {\"align\": \"left\"}, \"hovermode\": \"closest\", \"mapbox\": {\"style\": \"light\"}, \"paper_bgcolor\": \"white\", \"plot_bgcolor\": \"#E5ECF6\", \"polar\": {\"angularaxis\": {\"gridcolor\": \"white\", \"linecolor\": \"white\", \"ticks\": \"\"}, \"bgcolor\": \"#E5ECF6\", \"radialaxis\": {\"gridcolor\": \"white\", \"linecolor\": \"white\", \"ticks\": \"\"}}, \"scene\": {\"xaxis\": {\"backgroundcolor\": \"#E5ECF6\", \"gridcolor\": \"white\", \"gridwidth\": 2, \"linecolor\": \"white\", \"showbackground\": true, \"ticks\": \"\", \"zerolinecolor\": \"white\"}, \"yaxis\": {\"backgroundcolor\": \"#E5ECF6\", \"gridcolor\": \"white\", \"gridwidth\": 2, \"linecolor\": \"white\", \"showbackground\": true, \"ticks\": \"\", \"zerolinecolor\": \"white\"}, \"zaxis\": {\"backgroundcolor\": \"#E5ECF6\", \"gridcolor\": \"white\", \"gridwidth\": 2, \"linecolor\": \"white\", \"showbackground\": true, \"ticks\": \"\", \"zerolinecolor\": \"white\"}}, \"shapedefaults\": {\"line\": {\"color\": \"#2a3f5f\"}}, \"ternary\": {\"aaxis\": {\"gridcolor\": \"white\", \"linecolor\": \"white\", \"ticks\": \"\"}, \"baxis\": {\"gridcolor\": \"white\", \"linecolor\": \"white\", \"ticks\": \"\"}, \"bgcolor\": \"#E5ECF6\", \"caxis\": {\"gridcolor\": \"white\", \"linecolor\": \"white\", \"ticks\": \"\"}}, \"title\": {\"x\": 0.05}, \"xaxis\": {\"automargin\": true, \"gridcolor\": \"white\", \"linecolor\": \"white\", \"ticks\": \"\", \"title\": {\"standoff\": 15}, \"zerolinecolor\": \"white\", \"zerolinewidth\": 2}, \"yaxis\": {\"automargin\": true, \"gridcolor\": \"white\", \"linecolor\": \"white\", \"ticks\": \"\", \"title\": {\"standoff\": 15}, \"zerolinecolor\": \"white\", \"zerolinewidth\": 2}}}, \"title\": {\"text\": \"Distribution of ALL structural variance types per sample\"}},                        {\"responsive\": true}                    ).then(function(){\n",
       "                            \n",
       "var gd = document.getElementById('33c74a58-e1d8-42c9-a200-e16e2fe26114');\n",
       "var x = new MutationObserver(function (mutations, observer) {{\n",
       "        var display = window.getComputedStyle(gd).display;\n",
       "        if (!display || display === 'none') {{\n",
       "            console.log([gd, 'removed!']);\n",
       "            Plotly.purge(gd);\n",
       "            observer.disconnect();\n",
       "        }}\n",
       "}});\n",
       "\n",
       "// Listen for the removal of the full notebook cells\n",
       "var notebookContainer = gd.closest('#notebook-container');\n",
       "if (notebookContainer) {{\n",
       "    x.observe(notebookContainer, {childList: true});\n",
       "}}\n",
       "\n",
       "// Listen for the clearing of the current output cell\n",
       "var outputEl = gd.closest('.output');\n",
       "if (outputEl) {{\n",
       "    x.observe(outputEl, {childList: true});\n",
       "}}\n",
       "\n",
       "                        })                };                });            </script>        </div>"
      ]
     },
     "metadata": {},
     "output_type": "display_data"
    }
   ],
   "source": [
    "fig = go.Figure()\n",
    "\n",
    "fig.add_trace(go.Violin(x=df['SRC'],\n",
    "                        y=df['CNV-Q'], box_visible=True, line_color='black',\n",
    "                               meanline_visible=True, fillcolor='lightseagreen', opacity=0.6,name='CNV-Q',\n",
    "                               x0='CNV-Q'))\n",
    "\n",
    "fig.add_trace(go.Violin(x=df['SRC'],\n",
    "                        y=df['CNV-R'], box_visible=True, line_color='black',\n",
    "                               meanline_visible=True, fillcolor='red', opacity=0.6, name='CNV-R',\n",
    "                               x0='CNV-R'))\n",
    "\n",
    "fig.add_trace(go.Violin(x=df['SRC'],\n",
    "                        y=df['DEL'], box_visible=True, line_color='black',\n",
    "                               meanline_visible=True, fillcolor='blue', opacity=0.6, name='DEL',\n",
    "                               x0='DEL'))\n",
    "\n",
    "fig.add_trace(go.Violin(x=df['SRC'],\n",
    "                        y=df['INS'], box_visible=True, line_color='black',\n",
    "                               meanline_visible=True, fillcolor='yellow', opacity=0.6, name='INS',\n",
    "                               x0='INS'))\n",
    "\n",
    "fig.add_trace(go.Violin(x=df['SRC'],\n",
    "                        y=df['INV'], box_visible=True, line_color='black',\n",
    "                               meanline_visible=True, fillcolor='pink', opacity=0.6, name='INV',\n",
    "                               x0='INV'))\n",
    "\n",
    "fig.add_trace(go.Violin(x=df['SRC'],\n",
    "                        y=df['nCNV-Q'], box_visible=True, line_color='black',\n",
    "                               meanline_visible=True, fillcolor='purple', opacity=0.6, name='nCNV-Q',\n",
    "                               x0='nCNV-Q'))\n",
    "\n",
    "fig.add_trace(go.Violin(x=df['SRC'],\n",
    "                        y=df['nCNV-R'], box_visible=True, line_color='black',\n",
    "                               meanline_visible=True, fillcolor='orange', opacity=0.6, name='nCNV-R',\n",
    "                               x0='nCNV-R'))\n",
    "\n",
    "fig.update_layout(\n",
    "    title=\"Distribution of ALL structural variance types per sample\",\n",
    "    paper_bgcolor='rgba(0,0,0,0)',\n",
    "    plot_bgcolor='rgba(0,0,0,0)'\n",
    ")\n",
    "\n",
    "\n",
    "fig.show()"
   ]
  },
  {
   "cell_type": "code",
   "execution_count": 246,
   "metadata": {},
   "outputs": [
    {
     "data": {
      "application/vnd.plotly.v1+json": {
       "config": {
        "plotlyServerURL": "https://plot.ly"
       },
       "data": [
        {
         "box": {
          "visible": true
         },
         "fillcolor": "lightseagreen",
         "line": {
          "color": "black"
         },
         "meanline": {
          "visible": true
         },
         "name": "CNV-Q",
         "opacity": 0.6,
         "type": "violin",
         "x": [
          "Long",
          "Long",
          "Long",
          "Long",
          "Long",
          "Chakraborty",
          "Chakraborty",
          "Chakraborty",
          "Chakraborty",
          "Chakraborty",
          "Chakraborty",
          "Chakraborty",
          "Chakraborty",
          "Chakraborty",
          "Chakraborty",
          "Chakraborty",
          "Chakraborty",
          "Chakraborty",
          "Chakraborty",
          "Rech",
          "Rech",
          "Rech",
          "Rech",
          "Rech",
          "Rech",
          "Rech",
          "Rech",
          "Rech",
          "Rech",
          "Rech",
          "Rech",
          "Rech",
          "Rech",
          "Rech",
          "Rech",
          "Rech",
          "Rech",
          "Rech",
          "Rech",
          "Rech",
          "Rech",
          "Rech",
          "Rech",
          "Rech",
          "Rech",
          "Rech",
          "Rech",
          "Rech",
          "Rech",
          "Rech",
          "Rech"
         ],
         "x0": "CNV-Q",
         "y": [
          766,
          657,
          699,
          695,
          846,
          659,
          795,
          610,
          624,
          588,
          729,
          764,
          570,
          659,
          770,
          647,
          694,
          634,
          767,
          659,
          714,
          817,
          594,
          923,
          976,
          937,
          573,
          745,
          806,
          852,
          822,
          969,
          580,
          936,
          906,
          931,
          683,
          927,
          803,
          936,
          1035,
          605,
          688,
          997,
          885,
          874,
          865,
          824,
          879,
          787,
          877
         ]
        },
        {
         "box": {
          "visible": true
         },
         "fillcolor": "red",
         "line": {
          "color": "black"
         },
         "meanline": {
          "visible": true
         },
         "name": "CNV-R",
         "opacity": 0.6,
         "type": "violin",
         "x": [
          "Long",
          "Long",
          "Long",
          "Long",
          "Long",
          "Chakraborty",
          "Chakraborty",
          "Chakraborty",
          "Chakraborty",
          "Chakraborty",
          "Chakraborty",
          "Chakraborty",
          "Chakraborty",
          "Chakraborty",
          "Chakraborty",
          "Chakraborty",
          "Chakraborty",
          "Chakraborty",
          "Chakraborty",
          "Rech",
          "Rech",
          "Rech",
          "Rech",
          "Rech",
          "Rech",
          "Rech",
          "Rech",
          "Rech",
          "Rech",
          "Rech",
          "Rech",
          "Rech",
          "Rech",
          "Rech",
          "Rech",
          "Rech",
          "Rech",
          "Rech",
          "Rech",
          "Rech",
          "Rech",
          "Rech",
          "Rech",
          "Rech",
          "Rech",
          "Rech",
          "Rech",
          "Rech",
          "Rech",
          "Rech",
          "Rech"
         ],
         "x0": "CNV-R",
         "y": [
          725,
          713,
          716,
          697,
          755,
          640,
          731,
          694,
          669,
          704,
          744,
          736,
          602,
          733,
          717,
          693,
          686,
          699,
          758,
          701,
          717,
          691,
          382,
          717,
          714,
          712,
          561,
          682,
          702,
          726,
          699,
          715,
          405,
          696,
          744,
          724,
          674,
          754,
          689,
          700,
          744,
          579,
          678,
          763,
          714,
          740,
          691,
          705,
          742,
          738,
          745
         ]
        },
        {
         "box": {
          "visible": true
         },
         "fillcolor": "purple",
         "line": {
          "color": "black"
         },
         "meanline": {
          "visible": true
         },
         "name": "nCNV-Q",
         "opacity": 0.6,
         "type": "violin",
         "x": [
          "Long",
          "Long",
          "Long",
          "Long",
          "Long",
          "Chakraborty",
          "Chakraborty",
          "Chakraborty",
          "Chakraborty",
          "Chakraborty",
          "Chakraborty",
          "Chakraborty",
          "Chakraborty",
          "Chakraborty",
          "Chakraborty",
          "Chakraborty",
          "Chakraborty",
          "Chakraborty",
          "Chakraborty",
          "Rech",
          "Rech",
          "Rech",
          "Rech",
          "Rech",
          "Rech",
          "Rech",
          "Rech",
          "Rech",
          "Rech",
          "Rech",
          "Rech",
          "Rech",
          "Rech",
          "Rech",
          "Rech",
          "Rech",
          "Rech",
          "Rech",
          "Rech",
          "Rech",
          "Rech",
          "Rech",
          "Rech",
          "Rech",
          "Rech",
          "Rech",
          "Rech",
          "Rech",
          "Rech",
          "Rech",
          "Rech"
         ],
         "x0": "nCNV-Q",
         "y": [
          1133,
          786,
          941,
          898,
          915,
          1677,
          1726,
          1349,
          1807,
          1475,
          1355,
          1717,
          1559,
          1670,
          1578,
          1692,
          1443,
          1575,
          1488,
          2178,
          1698,
          1847,
          1100,
          1520,
          2118,
          1921,
          1419,
          2286,
          1767,
          2011,
          1678,
          1712,
          1071,
          2251,
          1894,
          1864,
          1735,
          1896,
          1848,
          1898,
          2073,
          1420,
          1945,
          1863,
          2532,
          1992,
          1548,
          2093,
          1784,
          1546,
          1708
         ]
        },
        {
         "box": {
          "visible": true
         },
         "fillcolor": "orange",
         "line": {
          "color": "black"
         },
         "meanline": {
          "visible": true
         },
         "name": "nCNV-R",
         "opacity": 0.6,
         "type": "violin",
         "x": [
          "Long",
          "Long",
          "Long",
          "Long",
          "Long",
          "Chakraborty",
          "Chakraborty",
          "Chakraborty",
          "Chakraborty",
          "Chakraborty",
          "Chakraborty",
          "Chakraborty",
          "Chakraborty",
          "Chakraborty",
          "Chakraborty",
          "Chakraborty",
          "Chakraborty",
          "Chakraborty",
          "Chakraborty",
          "Rech",
          "Rech",
          "Rech",
          "Rech",
          "Rech",
          "Rech",
          "Rech",
          "Rech",
          "Rech",
          "Rech",
          "Rech",
          "Rech",
          "Rech",
          "Rech",
          "Rech",
          "Rech",
          "Rech",
          "Rech",
          "Rech",
          "Rech",
          "Rech",
          "Rech",
          "Rech",
          "Rech",
          "Rech",
          "Rech",
          "Rech",
          "Rech",
          "Rech",
          "Rech",
          "Rech",
          "Rech"
         ],
         "x0": "nCNV-R",
         "y": [
          1032,
          790,
          972,
          914,
          1021,
          1153,
          1309,
          1105,
          1102,
          1198,
          1101,
          1423,
          978,
          1362,
          1211,
          1184,
          1223,
          1150,
          1266,
          1138,
          1239,
          1182,
          684,
          1223,
          1132,
          1195,
          965,
          1304,
          1251,
          1386,
          1235,
          1210,
          674,
          1182,
          1175,
          1214,
          1160,
          1133,
          1201,
          1179,
          1210,
          954,
          1184,
          1361,
          1329,
          1240,
          1129,
          1257,
          1130,
          1241,
          1136
         ]
        }
       ],
       "layout": {
        "paper_bgcolor": "rgba(0,0,0,0)",
        "plot_bgcolor": "rgba(0,0,0,0)",
        "template": {
         "data": {
          "bar": [
           {
            "error_x": {
             "color": "#2a3f5f"
            },
            "error_y": {
             "color": "#2a3f5f"
            },
            "marker": {
             "line": {
              "color": "#E5ECF6",
              "width": 0.5
             }
            },
            "type": "bar"
           }
          ],
          "barpolar": [
           {
            "marker": {
             "line": {
              "color": "#E5ECF6",
              "width": 0.5
             }
            },
            "type": "barpolar"
           }
          ],
          "carpet": [
           {
            "aaxis": {
             "endlinecolor": "#2a3f5f",
             "gridcolor": "white",
             "linecolor": "white",
             "minorgridcolor": "white",
             "startlinecolor": "#2a3f5f"
            },
            "baxis": {
             "endlinecolor": "#2a3f5f",
             "gridcolor": "white",
             "linecolor": "white",
             "minorgridcolor": "white",
             "startlinecolor": "#2a3f5f"
            },
            "type": "carpet"
           }
          ],
          "choropleth": [
           {
            "colorbar": {
             "outlinewidth": 0,
             "ticks": ""
            },
            "type": "choropleth"
           }
          ],
          "contour": [
           {
            "colorbar": {
             "outlinewidth": 0,
             "ticks": ""
            },
            "colorscale": [
             [
              0,
              "#0d0887"
             ],
             [
              0.1111111111111111,
              "#46039f"
             ],
             [
              0.2222222222222222,
              "#7201a8"
             ],
             [
              0.3333333333333333,
              "#9c179e"
             ],
             [
              0.4444444444444444,
              "#bd3786"
             ],
             [
              0.5555555555555556,
              "#d8576b"
             ],
             [
              0.6666666666666666,
              "#ed7953"
             ],
             [
              0.7777777777777778,
              "#fb9f3a"
             ],
             [
              0.8888888888888888,
              "#fdca26"
             ],
             [
              1,
              "#f0f921"
             ]
            ],
            "type": "contour"
           }
          ],
          "contourcarpet": [
           {
            "colorbar": {
             "outlinewidth": 0,
             "ticks": ""
            },
            "type": "contourcarpet"
           }
          ],
          "heatmap": [
           {
            "colorbar": {
             "outlinewidth": 0,
             "ticks": ""
            },
            "colorscale": [
             [
              0,
              "#0d0887"
             ],
             [
              0.1111111111111111,
              "#46039f"
             ],
             [
              0.2222222222222222,
              "#7201a8"
             ],
             [
              0.3333333333333333,
              "#9c179e"
             ],
             [
              0.4444444444444444,
              "#bd3786"
             ],
             [
              0.5555555555555556,
              "#d8576b"
             ],
             [
              0.6666666666666666,
              "#ed7953"
             ],
             [
              0.7777777777777778,
              "#fb9f3a"
             ],
             [
              0.8888888888888888,
              "#fdca26"
             ],
             [
              1,
              "#f0f921"
             ]
            ],
            "type": "heatmap"
           }
          ],
          "heatmapgl": [
           {
            "colorbar": {
             "outlinewidth": 0,
             "ticks": ""
            },
            "colorscale": [
             [
              0,
              "#0d0887"
             ],
             [
              0.1111111111111111,
              "#46039f"
             ],
             [
              0.2222222222222222,
              "#7201a8"
             ],
             [
              0.3333333333333333,
              "#9c179e"
             ],
             [
              0.4444444444444444,
              "#bd3786"
             ],
             [
              0.5555555555555556,
              "#d8576b"
             ],
             [
              0.6666666666666666,
              "#ed7953"
             ],
             [
              0.7777777777777778,
              "#fb9f3a"
             ],
             [
              0.8888888888888888,
              "#fdca26"
             ],
             [
              1,
              "#f0f921"
             ]
            ],
            "type": "heatmapgl"
           }
          ],
          "histogram": [
           {
            "marker": {
             "colorbar": {
              "outlinewidth": 0,
              "ticks": ""
             }
            },
            "type": "histogram"
           }
          ],
          "histogram2d": [
           {
            "colorbar": {
             "outlinewidth": 0,
             "ticks": ""
            },
            "colorscale": [
             [
              0,
              "#0d0887"
             ],
             [
              0.1111111111111111,
              "#46039f"
             ],
             [
              0.2222222222222222,
              "#7201a8"
             ],
             [
              0.3333333333333333,
              "#9c179e"
             ],
             [
              0.4444444444444444,
              "#bd3786"
             ],
             [
              0.5555555555555556,
              "#d8576b"
             ],
             [
              0.6666666666666666,
              "#ed7953"
             ],
             [
              0.7777777777777778,
              "#fb9f3a"
             ],
             [
              0.8888888888888888,
              "#fdca26"
             ],
             [
              1,
              "#f0f921"
             ]
            ],
            "type": "histogram2d"
           }
          ],
          "histogram2dcontour": [
           {
            "colorbar": {
             "outlinewidth": 0,
             "ticks": ""
            },
            "colorscale": [
             [
              0,
              "#0d0887"
             ],
             [
              0.1111111111111111,
              "#46039f"
             ],
             [
              0.2222222222222222,
              "#7201a8"
             ],
             [
              0.3333333333333333,
              "#9c179e"
             ],
             [
              0.4444444444444444,
              "#bd3786"
             ],
             [
              0.5555555555555556,
              "#d8576b"
             ],
             [
              0.6666666666666666,
              "#ed7953"
             ],
             [
              0.7777777777777778,
              "#fb9f3a"
             ],
             [
              0.8888888888888888,
              "#fdca26"
             ],
             [
              1,
              "#f0f921"
             ]
            ],
            "type": "histogram2dcontour"
           }
          ],
          "mesh3d": [
           {
            "colorbar": {
             "outlinewidth": 0,
             "ticks": ""
            },
            "type": "mesh3d"
           }
          ],
          "parcoords": [
           {
            "line": {
             "colorbar": {
              "outlinewidth": 0,
              "ticks": ""
             }
            },
            "type": "parcoords"
           }
          ],
          "pie": [
           {
            "automargin": true,
            "type": "pie"
           }
          ],
          "scatter": [
           {
            "marker": {
             "colorbar": {
              "outlinewidth": 0,
              "ticks": ""
             }
            },
            "type": "scatter"
           }
          ],
          "scatter3d": [
           {
            "line": {
             "colorbar": {
              "outlinewidth": 0,
              "ticks": ""
             }
            },
            "marker": {
             "colorbar": {
              "outlinewidth": 0,
              "ticks": ""
             }
            },
            "type": "scatter3d"
           }
          ],
          "scattercarpet": [
           {
            "marker": {
             "colorbar": {
              "outlinewidth": 0,
              "ticks": ""
             }
            },
            "type": "scattercarpet"
           }
          ],
          "scattergeo": [
           {
            "marker": {
             "colorbar": {
              "outlinewidth": 0,
              "ticks": ""
             }
            },
            "type": "scattergeo"
           }
          ],
          "scattergl": [
           {
            "marker": {
             "colorbar": {
              "outlinewidth": 0,
              "ticks": ""
             }
            },
            "type": "scattergl"
           }
          ],
          "scattermapbox": [
           {
            "marker": {
             "colorbar": {
              "outlinewidth": 0,
              "ticks": ""
             }
            },
            "type": "scattermapbox"
           }
          ],
          "scatterpolar": [
           {
            "marker": {
             "colorbar": {
              "outlinewidth": 0,
              "ticks": ""
             }
            },
            "type": "scatterpolar"
           }
          ],
          "scatterpolargl": [
           {
            "marker": {
             "colorbar": {
              "outlinewidth": 0,
              "ticks": ""
             }
            },
            "type": "scatterpolargl"
           }
          ],
          "scatterternary": [
           {
            "marker": {
             "colorbar": {
              "outlinewidth": 0,
              "ticks": ""
             }
            },
            "type": "scatterternary"
           }
          ],
          "surface": [
           {
            "colorbar": {
             "outlinewidth": 0,
             "ticks": ""
            },
            "colorscale": [
             [
              0,
              "#0d0887"
             ],
             [
              0.1111111111111111,
              "#46039f"
             ],
             [
              0.2222222222222222,
              "#7201a8"
             ],
             [
              0.3333333333333333,
              "#9c179e"
             ],
             [
              0.4444444444444444,
              "#bd3786"
             ],
             [
              0.5555555555555556,
              "#d8576b"
             ],
             [
              0.6666666666666666,
              "#ed7953"
             ],
             [
              0.7777777777777778,
              "#fb9f3a"
             ],
             [
              0.8888888888888888,
              "#fdca26"
             ],
             [
              1,
              "#f0f921"
             ]
            ],
            "type": "surface"
           }
          ],
          "table": [
           {
            "cells": {
             "fill": {
              "color": "#EBF0F8"
             },
             "line": {
              "color": "white"
             }
            },
            "header": {
             "fill": {
              "color": "#C8D4E3"
             },
             "line": {
              "color": "white"
             }
            },
            "type": "table"
           }
          ]
         },
         "layout": {
          "annotationdefaults": {
           "arrowcolor": "#2a3f5f",
           "arrowhead": 0,
           "arrowwidth": 1
          },
          "autotypenumbers": "strict",
          "coloraxis": {
           "colorbar": {
            "outlinewidth": 0,
            "ticks": ""
           }
          },
          "colorscale": {
           "diverging": [
            [
             0,
             "#8e0152"
            ],
            [
             0.1,
             "#c51b7d"
            ],
            [
             0.2,
             "#de77ae"
            ],
            [
             0.3,
             "#f1b6da"
            ],
            [
             0.4,
             "#fde0ef"
            ],
            [
             0.5,
             "#f7f7f7"
            ],
            [
             0.6,
             "#e6f5d0"
            ],
            [
             0.7,
             "#b8e186"
            ],
            [
             0.8,
             "#7fbc41"
            ],
            [
             0.9,
             "#4d9221"
            ],
            [
             1,
             "#276419"
            ]
           ],
           "sequential": [
            [
             0,
             "#0d0887"
            ],
            [
             0.1111111111111111,
             "#46039f"
            ],
            [
             0.2222222222222222,
             "#7201a8"
            ],
            [
             0.3333333333333333,
             "#9c179e"
            ],
            [
             0.4444444444444444,
             "#bd3786"
            ],
            [
             0.5555555555555556,
             "#d8576b"
            ],
            [
             0.6666666666666666,
             "#ed7953"
            ],
            [
             0.7777777777777778,
             "#fb9f3a"
            ],
            [
             0.8888888888888888,
             "#fdca26"
            ],
            [
             1,
             "#f0f921"
            ]
           ],
           "sequentialminus": [
            [
             0,
             "#0d0887"
            ],
            [
             0.1111111111111111,
             "#46039f"
            ],
            [
             0.2222222222222222,
             "#7201a8"
            ],
            [
             0.3333333333333333,
             "#9c179e"
            ],
            [
             0.4444444444444444,
             "#bd3786"
            ],
            [
             0.5555555555555556,
             "#d8576b"
            ],
            [
             0.6666666666666666,
             "#ed7953"
            ],
            [
             0.7777777777777778,
             "#fb9f3a"
            ],
            [
             0.8888888888888888,
             "#fdca26"
            ],
            [
             1,
             "#f0f921"
            ]
           ]
          },
          "colorway": [
           "#636efa",
           "#EF553B",
           "#00cc96",
           "#ab63fa",
           "#FFA15A",
           "#19d3f3",
           "#FF6692",
           "#B6E880",
           "#FF97FF",
           "#FECB52"
          ],
          "font": {
           "color": "#2a3f5f"
          },
          "geo": {
           "bgcolor": "white",
           "lakecolor": "white",
           "landcolor": "#E5ECF6",
           "showlakes": true,
           "showland": true,
           "subunitcolor": "white"
          },
          "hoverlabel": {
           "align": "left"
          },
          "hovermode": "closest",
          "mapbox": {
           "style": "light"
          },
          "paper_bgcolor": "white",
          "plot_bgcolor": "#E5ECF6",
          "polar": {
           "angularaxis": {
            "gridcolor": "white",
            "linecolor": "white",
            "ticks": ""
           },
           "bgcolor": "#E5ECF6",
           "radialaxis": {
            "gridcolor": "white",
            "linecolor": "white",
            "ticks": ""
           }
          },
          "scene": {
           "xaxis": {
            "backgroundcolor": "#E5ECF6",
            "gridcolor": "white",
            "gridwidth": 2,
            "linecolor": "white",
            "showbackground": true,
            "ticks": "",
            "zerolinecolor": "white"
           },
           "yaxis": {
            "backgroundcolor": "#E5ECF6",
            "gridcolor": "white",
            "gridwidth": 2,
            "linecolor": "white",
            "showbackground": true,
            "ticks": "",
            "zerolinecolor": "white"
           },
           "zaxis": {
            "backgroundcolor": "#E5ECF6",
            "gridcolor": "white",
            "gridwidth": 2,
            "linecolor": "white",
            "showbackground": true,
            "ticks": "",
            "zerolinecolor": "white"
           }
          },
          "shapedefaults": {
           "line": {
            "color": "#2a3f5f"
           }
          },
          "ternary": {
           "aaxis": {
            "gridcolor": "white",
            "linecolor": "white",
            "ticks": ""
           },
           "baxis": {
            "gridcolor": "white",
            "linecolor": "white",
            "ticks": ""
           },
           "bgcolor": "#E5ECF6",
           "caxis": {
            "gridcolor": "white",
            "linecolor": "white",
            "ticks": ""
           }
          },
          "title": {
           "x": 0.05
          },
          "xaxis": {
           "automargin": true,
           "gridcolor": "white",
           "linecolor": "white",
           "ticks": "",
           "title": {
            "standoff": 15
           },
           "zerolinecolor": "white",
           "zerolinewidth": 2
          },
          "yaxis": {
           "automargin": true,
           "gridcolor": "white",
           "linecolor": "white",
           "ticks": "",
           "title": {
            "standoff": 15
           },
           "zerolinecolor": "white",
           "zerolinewidth": 2
          }
         }
        },
        "title": {
         "text": "Distribution of ONLY Copy Number Variance types per sample"
        }
       }
      },
      "text/html": [
       "<div>                            <div id=\"63fd7cab-175a-4e28-a325-ad88c5b7dcd8\" class=\"plotly-graph-div\" style=\"height:525px; width:100%;\"></div>            <script type=\"text/javascript\">                require([\"plotly\"], function(Plotly) {                    window.PLOTLYENV=window.PLOTLYENV || {};                                    if (document.getElementById(\"63fd7cab-175a-4e28-a325-ad88c5b7dcd8\")) {                    Plotly.newPlot(                        \"63fd7cab-175a-4e28-a325-ad88c5b7dcd8\",                        [{\"box\": {\"visible\": true}, \"fillcolor\": \"lightseagreen\", \"line\": {\"color\": \"black\"}, \"meanline\": {\"visible\": true}, \"name\": \"CNV-Q\", \"opacity\": 0.6, \"type\": \"violin\", \"x\": [\"Long\", \"Long\", \"Long\", \"Long\", \"Long\", \"Chakraborty\", \"Chakraborty\", \"Chakraborty\", \"Chakraborty\", \"Chakraborty\", \"Chakraborty\", \"Chakraborty\", \"Chakraborty\", \"Chakraborty\", \"Chakraborty\", \"Chakraborty\", \"Chakraborty\", \"Chakraborty\", \"Chakraborty\", \"Rech\", \"Rech\", \"Rech\", \"Rech\", \"Rech\", \"Rech\", \"Rech\", \"Rech\", \"Rech\", \"Rech\", \"Rech\", \"Rech\", \"Rech\", \"Rech\", \"Rech\", \"Rech\", \"Rech\", \"Rech\", \"Rech\", \"Rech\", \"Rech\", \"Rech\", \"Rech\", \"Rech\", \"Rech\", \"Rech\", \"Rech\", \"Rech\", \"Rech\", \"Rech\", \"Rech\", \"Rech\"], \"x0\": \"CNV-Q\", \"y\": [766, 657, 699, 695, 846, 659, 795, 610, 624, 588, 729, 764, 570, 659, 770, 647, 694, 634, 767, 659, 714, 817, 594, 923, 976, 937, 573, 745, 806, 852, 822, 969, 580, 936, 906, 931, 683, 927, 803, 936, 1035, 605, 688, 997, 885, 874, 865, 824, 879, 787, 877]}, {\"box\": {\"visible\": true}, \"fillcolor\": \"red\", \"line\": {\"color\": \"black\"}, \"meanline\": {\"visible\": true}, \"name\": \"CNV-R\", \"opacity\": 0.6, \"type\": \"violin\", \"x\": [\"Long\", \"Long\", \"Long\", \"Long\", \"Long\", \"Chakraborty\", \"Chakraborty\", \"Chakraborty\", \"Chakraborty\", \"Chakraborty\", \"Chakraborty\", \"Chakraborty\", \"Chakraborty\", \"Chakraborty\", \"Chakraborty\", \"Chakraborty\", \"Chakraborty\", \"Chakraborty\", \"Chakraborty\", \"Rech\", \"Rech\", \"Rech\", \"Rech\", \"Rech\", \"Rech\", \"Rech\", \"Rech\", \"Rech\", \"Rech\", \"Rech\", \"Rech\", \"Rech\", \"Rech\", \"Rech\", \"Rech\", \"Rech\", \"Rech\", \"Rech\", \"Rech\", \"Rech\", \"Rech\", \"Rech\", \"Rech\", \"Rech\", \"Rech\", \"Rech\", \"Rech\", \"Rech\", \"Rech\", \"Rech\", \"Rech\"], \"x0\": \"CNV-R\", \"y\": [725, 713, 716, 697, 755, 640, 731, 694, 669, 704, 744, 736, 602, 733, 717, 693, 686, 699, 758, 701, 717, 691, 382, 717, 714, 712, 561, 682, 702, 726, 699, 715, 405, 696, 744, 724, 674, 754, 689, 700, 744, 579, 678, 763, 714, 740, 691, 705, 742, 738, 745]}, {\"box\": {\"visible\": true}, \"fillcolor\": \"purple\", \"line\": {\"color\": \"black\"}, \"meanline\": {\"visible\": true}, \"name\": \"nCNV-Q\", \"opacity\": 0.6, \"type\": \"violin\", \"x\": [\"Long\", \"Long\", \"Long\", \"Long\", \"Long\", \"Chakraborty\", \"Chakraborty\", \"Chakraborty\", \"Chakraborty\", \"Chakraborty\", \"Chakraborty\", \"Chakraborty\", \"Chakraborty\", \"Chakraborty\", \"Chakraborty\", \"Chakraborty\", \"Chakraborty\", \"Chakraborty\", \"Chakraborty\", \"Rech\", \"Rech\", \"Rech\", \"Rech\", \"Rech\", \"Rech\", \"Rech\", \"Rech\", \"Rech\", \"Rech\", \"Rech\", \"Rech\", \"Rech\", \"Rech\", \"Rech\", \"Rech\", \"Rech\", \"Rech\", \"Rech\", \"Rech\", \"Rech\", \"Rech\", \"Rech\", \"Rech\", \"Rech\", \"Rech\", \"Rech\", \"Rech\", \"Rech\", \"Rech\", \"Rech\", \"Rech\"], \"x0\": \"nCNV-Q\", \"y\": [1133, 786, 941, 898, 915, 1677, 1726, 1349, 1807, 1475, 1355, 1717, 1559, 1670, 1578, 1692, 1443, 1575, 1488, 2178, 1698, 1847, 1100, 1520, 2118, 1921, 1419, 2286, 1767, 2011, 1678, 1712, 1071, 2251, 1894, 1864, 1735, 1896, 1848, 1898, 2073, 1420, 1945, 1863, 2532, 1992, 1548, 2093, 1784, 1546, 1708]}, {\"box\": {\"visible\": true}, \"fillcolor\": \"orange\", \"line\": {\"color\": \"black\"}, \"meanline\": {\"visible\": true}, \"name\": \"nCNV-R\", \"opacity\": 0.6, \"type\": \"violin\", \"x\": [\"Long\", \"Long\", \"Long\", \"Long\", \"Long\", \"Chakraborty\", \"Chakraborty\", \"Chakraborty\", \"Chakraborty\", \"Chakraborty\", \"Chakraborty\", \"Chakraborty\", \"Chakraborty\", \"Chakraborty\", \"Chakraborty\", \"Chakraborty\", \"Chakraborty\", \"Chakraborty\", \"Chakraborty\", \"Rech\", \"Rech\", \"Rech\", \"Rech\", \"Rech\", \"Rech\", \"Rech\", \"Rech\", \"Rech\", \"Rech\", \"Rech\", \"Rech\", \"Rech\", \"Rech\", \"Rech\", \"Rech\", \"Rech\", \"Rech\", \"Rech\", \"Rech\", \"Rech\", \"Rech\", \"Rech\", \"Rech\", \"Rech\", \"Rech\", \"Rech\", \"Rech\", \"Rech\", \"Rech\", \"Rech\", \"Rech\"], \"x0\": \"nCNV-R\", \"y\": [1032, 790, 972, 914, 1021, 1153, 1309, 1105, 1102, 1198, 1101, 1423, 978, 1362, 1211, 1184, 1223, 1150, 1266, 1138, 1239, 1182, 684, 1223, 1132, 1195, 965, 1304, 1251, 1386, 1235, 1210, 674, 1182, 1175, 1214, 1160, 1133, 1201, 1179, 1210, 954, 1184, 1361, 1329, 1240, 1129, 1257, 1130, 1241, 1136]}],                        {\"paper_bgcolor\": \"rgba(0,0,0,0)\", \"plot_bgcolor\": \"rgba(0,0,0,0)\", \"template\": {\"data\": {\"bar\": [{\"error_x\": {\"color\": \"#2a3f5f\"}, \"error_y\": {\"color\": \"#2a3f5f\"}, \"marker\": {\"line\": {\"color\": \"#E5ECF6\", \"width\": 0.5}}, \"type\": \"bar\"}], \"barpolar\": [{\"marker\": {\"line\": {\"color\": \"#E5ECF6\", \"width\": 0.5}}, \"type\": \"barpolar\"}], \"carpet\": [{\"aaxis\": {\"endlinecolor\": \"#2a3f5f\", \"gridcolor\": \"white\", \"linecolor\": \"white\", \"minorgridcolor\": \"white\", \"startlinecolor\": \"#2a3f5f\"}, \"baxis\": {\"endlinecolor\": \"#2a3f5f\", \"gridcolor\": \"white\", \"linecolor\": \"white\", \"minorgridcolor\": \"white\", \"startlinecolor\": \"#2a3f5f\"}, \"type\": \"carpet\"}], \"choropleth\": [{\"colorbar\": {\"outlinewidth\": 0, \"ticks\": \"\"}, \"type\": \"choropleth\"}], \"contour\": [{\"colorbar\": {\"outlinewidth\": 0, \"ticks\": \"\"}, \"colorscale\": [[0.0, \"#0d0887\"], [0.1111111111111111, \"#46039f\"], [0.2222222222222222, \"#7201a8\"], [0.3333333333333333, \"#9c179e\"], [0.4444444444444444, \"#bd3786\"], [0.5555555555555556, \"#d8576b\"], [0.6666666666666666, \"#ed7953\"], [0.7777777777777778, \"#fb9f3a\"], [0.8888888888888888, \"#fdca26\"], [1.0, \"#f0f921\"]], \"type\": \"contour\"}], \"contourcarpet\": [{\"colorbar\": {\"outlinewidth\": 0, \"ticks\": \"\"}, \"type\": \"contourcarpet\"}], \"heatmap\": [{\"colorbar\": {\"outlinewidth\": 0, \"ticks\": \"\"}, \"colorscale\": [[0.0, \"#0d0887\"], [0.1111111111111111, \"#46039f\"], [0.2222222222222222, \"#7201a8\"], [0.3333333333333333, \"#9c179e\"], [0.4444444444444444, \"#bd3786\"], [0.5555555555555556, \"#d8576b\"], [0.6666666666666666, \"#ed7953\"], [0.7777777777777778, \"#fb9f3a\"], [0.8888888888888888, \"#fdca26\"], [1.0, \"#f0f921\"]], \"type\": \"heatmap\"}], \"heatmapgl\": [{\"colorbar\": {\"outlinewidth\": 0, \"ticks\": \"\"}, \"colorscale\": [[0.0, \"#0d0887\"], [0.1111111111111111, \"#46039f\"], [0.2222222222222222, \"#7201a8\"], [0.3333333333333333, \"#9c179e\"], [0.4444444444444444, \"#bd3786\"], [0.5555555555555556, \"#d8576b\"], [0.6666666666666666, \"#ed7953\"], [0.7777777777777778, \"#fb9f3a\"], [0.8888888888888888, \"#fdca26\"], [1.0, \"#f0f921\"]], \"type\": \"heatmapgl\"}], \"histogram\": [{\"marker\": {\"colorbar\": {\"outlinewidth\": 0, \"ticks\": \"\"}}, \"type\": \"histogram\"}], \"histogram2d\": [{\"colorbar\": {\"outlinewidth\": 0, \"ticks\": \"\"}, \"colorscale\": [[0.0, \"#0d0887\"], [0.1111111111111111, \"#46039f\"], [0.2222222222222222, \"#7201a8\"], [0.3333333333333333, \"#9c179e\"], [0.4444444444444444, \"#bd3786\"], [0.5555555555555556, \"#d8576b\"], [0.6666666666666666, \"#ed7953\"], [0.7777777777777778, \"#fb9f3a\"], [0.8888888888888888, \"#fdca26\"], [1.0, \"#f0f921\"]], \"type\": \"histogram2d\"}], \"histogram2dcontour\": [{\"colorbar\": {\"outlinewidth\": 0, \"ticks\": \"\"}, \"colorscale\": [[0.0, \"#0d0887\"], [0.1111111111111111, \"#46039f\"], [0.2222222222222222, \"#7201a8\"], [0.3333333333333333, \"#9c179e\"], [0.4444444444444444, \"#bd3786\"], [0.5555555555555556, \"#d8576b\"], [0.6666666666666666, \"#ed7953\"], [0.7777777777777778, \"#fb9f3a\"], [0.8888888888888888, \"#fdca26\"], [1.0, \"#f0f921\"]], \"type\": \"histogram2dcontour\"}], \"mesh3d\": [{\"colorbar\": {\"outlinewidth\": 0, \"ticks\": \"\"}, \"type\": \"mesh3d\"}], \"parcoords\": [{\"line\": {\"colorbar\": {\"outlinewidth\": 0, \"ticks\": \"\"}}, \"type\": \"parcoords\"}], \"pie\": [{\"automargin\": true, \"type\": \"pie\"}], \"scatter\": [{\"marker\": {\"colorbar\": {\"outlinewidth\": 0, \"ticks\": \"\"}}, \"type\": \"scatter\"}], \"scatter3d\": [{\"line\": {\"colorbar\": {\"outlinewidth\": 0, \"ticks\": \"\"}}, \"marker\": {\"colorbar\": {\"outlinewidth\": 0, \"ticks\": \"\"}}, \"type\": \"scatter3d\"}], \"scattercarpet\": [{\"marker\": {\"colorbar\": {\"outlinewidth\": 0, \"ticks\": \"\"}}, \"type\": \"scattercarpet\"}], \"scattergeo\": [{\"marker\": {\"colorbar\": {\"outlinewidth\": 0, \"ticks\": \"\"}}, \"type\": \"scattergeo\"}], \"scattergl\": [{\"marker\": {\"colorbar\": {\"outlinewidth\": 0, \"ticks\": \"\"}}, \"type\": \"scattergl\"}], \"scattermapbox\": [{\"marker\": {\"colorbar\": {\"outlinewidth\": 0, \"ticks\": \"\"}}, \"type\": \"scattermapbox\"}], \"scatterpolar\": [{\"marker\": {\"colorbar\": {\"outlinewidth\": 0, \"ticks\": \"\"}}, \"type\": \"scatterpolar\"}], \"scatterpolargl\": [{\"marker\": {\"colorbar\": {\"outlinewidth\": 0, \"ticks\": \"\"}}, \"type\": \"scatterpolargl\"}], \"scatterternary\": [{\"marker\": {\"colorbar\": {\"outlinewidth\": 0, \"ticks\": \"\"}}, \"type\": \"scatterternary\"}], \"surface\": [{\"colorbar\": {\"outlinewidth\": 0, \"ticks\": \"\"}, \"colorscale\": [[0.0, \"#0d0887\"], [0.1111111111111111, \"#46039f\"], [0.2222222222222222, \"#7201a8\"], [0.3333333333333333, \"#9c179e\"], [0.4444444444444444, \"#bd3786\"], [0.5555555555555556, \"#d8576b\"], [0.6666666666666666, \"#ed7953\"], [0.7777777777777778, \"#fb9f3a\"], [0.8888888888888888, \"#fdca26\"], [1.0, \"#f0f921\"]], \"type\": \"surface\"}], \"table\": [{\"cells\": {\"fill\": {\"color\": \"#EBF0F8\"}, \"line\": {\"color\": \"white\"}}, \"header\": {\"fill\": {\"color\": \"#C8D4E3\"}, \"line\": {\"color\": \"white\"}}, \"type\": \"table\"}]}, \"layout\": {\"annotationdefaults\": {\"arrowcolor\": \"#2a3f5f\", \"arrowhead\": 0, \"arrowwidth\": 1}, \"autotypenumbers\": \"strict\", \"coloraxis\": {\"colorbar\": {\"outlinewidth\": 0, \"ticks\": \"\"}}, \"colorscale\": {\"diverging\": [[0, \"#8e0152\"], [0.1, \"#c51b7d\"], [0.2, \"#de77ae\"], [0.3, \"#f1b6da\"], [0.4, \"#fde0ef\"], [0.5, \"#f7f7f7\"], [0.6, \"#e6f5d0\"], [0.7, \"#b8e186\"], [0.8, \"#7fbc41\"], [0.9, \"#4d9221\"], [1, \"#276419\"]], \"sequential\": [[0.0, \"#0d0887\"], [0.1111111111111111, \"#46039f\"], [0.2222222222222222, \"#7201a8\"], [0.3333333333333333, \"#9c179e\"], [0.4444444444444444, \"#bd3786\"], [0.5555555555555556, \"#d8576b\"], [0.6666666666666666, \"#ed7953\"], [0.7777777777777778, \"#fb9f3a\"], [0.8888888888888888, \"#fdca26\"], [1.0, \"#f0f921\"]], \"sequentialminus\": [[0.0, \"#0d0887\"], [0.1111111111111111, \"#46039f\"], [0.2222222222222222, \"#7201a8\"], [0.3333333333333333, \"#9c179e\"], [0.4444444444444444, \"#bd3786\"], [0.5555555555555556, \"#d8576b\"], [0.6666666666666666, \"#ed7953\"], [0.7777777777777778, \"#fb9f3a\"], [0.8888888888888888, \"#fdca26\"], [1.0, \"#f0f921\"]]}, \"colorway\": [\"#636efa\", \"#EF553B\", \"#00cc96\", \"#ab63fa\", \"#FFA15A\", \"#19d3f3\", \"#FF6692\", \"#B6E880\", \"#FF97FF\", \"#FECB52\"], \"font\": {\"color\": \"#2a3f5f\"}, \"geo\": {\"bgcolor\": \"white\", \"lakecolor\": \"white\", \"landcolor\": \"#E5ECF6\", \"showlakes\": true, \"showland\": true, \"subunitcolor\": \"white\"}, \"hoverlabel\": {\"align\": \"left\"}, \"hovermode\": \"closest\", \"mapbox\": {\"style\": \"light\"}, \"paper_bgcolor\": \"white\", \"plot_bgcolor\": \"#E5ECF6\", \"polar\": {\"angularaxis\": {\"gridcolor\": \"white\", \"linecolor\": \"white\", \"ticks\": \"\"}, \"bgcolor\": \"#E5ECF6\", \"radialaxis\": {\"gridcolor\": \"white\", \"linecolor\": \"white\", \"ticks\": \"\"}}, \"scene\": {\"xaxis\": {\"backgroundcolor\": \"#E5ECF6\", \"gridcolor\": \"white\", \"gridwidth\": 2, \"linecolor\": \"white\", \"showbackground\": true, \"ticks\": \"\", \"zerolinecolor\": \"white\"}, \"yaxis\": {\"backgroundcolor\": \"#E5ECF6\", \"gridcolor\": \"white\", \"gridwidth\": 2, \"linecolor\": \"white\", \"showbackground\": true, \"ticks\": \"\", \"zerolinecolor\": \"white\"}, \"zaxis\": {\"backgroundcolor\": \"#E5ECF6\", \"gridcolor\": \"white\", \"gridwidth\": 2, \"linecolor\": \"white\", \"showbackground\": true, \"ticks\": \"\", \"zerolinecolor\": \"white\"}}, \"shapedefaults\": {\"line\": {\"color\": \"#2a3f5f\"}}, \"ternary\": {\"aaxis\": {\"gridcolor\": \"white\", \"linecolor\": \"white\", \"ticks\": \"\"}, \"baxis\": {\"gridcolor\": \"white\", \"linecolor\": \"white\", \"ticks\": \"\"}, \"bgcolor\": \"#E5ECF6\", \"caxis\": {\"gridcolor\": \"white\", \"linecolor\": \"white\", \"ticks\": \"\"}}, \"title\": {\"x\": 0.05}, \"xaxis\": {\"automargin\": true, \"gridcolor\": \"white\", \"linecolor\": \"white\", \"ticks\": \"\", \"title\": {\"standoff\": 15}, \"zerolinecolor\": \"white\", \"zerolinewidth\": 2}, \"yaxis\": {\"automargin\": true, \"gridcolor\": \"white\", \"linecolor\": \"white\", \"ticks\": \"\", \"title\": {\"standoff\": 15}, \"zerolinecolor\": \"white\", \"zerolinewidth\": 2}}}, \"title\": {\"text\": \"Distribution of ONLY Copy Number Variance types per sample\"}},                        {\"responsive\": true}                    ).then(function(){\n",
       "                            \n",
       "var gd = document.getElementById('63fd7cab-175a-4e28-a325-ad88c5b7dcd8');\n",
       "var x = new MutationObserver(function (mutations, observer) {{\n",
       "        var display = window.getComputedStyle(gd).display;\n",
       "        if (!display || display === 'none') {{\n",
       "            console.log([gd, 'removed!']);\n",
       "            Plotly.purge(gd);\n",
       "            observer.disconnect();\n",
       "        }}\n",
       "}});\n",
       "\n",
       "// Listen for the removal of the full notebook cells\n",
       "var notebookContainer = gd.closest('#notebook-container');\n",
       "if (notebookContainer) {{\n",
       "    x.observe(notebookContainer, {childList: true});\n",
       "}}\n",
       "\n",
       "// Listen for the clearing of the current output cell\n",
       "var outputEl = gd.closest('.output');\n",
       "if (outputEl) {{\n",
       "    x.observe(outputEl, {childList: true});\n",
       "}}\n",
       "\n",
       "                        })                };                });            </script>        </div>"
      ]
     },
     "metadata": {},
     "output_type": "display_data"
    }
   ],
   "source": [
    "fig = go.Figure()\n",
    "\n",
    "fig.add_trace(go.Violin(x=df['SRC'],\n",
    "                        y=df['CNV-Q'], box_visible=True, line_color='black',\n",
    "                               meanline_visible=True, fillcolor='lightseagreen', opacity=0.6,name='CNV-Q',\n",
    "                               x0='CNV-Q'))\n",
    "\n",
    "fig.add_trace(go.Violin(x=df['SRC'],\n",
    "                        y=df['CNV-R'], box_visible=True, line_color='black',\n",
    "                               meanline_visible=True, fillcolor='red', opacity=0.6, name='CNV-R',\n",
    "                               x0='CNV-R'))\n",
    "\n",
    "fig.add_trace(go.Violin(x=df['SRC'],\n",
    "                        y=df['nCNV-Q'], box_visible=True, line_color='black',\n",
    "                               meanline_visible=True, fillcolor='purple', opacity=0.6, name='nCNV-Q',\n",
    "                               x0='nCNV-Q'))\n",
    "\n",
    "fig.add_trace(go.Violin(x=df['SRC'],\n",
    "                        y=df['nCNV-R'], box_visible=True, line_color='black',\n",
    "                               meanline_visible=True, fillcolor='orange', opacity=0.6, name='nCNV-R',\n",
    "                               x0='nCNV-R'))\n",
    "\n",
    "fig.update_layout(\n",
    "    title=\"Distribution of ONLY Copy Number Variance types per sample\",\n",
    "    paper_bgcolor='rgba(0,0,0,0)',\n",
    "    plot_bgcolor='rgba(0,0,0,0)'\n",
    ")\n",
    "\n",
    "fig.show()"
   ]
  },
  {
   "cell_type": "code",
   "execution_count": null,
   "metadata": {},
   "outputs": [],
   "source": [
    "#Original call, changed only slightly for the data \n",
    "\n",
    "\n",
    "import plotly.io as pio\n",
    "\n",
    "samples = ['B59','I23','N25','T29A','ZH26','A1','A2','A3','A4','A5','A6','A7','AB8','B1','B2','B3','B4','B6','OreR','AKA-017','AKA-018','COR-014','COR-018','COR-023','COR-025','GIM-012','GIM-024','JUT-008','JUT-011','KIE-094','LUN-004','LUN-007','MUN-008','MUN-009','MUN-013','MUN-015','MUN-016','MUN-020','RAL-059','RAL-091','RAL-176','RAL-177','RAL-375','RAL-426','RAL-737','RAL-855','SLA-001','STO-022','TEN-015','TOM-007','TOM-008']\n",
    "score = [766\t657\t699\t695\t846\t659\t795\t610\t624\t588\t729\t764\t570\t659\t770\t647\t694\t634\t767\t659\t714\t817\t594\t923\t976\t937\t573\t745\t806\t852\t822\t969\t580\t936\t906\t931\t683\t927\t803\t936\t1035\t605\t688\t997\t885\t874\t865\t824\t879\t787\t877]\n",
    "\n",
    "data = [dict(\n",
    "  type = 'scatter',\n",
    "  x = sample,\n",
    "  y = score,\n",
    "  mode = 'markers',\n",
    "  transforms = [dict(\n",
    "    type = 'groupby',\n",
    "    groups = sample,\n",
    "    styles = [\n",
    "        dict(target = 'Moe', value = dict(marker = dict(color = 'blue'))),\n",
    "        dict(target = 'Larry', value = dict(marker = dict(color = 'red'))),\n",
    "        dict(target = 'Curly', value = dict(marker = dict(color = 'black')))\n",
    "    ]\n",
    "  )]\n",
    ")]\n",
    "\n",
    "fig_dict = dict(data=data)\n",
    "pio.show(fig_dict, validate=False)"
   ]
  },
  {
   "cell_type": "code",
   "execution_count": 189,
   "metadata": {},
   "outputs": [
    {
     "data": {
      "application/vnd.plotly.v1+json": {
       "config": {
        "plotlyServerURL": "https://plot.ly"
       },
       "data": [
        {
         "mode": "markers",
         "transforms": [
          {
           "groups": [
            "Long",
            "Long",
            "Long",
            "Long",
            "Long",
            "Chakraborty",
            "Chakraborty",
            "Chakraborty",
            "Chakraborty",
            "Chakraborty",
            "Chakraborty",
            "Chakraborty",
            "Chakraborty",
            "Chakraborty",
            "Chakraborty",
            "Chakraborty",
            "Chakraborty",
            "Chakraborty",
            "Chakraborty",
            "Rech",
            "Rech",
            "Rech",
            "Rech",
            "Rech",
            "Rech",
            "Rech",
            "Rech",
            "Rech",
            "Rech",
            "Rech",
            "Rech",
            "Rech",
            "Rech",
            "Rech",
            "Rech",
            "Rech",
            "Rech",
            "Rech",
            "Rech",
            "Rech",
            "Rech",
            "Rech",
            "Rech",
            "Rech",
            "Rech",
            "Rech",
            "Rech",
            "Rech",
            "Rech",
            "Rech",
            "Rech"
           ],
           "styles": [
            {
             "target": "Rech",
             "value": {
              "marker": {
               "color": "blue"
              }
             }
            },
            {
             "target": "Long",
             "value": {
              "marker": {
               "color": "red"
              }
             }
            },
            {
             "target": "Chakraborty",
             "value": {
              "marker": {
               "color": "black"
              }
             }
            }
           ],
           "type": "groupby"
          }
         ],
         "type": "scatter",
         "x": [
          "B59",
          "I23",
          "N25",
          "T29A",
          "ZH26",
          "A1",
          "A2",
          "A3",
          "A4",
          "A5",
          "A6",
          "A7",
          "AB8",
          "B1",
          "B2",
          "B3",
          "B4",
          "B6",
          "OreR",
          "AKA-017",
          "AKA-018",
          "COR-014",
          "COR-018",
          "COR-023",
          "COR-025",
          "GIM-012",
          "GIM-024",
          "JUT-008",
          "JUT-011",
          "KIE-094",
          "LUN-004",
          "LUN-007",
          "MUN-008",
          "MUN-009",
          "MUN-013",
          "MUN-015",
          "MUN-016",
          "MUN-020",
          "RAL-059",
          "RAL-091",
          "RAL-176",
          "RAL-177",
          "RAL-375",
          "RAL-426",
          "RAL-737",
          "RAL-855",
          "SLA-001",
          "STO-022",
          "TEN-015",
          "TOM-007",
          "TOM-008"
         ],
         "y": [
          766,
          657,
          699,
          695,
          846,
          659,
          795,
          610,
          624,
          588,
          729,
          764,
          570,
          659,
          770,
          647,
          694,
          634,
          767,
          659,
          714,
          817,
          594,
          923,
          976,
          937,
          573,
          745,
          806,
          852,
          822,
          969,
          580,
          936,
          906,
          931,
          683,
          927,
          803,
          936,
          1035,
          605,
          688,
          997,
          885,
          874,
          865,
          824,
          879,
          787,
          877
         ]
        }
       ]
      },
      "text/html": [
       "<div>                            <div id=\"aacc87e6-883b-46d4-9ed8-5b64f55ec271\" class=\"plotly-graph-div\" style=\"height:525px; width:100%;\"></div>            <script type=\"text/javascript\">                require([\"plotly\"], function(Plotly) {                    window.PLOTLYENV=window.PLOTLYENV || {};                                    if (document.getElementById(\"aacc87e6-883b-46d4-9ed8-5b64f55ec271\")) {                    Plotly.newPlot(                        \"aacc87e6-883b-46d4-9ed8-5b64f55ec271\",                        [{\"mode\": \"markers\", \"transforms\": [{\"groups\": [\"Long\", \"Long\", \"Long\", \"Long\", \"Long\", \"Chakraborty\", \"Chakraborty\", \"Chakraborty\", \"Chakraborty\", \"Chakraborty\", \"Chakraborty\", \"Chakraborty\", \"Chakraborty\", \"Chakraborty\", \"Chakraborty\", \"Chakraborty\", \"Chakraborty\", \"Chakraborty\", \"Chakraborty\", \"Rech\", \"Rech\", \"Rech\", \"Rech\", \"Rech\", \"Rech\", \"Rech\", \"Rech\", \"Rech\", \"Rech\", \"Rech\", \"Rech\", \"Rech\", \"Rech\", \"Rech\", \"Rech\", \"Rech\", \"Rech\", \"Rech\", \"Rech\", \"Rech\", \"Rech\", \"Rech\", \"Rech\", \"Rech\", \"Rech\", \"Rech\", \"Rech\", \"Rech\", \"Rech\", \"Rech\", \"Rech\"], \"styles\": [{\"target\": \"Rech\", \"value\": {\"marker\": {\"color\": \"blue\"}}}, {\"target\": \"Long\", \"value\": {\"marker\": {\"color\": \"red\"}}}, {\"target\": \"Chakraborty\", \"value\": {\"marker\": {\"color\": \"black\"}}}], \"type\": \"groupby\"}], \"type\": \"scatter\", \"x\": [\"B59\", \"I23\", \"N25\", \"T29A\", \"ZH26\", \"A1\", \"A2\", \"A3\", \"A4\", \"A5\", \"A6\", \"A7\", \"AB8\", \"B1\", \"B2\", \"B3\", \"B4\", \"B6\", \"OreR\", \"AKA-017\", \"AKA-018\", \"COR-014\", \"COR-018\", \"COR-023\", \"COR-025\", \"GIM-012\", \"GIM-024\", \"JUT-008\", \"JUT-011\", \"KIE-094\", \"LUN-004\", \"LUN-007\", \"MUN-008\", \"MUN-009\", \"MUN-013\", \"MUN-015\", \"MUN-016\", \"MUN-020\", \"RAL-059\", \"RAL-091\", \"RAL-176\", \"RAL-177\", \"RAL-375\", \"RAL-426\", \"RAL-737\", \"RAL-855\", \"SLA-001\", \"STO-022\", \"TEN-015\", \"TOM-007\", \"TOM-008\"], \"y\": [766, 657, 699, 695, 846, 659, 795, 610, 624, 588, 729, 764, 570, 659, 770, 647, 694, 634, 767, 659, 714, 817, 594, 923, 976, 937, 573, 745, 806, 852, 822, 969, 580, 936, 906, 931, 683, 927, 803, 936, 1035, 605, 688, 997, 885, 874, 865, 824, 879, 787, 877]}],                        {},                        {\"responsive\": true}                    ).then(function(){\n",
       "                            \n",
       "var gd = document.getElementById('aacc87e6-883b-46d4-9ed8-5b64f55ec271');\n",
       "var x = new MutationObserver(function (mutations, observer) {{\n",
       "        var display = window.getComputedStyle(gd).display;\n",
       "        if (!display || display === 'none') {{\n",
       "            console.log([gd, 'removed!']);\n",
       "            Plotly.purge(gd);\n",
       "            observer.disconnect();\n",
       "        }}\n",
       "}});\n",
       "\n",
       "// Listen for the removal of the full notebook cells\n",
       "var notebookContainer = gd.closest('#notebook-container');\n",
       "if (notebookContainer) {{\n",
       "    x.observe(notebookContainer, {childList: true});\n",
       "}}\n",
       "\n",
       "// Listen for the clearing of the current output cell\n",
       "var outputEl = gd.closest('.output');\n",
       "if (outputEl) {{\n",
       "    x.observe(outputEl, {childList: true});\n",
       "}}\n",
       "\n",
       "                        })                };                });            </script>        </div>"
      ]
     },
     "metadata": {},
     "output_type": "display_data"
    }
   ],
   "source": [
    "data = [dict(\n",
    "  type = 'scatter', \n",
    "  x = samples,\n",
    "  y = CNV_Q,\n",
    "  mode = 'markers',\n",
    "  transforms = [dict(\n",
    "    type = 'groupby',\n",
    "    groups = SRC,\n",
    "    styles = [\n",
    "        dict(target = 'Rech', value = dict(marker = dict(color = 'blue'))),\n",
    "        dict(target = 'Long', value = dict(marker = dict(color = 'red'))),\n",
    "        dict(target = 'Chakraborty', value = dict(marker = dict(color = 'black')))\n",
    "    ]\n",
    "  )]\n",
    ")]\n",
    "\n",
    "\n",
    "\n",
    "fig_dict = dict(data=data)\n",
    "pio.show(fig_dict, validate=False)"
   ]
  }
 ],
 "metadata": {
  "kernelspec": {
   "display_name": "Python 3",
   "language": "python",
   "name": "python3"
  },
  "language_info": {
   "codemirror_mode": {
    "name": "ipython",
    "version": 3
   },
   "file_extension": ".py",
   "mimetype": "text/x-python",
   "name": "python",
   "nbconvert_exporter": "python",
   "pygments_lexer": "ipython3",
   "version": "3.7.6"
  }
 },
 "nbformat": 4,
 "nbformat_minor": 4
}
